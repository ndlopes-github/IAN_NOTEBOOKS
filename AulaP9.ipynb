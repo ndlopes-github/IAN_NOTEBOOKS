{
 "cells": [
  {
   "cell_type": "markdown",
   "metadata": {},
   "source": [
    "# AulaP9\n",
    "\n",
    "- Exercícios sobre Fórmulas de Quadratura Fechadas (Newton-Cotes)\n",
    "- Métodos Directos para resolução de Sistemas Lineares"
   ]
  },
  {
   "cell_type": "markdown",
   "metadata": {},
   "source": [
    "***"
   ]
  },
  {
   "cell_type": "markdown",
   "metadata": {},
   "source": [
    "### Algumas Fórmulas de Newton-Cotes Compostas com Erro\n",
    "\n",
    "**Notações**: Pontos igualmente espaçados $$h=x_{i+1}-x_i=\\frac{x_n-x_0}{n}\\quad \\text{e}\\quad f_i=f(x_i)\\quad, (i=,1\\dots, n):$$\n",
    "\n",
    "1. Regra dos Trapézios: \n",
    "$$\\int_{x_0}^{x_n} f(x)\\, {\\rm d}x = \\frac{h}{2}(f_0+2\\sum_{i=1}^{n-1}f_i+f_n)-\\frac{h^2(x_n-x_0)}{12}f''(\\xi),\\quad \\xi\\in[x_0,x_n]$$\n",
    "\n",
    "- Regra de **Simpson** (n par):   \n",
    "$$\\int_{x_0}^{x_n}f(x)\\, {\\rm d}x=\\frac{h}{3}\\left(f_0+2\\sum_{i=1}^{(n/2)-1}f_{2i}+4\\sum_{i=1}^{(n/2)}f_{2i-1} + f_n\\right)-\\frac{h^4(x_n-x_0)}{180}f^{(IV)}(\\xi),\\quad \\xi\\in[x_0,x_{n}]$$\n"
   ]
  },
  {
   "cell_type": "markdown",
   "metadata": {},
   "source": [
    "***"
   ]
  },
  {
   "cell_type": "markdown",
   "metadata": {},
   "source": [
    "### Exercício:\n",
    "- Considere $\\displaystyle I=\\int_{0}^{6}\\frac{1}{1+x^2}\\, {\\rm d}x$.\n",
    "\n",
    " 1. Calcule o valor exacto de $I$.\n",
    " - Utilize uma  regra de Newton-Cotes simples para aproximar o valor\n",
    "  de $I$ dividindo o intervalo $[0,6]$ em $6$ sub-intervalos com a mesma\n",
    "  amplitude.\n",
    " - Considere a partição do intervalo de integração $[a,b]$ da alínea\n",
    "  anterior e  utilize a regra dos trapézios composta  para aproximar o valor de $I$.\n",
    " - Calcule os erros (exactos) obtidos nas alíneas b) e c) e\n",
    "  comente. "
   ]
  },
  {
   "cell_type": "code",
   "execution_count": null,
   "metadata": {},
   "outputs": [],
   "source": [
    "# 2.\n",
    "from math import atan\n",
    "Iex=atan(6)\n",
    "print(Iex)\n",
    "\n",
    "import numpy as np\n",
    "x=np.linspace(0,6,7)\n",
    "f=1/(1+x**2)\n",
    "h=1\n",
    "\n",
    "Iweddel=h/140.*(41*f[0]+216*f[1]+27*f[2]+272*f[3]+27*f[4]+216*f[5]+41*f[6])\n",
    "\n",
    "print(Iweddel)\n",
    "\n",
    "Itrap=h/2.*(f[0]+2*f[1]+2*f[2]+2*f[3]+2*f[4]+2*f[5]+f[6])\n",
    "\n",
    "print(Itrap)\n"
   ]
  },
  {
   "cell_type": "code",
   "execution_count": null,
   "metadata": {},
   "outputs": [],
   "source": [
    "# 4.\n",
    "from scipy import interpolate\n",
    "import matplotlib.pyplot as plt\n",
    "import numpy as np\n",
    "\n",
    "f= lambda x: (1/(1+x**2))\n",
    "\n",
    "x = np.linspace(0, 6,1000)\n",
    "plt.figure(figsize=(10, 8))\n",
    "plt.plot(x,f(x),lw=2.0,label='$f(x)$')\n",
    "\n",
    "xs=[0,1,2,3,4,5,6]\n",
    "ys=[f(0),f(1),f(2),f(3),f(4),f(5),f(6)]\n",
    "\n",
    "# Polinómio interpolador de grau 6 (6 sub-intervalos; 7 pontos)\n",
    "p6f = interpolate.lagrange(xs, ys)\n",
    "xp6 = np.arange(0,6, 0.01)\n",
    "yp6 = p6f(xp6)\n",
    "\n",
    "plt.plot(xs,ys, color='k', label='Trap.')\n",
    "plt.plot(xp6,yp6, color='brown', label='Weddel')\n",
    "\n",
    "#fill_between(xs,ys,0,color='grey')\n",
    "#text(1.2,1.0,'$t_0$', fontsize=14)\n",
    "\n",
    "plt.xlabel(r'$\\mathrm{eixo-} x_i\\, x_0=0,\\dots,x_6=6,\\,h=1$')\n",
    "plt.ylabel(r'$\\mathrm{eixo-} y=f(x)$')\n",
    "#plt.ylim(0.0,1.1)\n",
    "plt.ylim(0.0,0.07)\n",
    "plt.xlim(4.0,6.0)\n",
    "plt.legend(loc='best')\n",
    "plt.show()\n",
    "plt.clf()"
   ]
  },
  {
   "cell_type": "markdown",
   "metadata": {},
   "source": [
    "***"
   ]
  },
  {
   "cell_type": "markdown",
   "metadata": {},
   "source": [
    "### Exercício\n",
    " \n",
    " - Pretende-se calcular $\\displaystyle \\ln 2=\\int_1^2\\frac{1}{x}\\, {\\rm d}x$.\n",
    " \n",
    "Qual o número de sub-intervalos a considerar de  forma a que a regra de\n",
    "Simpson composta conduza a valor aproximado de $\\ln 2$ com erro de\n",
    "truncatura inferior ou igual a $0.5\\times 10^{-3}$.\n"
   ]
  },
  {
   "cell_type": "markdown",
   "metadata": {
    "collapsed": true
   },
   "source": [
    "***"
   ]
  },
  {
   "cell_type": "markdown",
   "metadata": {},
   "source": [
    "# Métodos Directos para resolver $Ax=b$"
   ]
  },
  {
   "cell_type": "markdown",
   "metadata": {},
   "source": [
    "  Considere-se um\n",
    "  sistema escrito na forma matricial,\n",
    "\n",
    " Conhecem-se os seguintes resultados:\n",
    "\n",
    "- $Ax=b$ tem solução única se $|A|\\neq 0$ ou de forma equivalente\n",
    "    quando $R(A|b)=R(A)=n$ e neste caso diz-se **não singular**.\n",
    "\n",
    "\n",
    "- $Ax=b$ tem soluções múltiplas quando $R(A)=R(A|b)<n$ e neste caso\n",
    "    diz-se singular.\n",
    "\n",
    "\n",
    "- $Ax=b$ não tem solução quando $R(A|b)>R(A)$ e neste caso diz-se\n",
    "    singular.\n",
    " "
   ]
  },
  {
   "cell_type": "markdown",
   "metadata": {},
   "source": [
    "### Só iremos estudar métodos para resolver o caso não singular.\n",
    "\n",
    " - No caso não singular sabe-se que $Ax=b\\Leftrightarrow x=A^{-1}b$. \n",
    "\n",
    "- Note-se que quando se\n",
    "  trata um sistema com dimensão elevada o processo de inversão da matriz é muito\n",
    "  dispendioso numericamente.\n",
    "\n",
    " \n",
    " - Pelo mesmo motivo o uso da regra de Cramer (cálculo de determinantes) também não é praticável.  "
   ]
  },
  {
   "cell_type": "markdown",
   "metadata": {},
   "source": [
    "### Problemas na resolução de sistemas lineares.\n",
    "  \n",
    "  Em geral diz-se que\n",
    "  um sistema está Mal acondicionado quando:\n",
    "  \n",
    " - Um sistema não singular se transforma num singular em função dos erros de\n",
    "    arredondamento.\n",
    " \n",
    " \n",
    " - Pequenas perturbações nos coeficientes do sistema produzem grandes\n",
    "    alterações nas soluções.  (Exemplo: Um arredondamento pode produzir uma grande\n",
    "    alteração na solução.)\n",
    "  \n",
    "\n",
    " - O *mau-acondicionamento* de um sistema pode ser medido através da relação entre o determinante de $A$ e os seus coeficientes.\n",
    "  Em geral também se verifica um *mau-acondicionamento* do sistema quando nele se\n",
    "    encontram coeficientes com ordem de grandeza muito diferentes.\n",
    "  "
   ]
  },
  {
   "cell_type": "markdown",
   "metadata": {},
   "source": [
    "## Métodos Directos\n",
    "  \n",
    "  Os métodos directos de resolução de sistemas\n",
    "  caracterizam-se essencialmente pelo facto de produzirem soluções exactas no caso\n",
    "  de não existirem erros de arredondamento.\n",
    "\n",
    "### Método de eliminação de Gauss (...O que utilizamos habitualmente à mão...)\n",
    "\n",
    "  Este método consiste na resolução de $Ax=b$ por meio da substituição descendente\n",
    "  e ascendente.\n",
    "  $$Ax=b\\Leftrightarrow Ux=b_U\\Leftrightarrow Ix=b_I$$ onde $U$ é uma matriz\n",
    "  triangular superior e $I$ é a matriz identidade.\n"
   ]
  },
  {
   "cell_type": "markdown",
   "metadata": {},
   "source": [
    "### Eliminação de Gauss com Pesquisa Parcial de Pivot \n",
    "\n",
    "  Este método consiste na Eliminação de Gauss com troca prévia de linhas de forma\n",
    "  a que o Pivot seja o coeficiente da coluna em causa com maior valor absoluto.\n",
    "  \n",
    "  - Este processo não resulta bem quando a matriz é desequilibrada, isto é, quando\n",
    "    os elementos da matriz tem grandezas muito distintas.\n",
    "  "
   ]
  },
  {
   "cell_type": "markdown",
   "metadata": {},
   "source": [
    "  **Eliminação de Gauss com Pesquisa Total de Pivot**\n",
    "  \n",
    "  Este processo é análogo ao\n",
    "  anterior mas admite troca de colunas no sistema, de forma a escolher o Pivot de\n",
    "  maior valor absoluto.\n",
    " \n",
    " - É necessário, no caso em que há troca de colunas proceder também à troca da ordem das incógnitas.\n"
   ]
  },
  {
   "cell_type": "markdown",
   "metadata": {},
   "source": [
    "***\n",
    "\n",
    "**DEFINIÇÃO:** Uma matriz $A\\in {\\cal M}_{n\\times n}$ admite factorização se existirem $M_i$\n",
    "com $i\\in\\{1,\\cdots,k\\}$ tais que $A=M_1\\cdots M_k$.\n",
    "\n",
    "***"
   ]
  },
  {
   "cell_type": "markdown",
   "metadata": {},
   "source": [
    "**No caso em que não há troca de linhas**, o método de Gauss (redução à forma de escada) fornece uma **factorização** da forma \n",
    "<br>\n",
    "\n",
    "$$A=LU\\quad (A=a_{ij}=a^1_{ij}):$$\n",
    "<br>\n",
    "    \n",
    "$$\n",
    "       \\begin{bmatrix}\n",
    "        1&0&\\cdots&\\cdots&0\\\\ m_{21}&1&\\cdots&\\cdots&0\\\\ m_{31}&m_{32}&1&\\cdots&0\\\\ \\vdots&\\vdots&\\vdots&\\vdots&\\vdots\n",
    "      \\end{bmatrix}\n",
    "      \\begin{bmatrix}\n",
    "        a^1_{11}&a^1_{12}&\\cdots&\\cdots&a^1_{1N}\\\\ 0&a^2_{22}&\\cdots&\\cdots&a^2_{2N}\\\\ 0&0&a^3_{33}&\\cdots&a^3_{3N}\\\\ \\vdots&\\vdots&\\vdots&\\vdots&\\vdots\n",
    "      \\end{bmatrix}\n",
    "$$"
   ]
  },
  {
   "cell_type": "markdown",
   "metadata": {},
   "source": [
    "Os coeficientes das matrizes e vector independente $b$ $(Ax=b\\Leftrightarrow L\\, Ux=b)$ são dados por:\n",
    "    \n",
    "$$m_{ik}=\\frac{a^k_{ik}}{a^k_{kk}},\\,i=k+1\\cdots N\\quad({\\tt Coluna\\, de\\, L})$$\n",
    "    \n",
    "$$a^{k+1}_{ij}=a^{k}_{ij}-m_{ik}a^k_{kj},\\, i,j=k+1,\\cdots,N \\quad ({\\tt Linha\\,\n",
    "      e\\, colunas\\, de\\, U})$$\n",
    "    \n",
    "$$b^{k+1}_{i}=b^{k}_{i}-m_{ik}b^k_{k},\\quad i=k+1,\\cdots,N $$\n"
   ]
  },
  {
   "cell_type": "markdown",
   "metadata": {},
   "source": [
    "***"
   ]
  },
  {
   "cell_type": "markdown",
   "metadata": {},
   "source": [
    "## Método Factorização de Crout\n",
    "\n",
    "\n",
    " **PROPOSIÇÃO:** <br>\n",
    "\n",
    "- A menos de trocas de linhas, uma matriz $A$ invertível admite factorização na\n",
    " forma $LU$, onde $L$ é uma matriz triangular inferior e $U$ uma matriz\n",
    " triangular superior onde todos os elementos da diagonal são 1.\n",
    " \n",
    " \n",
    " **Nota:** Sabe-se que $|A|=|L|\\times |U|$, donde se conclui que $U$ e $L$ são invertiveis.\n",
    "\n",
    "***\n",
    " \n",
    "\n",
    "**PROPOSIÇÃO:**<br>   \n",
    "\n",
    "-  Uma matriz $A$ invertível admite uma factorização do tipo: $$P^{-1}A=LU$$ onde\n",
    "    $P$ é uma matriz de permutação.\n",
    "    \n",
    "    \n",
    "-  Se os *menores principais* de $A$ forem todos não nulos então $A$ admite uma\n",
    "    factorização do tipo $$A=LU,$$ isto é, na proposição anterior $P=I$.\n",
    " ***\n",
    "\n",
    "Tem-se então o método seguinte:\n",
    "\n",
    "$$Ax=b\\Leftrightarrow LUx=b\\Leftrightarrow Ly=b\\wedge Ux=y$$\n",
    "\n",
    "Portanto resolve-se\n",
    "$Ly=b$ (*Descida*) e de seguida $Ux=y$ (*Subida*).\n",
    "\n",
    "***\n",
    "  ### Factorização LU\n",
    "  \n",
    "  O algoritmo que  permite o cálculo de $L$ e $U$ é  o seguinte:\n",
    "  - Para $k=1,\\dots,n$\n",
    "  $$l_{ik}=a_{ik}-\\sum_{r=1}^{k-1}l_{ir}u_{rk}\\quad i=k,\\dots,n $$\n",
    "  $$u_{kj}=(a_{kj}-\\sum_{r=1}^{k-1}l_{kr}u_{rj})/l_{kk}\\quad j=k+1,\\dots,n$$\n",
    "  \n",
    "  - Calcula-se uma coluna de $L$ seguida pela linha de $U$.\n",
    "  "
   ]
  },
  {
   "cell_type": "markdown",
   "metadata": {},
   "source": [
    "***\n",
    "### Processos de descida ($Ly=b$)  e subida ($Ux=y$) para resolução do sistema após factorização:\n",
    "\n",
    "\n",
    "$$y_1=\\frac{b_1}{l_{11}},\\quad y_i=\\frac{1}{l_{ii}}\\left(b_i-\\sum_{j=1}^{i-1}l_{ij}y_j\\right),\\quad i=2,\\dots,n$$\n",
    "\n",
    "$$x_n=\\frac{y_n}{u_{nn}},\\quad x_i=\\frac{1}{u_{ii}}\\left(y_i-\\sum_{j=i+1}^{n}u_{ij}x_j\\right),\\quad i=2,\\dots,n$$\n",
    "***"
   ]
  },
  {
   "cell_type": "markdown",
   "metadata": {},
   "source": [
    "### **Notas:**\n",
    "\n",
    "- Para poupar memória, ao programar o método, é usual guardar as matrizes $L$ e\n",
    "    $U$ numa só matriz fazendo $M=L+U-I.$\n",
    "    \n",
    "  \n",
    "- Se ao longo do processo se tiver $l_{kk}=0$ então é necessário proceder à troca\n",
    "  de linhas na matriz $A$ inicial.\n",
    "  \n",
    "  \n",
    "\n",
    "  \n",
    "- O número de operações para factorizar $A$ na forma $LU$ é da ordem de $O(n^3)$\n",
    "  no entanto para resolver os dois sistemas associados são necessárias $O(n^2)$\n",
    "  operações. Este método apresenta ganhos quando é necessária a resolução de\n",
    "  vários sistemas com a mesma matriz $A$.  \n",
    "  Usando $Gauss$ tem-se sempre $O(n^3)$\n",
    "  operações.\n",
    "  "
   ]
  },
  {
   "cell_type": "markdown",
   "metadata": {},
   "source": [
    "***\n",
    "\n",
    "### Uma implementação do método de Crout"
   ]
  },
  {
   "cell_type": "code",
   "execution_count": 1,
   "metadata": {
    "collapsed": true
   },
   "outputs": [],
   "source": [
    "import numpy as np\n",
    "\n",
    "class Crout:\n",
    "    def __init__(self,A,b):\n",
    "        self.dim=len(b)\n",
    "        self.A=A\n",
    "        self.b=b\n",
    "        self.L=np.zeros((self.dim,self.dim))\n",
    "        self.U=np.zeros((self.dim,self.dim))\n",
    "        self.L, self.U = self.FactLU()\n",
    "        self.y=np.zeros(self.dim)\n",
    "        self.y=self.SolveDownLyb()\n",
    "        self.x=np.zeros(self.dim)\n",
    "        self.x=self.SolveUpUxy()\n",
    "        \n",
    "    def FactLU(self):\n",
    "        A=self.A\n",
    "        L=np.zeros((self.dim,self.dim))\n",
    "        U=np.zeros((self.dim,self.dim))\n",
    "        for i in range(0,self.dim): \n",
    "            U[i,i]=1.0\n",
    "            \n",
    "        for k in range(0,self.dim):\n",
    "            # Column of L (M)\n",
    "            for i in range(k,self.dim):\n",
    "                L[i,k]=A[i,k]-np.inner(L[i,0:k],U[0:k,k])\n",
    "            # Line of U (M)    \n",
    "            for j in range(k+1,self.dim):\n",
    "                assert L[k,k]!=0.0, 'Row permutation is required'\n",
    "                U[k,j]=(A[k,j]-np.inner(L[k,0:k],U[0:k,j]))/L[k,k]\n",
    "            \n",
    "        return L, U #return the matrix M\n",
    "        \n",
    "    \n",
    "    def SolveDownLyb(self): \n",
    "        y=np.zeros(self.dim)\n",
    "        for i in range(0,self.dim):\n",
    "            y[i]=(self.b[i]-np.sum(self.L[i,0:i]*y[0:i]))/self.L[i,i]\n",
    "        \n",
    "        return y #return the array y\n",
    "    \n",
    "    def SolveUpUxy(self):\n",
    "        x=np.zeros(self.dim)\n",
    "        for i in range(self.dim-1,-1,-1):\n",
    "            x[i]=(self.y[i]-np.sum(self.U[i,i+1:self.dim]*x[i+1:self.dim]))\n",
    "        \n",
    "        return x #return the solution array x\n",
    "    \n",
    "        "
   ]
  },
  {
   "cell_type": "markdown",
   "metadata": {},
   "source": [
    "## Exercício: \n",
    "- Teste a implementação da classe anterior com o sistema $Ax=b$ definido por:\n",
    "\n",
    "\n",
    "$$\n",
    " \\begin{bmatrix}\n",
    "1&-1&2&-1\\\\\n",
    "1&1&1&0\\\\\n",
    "2 &-2&3&-3\\\\\n",
    "1&-1&4& 3\n",
    "\\end{bmatrix}\n",
    "\\begin{bmatrix}\n",
    "x_1\\\\\n",
    "x_2\\\\\n",
    "x_3\\\\\n",
    "x_4\n",
    "\\end{bmatrix}=\n",
    "\\begin{bmatrix}\n",
    "-8\\\\\n",
    "-2\\\\\n",
    "-20\\\\\n",
    "4\n",
    "\\end{bmatrix}\n",
    "$$"
   ]
  },
  {
   "cell_type": "markdown",
   "metadata": {},
   "source": [
    "** Resolução **"
   ]
  },
  {
   "cell_type": "code",
   "execution_count": 13,
   "metadata": {},
   "outputs": [],
   "source": [
    "A=np.array([[1.0,-1.0,2.0,-1.0],[1.0,1.0,1.0,0.0],\n",
    "            [2.0,-2.0,3.0,-3.0],[1.0,-1.0,4.0,3.0]])\n",
    "\n",
    "b=np.array([-8.0,-2.0,-20.0,4.0])\n",
    "\n",
    "#A=np.array([[1.0,2.0,3.0],[-1.0,2.0,1.0],[-1.0,3.0,1.0]])\n",
    "\n",
    "#b=np.array([1.0,2.0,1.0])"
   ]
  },
  {
   "cell_type": "code",
   "execution_count": 14,
   "metadata": {},
   "outputs": [],
   "source": [
    "C=Crout(A,b)"
   ]
  },
  {
   "cell_type": "code",
   "execution_count": 15,
   "metadata": {},
   "outputs": [
    {
     "name": "stdout",
     "output_type": "stream",
     "text": [
      "array([[ 1.,  0.,  0.,  0.],\n",
      "       [ 1.,  2.,  0.,  0.],\n",
      "       [ 2.,  0., -1.,  0.],\n",
      "       [ 1.,  0.,  2.,  2.]])\n",
      "\n",
      "\n",
      "array([[ 1. , -1. ,  2. , -1. ],\n",
      "       [ 0. ,  1. , -0.5,  0.5],\n",
      "       [ 0. ,  0. ,  1. ,  1. ],\n",
      "       [ 0. ,  0. ,  0. ,  1. ]])\n",
      "\n",
      "\n",
      "True\n",
      "\n",
      "\n",
      "array([-7.,  3.,  2.,  2.])\n",
      "True\n",
      "\n",
      "\n"
     ]
    }
   ],
   "source": [
    "from pprint import pprint\n",
    "pprint(C.L)\n",
    "print('\\n')\n",
    "pprint(C.U)\n",
    "print('\\n')\n",
    "\n",
    "pprint(np.array_equal(A,np.dot(C.L,C.U)))\n",
    "print('\\n')\n",
    "\n",
    "pprint(C.x)\n",
    "print(np.array_equal(C.b,np.dot(A,C.x)))\n",
    "print('\\n')"
   ]
  },
  {
   "cell_type": "markdown",
   "metadata": {
    "collapsed": true
   },
   "source": [
    "***"
   ]
  },
  {
   "cell_type": "markdown",
   "metadata": {
    "collapsed": true
   },
   "source": [
    "## Método de Cholesky"
   ]
  },
  {
   "cell_type": "markdown",
   "metadata": {},
   "source": [
    " Se $A$ é uma matriz simétrica definida positiva, então $A$ admite uma\n",
    " factorização do tipo: \n",
    " \n",
    " $$A=LL^T$$ onde $L$ é uma matriz triangular inferior.\n",
    "  \n",
    " Relembrem-se as seguintes definições.\n",
    "    \n",
    "  - $A$ é simétrica se $A=A^T$.\n",
    "  \n",
    "  \n",
    "  - $A$ é definida positiva se $X^T A X>0,\\ \\forall X\\in \\mathbb{R}^n, X\\neq 0$.  \n",
    "  \n",
    "**Proposição** $A$ é definida positiva se os \n",
    "determinantes dos menores principais de $A$ forem todos positivos.\n",
    " \n",
    " $$\n",
    " |a_{11}|>0,\\quad \n",
    "\\left| \\begin{matrix} a_{11} & a_{12}\\\\\n",
    " a_{21} & a_{22}\n",
    " \\end{matrix}\\right|>0, \\quad \\cdots |A|>0.\n",
    " $$"
   ]
  },
  {
   "cell_type": "markdown",
   "metadata": {},
   "source": [
    "***\n",
    "  A resolução do sistema $Ax=b$ resulta da mesma forma que o método de Crout:\n",
    "  $$AX=b\\Leftrightarrow LY=b \\wedge L^TX=Y.$$ \n",
    "  \n",
    "  \n",
    "  O cálculo de $L$ é feito tendo em\n",
    "  conta as seguintes fórmulas: $k=0,\\dots,n$\n",
    "  \n",
    "  \n",
    " \\begin{align*}\\displaystyle l_{kk}&=\\sqrt{a_{kk}-\\sum_{r=1}^{k-1} l^2_{kr}}\n",
    " \\\\\n",
    " \\\\\n",
    "  l_{ik}&=\\frac{a_{ik}-\\sum_{r=1}^{k-1}l_{ir}l_{kr}}{l_{kk}} \\quad i=k+1,\\dots,n\n",
    "  \\end{align*}\n",
    "  e fazendo o cálculo por colunas. (Da primeira para a última.)\n",
    "\n",
    "\n",
    "\n",
    "Este método apresenta uma melhoria no número de operações necessárias, quando\n",
    "comparado com o método de Crout-- $O(n^3/6)$.\n",
    "\n",
    "Neste caso nunca há o risco de acontecer que algum dos elementos da diagonal de\n",
    "$L$ seja nulo. \n",
    "\n",
    "Se assim fosse viria $|A|=|L|^2=0$, tendo em conta que\n",
    "$|L|=|L^T|$ que se pode calcular considerando a multiplicação dos elementos da\n",
    " diagonal de $L$.\n",
    "\n"
   ]
  },
  {
   "cell_type": "markdown",
   "metadata": {
    "collapsed": true
   },
   "source": [
    "***"
   ]
  },
  {
   "cell_type": "markdown",
   "metadata": {},
   "source": [
    "### Exercícios:\n",
    "\n",
    "- Determine as factorizações de Crout ($LU$) e de Cholesky ($LL^t$) das matrizes simétricas definidas positivas seguintes:\n",
    "\n",
    "$$A_0=\\begin{bmatrix}\n",
    "4&-1&1\\\\\n",
    "-1&4.25&2.75\\\\\n",
    "1 &2.75&3.5\n",
    "\\end{bmatrix}\n",
    "$$\n",
    "\n",
    "$$A_1=\\begin{bmatrix}\n",
    "4&0&2&1\\\\\n",
    "0&3&-1&1\\\\\n",
    "2 &-1&6&3\\\\\n",
    "1 & 1 & 3 &8\n",
    "\\end{bmatrix}\n",
    "$$\n",
    "\n"
   ]
  },
  {
   "cell_type": "markdown",
   "metadata": {},
   "source": [
    " - Utilizando uma factorização da Forma $LL^t$, resolva o sistema linear seguinte:\n",
    " $$\n",
    " \\begin{bmatrix}\n",
    "4&1&1&1\\\\\n",
    "1&3&0&-1\\\\\n",
    "1 & 0&2&1\\\\\n",
    "1&-1&1& 4\n",
    "\\end{bmatrix}\n",
    "\\begin{bmatrix}\n",
    "x_1\\\\\n",
    "x_2\\\\\n",
    "x_3\\\\\n",
    "x_4\n",
    "\\end{bmatrix}=\n",
    "\\begin{bmatrix}\n",
    "3\\\\\n",
    "2\\\\\n",
    "1\\\\\n",
    "1\n",
    "\\end{bmatrix}\n",
    "$$"
   ]
  },
  {
   "cell_type": "code",
   "execution_count": null,
   "metadata": {
    "collapsed": true
   },
   "outputs": [],
   "source": []
  }
 ],
 "metadata": {
  "kernelspec": {
   "display_name": "Python 3",
   "language": "python",
   "name": "python3"
  },
  "language_info": {
   "codemirror_mode": {
    "name": "ipython",
    "version": 3
   },
   "file_extension": ".py",
   "mimetype": "text/x-python",
   "name": "python",
   "nbconvert_exporter": "python",
   "pygments_lexer": "ipython3",
   "version": "3.6.2"
  }
 },
 "nbformat": 4,
 "nbformat_minor": 2
}
