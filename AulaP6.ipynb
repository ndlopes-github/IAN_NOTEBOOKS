{
 "cells": [
  {
   "cell_type": "markdown",
   "metadata": {
    "collapsed": true,
    "nbpresent": {
     "id": "06d86935-4816-406e-a4f2-5e1aed048a8d"
    },
    "slideshow": {
     "slide_type": "slide"
    }
   },
   "source": [
    "# Aula 6\n",
    "\n",
    "- Polinómios interpoladores de Lagrange e Newton - (Diferenças divididas) "
   ]
  },
  {
   "cell_type": "markdown",
   "metadata": {
    "nbpresent": {
     "id": "fc30cea9-77a4-4cd3-8c0b-f781179678e2"
    },
    "slideshow": {
     "slide_type": "slide"
    }
   },
   "source": [
    "\n",
    "\n",
    "## Polinómios de Lagrange\n"
   ]
  },
  {
   "cell_type": "markdown",
   "metadata": {
    "nbpresent": {
     "id": "7b57e057-032e-4f85-b04e-6fff71141f9d"
    },
    "slideshow": {
     "slide_type": "slide"
    }
   },
   "source": [
    "\n",
    "- 2 pontos de interpolação $(a,f(a)),\\ (b,f(b))$: polinómio de grau 1.\n",
    "$$P(x)=f(a)\\frac{x-b}{a-b} +f(b)\\frac{x-a}{b-a}$$\n",
    "\n",
    "\n",
    "\n",
    "\n",
    "- 3 pontos de interpolação $(a,f(a)),\\ (b,f(b)),\\ (c,f(c))$: polinómio de grau 2.\n",
    "$$P(x)=f(a)\\frac{(x-b)(x-c)}{(a-b)(a-c)} +f(b)\\frac{(x-a)(x-c)}{(b-a)(b-c)}+f(c)\\frac{(x-a)(x-b)}{(c-a)(c-b)}$$\n",
    "\n",
    "\n",
    "\n",
    "- $n+1$ pontos de interpolação $(x_i,f(x_i))\\, (i=0,\\dots, n)$\n",
    "$$\\displaystyle P_n(x)=\\sum_{i=0}^{n}f(x_i)L_i(x)=\\sum_{i=0}^{n}f(x_i)\\prod_{\\stackrel{j=0}{\n",
    "    j\\neq i}}^n\\frac{(x-x_j)}{(x_i-x_j)}$$\n",
    "onde $$L_i(x)=\\prod_{\\stackrel{j=0}{\n",
    "    j\\neq i}}^n\\frac{(x-x_j)}{(x_i-x_j)}$$ são designados por  polinómios de Lagrange\n"
   ]
  },
  {
   "cell_type": "markdown",
   "metadata": {
    "nbpresent": {
     "id": "d3ddef8e-7f3d-42e1-bf5c-7abffce420e7"
    }
   },
   "source": [
    "### Uma possível  implementação (sem classes/objectos...) dos polinómios de Lagrange:"
   ]
  },
  {
   "cell_type": "code",
   "execution_count": 71,
   "metadata": {
    "collapsed": true,
    "nbpresent": {
     "id": "10e9dac6-3009-4dce-8ecc-8968a999f379"
    }
   },
   "outputs": [],
   "source": [
    "import numpy as np\n",
    "\n",
    "def PLagrange(data_x,data_y):\n",
    "    if (len(data_x)==len(data_y)): # testa a dimensão dos dados\n",
    "        print('data=\\n',np.array([data_x,data_y]))\n",
    "        M=len(data_x) # dimensão dos dados indica o grau máximo do polinómio interpolador\n",
    "        \n",
    "        # Uma função pode devolver outra função!\n",
    "        def LagrangeFunction(x):\n",
    "            PolLagrange=0.0\n",
    "            for i in range(0,M):\n",
    "                Li=1.0\n",
    "                for j in range(0,M):\n",
    "                    if j==i:\n",
    "                        continue\n",
    "                    Li*=(x-data_x[j])/(data_x[i]-data_x[j]) #Funçoes Base\n",
    "                PolLagrange+=Li*data_y[i] # Polinómio de Lagrange \n",
    "        \n",
    "            return PolLagrange\n",
    "        \n",
    "        return LagrangeFunction\n",
    "\n",
    "\n",
    "\n"
   ]
  },
  {
   "cell_type": "markdown",
   "metadata": {
    "nbpresent": {
     "id": "e6dd6acf-8e42-4222-b426-c47e9b426e14"
    }
   },
   "source": [
    "### Exercício: (Lagrange)\n",
    "\n",
    "- Considere a tabela de pontos \n",
    " $$\n",
    " \\begin{array}{|c|c|c|c|c|}\n",
    " \\hline\n",
    "x & 0& 2 & 4 &5\\\\\n",
    "\\hline\n",
    "y & 0 & 3 & -1 &3\\\\\n",
    "\\hline\n",
    "\\end{array}\n",
    "$$\n",
    "\n",
    "- Utilize o polinómio de Lagrange para aproximar o valor de $f(3.2)$ e $f(4.7)$\n",
    "\n",
    "- Apresente graficamente o polinómio interpolador de grau $\\leq 3$ que se coloca sobre os pontos da tabela."
   ]
  },
  {
   "cell_type": "code",
   "execution_count": 80,
   "metadata": {
    "nbpresent": {
     "id": "206cb95b-61dd-4355-913d-ef07d4df0fca"
    }
   },
   "outputs": [
    {
     "name": "stdout",
     "output_type": "stream",
     "text": [
      "data=\n",
      " [[ 0  2  4  5]\n",
      " [ 0  3 -1  3]]\n",
      "[-0.3264    1.053975]\n"
     ]
    }
   ],
   "source": [
    "x = np.array([0,2,4,5])\n",
    "y = np.array([0,3,-1,3])\n",
    "\n",
    "#PLagrange é uma função\n",
    "P3=PLagrange(x,y)\n",
    "points=np.array([3.2,4.7])\n",
    "print(P3(points))"
   ]
  },
  {
   "cell_type": "code",
   "execution_count": 84,
   "metadata": {
    "nbpresent": {
     "id": "e494afe3-afea-452a-af7d-13c2c6a26923"
    }
   },
   "outputs": [
    {
     "data": {
      "image/png": "[encoded data removed]",
      "text/plain": [
       "<matplotlib.figure.Figure at 0x1130f0780>"
      ]
     },
     "metadata": {},
     "output_type": "display_data"
    }
   ],
   "source": [
    "import matplotlib.pyplot as plt\n",
    "\n",
    "xx=np.linspace(-1,6,200)\n",
    "yy=P3(xx)\n",
    "plt.plot(xx,yy,'-')\n",
    "plt.plot(x,y,'o')\n",
    "plt.show()\n",
    "plt.clf()"
   ]
  },
  {
   "cell_type": "markdown",
   "metadata": {
    "collapsed": true,
    "nbpresent": {
     "id": "e3a772fb-aeb5-4b4d-9a30-b4b2b2dc95b0"
    }
   },
   "source": [
    "## Fórmula interpoladora de Newton\n",
    "\n",
    "### Diferenças Divididas"
   ]
  },
  {
   "cell_type": "markdown",
   "metadata": {
    "nbpresent": {
     "id": "64ab9495-cfc1-412a-8a7c-bbd5945fb2bb"
    }
   },
   "source": [
    "\n",
    "- Em Lagrange para aumentar o grau do polinómio é necessário refazer todo o cálculo.  Utilizando Newton basta acrescentar um termo.\n",
    "\n",
    "\n",
    "### Definição:\n",
    "Considere-se a notação: $f_i=f(x_i)$.\n",
    "Diz-se diferença dividida de 1ª ordem a:\n",
    "$$f[x_i,x_{i+1}]=\\frac{f_{i+1}-f_i}{x_{i+1}-x_i}\\qquad(=f[x_{i+1},x_i])$$\n",
    "Diz-se diferença dividida de 2ª ordem a:\n",
    "$$f[x_i,x_{i+1},x_{i+2}]=\\frac{f[x_{i+1},x_{i+2}]-f[x_{i},x_{i+1}]}{x_{i+2}-x_i}$$\n",
    "Diz-se diferença dividida de  ordem $n$ a:\n",
    "$$f[x_i,x_{i+1},\\cdots,x_{i+n}]=\\frac{f[x_{i+1},\\cdots,x_{i+n}]-f[x_{i}\\cdots,x_{i+n-1}]}{x_{i+n}-x_i}$$\n"
   ]
  },
  {
   "cell_type": "markdown",
   "metadata": {
    "nbpresent": {
     "id": "5e3e2011-d00e-4259-bd41-1b52947e2c73"
    }
   },
   "source": [
    "### Tabela para cálculo de Diferenças Divididas\n",
    "\n",
    "Veja-se agora a uma  forma sistematizada  de calcular as diferenças divididas:\n",
    "\n",
    "\\begin{equation*}\n",
    "\\begin{array}{c|c|c|c|c|c}\n",
    "x&f&f[x_i,x_j]&f[x_i,x_j,x_k]&f[x_i,x_j,x_k,x_l]&\\cdots\\\\\n",
    "\\hline\n",
    "x_0&f_0&&&&\\\\ \n",
    "&&f[x_0,x_1]&&&\\\\\n",
    "x_1&f_1&&f[x_0,x_1,x_2]&&\\\\\n",
    "&&f[x_1,x_2]&&f[x_0,x_1,x_2,x_3]&\\\\\n",
    "x_2&f_2&&f[x_1,x_2,x_3]&&f[x_0,x_1,x_2,x_3,x_4]\\\\\n",
    "&&f[x_2,x_3]&&f[x_1,x_2,x_3,x_4]&\\\\\n",
    "x_3&f_3&&f[x_2,x_3,x_4]&&\\\\\n",
    "&&f[x_3,x_4]&&&\n",
    "\\end{array}\n",
    "\\end{equation*} "
   ]
  },
  {
   "cell_type": "markdown",
   "metadata": {
    "nbpresent": {
     "id": "4f418fd8-4c82-4f3c-8bae-90931a8fe664"
    }
   },
   "source": [
    "- Com $(n+1)$ pares de pontos $(x_i,f_i),\\ i=0,\\cdots,n$ chega-se à diferença dividida de ordem $n$.\n",
    "\n",
    "\n",
    "### Forma alternativa para o cálculo das diferenças divididas. \n",
    "O cálculo da diferença dividida de ordem $k$ pode ser feito da forma seguinte:\n",
    "\n",
    "\\begin{align*}\n",
    "f[x_0,x_1,\\cdots,x_n]=&\\frac{f(x_0)}{(x_0-x_1)(x_0-x_2)\\cdots(x_0-x_n)}+\\\\\n",
    "&+\\frac{f(x_1)}{(x_1-x_0)(x_1-x_2)\\cdots(x_1-x_n)}+\\cdots+\\\\\n",
    "&+\\frac{f(x_n)}{(x_n-x_0)(x_n-x_1)\\cdots(x_n-x_{n-1})}\n",
    "\\end{align*}\n",
    "\n",
    "ou de outra forma \n",
    "\\begin{align*}\n",
    "f[x_0,x_1,\\cdots,x_n]=\\sum_{k=0}^n \\frac{f(x_k)}{(x_k-x_0)(x_k-x_1)\\cdots(x_k-x_{k-1})(x_k-x_{k+1})\\cdots(x_k\\cdots x_n)}\n",
    "\\end{align*}\n",
    "\n",
    "\n",
    "\n"
   ]
  },
  {
   "cell_type": "markdown",
   "metadata": {
    "nbpresent": {
     "id": "89ba3d52-8737-425a-9b41-f72ca6e4d53d"
    }
   },
   "source": [
    "Como corolário saíem os resultados seguintes:\n",
    "\n",
    "- Têm-se as seguintes igualdades:\n",
    "  $$f[x_0,x_1\\cdots,x_k]=f[x_{j_0},x_{j_1},\\cdots,x_{j_k}]$$ onde $(j_0,\\cdots,j_k)$ é uma permutação dos inteiros\n",
    " $(0,1,\\cdots,k)$. \n",
    " \n",
    " \n",
    " - Por outro lado tem-se:\n",
    " $$f[x_0,\\cdots,x_k]=\\frac{f[x_0,\\cdots,x_{i-1},x_{i+1},\\cdots,x_k]-f[x_0,\\cdots,x_{j-1},x_{j+1},\\cdots,x_k]}{x_j-\n",
    " x_i}$$ com $i\\neq j$.\n",
    "\n"
   ]
  },
  {
   "cell_type": "markdown",
   "metadata": {
    "nbpresent": {
     "id": "38e86a91-6eda-471f-8492-3eae6da3e1be"
    }
   },
   "source": [
    "### Construção do polinómio  $P_n(x)$ que interpola $f(x)$ em $x_0,\\cdots, x_n$.\n",
    "\n",
    "Considere-se $f(x)\\in C^{[n+1]}([a,b])$ e $x_0,\\cdots, x_n$, $n+1$ pontos distintos em $[a,b]$; tem-se então:\n",
    "\n",
    "\\begin{eqnarray}\n",
    "f[x_0,x]=\\frac{f(x)-f(x_0)}{x-x_0},\\ x\\neq x_0\\\\\n",
    "f[x_0,x_1,x]=\\frac{f[x_0,x]-f[x_0,x_1]}{x-x_1},\\, x\\neq x_0,\\, x\\neq x_1\\\\\n",
    "\\vdots\\nonumber\\\\\n",
    "f[x_0,\\cdots,x_n,x]=\\frac{f[x_0,\\cdots,x_{n-1},x]-f[x_0,\\cdots,x_n]}{x-x_n},\\, x\\neq x_i,\\, i=0,\\cdots,n\n",
    "\\end{eqnarray}\n",
    "\n",
    "Das fórmulas anteriores conclui-se que:\n",
    "$$f(x)=f(x_0)+(x-x_0)f[x_0,x]$$ e consequentemente:\n",
    "\n",
    "\\begin{align*}\n",
    "&f[x_0,x_1,x](x-x_1)=f[x_0,x]-f[x_0,x_1]\\Leftrightarrow \\\\\n",
    "&f[x_0,x_1,x](x-x_1)=\\frac{f(x)-f(x_0)}{x-x_0}-f[x_0,x_1]\\Leftrightarrow\\\\\n",
    "&f(x)=f(x_0)+(x-x_0)f[x_0,x_1]+(x-x_0)(x-x_1)f[x_0,x_1,x]\n",
    "\\end{align*}\n",
    "\n"
   ]
  },
  {
   "cell_type": "markdown",
   "metadata": {
    "nbpresent": {
     "id": "ee174678-55e8-4d64-8ec9-ce749e1877fa"
    }
   },
   "source": [
    "Generalizando o resultado anterior sai a Fórmula de Newton para o Polinómio interpolador de $f$:\n",
    "\n",
    "\\begin{align*}\n",
    "f(x)=&\\\\\n",
    "    &f(x_0)+\\\\\n",
    "    +&(x-x_0)f[x_0,x_1]+\\\\\n",
    "    +&(x-x_0)(x-x_1)f[x_0,x_1,x_2]+\\\\\n",
    "+&(x-x_0)(x-x_1)(x-x_2)f[x_0,x_1,x_2,x_3]+\\cdots\\\\\n",
    "+&(x-x_0)(x-x_1)(x-x_2)\\cdots(x-x_{n-1})f[x_0,x_1,x_2,x_3,\\cdots,x_n]+\\\\\n",
    "+&(x-x_0)(x-x_1)(x-x_2)\\cdots(x-x_n)f[x_0,x_1,x_2,x_3,\\cdots,x_n,x]\n",
    "\\end{align*}\n",
    "\n"
   ]
  },
  {
   "cell_type": "markdown",
   "metadata": {
    "nbpresent": {
     "id": "2409027e-6ef8-43f3-a14c-75f4a4ede3f3"
    }
   },
   "source": [
    "### Fórmula para o Polinómio de Newton com as diferenças divididas\n",
    "\n",
    "O polinómio \n",
    "\n",
    "\\begin{align*}\n",
    "P_n(x)=&f(x_0)+\\\\\n",
    "+&(x-x_0)f[x_0,x_1]+(x-x_0)(x-x_1)f[x_0,x_1,x_2]+\\\\\n",
    "+&(x-x_0)(x-x_1)(x-x_2)f[x_0,x_1,x_2,x_3]+\\cdots\\\\ \n",
    "+&(x-x_0)(x-x_1)(x-x_2)\\cdots(x-x_{n-1})f[x_0,x_1,x_2,x_3,\\cdots,x_n]\n",
    "\\end{align*}\n",
    "\n",
    "é o polinómio de interpolação da função $f$ nos pontos $x_0,\\cdots, x_n$, isto é:\n",
    "$$f(x_i)=P_n(x_i).$$\n",
    "\n",
    "\n"
   ]
  },
  {
   "cell_type": "markdown",
   "metadata": {
    "nbpresent": {
     "id": "01db20da-4596-464a-8ba6-c91a98f6c449"
    }
   },
   "source": [
    "### Fórmula do Erro\n",
    "- Supondo que $f$ é $(n+1)$ vezes continuamente diferenciável em $]a,b[$, para $x\\in]a,b[,\\, x\\neq x_i,\\, i=0,\\cdots,n$ tem-se que:\n",
    "\n",
    "\n",
    "$$f[x_0,x_1,x_2,x_3,\\cdots,x_n,x]=\\frac{f^{n+1}(\\xi)}{(n+1)!},\\quad \\xi\\in]x_0,x_n[.$$\n",
    "\n",
    "- Portanto concluí-se que: $f(x)=P_n(x)+E_n(x).$\n",
    "\n"
   ]
  },
  {
   "cell_type": "markdown",
   "metadata": {
    "nbpresent": {
     "id": "50f57543-63c5-47ee-9256-b43f9a0cb030"
    }
   },
   "source": [
    "### Erro nulo para polinómio de grau $n$\n",
    "\n",
    "- Se $f(x)$  é um polinómio de grau $n$ a sua diferença dividida de ordem $n+1$ é nula, isto é:\n",
    "\n",
    "$$f[x_0,x_1,x_2,x_3,\\cdots,x_n,x]=0,$$\n",
    "\n",
    "ou seja não existe erro de interpolação.\n",
    "\n",
    "\n",
    "\n",
    "### Construção recursiva do polinómio\n",
    "- O polinómio de interpolação $P_n(x)$ pode ser construído a partir do polinómio de grau $n-1$ da forma seguinte:\n",
    "\n",
    "$$P_n(x)=P_{n-1}(x)+(x-x_0)(x-x_1)\\cdots(x-x_{n-1})f[x_0,\\cdots,x_{n-1},x_n].$$\n"
   ]
  },
  {
   "cell_type": "markdown",
   "metadata": {
    "nbpresent": {
     "id": "8d1659af-a211-4353-82d9-d8e58dd0ef36"
    }
   },
   "source": [
    "### Exercício: (Newton)\n",
    "\n",
    "- Considere a tabela de pontos \n",
    " $$\n",
    " \\begin{array}{|c|c|c|c|c|}\n",
    " \\hline\n",
    "x & 0& 2 & 4 &5\\\\\n",
    "\\hline\n",
    "y & 0 & 3 & -1 &3\\\\\n",
    "\\hline\n",
    "\\end{array}\n",
    "$$\n",
    "\n",
    "- Utilize o polinómio de Lagrange para aproximar o valor de $f(3.2)$ e $f(4.7)$.\n",
    "\n",
    "- Apresente graficamente o polinómio interpolador de grau $\\leq 3$ que se coloca sobre os pontos da tabela."
   ]
  },
  {
   "cell_type": "markdown",
   "metadata": {
    "nbpresent": {
     "id": "7c79cb63-de25-4e1a-9b8d-0c8a12f7aa93"
    }
   },
   "source": [
    "### Uma implementação para fórmula interpoladora de Newton\n",
    " - Usa a fórmula alternativa para as diferenças divididas."
   ]
  },
  {
   "cell_type": "code",
   "execution_count": 85,
   "metadata": {
    "collapsed": true,
    "nbpresent": {
     "id": "ec1b2bcf-ef20-4e55-bee3-3c03643bdf89"
    }
   },
   "outputs": [],
   "source": [
    "# Função que Calcula o valor da diferenca dividida \n",
    "\n",
    "def DividedDiferences(data_x,data_y,order):\n",
    "        ddv=0.0 #divided diference value\n",
    "        \n",
    "        for i in range(0,order+1):\n",
    "            denominator=1.0\n",
    "            for j in range(0,order+1):\n",
    "                if i==j:\n",
    "                    continue\n",
    "                denominator*=(data_x[i]-data_x[j])\n",
    "        \n",
    "            ddv+=data_y[i]/denominator\n",
    "        \n",
    "        print('Dif. divid. {order:d} = {ddv:.5f}'.format(order=order,ddv=ddv))\n",
    "        return ddv\n",
    "\n",
    "# Função que devolve o polinomio interpolador de Newton    \n",
    "def PNewton(data_x,data_y):\n",
    "    if (len(data_x)==len(data_y)): # testa a dimensão dos dados\n",
    "        print('data=\\n',np.array([data_x,data_y]))\n",
    "        M=len(data_x) # dimensão dos dados indica o grau máximo do polinómio interpolador\n",
    "        \n",
    "        # Uma função pode devolver outra função!\n",
    "        def NewtonDiferencesFunction(x):\n",
    "            PolNewton=0.0\n",
    "            for order_i in range(0,M):\n",
    "                Ni=1.0\n",
    "                for j in range(0,order_i):\n",
    "                    Ni*=(x-data_x[j])\n",
    "                Ni*=DividedDiferences(data_x,data_y,order_i)\n",
    "                \n",
    "                PolNewton+=Ni # Polinómio de Newton \n",
    "        \n",
    "            return PolNewton\n",
    "        \n",
    "        return NewtonDiferencesFunction"
   ]
  },
  {
   "cell_type": "code",
   "execution_count": 91,
   "metadata": {
    "nbpresent": {
     "id": "ab36cb9c-fb7e-41de-acf7-07223cb06f5c"
    }
   },
   "outputs": [
    {
     "name": "stdout",
     "output_type": "stream",
     "text": [
      "data=\n",
      " [[ 0  2  4  5]\n",
      " [ 0  3 -1  3]]\n",
      "Dif. divid. 0 = 0.00000\n",
      "Dif. divid. 1 = 1.50000\n",
      "Dif. divid. 2 = -0.87500\n",
      "Dif. divid. 3 = 0.57500\n",
      "[-0.3264    1.053975]\n"
     ]
    }
   ],
   "source": [
    "x = np.array([0,2,4,5])\n",
    "y = np.array([0,3,-1,3])\n",
    "\n",
    "#PLagrange é uma função\n",
    "P3=PNewton(x,y)\n",
    "points=np.array([3.2,4.7])\n",
    "print(P3(points))"
   ]
  },
  {
   "cell_type": "code",
   "execution_count": 92,
   "metadata": {
    "nbpresent": {
     "id": "615ef74d-1f85-4872-adb8-2c6284f788e8"
    }
   },
   "outputs": [
    {
     "name": "stdout",
     "output_type": "stream",
     "text": [
      "Dif. divid. 0 = 0.00000\n",
      "Dif. divid. 1 = 1.50000\n",
      "Dif. divid. 2 = -0.87500\n",
      "Dif. divid. 3 = 0.57500\n"
     ]
    },
    {
     "data": {
      "image/png": "[encoded data removed]",
      "text/plain": [
       "<matplotlib.figure.Figure at 0x113667be0>"
      ]
     },
     "metadata": {},
     "output_type": "display_data"
    }
   ],
   "source": [
    "import matplotlib.pyplot as plt\n",
    "\n",
    "xx=np.linspace(-1,6,100)\n",
    "yy=P3(xx)\n",
    "plt.plot(xx,yy,'-')\n",
    "plt.plot(x,y,'o')\n",
    "plt.show()"
   ]
  },
  {
   "cell_type": "markdown",
   "metadata": {
    "nbpresent": {
     "id": "6fe2bf83-8a35-4493-b783-2a7c4aaecd87"
    }
   },
   "source": [
    "### Efeito de Runge\n"
   ]
  },
  {
   "cell_type": "markdown",
   "metadata": {
    "nbpresent": {
     "id": "2d3e27ff-fdd0-4fa5-b4f4-bfbca3dc2c0f"
    }
   },
   "source": [
    "- Neste exemplo, ilustra-se o fenómeno de Runge, i.e., o problema de oscilação nos extremos de um intervalo que ocorre quando se consideram polinómios de ordem elevada sobre um conjunto de nós de interpolação igualmente espaçados.\n",
    "\n",
    "- Considere-se a função de Runge:\n",
    "\n",
    "$$\\displaystyle f(x)=\\frac{1}{1+(5x)^2}.$$\n",
    "\n",
    "- Represente os gráficos de $f(x),\\, x\\in[-1,1]$ e dos polinómios de grau 5 e 10 que se colocam sobre a função em pontos igualmente espaçados e incluindo os extremos."
   ]
  },
  {
   "cell_type": "code",
   "execution_count": 70,
   "metadata": {
    "nbpresent": {
     "id": "f8401e98-9739-4f2b-8e4d-05854a32e6d8"
    }
   },
   "outputs": [
    {
     "name": "stdout",
     "output_type": "stream",
     "text": [
      "data=\n",
      " [[-1.         -0.6        -0.2         0.2         0.6         1.        ]\n",
      " [ 0.03846154  0.1         0.5         0.5         0.1         0.03846154]]\n",
      "data=\n",
      " [[-1.         -0.8        -0.6        -0.4        -0.2         0.          0.2\n",
      "   0.4         0.6         0.8         1.        ]\n",
      " [ 0.03846154  0.05882353  0.1         0.2         0.5         1.          0.5\n",
      "   0.2         0.1         0.05882353  0.03846154]]\n",
      "Dif. divid. 0 = 0.03846\n",
      "Dif. divid. 1 = 0.15385\n",
      "Dif. divid. 2 = 1.05769\n",
      "Dif. divid. 3 = -1.92308\n",
      "Dif. divid. 4 = 1.20192\n",
      "Dif. divid. 5 = -0.00000\n",
      "Dif. divid. 0 = 0.03846\n",
      "Dif. divid. 1 = 0.10181\n",
      "Dif. divid. 2 = 0.26018\n",
      "Dif. divid. 3 = 0.79186\n",
      "Dif. divid. 4 = 2.68665\n",
      "Dif. divid. 5 = -6.36312\n",
      "Dif. divid. 6 = -17.67534\n",
      "Dif. divid. 7 = 84.84163\n",
      "Dif. divid. 8 = -167.91572\n",
      "Dif. divid. 9 = 220.94174\n",
      "Dif. divid. 10 = -220.94174\n"
     ]
    },
    {
     "data": {
      "image/png": "[encoded data removed]",
      "text/plain": [
       "<matplotlib.figure.Figure at 0x1136edf28>"
      ]
     },
     "metadata": {},
     "output_type": "display_data"
    }
   ],
   "source": [
    "x_5=np.linspace(-1.0,1.0,6)\n",
    "x_10=np.linspace(-1.0,1.0,11)\n",
    "\n",
    "runge = lambda x: 1.0/(1.0+(5*x)**2)\n",
    "\n",
    "y_5= runge(x_5)\n",
    "y_10= runge(x_10)\n",
    "\n",
    "P5=PNewton(x_5,y_5)\n",
    "P10=PNewton(x_10,y_10)\n",
    "\n",
    "xx=np.linspace(-1.0,1.0,200)\n",
    "yP5=P5(xx)\n",
    "yP10=P10(xx)\n",
    "yy=runge(xx)\n",
    "plt.figure(figsize=(7,5))\n",
    "plt.plot(x_5,y_5,'o',color='r')\n",
    "plt.plot(x_10,y_10,'o',color='b')\n",
    "plt.plot(xx,yy,'-')\n",
    "plt.plot(xx,yP5,'-',color='brown')\n",
    "plt.plot(xx,yP10,'--',color='k')\n",
    "plt.show()\n",
    "plt.clf()"
   ]
  },
  {
   "cell_type": "markdown",
   "metadata": {
    "collapsed": true,
    "nbpresent": {
     "id": "d1645bae-2111-40e9-a295-987d0da234fe"
    }
   },
   "source": [
    "## O Erro de Interpolação\n",
    "\n",
    "-  Sejam $x_0<\\cdots<x_n$ os $n+1$ pontos associados à interpolação e seja $f\\in C^{(n+1)}(I)$ com $I$ dado da forma seguinte\n",
    "\n",
    " -  $I=[x,x_n]$ se $x<x_0$;\n",
    " -  $I=[x_0,x_n]$ se $x\\in[x_0,x_n]$;\n",
    " -  $I=[x_0,x]$ se $x>x_n$.\n",
    "\n",
    "Então tem-se:\n",
    "$$E(x)=(x-x_0)(x-x_1)\\cdots(x-x_n)\\frac{f^{(n+1)}(\\xi_x)}{(n+1)!},\\,\\,\n",
    "\\xi_x \\in I$$\n",
    "\n",
    "\n",
    "Portanto sai a majoração natural do erro em $x$ dada por:\n",
    "$$|E(x)|=|f(x)-P_n(x)|\\leq |(x-x_0)\\cdots(x-x_n)|\\frac{M_{n+1}}{(n+1)!}$$\n",
    "onde $\\displaystyle M_{n+1}=\\max_{x\\in I} |f^{(n+1)}(x)|.$"
   ]
  },
  {
   "cell_type": "markdown",
   "metadata": {
    "collapsed": true,
    "nbpresent": {
     "id": "c4aafcc3-edaa-4df8-92aa-8cad318ae98b"
    }
   },
   "source": [
    "## Exercícios\n",
    "\n",
    "-  Considere  a tabela de valores $(x_i,y_i)$ $(i=1,\\dots,6)$ onde\n",
    "  $y_i=g(x_i)$ e   $g$ é um função real de variável real não conhecida:\n",
    "\n",
    "$$\n",
    "\\begin{array}{|c|c|c|c|c|c|c|}\n",
    "\\hline\n",
    "x_i&0.2&0.3&0.6&0.9&1.1&1.3\\\\\n",
    "\\hline\n",
    "y_i=g(x_i)&0.050446&0.098426&0.332770&0.726600&1.097200&1.569700\\\\\n",
    "\\hline\n",
    "\\end{array}\n",
    "$$\n",
    "\n",
    " Utilize um polinómio interpolador de menor grau possível,\n",
    " recorrendo a 4 pontos da tabela, para aproximar o valor de $g(0.76)$.\n",
    " Escolha os pontos de interpolação de forma a minimizar o erro da aproximação."
   ]
  },
  {
   "cell_type": "markdown",
   "metadata": {
    "nbpresent": {
     "id": "157e7c5a-041e-44ac-93db-2c5f702fa6d0"
    }
   },
   "source": [
    "- Considere a função $f$ dada pela tabela  seguinte:\n",
    "$$\n",
    "\\begin{array}{|c|c|c|c|c|c|}\n",
    "\\hline\n",
    "x&0.0&0.2&0.4&0.6&0.8\\\\\n",
    "\\hline\n",
    "f(x)&1&0.808&0.664&0.616&0.712\\\\\n",
    "\\hline\n",
    "\\end{array}\n",
    "$$\n",
    "\n",
    " -  Calcule um valor aproximado para $f(0.3)$ utilizando um polinómio\n",
    "  interpolador de grau 2. Escolha os nós de interpolação da tabela\n",
    "  de forma a minimizar o erro da aproximação.\n",
    " - Sabendo que $f$ é um polinómio de grau 3 da forma\n",
    "  $f(x)=x^3+a_2x^2+a_1x+a_0$ $(a_i\\in\\mathbb{R}$ com $i=0,1,2)$ determine o\n",
    "  erro da aproximação para $f(0.3)$ obtida na alínea anterior.\n"
   ]
  },
  {
   "cell_type": "markdown",
   "metadata": {
    "nbpresent": {
     "id": "f515bbb2-a0cc-4765-a710-f937014ee9b9"
    }
   },
   "source": [
    "\n",
    "- Considere a função $h(t)$ dada pela tabela seguinte:\n",
    "$$\n",
    "\\begin{array}{|c|c|c|c|c|}\n",
    "\\hline\n",
    "t&0&0.25&0.5&0.75\\\\\n",
    "\\hline\n",
    "h(t)&1.41421&2.08673&2.71743&3.26710\\\\\n",
    "\\hline\n",
    "\\end{array}\n",
    "$$\n",
    "\n",
    " - Utilize um  polinómio interpolador de grau 2 para  obter uma aproximação do\n",
    "  valor de $h(0.6)$. Escolha os nodos de interpolação de modo a\n",
    "  minimizar o erro cometido.\n",
    " - Assuma que a função $h$ é definida por $\\displaystyle\n",
    "  h(t)=\\sqrt{2}+\\mathrm{e}\n",
    "  \\sin(t)$. Utilize a expressão para o erro de truncatura dos\n",
    "  polinómios interpoladores de Lagrange para calcular um majorante do\n",
    "  erro cometido na alínea a) e compare-o com o erro exacto.\n"
   ]
  },
  {
   "cell_type": "code",
   "execution_count": null,
   "metadata": {
    "collapsed": true,
    "nbpresent": {
     "id": "38b7c037-8b8b-485a-81a7-7604b5960364"
    }
   },
   "outputs": [],
   "source": []
  }
 ],
 "metadata": {
  "kernelspec": {
   "display_name": "Python 3",
   "language": "python",
   "name": "python3"
  },
  "language_info": {
   "codemirror_mode": {
    "name": "ipython",
    "version": 3
   },
   "file_extension": ".py",
   "mimetype": "text/x-python",
   "name": "python",
   "nbconvert_exporter": "python",
   "pygments_lexer": "ipython3",
   "version": "3.6.2"
  }
 },
 "nbformat": 4,
 "nbformat_minor": 2
}
