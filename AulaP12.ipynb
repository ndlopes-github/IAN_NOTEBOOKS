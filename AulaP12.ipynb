{
 "cells": [
  {
   "cell_type": "markdown",
   "metadata": {},
   "source": [
    "# AulaP12\n",
    "\n",
    "- **Método das Potências** para aproximação do maior valor próprio (em módulo).\n"
   ]
  },
  {
   "cell_type": "markdown",
   "metadata": {},
   "source": [
    "***\n",
    "### Problema: \n",
    "\n",
    "#### Dada uma matriz de coeficientes  reais $A\\in \\mathcal{M}_{n\\times n}$ como calcular numericamente os seus valores próprios?"
   ]
  },
  {
   "cell_type": "markdown",
   "metadata": {},
   "source": [
    "De outra forma, como aproximar os valores $\\lambda \\in \\mathbb{C}$ para os quais existem vectores próprios \n",
    "$\\mathbf{u}\\in \\mathbb{R}^n  (\\mathbf{u}\\neq \\mathbf{0})$ tais que $A\\mathbf{u}=\\lambda \\mathbf{u}$ ?\n",
    "\n",
    "- **Obs.**: encontrar os zeros do polinómio característico dado por $det(A-\\lambda I)$ não é computacionalmente viável para $n$ grande.\n"
   ]
  },
  {
   "cell_type": "markdown",
   "metadata": {},
   "source": [
    "## Método das Potências:\n",
    "\n",
    "\n",
    "- **Ideia**: Dado um par valor, vector próprio $(\\lambda,\\mathbf{u})$ tem-se:\n",
    "\n",
    "$$\\lambda \\mathbf{u}=A\\mathbf{u} \\Leftrightarrow \\lambda \\mathbf{u}\\cdot \\mathbf{u}=A\\mathbf{u}\\cdot \\mathbf{u}\\Leftrightarrow \\lambda=\\frac{A\\mathbf{u}\\cdot \\mathbf{u}}{\\mathbf{u}\\cdot \\mathbf{u}}$$\n",
    "\n",
    "- **Obs.**: Se $$||\\mathbf{u}||=1 \\Longrightarrow \\lambda= A\\mathbf{u}\\cdot \\mathbf{u}.$$\n",
    "\n",
    "Prova-se (para determinadas matrizes $A$) que dado um vector $\\mathbf{v}^0\\neq 0$ a sucessão\n",
    "\n",
    "$$\\mathbf{v}^{n+1}=A \\mathbf{v}^{n}=A^2 \\mathbf{v}^{n-1}=A^3 \\mathbf{v}^{n-2}=\\cdots=A^n \\mathbf{v}^0$$\n",
    "\n",
    "converge para um vector próprio associado ao valor próprio de maior valor absoluto.\n",
    "\n",
    "(Ver **Demonstração** e.g.: Quarteroni A.,  Sacco, Salleri, *Numerical Mathematics*, Text in Applied Mathematics 37. 2000, Springer.)\n",
    "\n"
   ]
  },
  {
   "cell_type": "markdown",
   "metadata": {},
   "source": [
    " ### Proposição:\n",
    " \n",
    " Se  $A\\in \\mathcal{M}_{n\\times n}$ for uma matriz diagonalizável (i.e.: existe uma base de vectores próprios para $\\mathbb{R}^n$) e se, para além disso, existir um valor próprio dominante e real $(|\\lambda_1|>|\\lambda_2|\\geq |\\lambda_3|\\geq \\dots |\\lambda_n|$) então o método das potências converge e permite aproximar o valor próprio dominante $\\lambda_1$ bem como o seu vector próprio associado $\\mathbf{v}$. \n",
    " \n",
    " \n",
    " \n",
    "- **Algoritmo**  (normalizado) $n\\in\\mathbb{N}$:\n",
    "\n",
    "\n",
    "Seja $\\mathbf{v}^0\\in\\mathbb{R}$ um vector unitário.\n",
    "\n",
    "$$\\mathbf{z}^n=A\\mathbf{v}^{n-1}$$\n",
    "\n",
    "$$\\mathbf{v}^n=\\frac{\\mathbf{z}^n }{||\\mathbf{z}^n||_2}$$ \n",
    "\n",
    "$$ \\lambda_1^n=A\\mathbf{v}^n \\cdot  \\mathbf{v}^n $$"
   ]
  },
  {
   "cell_type": "markdown",
   "metadata": {},
   "source": [
    "### Algumas notas:\n",
    "\n",
    " - A convergência do método depende da separação dos valores próprios. i.e.: $$\\frac{|\\lambda_2|}{|\\lambda_1|}<< 1$$ \n",
    "no entanto prova-se que o método também em converge em condições mais gerais, e.g., quando existem dois valores próprios dominantes com o mesmo valor absoluto.\n",
    "\n",
    "\n",
    "\n",
    " - O método não requer que a aproximação do vector próprio seja normalizada, no entanto, e do ponto de vista da implementação computacional, a normalização do vector em cada passo impede os erros de *overflow*/*underflow* quando  $|\\lambda_1|>>1$ ou $|\\lambda_1|<<1$.\n",
    "\n"
   ]
  },
  {
   "cell_type": "markdown",
   "metadata": {},
   "source": [
    "#### Exemplo:\n",
    "\n",
    "Considere a matriz\n",
    "\n",
    "$$A=\\begin{bmatrix}\n",
    "1&2&0\\\\\n",
    "-2&1&2\\\\\n",
    "1&3&1\n",
    "\\end{bmatrix}$$\n",
    "\n",
    "1. Utilize o Teorema de Gershgorin para localizar os valores próprios de $A$. \n",
    "- Considere a aproximação inicial $\\mathbf{v}^0=(1,2,1)$ e efectue três iterações do método das potências para aproximar o valor próprio de maior valor absoluto da matriz.\n",
    "- Implemente o Métodos das Potências para resolver o problema anterior. "
   ]
  },
  {
   "cell_type": "code",
   "execution_count": 2,
   "metadata": {},
   "outputs": [
    {
     "data": {
      "image/png": "[encoded data removed]",
      "text/plain": [
       "<Figure size 432x288 with 1 Axes>"
      ]
     },
     "metadata": {},
     "output_type": "display_data"
    }
   ],
   "source": [
    "# ver https://matplotlib.org/devdocs/api/_as_gen/matplotlib.patches.Circle.html\n",
    "# Procurar uma solução mais simples\n",
    "\n",
    "import numpy as np\n",
    "import matplotlib.pyplot as plt\n",
    "from matplotlib.patches import Circle\n",
    "from matplotlib.collections import PatchCollection\n",
    "\n",
    "A=np.array([[1,2,0],[-2,1,2],[1,3,1]])\n",
    "\n",
    "fig, ax = plt.subplots()\n",
    "GershCircles=[]\n",
    "\n",
    "D=np.diag(A)\n",
    "Ma=A-np.diag(D)\n",
    "\n",
    "for i in range(len(A)):\n",
    "    rad=np.sum(np.abs(Ma[i,:]))\n",
    "    circle=plt.Circle((A[i,i],0),rad)\n",
    "    GershCircles.append(circle)\n",
    "\n",
    "    \n",
    "collection = PatchCollection(GershCircles,cmap=plt.cm.hsv, alpha=0.3)\n",
    "colors = np.linspace(0, 1, len(GershCircles))\n",
    "collection.set_array(np.array(colors))\n",
    "ax.add_collection(collection)\n",
    "\n",
    "plt.axis('equal')\n",
    "plt.grid()\n",
    "plt.tight_layout()\n",
    "plt.legend('best')\n",
    "plt.show()"
   ]
  },
  {
   "cell_type": "code",
   "execution_count": 8,
   "metadata": {},
   "outputs": [
    {
     "name": "stdout",
     "output_type": "stream",
     "text": [
      "[5. 2. 8.]\n",
      "2.2903225806451615\n",
      "[ 9.  8. 19.]\n",
      "2.8399209486166006\n",
      "[25. 28. 52.]\n",
      "3.086068563092633\n",
      "[ 81.  82. 161.]\n",
      "3.0162985257358566\n",
      "[245. 242. 488.]\n",
      "2.990396178654624\n",
      "[ 729.  728. 1459.]\n",
      "2.998169026358372\n",
      "[2185. 2188. 4372.]\n",
      "3.0010668869487964\n",
      "[ 6561.  6562. 13121.]\n",
      "3.0002031965297213\n",
      "[19685. 19682. 39368.]\n",
      "2.999881454099027\n",
      "[ 59049.  59048. 118099.]\n",
      "2.9999774195801954\n",
      "[177145. 177148. 354292.]\n",
      "3.0000131717314207\n",
      "[ 531441.  531442. 1062881.]\n",
      "3.0000025088981603\n",
      "[1594325. 1594322. 3188648.]\n",
      "2.9999985364738495\n",
      "[4782969. 4782968. 9565939.]\n",
      "2.9999997212330762\n",
      "[14348905. 14348908. 28697812.]\n",
      "3.000000162614011\n",
      "[43046721. 43046722. 86093441.]\n",
      "3.0000000309740966\n",
      "[1.29140165e+08 1.29140162e+08 2.58280328e+08]\n",
      "2.9999999819317766\n",
      "[3.87420489e+08 3.87420488e+08 7.74840979e+08]\n",
      "2.9999999965584334\n",
      "[1.16226146e+09 1.16226147e+09 2.32452293e+09]\n",
      "3.00000000200758\n",
      "[3.4867844e+09 3.4867844e+09 6.9735688e+09]\n",
      "3.0000000003823963\n",
      "[1.04603532e+10 1.04603532e+10 2.09207064e+10]\n",
      "2.9999999997769358\n",
      "[3.13810596e+10 3.13810596e+10 6.27621192e+10]\n",
      "2.9999999999575113\n",
      "[9.41431788e+10 9.41431788e+10 1.88286358e+11]\n",
      "3.000000000024785\n",
      "[2.82429536e+11 2.82429536e+11 5.64859073e+11]\n",
      "3.0000000000047202\n",
      "[8.47288609e+11 8.47288609e+11 1.69457722e+12]\n",
      "2.999999999997246\n",
      "[2.54186583e+12 2.54186583e+12 5.08373166e+12]\n",
      "2.999999999999475\n",
      "[7.62559748e+12 7.62559748e+12 1.52511950e+13]\n",
      "3.000000000000306\n",
      "[2.28767925e+13 2.28767925e+13 4.57535849e+13]\n",
      "3.0000000000000577\n",
      "[6.86303774e+13 6.86303774e+13 1.37260755e+14]\n",
      "2.9999999999999662\n",
      "[2.05891132e+14 2.05891132e+14 4.11782264e+14]\n",
      "2.9999999999999933\n",
      "[6.17673396e+14 6.17673396e+14 1.23534679e+15]\n",
      "3.0000000000000036\n",
      "[1.85302019e+15 1.85302019e+15 3.70604038e+15]\n",
      "3.0000000000000004\n",
      "[5.55906057e+15 5.55906057e+15 1.11181211e+16]\n",
      "2.9999999999999996\n",
      "[1.66771817e+16 1.66771817e+16 3.33543634e+16]\n",
      "2.9999999999999996\n",
      "[5.00315451e+16 5.00315451e+16 1.00063090e+17]\n",
      "2.9999999999999996\n",
      "[1.50094635e+17 1.50094635e+17 3.00189271e+17]\n",
      "3.0000000000000004\n",
      "[4.50283906e+17 4.50283906e+17 9.00567812e+17]\n",
      "3.0000000000000004\n",
      "[1.35085172e+18 1.35085172e+18 2.70170344e+18]\n",
      "3.0\n",
      "[4.05255515e+18 4.05255515e+18 8.10511031e+18]\n",
      "3.000000000000001\n",
      "[1.21576655e+19 1.21576655e+19 2.43153309e+19]\n",
      "3.0\n",
      "[3.64729964e+19 3.64729964e+19 7.29459928e+19]\n",
      "3.0\n",
      "[1.09418989e+20 1.09418989e+20 2.18837978e+20]\n",
      "2.9999999999999996\n",
      "[3.28256967e+20 3.28256967e+20 6.56513935e+20]\n",
      "2.9999999999999996\n",
      "[9.84770902e+20 9.84770902e+20 1.96954180e+21]\n",
      "3.000000000000001\n",
      "[2.95431271e+21 2.95431271e+21 5.90862541e+21]\n",
      "3.0000000000000004\n",
      "[8.86293812e+21 8.86293812e+21 1.77258762e+22]\n",
      "3.0\n",
      "[2.65888144e+22 2.65888144e+22 5.31776287e+22]\n",
      "2.9999999999999996\n",
      "[7.97664431e+22 7.97664431e+22 1.59532886e+23]\n",
      "2.9999999999999996\n",
      "[2.39299329e+23 2.39299329e+23 4.78598658e+23]\n",
      "3.0\n",
      "[7.17897988e+23 7.17897988e+23 1.43579598e+24]\n",
      "2.999999999999999\n",
      "[2.15369396e+24 2.15369396e+24 4.30738793e+24]\n",
      "3.0\n",
      "[6.46108189e+24 6.46108189e+24 1.29221638e+25]\n",
      "3.0\n",
      "[1.93832457e+25 1.93832457e+25 3.87664913e+25]\n",
      "2.9999999999999996\n",
      "[5.81497370e+25 5.81497370e+25 1.16299474e+26]\n",
      "3.0\n",
      "[1.74449211e+26 1.74449211e+26 3.48898422e+26]\n",
      "3.0\n",
      "[5.23347633e+26 5.23347633e+26 1.04669527e+27]\n",
      "3.0\n",
      "[1.5700429e+27 1.5700429e+27 3.1400858e+27]\n",
      "3.0\n",
      "[4.71012870e+27 4.71012870e+27 9.42025739e+27]\n",
      "3.0000000000000004\n",
      "[1.41303861e+28 1.41303861e+28 2.82607722e+28]\n",
      "2.9999999999999996\n",
      "[4.23911583e+28 4.23911583e+28 8.47823166e+28]\n",
      "3.0000000000000004\n",
      "[1.27173475e+29 1.27173475e+29 2.54346950e+29]\n",
      "2.9999999999999996\n",
      "[3.81520424e+29 3.81520424e+29 7.63040849e+29]\n",
      "3.0\n",
      "[1.14456127e+30 1.14456127e+30 2.28912255e+30]\n",
      "3.000000000000001\n",
      "[3.43368382e+30 3.43368382e+30 6.86736764e+30]\n",
      "3.0\n",
      "[1.03010515e+31 1.03010515e+31 2.06021029e+31]\n",
      "2.9999999999999996\n",
      "[3.09031544e+31 3.09031544e+31 6.18063088e+31]\n",
      "3.0000000000000004\n",
      "[9.27094631e+31 9.27094631e+31 1.85418926e+32]\n",
      "3.0\n",
      "[2.78128389e+32 2.78128389e+32 5.56256779e+32]\n",
      "3.0\n",
      "[8.34385168e+32 8.34385168e+32 1.66877034e+33]\n",
      "3.0\n",
      "[2.50315550e+33 2.50315550e+33 5.00631101e+33]\n",
      "3.0000000000000004\n",
      "[7.50946651e+33 7.50946651e+33 1.50189330e+34]\n",
      "2.9999999999999996\n",
      "[2.25283995e+34 2.25283995e+34 4.50567991e+34]\n",
      "3.0000000000000004\n",
      "[6.75851986e+34 6.75851986e+34 1.35170397e+35]\n",
      "3.0\n",
      "[2.02755596e+35 2.02755596e+35 4.05511192e+35]\n",
      "3.0\n",
      "[6.08266788e+35 6.08266788e+35 1.21653358e+36]\n",
      "3.0\n",
      "[1.82480036e+36 1.82480036e+36 3.64960073e+36]\n",
      "3.0\n",
      "[5.47440109e+36 5.47440109e+36 1.09488022e+37]\n",
      "3.0000000000000004\n",
      "[1.64232033e+37 1.64232033e+37 3.28464065e+37]\n",
      "2.9999999999999996\n",
      "[4.92696098e+37 4.92696098e+37 9.85392196e+37]\n",
      "3.0\n",
      "[1.47808829e+38 1.47808829e+38 2.95617659e+38]\n",
      "3.0000000000000004\n",
      "[4.43426488e+38 4.43426488e+38 8.86852976e+38]\n",
      "3.0\n",
      "[1.33027946e+39 1.33027946e+39 2.66055893e+39]\n",
      "3.0\n",
      "[3.99083839e+39 3.99083839e+39 7.98167679e+39]\n",
      "2.9999999999999996\n",
      "[1.19725152e+40 1.19725152e+40 2.39450304e+40]\n",
      "3.0000000000000004\n",
      "[3.59175455e+40 3.59175455e+40 7.18350911e+40]\n",
      "3.0000000000000004\n",
      "[1.07752637e+41 1.07752637e+41 2.15505273e+41]\n",
      "3.0\n",
      "[3.2325791e+41 3.2325791e+41 6.4651582e+41]\n",
      "3.0\n",
      "[9.69773730e+41 9.69773730e+41 1.93954746e+42]\n",
      "3.0\n",
      "[2.90932119e+42 2.90932119e+42 5.81864238e+42]\n",
      "2.999999999999999\n",
      "[8.72796357e+42 8.72796357e+42 1.74559271e+43]\n",
      "2.9999999999999996\n",
      "[2.61838907e+43 2.61838907e+43 5.23677814e+43]\n",
      "3.0\n",
      "[7.85516721e+43 7.85516721e+43 1.57103344e+44]\n",
      "3.0\n",
      "[2.35655016e+44 2.35655016e+44 4.71310033e+44]\n",
      "3.0\n",
      "[7.06965049e+44 7.06965049e+44 1.41393010e+45]\n",
      "3.0\n",
      "[2.12089515e+45 2.12089515e+45 4.24179029e+45]\n",
      "2.9999999999999996\n",
      "[6.36268544e+45 6.36268544e+45 1.27253709e+46]\n",
      "3.0\n",
      "[1.90880563e+46 1.90880563e+46 3.81761126e+46]\n",
      "3.0\n",
      "[5.72641690e+46 5.72641690e+46 1.14528338e+47]\n",
      "3.0\n",
      "[1.71792507e+47 1.71792507e+47 3.43585014e+47]\n",
      "3.0\n",
      "lambda= 3.0\n",
      "v1= [1.71792507e+47 1.71792507e+47 3.43585014e+47]\n",
      "error= 0.0\n"
     ]
    }
   ],
   "source": [
    "# 3)\n",
    "u=np.array([1.0,2.0,1.0])\n",
    "\n",
    "MaxIter=100\n",
    "TOL=0.0\n",
    "\n",
    "#u*=1./np.sqrt(np.inner(u,u)) # Normaliza o passo inicial\n",
    "lbdaux=0 #Para controlar o erro\n",
    "   \n",
    "for i in range(1,MaxIter):\n",
    "    u=np.dot(A,u)\n",
    "    #u*=1.0/np.sqrt(np.inner(u,u)) #Normaliza\n",
    "    print(u)\n",
    "    lbda=np.inner(np.dot(A,u),u)/np.inner(u,u)\n",
    "    error=abs(lbda-lbdaux)\n",
    "    print(lbda)\n",
    "    if (error<TOL):\n",
    "        print('iter=',i)\n",
    "        break\n",
    "    \n",
    "    lbdaux=lbda \n",
    "    \n",
    "print('lambda=',lbda)\n",
    "print('v1=',u)\n",
    "print('error=',error)\n"
   ]
  },
  {
   "cell_type": "markdown",
   "metadata": {},
   "source": [
    "### Exercício:\n",
    "\n",
    "Repita o exemplo anterior com  $A$ e $\\mathbf{v}^0$ dados por:\n",
    "\n",
    "$$A=\\begin{bmatrix}\n",
    "4&1&-1&0\\\\\n",
    "1&3&-1&0\\\\\n",
    "-1&-1&5&2\\\\\n",
    "0&0&2&4\n",
    "\\end{bmatrix},\\quad\\quad \\mathbf{v}^0=(0,1,0,0)$$"
   ]
  },
  {
   "cell_type": "markdown",
   "metadata": {},
   "source": [
    "***\n",
    "***\n",
    "#### Caixa de Areia !"
   ]
  },
  {
   "cell_type": "code",
   "execution_count": 9,
   "metadata": {
    "collapsed": true
   },
   "outputs": [],
   "source": [
    "### SANDBOX\n",
    "## Preparação para Resolução:\n",
    "A=np.array([[4.,1.,-1.,0.],[1.,3.,-1.,0],[-1.,-1.,5.,2.],[0.,0.,2.,4.]])\n",
    "u=np.array([0,1,0,0])"
   ]
  },
  {
   "cell_type": "code",
   "execution_count": 10,
   "metadata": {
    "collapsed": true
   },
   "outputs": [],
   "source": [
    "### Métodos já implementados no módulo numpy.linalg\n",
    "lbd,v=np.linalg.eig(A)"
   ]
  },
  {
   "cell_type": "code",
   "execution_count": 11,
   "metadata": {},
   "outputs": [
    {
     "name": "stdout",
     "output_type": "stream",
     "text": [
      "[ 2.48586307  4.42800673  7.0861302   2.        ]\n"
     ]
    }
   ],
   "source": [
    "print(lbd)"
   ]
  },
  {
   "cell_type": "code",
   "execution_count": 12,
   "metadata": {},
   "outputs": [
    {
     "data": {
      "text/plain": [
       "<matplotlib.figure.Figure at 0x1168aa748>"
      ]
     },
     "metadata": {},
     "output_type": "display_data"
    },
    {
     "data": {
      "image/png": "[encoded data removed]",
      "text/plain": [
       "<matplotlib.figure.Figure at 0x11686fc18>"
      ]
     },
     "metadata": {},
     "output_type": "display_data"
    }
   ],
   "source": [
    "fig, ax = plt.subplots()\n",
    "GershCircles=[]\n",
    "\n",
    "D=np.diag(A)\n",
    "Ma=A-np.diag(D)\n",
    "\n",
    "for i in range(len(A)):\n",
    "    rad=np.sum(np.abs(Ma[i,:]))\n",
    "    circle=Circle((A[i,i],0),rad)\n",
    "    GershCircles.append(circle)\n",
    "\n",
    "collection = PatchCollection(GershCircles,cmap=plt.cm.hsv, alpha=0.3)\n",
    "colors = np.linspace(0, 1, len(GershCircles))\n",
    "collection.set_array(np.array(colors))\n",
    "ax.add_collection(collection)\n",
    "\n",
    "\n",
    "plt.axis('equal')\n",
    "plt.grid()\n",
    "plt.tight_layout()\n",
    "plt.legend('best')\n",
    "plt.show()\n",
    "plt.clf()"
   ]
  },
  {
   "cell_type": "markdown",
   "metadata": {
    "collapsed": true
   },
   "source": [
    "***\n",
    "***\n",
    "\n",
    "## Generalização do Método das Potências\n",
    "\n",
    "- É possível generalizar o método das potências de forma a aproximar outros valores próprios.\n",
    "\n",
    "O algoritmo para procurar o valor próprio mais perto de $\\mu$ (assumindo que este está separado):\n",
    "\n",
    "### O Método das Potências Inversas:\n",
    "\n",
    "- **Algoritmo:**\n",
    "\n",
    "  Seja $\\mathbf{v}^0\\in\\mathbb{R}$ um vector unitário.\n",
    "\n",
    "$$ (A-\\mu I)\\mathbf{z}^n=\\mathbf{v}^{n-1}$$\n",
    "\n",
    "$$\\mathbf{v}^n=\\frac{\\mathbf{z}^n }{||\\mathbf{z}^n||_2}$$\n",
    "\n",
    "$$ \\lambda_\\mu^n=A\\mathbf{v}^n \\cdot  \\mathbf{v}^n $$\n",
    "\n"
   ]
  },
  {
   "cell_type": "markdown",
   "metadata": {},
   "source": [
    "### Exercício:\n",
    "\n",
    "Considere  $A$ e $\\mathbf{v}^0$ dados por:\n",
    "\n",
    "$$A=\\begin{bmatrix}\n",
    "4&1&-1&0\\\\\n",
    "1&3&-1&0\\\\\n",
    "-1&-1&5&2\\\\\n",
    "0&0&2&4\n",
    "\\end{bmatrix},\\quad\\quad \\mathbf{v}^0=(0,1,0,0)$$\n",
    "\n",
    "Sabe-se que $A$ tem um valor próprio separado perto de $\\mu=2.5$. Utilize o método das potências inversas para aproximar esse valor próprio."
   ]
  },
  {
   "cell_type": "code",
   "execution_count": 15,
   "metadata": {},
   "outputs": [
    {
     "name": "stdout",
     "output_type": "stream",
     "text": [
      "iter= 7\n",
      "lambda= 2.48586307066\n",
      "v1= [ 0.6096698  -0.64514835  0.27797521 -0.36717314]\n",
      "error= 8.881784197e-16\n"
     ]
    }
   ],
   "source": [
    "A=np.array([[4.,1.,-1.,0.],[1.,3.,-1.,0],[-1.,-1.,5.,2.],[0.,0.,2.,4.]])\n",
    "u=np.array([0,1,0,0])\n",
    "mu=2.5\n",
    "\n",
    "MaxIter=100\n",
    "TOL=1.e-15\n",
    "\n",
    "u=1./np.sqrt(np.inner(u,u))*u # Normaliza o passo inicial\n",
    "lbdaux=0 #Para controlar o erro\n",
    "\n",
    "z=np.zeros(3)\n",
    "\n",
    "for i in range(1,MaxIter):\n",
    "    z=np.linalg.solve(A-mu*np.identity(4),u) # TPC. Usar o LU estudado\n",
    "    u=z/np.sqrt(np.inner(z,z)) #Normaliza\n",
    "    lbda=np.inner(np.dot(A,u),u)\n",
    "    error=abs(lbda-lbdaux)\n",
    "    if (error<TOL):\n",
    "        print('iter=',i)\n",
    "        break\n",
    "    \n",
    "    lbdaux=lbda \n",
    "    \n",
    "print('lambda=',lbda)\n",
    "print('v1=',u)\n",
    "print('error=',error)\n",
    "\n"
   ]
  },
  {
   "cell_type": "code",
   "execution_count": null,
   "metadata": {
    "collapsed": true
   },
   "outputs": [],
   "source": []
  }
 ],
 "metadata": {
  "kernelspec": {
   "display_name": "Python 3",
   "language": "python",
   "name": "python3"
  },
  "language_info": {
   "codemirror_mode": {
    "name": "ipython",
    "version": 3
   },
   "file_extension": ".py",
   "mimetype": "text/x-python",
   "name": "python",
   "nbconvert_exporter": "python",
   "pygments_lexer": "ipython3",
   "version": "3.6.5"
  }
 },
 "nbformat": 4,
 "nbformat_minor": 2
}
