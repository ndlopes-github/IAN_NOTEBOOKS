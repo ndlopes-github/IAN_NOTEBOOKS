{
 "cells": [
  {
   "cell_type": "markdown",
   "metadata": {
    "slideshow": {
     "slide_type": "slide"
    }
   },
   "source": [
    "# Aula 2  - Erros Propagados e método da bissecção "
   ]
  },
  {
   "cell_type": "markdown",
   "metadata": {},
   "source": [
    "### Fórmula Fundamental para o Cálculo do Erro"
   ]
  },
  {
   "cell_type": "markdown",
   "metadata": {},
   "source": [
    " Seja $\\bar x$ um valor aproximado de $x$ com majorante do\n",
    "  erro $\\Delta x$ e uma função $f:[a,b]\\subset\\mathbb{R}\\longrightarrow\\mathbb{R}$\n",
    "  regular ($C^1([a,b]$) no\n",
    "  intervalo $[a,b]$ com $[\\bar x-\\Delta x,\\bar x+\\Delta x]\\subset]a,b[$.\n",
    "  \n",
    "  Então um majorante\n",
    "  do erro propagado por meio de $f$ é dado por\n",
    "  $$\\Delta y=\\left|\\frac{{\\rm d}y}{{\\rm d} x}\\right|_M\\Delta x,$$\n",
    "onde $\\left|\\frac{{\\rm d}y}{{\\rm d} x}\\right|_M$ é um majorante do\n",
    "módulo  de $\\displaystyle \\frac{{\\rm d}y}{{\\rm d} x}$ em $[\\bar x-\\Delta x,\\bar x+\\Delta x]$."
   ]
  },
  {
   "cell_type": "markdown",
   "metadata": {},
   "source": [
    "### Exercício sobre o erro propagado"
   ]
  },
  {
   "cell_type": "markdown",
   "metadata": {},
   "source": [
    "Seja $y=3x^2+1$ e $x= 2.7\\pm 0.05$. Calcule $\\bar y$ e $\\Delta y$.\n"
   ]
  },
  {
   "cell_type": "code",
   "execution_count": 3,
   "metadata": {},
   "outputs": [
    {
     "name": "stdout",
     "output_type": "stream",
     "text": [
      "o valor aproximado de y é 22.870000000000005\n",
      "o erro de y é 0.8250000000000001\n"
     ]
    }
   ],
   "source": [
    "xa=2.7 # valor aproximado para xa está em [2.7-0.05, 2.7+0.05]\n",
    "Dx=0.05 # Erro para x\n",
    "\n",
    "def y(x): #Função que propaga o erro\n",
    "    return 3*x**2+1\n",
    "\n",
    "def dydx(x):\n",
    "    # dydx é positiva no intervalo de interesse\n",
    "    # f é crescente\n",
    "    return 6*x\n",
    "\n",
    "maj_dydx=6*(xa+Dx)\n",
    "\n",
    "ya=y(xa)\n",
    "Dy=maj_dydx*Dx\n",
    "\n",
    "print('o valor aproximado de y é', ya)\n",
    "print('o erro de y é', Dy)"
   ]
  },
  {
   "cell_type": "markdown",
   "metadata": {},
   "source": [
    "## Fórmula Fundamental do Cálculo do Erro. (FFCE)\n"
   ]
  },
  {
   "cell_type": "markdown",
   "metadata": {},
   "source": [
    "Seja\n",
    "  $\\bar P=(\\bar x_1,\\dots,\\bar x_n)\\in\\mathbb{R}^n\\, (n\\in\\mathbb{N})$ um valor\n",
    "  aproximado de $P$ com majorantes dos erros associados\n",
    "  $\\Delta x_i\\, (i=1,\\dots,n)$ e uma função $f:D\\subset \\mathbb{R}^n\\longrightarrow\\mathbb{R}$\n",
    "  de classe $C^1(D)$.  Então um majorante do erro\n",
    "  propagado por meio de $f$ é dado por\n",
    "  $$\\Delta y=\\left|\\frac{\\partial y}{\\partial x_1}\\right|_M\\Delta x_1+\\cdots+\\left|\\frac{\\partial y}{\\partial x_n}\\right|_M\\Delta x_n,$$\n",
    "  onde $\\left|\\frac{\\partial y}{\\partial x_i}\\right|_M\\, (i=1,\\dots,n)$\n",
    "  é um majorante do módulo de\n",
    "  $\\displaystyle \\frac{\\partial y}{\\partial x_i}$ em\n",
    "  $[\\bar x_1-\\Delta x_1,\\bar x_1+\\Delta x_1]\\times \\cdots\\times[\\bar\n",
    "  x_n-\\Delta x_n,\\bar x_n+\\Delta x_n]$."
   ]
  },
  {
   "cell_type": "markdown",
   "metadata": {},
   "source": [
    "\n",
    "### Exercício sobre o erro propagado."
   ]
  },
  {
   "cell_type": "markdown",
   "metadata": {},
   "source": [
    " Seja $\\large w=\\frac{\\pi r^2}{3\\sqrt{a}}$, com $r=2.18\\pm0.0015,$ $a=5.2\\pm0.07$ e $\\pi=3.14\\pm0.001$.\n"
   ]
  },
  {
   "cell_type": "markdown",
   "metadata": {},
   "source": [
    " Calcule a aproximação de $w$ bem como majorantes para os erros propagados absoluto $\\Delta w$ e relativo $\\delta w$."
   ]
  },
  {
   "cell_type": "markdown",
   "metadata": {
    "collapsed": true,
    "slideshow": {
     "slide_type": "slide"
    }
   },
   "source": [
    "#### Resolução recorrendo à decomposição em sub-operações\n",
    "\n",
    "Consideremos a primeira sub-operação definida por $x=r^2.$\n",
    "O erro $\\Delta x$ bem como $\\bar x$ (aproximação de $x$)  são dados por:"
   ]
  },
  {
   "cell_type": "code",
   "execution_count": 4,
   "metadata": {
    "scrolled": true,
    "slideshow": {
     "slide_type": "-"
    }
   },
   "outputs": [
    {
     "name": "stdout",
     "output_type": "stream",
     "text": [
      "Dx= 0.006544500000000001\n",
      "x_= 4.752400000000001\n"
     ]
    }
   ],
   "source": [
    "r_=2.18 # valor aproximado para r\n",
    "a_=5.2  # valor aproximado para a\n",
    "pi_=3.14 # valor aproximado para pi\n",
    "Dr=0.0015 # Erro absoluto para r\n",
    "Da=0.07 # Erro absoluto para a\n",
    "Dpi=0.001 # Erro absoluto para \n",
    "Dx=2*(r_+Dr)*Dr # majorante para erro da 1ª sub-operação\n",
    "x_=r_**2 # Aproximação para o valor de x \n",
    "print('Dx=',Dx)\n",
    "print('x_=',x_)"
   ]
  },
  {
   "cell_type": "markdown",
   "metadata": {},
   "source": [
    "$$\\Delta x= \\left|3 r^2\\right|_M\\Delta r \\leq 0.0066, \\quad \\bar\n",
    "x=4.7524$$\n"
   ]
  },
  {
   "cell_type": "markdown",
   "metadata": {
    "slideshow": {
     "slide_type": "slide"
    }
   },
   "source": [
    "Para segunda operação assumimos $y =\\pi\\times x$. Assim, o erro $\\Delta y$ bem como $\\bar y$ são dados por:"
   ]
  },
  {
   "cell_type": "code",
   "execution_count": 5,
   "metadata": {},
   "outputs": [
    {
     "name": "stdout",
     "output_type": "stream",
     "text": [
      "Dy= 0.025315219000000003\n",
      "y_= 14.922536000000003\n"
     ]
    }
   ],
   "source": [
    "Dy=(pi_+Dpi)*Dx+(x_+Dx)*Dpi\n",
    "y_=3.14*x_\n",
    "print('Dy=',Dy)\n",
    "print('y_=', y_)"
   ]
  },
  {
   "cell_type": "markdown",
   "metadata": {},
   "source": [
    "$$\\Delta y=|x|_M\\Delta \\pi +|\\pi|_M\\Delta x=0.0254,\\quad \\bar y=14.9225 $$\n"
   ]
  },
  {
   "cell_type": "markdown",
   "metadata": {
    "slideshow": {
     "slide_type": "slide"
    }
   },
   "source": [
    " A terceira sub-operação é definida por $z=3\\sqrt{a}$.\n",
    "O erro $\\Delta z$ bem como $\\bar z$ são dados por:\n"
   ]
  },
  {
   "cell_type": "code",
   "execution_count": 6,
   "metadata": {},
   "outputs": [
    {
     "name": "stdout",
     "output_type": "stream",
     "text": [
      "Dz= 0.046358632497276536\n",
      "z_= 6.841052550594828\n"
     ]
    }
   ],
   "source": [
    "from math import sqrt\n",
    "Dz=3.0/(2.*sqrt(a_-Da))*Da\n",
    "z_=3.0*sqrt(a_)\n",
    "print('Dz=',Dz)\n",
    "print('z_=',z_)"
   ]
  },
  {
   "cell_type": "markdown",
   "metadata": {},
   "source": [
    "\n",
    "$$\\Delta z=4\\left|\\frac{1}{2\\sqrt{a}}\\right|_M\\Delta\n",
    "  a=0.0464,\\quad \\bar z=6.8411$$"
   ]
  },
  {
   "cell_type": "markdown",
   "metadata": {
    "slideshow": {
     "slide_type": "slide"
    }
   },
   "source": [
    "A última sub-operação é definida por $w=\\frac {y}{z}.$\n",
    "O erro $\\Delta w$ bem como $\\bar w$ são dados por:"
   ]
  },
  {
   "cell_type": "code",
   "execution_count": 7,
   "metadata": {},
   "outputs": [
    {
     "name": "stdout",
     "output_type": "stream",
     "text": [
      "Dw= 0.018735349741747943\n",
      "w_= 2.1813216445329733\n"
     ]
    }
   ],
   "source": [
    "Dw=1./(z_-Dz)*Dy+(y_+Dy)/(z_-Dz)**2*Dz\n",
    "w_=y_/z_\n",
    "print('Dw=',Dw)\n",
    "print('w_=',w_)"
   ]
  },
  {
   "cell_type": "markdown",
   "metadata": {
    "slideshow": {
     "slide_type": "slide"
    }
   },
   "source": [
    "Vamos arrendodar os valores de forma a presentar os resultados com 4 algarismos decimais"
   ]
  },
  {
   "cell_type": "code",
   "execution_count": 8,
   "metadata": {},
   "outputs": [
    {
     "name": "stdout",
     "output_type": "stream",
     "text": [
      "DeltaW= 0.0188\n",
      "w_= 2.1813\n"
     ]
    }
   ],
   "source": [
    "DeltaW=round(Dw+0.00005,4) #Arredondamento por excesso???? Porquê ????\n",
    "print('DeltaW=',DeltaW)\n",
    "W=round(w_,4) #Arredondamento Simétrico\n",
    "print('w_=',W)"
   ]
  },
  {
   "cell_type": "markdown",
   "metadata": {},
   "source": [
    "$$\\Delta w=\\left|\\frac{1}{z}\\right|_M\\Delta\n",
    "  y+\\left|\\frac{y}{z^2}\\right|_M\\Delta\n",
    "  z=0.0188,\\quad \\bar w=2.1813$$"
   ]
  },
  {
   "cell_type": "markdown",
   "metadata": {
    "slideshow": {
     "slide_type": "slide"
    }
   },
   "source": [
    "Calculemos agora um majorante do erro relativo $\\delta w=\\frac{\\Delta w}{|w|}$.\n",
    "Note-se que:\n",
    "- Conhecemos um majorante do erro absoluto;\n",
    "- Não conhecemos o valor exacto de $w$;\n",
    "- É necessário minorar o valor de $w$ para majorar o erro relativo (aqui em módulo). "
   ]
  },
  {
   "cell_type": "code",
   "execution_count": 11,
   "metadata": {},
   "outputs": [
    {
     "name": "stdout",
     "output_type": "stream",
     "text": [
      "w_min= 3.5002083378091213\n",
      "delta_w= 0.0093\n"
     ]
    }
   ],
   "source": [
    "w_min=w_-Dw\n",
    "print('w_min=',w_min)\n",
    "\n",
    "delta_w=DeltaW/w_min\n",
    "delta_w=round(delta_w+0.00005,4) # Outra vez por excesso\n",
    "print('delta_w=',delta_w)"
   ]
  },
  {
   "cell_type": "markdown",
   "metadata": {
    "slideshow": {
     "slide_type": "slide"
    }
   },
   "source": [
    "Um majorante do erro relativo é dado por: $\\delta w=\\frac{\\Delta w}{|w|}=0.0093$.\n",
    "\n",
    "Em percentagem : $\\delta w= 0.93 \\%$."
   ]
  },
  {
   "cell_type": "markdown",
   "metadata": {
    "slideshow": {
     "slide_type": "slide"
    }
   },
   "source": [
    "## Resolução de equações não-lineares $f(x)=0$.\n",
    "-  L. Burden, J. Douglas Faires, Numerical Analysis, 8th edition, Thomson, Brooks/Cole. **Cap. 2**"
   ]
  },
  {
   "cell_type": "markdown",
   "metadata": {
    "slideshow": {
     "slide_type": "slide"
    }
   },
   "source": [
    "# O Método da Bissecção."
   ]
  },
  {
   "cell_type": "markdown",
   "metadata": {},
   "source": [
    "#### Exercício sobre o método da Bissecção:\n",
    "\n",
    "- Prove que $\\cos(x)=x$ tem uma única solução em $\\mathbb{R}$ e, por aplicação do método da bissecção, apresente uma aproximação dessa solução com um erro inferior a $10^{-7}$"
   ]
  },
  {
   "cell_type": "code",
   "execution_count": 14,
   "metadata": {},
   "outputs": [],
   "source": [
    "A=0.0\n",
    "B=1.0\n",
    "\n",
    "from math import  cos\n",
    "\n",
    "#Função auxiliar\n",
    "def f(x):\n",
    " return cos(x)-x"
   ]
  },
  {
   "cell_type": "code",
   "execution_count": 15,
   "metadata": {},
   "outputs": [
    {
     "data": {
      "text/plain": [
       "-0.45969769413186023"
      ]
     },
     "execution_count": 15,
     "metadata": {},
     "output_type": "execute_result"
    }
   ],
   "source": [
    "f(A)*f(B)"
   ]
  },
  {
   "cell_type": "code",
   "execution_count": 17,
   "metadata": {
    "slideshow": {
     "slide_type": "slide"
    }
   },
   "outputs": [
    {
     "name": "stdout",
     "output_type": "stream",
     "text": [
      "N= 24\n"
     ]
    }
   ],
   "source": [
    "#Provou-se que a única solução está em [0,1]\n",
    "#Com quantas iterações conseguimos garantir \n",
    "\n",
    "from math import log\n",
    "#Extremos iniciais do intervalo\n",
    "N=log(0.0000001/(B-A))/log(1./2.)\n",
    "N=int(round(N+0.5,0))\n",
    "print('N=',N) \n",
    "\n"
   ]
  },
  {
   "cell_type": "code",
   "execution_count": 18,
   "metadata": {
    "slideshow": {
     "slide_type": "slide"
    }
   },
   "outputs": [
    {
     "name": "stdout",
     "output_type": "stream",
     "text": [
      "i=1, p=0.5000000\n",
      "i=2, p=0.7500000\n",
      "i=3, p=0.6250000\n",
      "i=4, p=0.6875000\n",
      "i=5, p=0.7187500\n",
      "i=6, p=0.7343750\n",
      "i=7, p=0.7421875\n",
      "i=8, p=0.7382812\n",
      "i=9, p=0.7402344\n",
      "i=10, p=0.7392578\n",
      "i=11, p=0.7387695\n",
      "i=12, p=0.7390137\n",
      "i=13, p=0.7391357\n",
      "i=14, p=0.7390747\n",
      "i=15, p=0.7391052\n",
      "i=16, p=0.7390900\n",
      "i=17, p=0.7390823\n",
      "i=18, p=0.7390862\n",
      "i=19, p=0.7390842\n",
      "i=20, p=0.7390852\n",
      "i=21, p=0.7390847\n",
      "i=22, p=0.7390850\n",
      "i=23, p=0.7390851\n",
      "i=24, p=0.7390851\n"
     ]
    }
   ],
   "source": [
    "#Ciclo para calcular as aproximações\n",
    "for i in range(1,N+1):\n",
    " p=(A+B)/2.0\n",
    " if (f(p)==0) : # era sorte a mais, Não serve de grande coisa !\n",
    "  break        # Se não tivessemos o número de iterações  a  \n",
    " else:         #paragem seria com o  erro (discutir Pseudo-Código)\n",
    "  if (f(A)*f(p)>0):\n",
    "   A=p\n",
    "  else:\n",
    "   B=p\n",
    " print('i=%d, p=%.7f' %(i, p))"
   ]
  },
  {
   "cell_type": "markdown",
   "metadata": {
    "slideshow": {
     "slide_type": "slide"
    }
   },
   "source": [
    "### Como reaproveitar o código para outros casos?"
   ]
  },
  {
   "cell_type": "markdown",
   "metadata": {},
   "source": [
    "- O método depende de:\n",
    " - função $f(x)$\n",
    " - Intervalo Inicial [A,B]\n",
    " - Condição de Paragem: erro e/ou número de iterações\n",
    " \n",
    " Vejamos um exemplo: criar um *módulo* : !Sair mode slideshow!"
   ]
  },
  {
   "cell_type": "code",
   "execution_count": 19,
   "metadata": {
    "slideshow": {
     "slide_type": "slide"
    }
   },
   "outputs": [
    {
     "name": "stdout",
     "output_type": "stream",
     "text": [
      "Once deleted, variables cannot be recovered. Proceed (y/[n])? y\n",
      "iter= 1 Aprox= 0.5\n",
      "Erro= 1.0\n",
      "iter= 2 Aprox= 0.75\n",
      "Erro= 0.25\n",
      "iter= 3 Aprox= 0.625\n",
      "Erro= 0.125\n",
      "iter= 4 Aprox= 0.6875\n",
      "Erro= 0.0625\n",
      "iter= 5 Aprox= 0.71875\n",
      "Erro= 0.03125\n",
      "iter= 6 Aprox= 0.734375\n",
      "Erro= 0.015625\n",
      "iter= 7 Aprox= 0.7421875\n",
      "Erro= 0.0078125\n",
      "iter= 8 Aprox= 0.73828125\n",
      "Erro= 0.00390625\n",
      "iter= 9 Aprox= 0.740234375\n",
      "Erro= 0.001953125\n",
      "iter= 10 Aprox= 0.7392578125\n",
      "Erro= 0.0009765625\n",
      "iter= 11 Aprox= 0.73876953125\n",
      "Erro= 0.00048828125\n",
      "iter= 12 Aprox= 0.739013671875\n",
      "Erro= 0.000244140625\n",
      "iter= 13 Aprox= 0.7391357421875\n",
      "Erro= 0.0001220703125\n",
      "iter= 14 Aprox= 0.73907470703125\n",
      "Erro= 6.103515625e-05\n",
      "iter= 15 Aprox= 0.739105224609375\n",
      "Erro= 3.0517578125e-05\n",
      "iter= 16 Aprox= 0.7390899658203125\n",
      "Erro= 1.52587890625e-05\n",
      "iter= 17 Aprox= 0.7390823364257812\n",
      "Erro= 7.62939453125e-06\n",
      "iter= 18 Aprox= 0.7390861511230469\n",
      "Erro= 3.814697265625e-06\n",
      "iter= 19 Aprox= 0.7390842437744141\n",
      "Erro= 1.9073486328125e-06\n",
      "iter= 20 Aprox= 0.7390851974487305\n",
      "Erro= 9.5367431640625e-07\n",
      "iter= 21 Aprox= 0.7390847206115723\n",
      "Erro= 4.76837158203125e-07\n",
      "iter= 22 Aprox= 0.7390849590301514\n",
      "Erro= 2.384185791015625e-07\n",
      "iter= 23 Aprox= 0.7390850782394409\n",
      "Erro= 1.1920928955078125e-07\n",
      "iter= 24 Aprox= 0.7390851378440857\n",
      "Erro= 5.960464477539063e-08\n"
     ]
    },
    {
     "data": {
      "text/plain": [
       "array([0.5       , 0.75      , 0.625     , 0.6875    , 0.71875   ,\n",
       "       0.734375  , 0.7421875 , 0.73828125, 0.74023438, 0.73925781,\n",
       "       0.73876953, 0.73901367, 0.73913574, 0.73907471, 0.73910522,\n",
       "       0.73908997, 0.73908234, 0.73908615, 0.73908424, 0.7390852 ,\n",
       "       0.73908472, 0.73908496, 0.73908508, 0.73908514, 0.        ])"
      ]
     },
     "execution_count": 19,
     "metadata": {},
     "output_type": "execute_result"
    }
   ],
   "source": [
    "%reset\n",
    "## Modulo bissect\n",
    "## Condicao de paragem com erro=TOL ou Numero Maximo de iter. \n",
    "## Guardar sols num vector\n",
    "import numpy as np\n",
    "\n",
    "def bissect(f,A,B,TOL,NMAX):\n",
    "    P=np.zeros((NMAX))\n",
    "    ERRO= B-A\n",
    "    i=0\n",
    "    while  i < NMAX :\n",
    "        P[i]=(A+B)/2.0\n",
    "        if f(P[i])==0 or ERRO<TOL: #Problemas com == 0 (discutir)\n",
    "            print('iter=',i+1,'Aprox=',P[i])\n",
    "            print('Erro=',ERRO)\n",
    "            break\n",
    "        else:\n",
    "            if (f(A)*f(P[i])>0):\n",
    "                A=P[i]\n",
    "            else:\n",
    "                B=P[i]\n",
    "        print('iter=',i+1,'Aprox=',P[i])\n",
    "        print('Erro=',ERRO)\n",
    "        ERRO=(B-A)/2 #=(B-P[i])/2\n",
    "        i+=1\n",
    "    return P    \n",
    "\n",
    "### noutro ficheiro\n",
    "## import bissect\n",
    "from math import cos\n",
    "\n",
    "def f(x):\n",
    "    return cos(x)-x\n",
    "\n",
    "bissect(f,0.0,1.0,1.e-7,25)\n",
    "\n",
    "\n",
    "    \n"
   ]
  },
  {
   "cell_type": "markdown",
   "metadata": {
    "slideshow": {
     "slide_type": "slide"
    }
   },
   "source": [
    "### Exercício:\n",
    "\n",
    "- A equação $f(x)= x^3+4x^2-10=0$ tem uma e uma só raiz  em $[1,2]$. Sabe-se que a solução exacta é dada por $p=1.365230013...$ (9 decimais exactos).\n",
    "- Utilize 13 iterações do método da bissecção para aproximar o valor de $p$. Guarde o valor das aproximações em $p[i]$. \n",
    "- Calcule os majorantes dos erros em todas as iterações calculadas.\n",
    "- Calcule os erros exactos em todas as iterações.\n",
    "- Calcule $f(p[i]), (i=1\\dots 13)$. Atente nos resultados obtidos e comente. \n"
   ]
  },
  {
   "cell_type": "code",
   "execution_count": null,
   "metadata": {
    "collapsed": true
   },
   "outputs": [],
   "source": []
  }
 ],
 "metadata": {
  "anaconda-cloud": {},
  "celltoolbar": "Slideshow",
  "kernelspec": {
   "display_name": "Python 3",
   "language": "python",
   "name": "python3"
  },
  "language_info": {
   "codemirror_mode": {
    "name": "ipython",
    "version": 3
   },
   "file_extension": ".py",
   "mimetype": "text/x-python",
   "name": "python",
   "nbconvert_exporter": "python",
   "pygments_lexer": "ipython3",
   "version": "3.6.9"
  }
 },
 "nbformat": 4,
 "nbformat_minor": 1
}
