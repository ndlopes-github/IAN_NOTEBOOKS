{
 "cells": [
  {
   "cell_type": "code",
   "execution_count": 17,
   "metadata": {
    "slideshow": {
     "slide_type": "skip"
    }
   },
   "outputs": [
    {
     "data": {
      "text/plain": [
       "{'height': 768,\n",
       " 'scroll': True,\n",
       " 'start_slideshow_at': 'selected',\n",
       " 'theme': 'serif',\n",
       " 'transition': 'linear',\n",
       " 'width': 1024}"
      ]
     },
     "execution_count": 17,
     "metadata": {},
     "output_type": "execute_result"
    }
   ],
   "source": [
    "from notebook.services.config import ConfigManager\n",
    "cm = ConfigManager()\n",
    "cm.update('livereveal', {\n",
    "              'width': 1024,\n",
    "              'height': 768,\n",
    "              'theme' : 'serif',\n",
    "              'transition': 'linear', #convex',\n",
    "              'scroll': True,\n",
    "              'start_slideshow_at': 'selected',       \n",
    "})"
   ]
  },
  {
   "cell_type": "markdown",
   "metadata": {
    "slideshow": {
     "slide_type": "slide"
    }
   },
   "source": [
    "# Aula 1 - Introdução ao Python para a LMATE"
   ]
  },
  {
   "cell_type": "markdown",
   "metadata": {},
   "source": [
    ">+ Jaan Kiusalaas, Numerical Methods In Engineering with Python 3, Cambridge University Press, 2013.\n",
    "\n",
    "- [Cambridge University Press](http://www.cambridge.org/gb/academic/subjects/engineering/engineering-mathematics-and-programming/numerical-methods-engineering-python-3-3rd-edition?format=HB&isbn=9781107033856)"
   ]
  },
  {
   "cell_type": "markdown",
   "metadata": {
    "nbpresent": {
     "id": "0e612916-fb54-4dd0-a505-825d98de89ff"
    },
    "slideshow": {
     "slide_type": "subslide"
    }
   },
   "source": [
    "## Informação Genérica"
   ]
  },
  {
   "cell_type": "markdown",
   "metadata": {
    "nbpresent": {
     "id": "85492c28-339a-4c58-be54-dc90c4b8ae50"
    },
    "slideshow": {
     "slide_type": "notes"
    }
   },
   "source": [
    "Este capítulo  tem como objectivo apresentar informação básica de introdução à programação com\n",
    "**Python**, portanto, não deve ser entendido como um manual completo de Python."
   ]
  },
  {
   "cell_type": "markdown",
   "metadata": {
    "nbpresent": {
     "id": "611bbab8-38e1-459e-8226-5462484e18ba"
    },
    "slideshow": {
     "slide_type": "-"
    }
   },
   "source": [
    "- **Python** é uma  linguagem *open-source*  e orientada por objectos que começou a ser desenvolvida no final dos anos 1980s\n",
    "\n",
    "- É linguagem interpretada do tipo *script* (o seu nome é inspirado na série televisiva Inglesa  ** *Monty Python’s Flying Circus* **."
   ]
  },
  {
   "cell_type": "markdown",
   "metadata": {
    "nbpresent": {
     "id": "e51aecf4-79bc-44b5-8d14-a00262c7d0b8"
    },
    "slideshow": {
     "slide_type": "-"
    }
   },
   "source": [
    "- O desenvolvimento  do Python foi influenciado pelas linguagens **Java** e **C++**, mas apresenta também claras semelhanças com o código em  **MATLAB**."
   ]
  },
  {
   "cell_type": "markdown",
   "metadata": {
    "nbpresent": {
     "id": "a9a99b8d-c9a5-45ac-9df7-9912c95848a3"
    },
    "slideshow": {
     "slide_type": "slide"
    }
   },
   "source": [
    "## Instalação\n",
    "\n",
    "- Nalguns sistemas operativos, e.g., Linux, OSX, a linguagem **Python** está integrada no sistema. É, em geral, necessária a instalação adicional de módulos para  tarefas específicas, e.g., estatística, gráficos, cálculo simbólico, etc."
   ]
  },
  {
   "cell_type": "markdown",
   "metadata": {
    "nbpresent": {
     "id": "7cbd602f-9a8f-45d2-b5bb-feafad2c111a"
    },
    "slideshow": {
     "slide_type": "subslide"
    }
   },
   "source": [
    "  Existem  distribuições de **Python**, compatíveis com os sistemas operativos mais comuns: **LINUX**, OSX, <sub><sup>Windows<sup><sub>.\n",
    "-  Incluem a generalidade dos módulos e ferramentas usados nas engenharias.\n",
    "\n",
    "- Recomenda-se a distribuição **Anaconda**, a qual se encontra disponível em [Anaconda Download](https://www.continuum.io/downloads)."
   ]
  },
  {
   "cell_type": "markdown",
   "metadata": {
    "slideshow": {
     "slide_type": "slide"
    }
   },
   "source": [
    "## Interfaces para o utilizador  \n",
    "\n",
    "\n",
    "- Existem quatro alternativas para escrever e executar programas em Python:  \n",
    "    \n",
    "<br>\n",
    "\n",
    "\n",
    "### Consolas de Python ou IPython \n",
    "\n",
    "  - A consola IPython é uma versão melhorada, do ponto de vista da utilização, da consola Python."
   ]
  },
  {
   "cell_type": "markdown",
   "metadata": {
    "slideshow": {
     "slide_type": "subslide"
    }
   },
   "source": [
    "### Editor de texto simples, e.g.: Notepad, emacs, vim, gedit,...;\n",
    "\n",
    "-  Neste caso, o  código **_foo.py_** é editado e depois executado, passando na linha de comandos a instrução seguinte:\n",
    " "
   ]
  },
  {
   "cell_type": "raw",
   "metadata": {
    "slideshow": {
     "slide_type": "-"
    }
   },
   "source": [
    "python foo.py"
   ]
  },
  {
   "cell_type": "markdown",
   "metadata": {
    "slideshow": {
     "slide_type": "subslide"
    }
   },
   "source": [
    "### IDE (integrated development environment)\n",
    "\n",
    "-  Spyder;\n",
    "-  Sublime Text;\n",
    "-  GNU Emacs;\n",
    " \n",
    "Nestes casos, o código é escrito e executado num mesmo ambiente gráfico. \n",
    "<br><br>\n",
    "Estes programas têm também várias ajudas gráficas para a escrita e execução dos códigos."
   ]
  },
  {
   "cell_type": "markdown",
   "metadata": {
    "nbpresent": {
     "id": "40175e5c-3f89-4383-b035-df12fd8ae065"
    },
    "slideshow": {
     "slide_type": "subslide"
    }
   },
   "source": [
    "### Jupyter -- browser, e.g.: firefox, chrome, safari, etc...\n",
    "\n",
    "- Neste caso, o código é escrito e executado sequencialmente numa janela de um browser de internet.\n",
    "\n",
    "-  Esta apresentação é feita com o **Jupyter**\n",
    "\n",
    "<br> \n",
    "\n",
    "A escolha do interface dependerá do sistema operativo, da dimensão do código a ser implementado, da aplicação pretendida e da preferência do utilizador."
   ]
  },
  {
   "cell_type": "markdown",
   "metadata": {
    "slideshow": {
     "slide_type": "slide"
    }
   },
   "source": [
    "# Introdução à Programação com Python (3.5/6)"
   ]
  },
  {
   "cell_type": "markdown",
   "metadata": {
    "nbpresent": {
     "id": "b58f720b-8590-4553-b855-ff052a6cc156"
    },
    "slideshow": {
     "slide_type": "subslide"
    }
   },
   "source": [
    "## Variáveis\n",
    "\n",
    "- Na maior parte das linguagens de programação o nome de uma variável representa um valor guardado num local fixo da memória.  O valor desta variável pode mudar mas o seu tipo não.\n",
    "<br><br>\n",
    "- Em **Python**, tanto os valores como os tipos das variáveis podem mudar.\n",
    "\n",
    "Vejam-se os exemplos:"
   ]
  },
  {
   "cell_type": "code",
   "execution_count": 25,
   "metadata": {
    "slideshow": {
     "slide_type": "subslide"
    }
   },
   "outputs": [
    {
     "name": "stdout",
     "output_type": "stream",
     "text": [
      "5\n",
      "<class 'int'>\n"
     ]
    }
   ],
   "source": [
    "b = 5 # b é do tipo integer (inteiro),\n",
    "# se se escrevesse b = 4.0 então  seria do tipo float\n",
    "print(b)\n",
    "print(type(b)) # indica o tipo da variável b"
   ]
  },
  {
   "cell_type": "code",
   "execution_count": 23,
   "metadata": {
    "nbpresent": {
     "id": "dc702da2-dceb-4f6b-9f1f-a704b0e1c3d4"
    },
    "slideshow": {
     "slide_type": "-"
    }
   },
   "outputs": [
    {
     "name": "stdout",
     "output_type": "stream",
     "text": [
      "10 <class 'int'>\n"
     ]
    }
   ],
   "source": [
    "b = b * 2 # Agora b é do tipo float\n",
    "# o produto de um inteiro por um float (2.0) é do tipo float\n",
    "print(b,type(b))"
   ]
  },
  {
   "cell_type": "markdown",
   "metadata": {
    "slideshow": {
     "slide_type": "slide"
    }
   },
   "source": [
    "## Indentação\n",
    "\n",
    "- Ao contrário de outras linguagens, em **Python** o início e o fim do código de uma função são determinados pela indentação do mesmo.\n",
    "<br><br>\n",
    "- É fundamental um correcto alinhamento dos blocos de código existentes num programa em Python."
   ]
  },
  {
   "cell_type": "markdown",
   "metadata": {
    "slideshow": {
     "slide_type": "slide"
    }
   },
   "source": [
    "## Espaço das varíaveis\n",
    "\n",
    "- As variáveis existem em 3 níveis de espaços na linguagem Python:"
   ]
  },
  {
   "cell_type": "markdown",
   "metadata": {
    "nbpresent": {
     "id": "3a249db2-1f5c-4ad1-80f6-99e58ca97975"
    },
    "slideshow": {
     "slide_type": "subslide"
    }
   },
   "source": [
    "## Espaço local das funções:\n",
    "- a variável é criada quando uma função é  chamada.\n",
    "- A variável só existe dentro da função.\n",
    "\n",
    "## Espaço global:\n",
    "- a variável é criada quando o módulo é carregado; cada módulo tem o seu espaço.\n",
    "\n",
    "\n",
    "## Espaço do Python:\n",
    "- variáveis inerentes à linguagem."
   ]
  },
  {
   "cell_type": "markdown",
   "metadata": {
    "slideshow": {
     "slide_type": "subslide"
    }
   },
   "source": [
    "- Vejam-se os exemplos:"
   ]
  },
  {
   "cell_type": "code",
   "execution_count": 29,
   "metadata": {
    "nbpresent": {
     "id": "92ec8370-c584-4868-8f66-b0c000ed1f9b"
    },
    "slideshow": {
     "slide_type": "-"
    }
   },
   "outputs": [
    {
     "name": "stdout",
     "output_type": "stream",
     "text": [
      "a/b = 20.0\n"
     ]
    },
    {
     "ename": "NameError",
     "evalue": "name 'c' is not defined",
     "output_type": "error",
     "traceback": [
      "\u001b[0;31m---------------------------------------------------------------------------\u001b[0m",
      "\u001b[0;31mNameError\u001b[0m                                 Traceback (most recent call last)",
      "\u001b[0;32m<ipython-input-29-6a82ba7a8197>\u001b[0m in \u001b[0;36m<module>\u001b[0;34m()\u001b[0m\n\u001b[1;32m      7\u001b[0m \u001b[0;34m\u001b[0m\u001b[0m\n\u001b[1;32m      8\u001b[0m \u001b[0mdivide\u001b[0m\u001b[0;34m(\u001b[0m\u001b[0;34m)\u001b[0m\u001b[0;34m\u001b[0m\u001b[0m\n\u001b[0;32m----> 9\u001b[0;31m \u001b[0mprint\u001b[0m\u001b[0;34m(\u001b[0m\u001b[0mc\u001b[0m\u001b[0;34m)\u001b[0m\u001b[0;34m\u001b[0m\u001b[0m\n\u001b[0m",
      "\u001b[0;31mNameError\u001b[0m: name 'c' is not defined"
     ]
    }
   ],
   "source": [
    "def divide():\n",
    "    a = 100.0 # a e b são variáveis globais\n",
    "    b = 5.0\n",
    "    c = a/b  #c é variável local\n",
    "    print('a/b =',c)\n",
    " \n",
    "\n",
    "divide()\n",
    "print(c)"
   ]
  },
  {
   "cell_type": "markdown",
   "metadata": {
    "nbpresent": {
     "id": "b7bb2aa4-64a3-44d5-bbf8-8a54720692e9"
    },
    "slideshow": {
     "slide_type": "subslide"
    }
   },
   "source": [
    "- Vejamos um exemplo que devolve um erro. As variáveis **a,b,c** só existem no espaço local da função **divide**:"
   ]
  },
  {
   "cell_type": "code",
   "execution_count": null,
   "metadata": {
    "nbpresent": {
     "id": "78811115-0a22-4b38-baa1-608320126bc9"
    },
    "slideshow": {
     "slide_type": "-"
    }
   },
   "outputs": [],
   "source": [
    "def divide():\n",
    "    c= a/b \n",
    "    a = 100.0\n",
    "    b = 5.0\n",
    "\n",
    "divide()\n",
    "print('a/b =',c)"
   ]
  },
  {
   "cell_type": "markdown",
   "metadata": {
    "nbpresent": {
     "id": "0678ff6f-864e-466a-81e5-10dcad04242e"
    },
    "slideshow": {
     "slide_type": "slide"
    }
   },
   "source": [
    "## Input a partir da consola\n",
    "A função para ler o input do utilizador a partir da consola é"
   ]
  },
  {
   "cell_type": "code",
   "execution_count": 30,
   "metadata": {
    "nbpresent": {
     "id": "13873b86-a131-4baf-8060-204fbb093758"
    },
    "slideshow": {
     "slide_type": "-"
    }
   },
   "outputs": [
    {
     "name": "stdout",
     "output_type": "stream",
     "text": [
      "mensagem em prompt: 10\n"
     ]
    }
   ],
   "source": [
    "prompt_string = input('mensagem em prompt: ')"
   ]
  },
  {
   "cell_type": "markdown",
   "metadata": {
    "nbpresent": {
     "id": "9ee86a24-8aa2-4288-858b-3489c2f3b956"
    },
    "slideshow": {
     "slide_type": "-"
    }
   },
   "source": [
    "- Esta função mostra a **mensagem em prompt :** e lê uma linha de input, a qual é convertida numa string que fica guardada na variável **prompt_string**.\n",
    "\n",
    "- Para converter a string em valores numéricos usa-se"
   ]
  },
  {
   "cell_type": "code",
   "execution_count": 32,
   "metadata": {
    "nbpresent": {
     "id": "83f45f69-cae8-41b2-830a-7b0f083d9c75"
    },
    "slideshow": {
     "slide_type": "-"
    }
   },
   "outputs": [
    {
     "data": {
      "image/png": "[encoded data removed]",
      "text/latex": [
       "$$10$$"
      ],
      "text/plain": [
       "10"
      ]
     },
     "execution_count": 32,
     "metadata": {},
     "output_type": "execute_result"
    }
   ],
   "source": [
    "eval(prompt_string)"
   ]
  },
  {
   "cell_type": "markdown",
   "metadata": {
    "nbpresent": {
     "id": "02289e92-4391-4488-ba8a-528973910d6d"
    },
    "slideshow": {
     "slide_type": "subslide"
    }
   },
   "source": [
    "Veja-se o exemplo seguinte:"
   ]
  },
  {
   "cell_type": "code",
   "execution_count": 33,
   "metadata": {
    "nbpresent": {
     "id": "b7288abf-2b23-44ea-aece-f67775dc4520"
    },
    "slideshow": {
     "slide_type": "-"
    }
   },
   "outputs": [
    {
     "name": "stdout",
     "output_type": "stream",
     "text": [
      "Input a: 12.0\n",
      "12.0 <class 'str'>\n",
      "12.0 <class 'float'>\n"
     ]
    }
   ],
   "source": [
    "a = input('Input a: ')\n",
    "print(a, type(a)) # Print a and its type\n",
    "b = eval(a)\n",
    "print(b,type(b)) # Print b and its type"
   ]
  },
  {
   "cell_type": "markdown",
   "metadata": {
    "nbpresent": {
     "id": "b8cfabea-70c5-44de-8d59-8262f9143400"
    },
    "slideshow": {
     "slide_type": "subslide"
    }
   },
   "source": [
    "- A função  **type(a)** devolve o tipo do objecto *a*; é muito útil para depurar erros. "
   ]
  },
  {
   "cell_type": "markdown",
   "metadata": {
    "nbpresent": {
     "id": "ff5a7866-b948-4bb8-916a-1013e11cdfe5"
    },
    "slideshow": {
     "slide_type": "-"
    }
   },
   "source": [
    "- Uma forma simples de ler um número e atribuí-lo a uma variável é a seguinte:"
   ]
  },
  {
   "cell_type": "code",
   "execution_count": null,
   "metadata": {
    "nbpresent": {
     "id": "ec26f573-9286-4c69-9ba6-964aef35dd69"
    },
    "slideshow": {
     "slide_type": "-"
    }
   },
   "outputs": [],
   "source": [
    "a = eval(input('Valor para a:')) #input_raw em python 2.7"
   ]
  },
  {
   "cell_type": "code",
   "execution_count": null,
   "metadata": {
    "nbpresent": {
     "id": "725eb8ce-a0bf-4147-85d4-74e6c66ad894"
    },
    "slideshow": {
     "slide_type": "-"
    }
   },
   "outputs": [],
   "source": [
    "print(a,type(a))"
   ]
  },
  {
   "cell_type": "markdown",
   "metadata": {
    "nbpresent": {
     "id": "2accc7a4-331c-44a7-b87d-bb4da1b4c01f"
    },
    "slideshow": {
     "slide_type": "slide"
    }
   },
   "source": [
    "## Output na consola\n",
    "O output de um código é mostrado através da instrução **print**:"
   ]
  },
  {
   "cell_type": "code",
   "execution_count": 34,
   "metadata": {
    "nbpresent": {
     "id": "82ffd1e1-46a5-493d-b356-03f1b28a39d6"
    },
    "slideshow": {
     "slide_type": "subslide"
    }
   },
   "outputs": [
    {
     "name": "stdout",
     "output_type": "stream",
     "text": [
      " a =  12.0 \n",
      " 3**2+12 ⁼ 21 \n",
      " \n",
      " Curso= LMATE \n",
      "\n"
     ]
    }
   ],
   "source": [
    "print(' a = ', a, '\\n','3**2+12 ⁼',\\\n",
    "      3**2+12,'\\n','\\n','Curso=','L'+'M'+'A'+'T'+'E','\\n' )\n"
   ]
  },
  {
   "cell_type": "markdown",
   "metadata": {
    "nbpresent": {
     "id": "4cf6f0b2-4312-42c9-97fb-1cdbdcd5649a"
    },
    "slideshow": {
     "slide_type": "-"
    }
   },
   "source": [
    "a qual converte os objectos **'a',a,....** em  strings e imprime-os na mesma linha, separados por espaços.\n",
    "\n",
    "Obs.: **'\\\\n'** muda de linha."
   ]
  },
  {
   "cell_type": "code",
   "execution_count": 35,
   "metadata": {
    "nbpresent": {
     "id": "ec9eb3fa-add9-4b86-b5c1-84720a4d7ec5"
    },
    "slideshow": {
     "slide_type": "subslide"
    }
   },
   "outputs": [
    {
     "name": "stdout",
     "output_type": "stream",
     "text": [
      "12324.56789 [2, 7, 6, 8]\n",
      "a = 12324.56789\n",
      "b= [2, 7, 6, 8]\n"
     ]
    }
   ],
   "source": [
    "a = 12324.56789\n",
    "b = [2, 7, 6, 8]\n",
    "print(a,b)\n",
    "print('a =',a)\n",
    "print('b=', b)"
   ]
  },
  {
   "cell_type": "markdown",
   "metadata": {
    "nbpresent": {
     "id": "31f393fc-e4fa-4c3a-bc8b-6671af930ffb"
    },
    "slideshow": {
     "slide_type": "-"
    }
   },
   "source": [
    "Vejamos mais alguns exemplos onde se ilustram outras opções para fazer a\n",
    "formatação do output:"
   ]
  },
  {
   "cell_type": "code",
   "execution_count": 15,
   "metadata": {
    "nbpresent": {
     "id": "edf6efdf-75fe-4462-a0c2-e7d1b4489bb1"
    },
    "slideshow": {
     "slide_type": "subslide"
    }
   },
   "outputs": [
    {
     "name": "stdout",
     "output_type": "stream",
     "text": [
      "  1234.57\n",
      "n = 009876\n",
      "  1.2346e+03 00009876\n",
      "1234.567890000000033978722058236598968505859375            9876\n"
     ]
    }
   ],
   "source": [
    "a = 1234.56789\n",
    "n = 9876\n",
    "print('%9.2f' % a) # formatação do número\n",
    "print('n = %06d' %n) # completa com 2 zeros\n",
    "print('%12.4e %08d' % (a,n)) # Formatação dos números\n",
    "print('{:.50} {:>15}'.format(a,n)) #python 3  -> método .format() "
   ]
  },
  {
   "cell_type": "markdown",
   "metadata": {
    "slideshow": {
     "slide_type": "-"
    }
   },
   "source": [
    "+ Obs.: Existem outras formas, \"mais **Python** 3.5\", para formatar o output "
   ]
  },
  {
   "cell_type": "markdown",
   "metadata": {},
   "source": [
    "- **T.P.C.:** Ler e escrever em ficheiros...."
   ]
  },
  {
   "cell_type": "markdown",
   "metadata": {
    "nbpresent": {
     "id": "f228beff-db55-46cd-bec9-8795ece69fbd"
    },
    "slideshow": {
     "slide_type": "slide"
    }
   },
   "source": [
    "## Strings\n",
    "\n",
    "- Uma string é uma sequência de caracteres limitados por ' ou por ''. As strings são concatenados com o operador $+$, e separadas com o operador $:$. \n"
   ]
  },
  {
   "cell_type": "code",
   "execution_count": 37,
   "metadata": {
    "nbpresent": {
     "id": "e907d7fa-ef05-40f0-ae37-2cf23d67e208"
    },
    "slideshow": {
     "slide_type": "-"
    }
   },
   "outputs": [
    {
     "name": "stdout",
     "output_type": "stream",
     "text": [
      "Press return to exit the program\n",
      "Press return\n",
      "exit\n"
     ]
    }
   ],
   "source": [
    "string1 = 'Press return to exit'\n",
    "string2 = 'the program'\n",
    "print(string1 + ' ' + string2) # Concatenação\n",
    "print(string1[0:12]) # Separação\n",
    "print(string1[16:])"
   ]
  },
  {
   "cell_type": "markdown",
   "metadata": {
    "nbpresent": {
     "id": "db19fcba-50c8-4409-8871-37afc6ce2634"
    },
    "slideshow": {
     "slide_type": "subslide"
    }
   },
   "source": [
    "- Uma **string** é um objecto **imutável**, i.e., não é possível modificar as suas componentes através da sua posição."
   ]
  },
  {
   "cell_type": "code",
   "execution_count": 38,
   "metadata": {
    "nbpresent": {
     "id": "854f9dc4-33a3-4ecb-abf8-e0ed14dce88a"
    },
    "slideshow": {
     "slide_type": "-"
    }
   },
   "outputs": [
    {
     "name": "stdout",
     "output_type": "stream",
     "text": [
      "Press return to exitlshfvkdsfhlvsud\n"
     ]
    }
   ],
   "source": [
    "s = 'Press return to exit'\n",
    "s1= 'lshfvkdsfhlvsud'\n",
    "w=s+s1\n",
    "print(w)"
   ]
  },
  {
   "cell_type": "markdown",
   "metadata": {
    "nbpresent": {
     "id": "86358868-3a6c-45ab-b2ca-16ae3f50a0a6"
    },
    "slideshow": {
     "slide_type": "slide"
    }
   },
   "source": [
    "## Tuplos (n-uplos) \n",
    "\n",
    "- Um tuplo é uma sequência de objectos arbitrários separados por vírgulas e limitados por parênteses.\n",
    "\n",
    "- É um objecto **imutável**.\n",
    "\n",
    "- Um tuplo suporta as mesmas operações que as listas (próxima secção)."
   ]
  },
  {
   "cell_type": "code",
   "execution_count": 39,
   "metadata": {
    "nbpresent": {
     "id": "be188521-0491-4820-87cb-bb7ce9e313e2"
    },
    "slideshow": {
     "slide_type": "subslide"
    }
   },
   "outputs": [
    {
     "name": "stdout",
     "output_type": "stream",
     "text": [
      "John\n",
      "23\n",
      "68\n",
      "John Smith\n",
      "('Smith', 'John')\n"
     ]
    },
    {
     "ename": "TypeError",
     "evalue": "'tuple' object does not support item assignment",
     "output_type": "error",
     "traceback": [
      "\u001b[0;31m---------------------------------------------------------------------------\u001b[0m",
      "\u001b[0;31mTypeError\u001b[0m                                 Traceback (most recent call last)",
      "\u001b[0;32m<ipython-input-39-909197a5a0be>\u001b[0m in \u001b[0;36m<module>\u001b[0;34m()\u001b[0m\n\u001b[1;32m      9\u001b[0m \u001b[0mprint\u001b[0m\u001b[0;34m(\u001b[0m\u001b[0mname\u001b[0m\u001b[0;34m)\u001b[0m\u001b[0;34m\u001b[0m\u001b[0m\n\u001b[1;32m     10\u001b[0m \u001b[0mprint\u001b[0m\u001b[0;34m(\u001b[0m\u001b[0mrec\u001b[0m\u001b[0;34m[\u001b[0m\u001b[0;36m0\u001b[0m\u001b[0;34m:\u001b[0m\u001b[0;36m2\u001b[0m\u001b[0;34m]\u001b[0m\u001b[0;34m)\u001b[0m\u001b[0;34m\u001b[0m\u001b[0m\n\u001b[0;32m---> 11\u001b[0;31m \u001b[0mrec\u001b[0m\u001b[0;34m[\u001b[0m\u001b[0;36m0\u001b[0m\u001b[0;34m]\u001b[0m\u001b[0;34m=\u001b[0m\u001b[0;34m'Silva'\u001b[0m \u001b[0;31m#ERRO: objecto imutável\u001b[0m\u001b[0;34m\u001b[0m\u001b[0m\n\u001b[0m",
      "\u001b[0;31mTypeError\u001b[0m: 'tuple' object does not support item assignment"
     ]
    }
   ],
   "source": [
    "rec = ('Smith','John',(6,23,68)) # É tuplo; (6,23,68) é tuplo\n",
    "lastName,firstName,birthdate = rec # Extrair os elementos do tuplo\n",
    "print(firstName)\n",
    "birthDay=birthdate[1]\n",
    "birthYear = birthdate[2]\n",
    "print(birthDay)\n",
    "print(birthYear)\n",
    "name = rec[1] + ' ' + rec[0]\n",
    "print(name)\n",
    "print(rec[0:2])\n",
    "rec[0]='Silva' #ERRO: objecto imutável"
   ]
  },
  {
   "cell_type": "markdown",
   "metadata": {
    "nbpresent": {
     "id": "7d320626-701e-43ca-867e-fa6f03104d0a"
    },
    "slideshow": {
     "slide_type": "slide"
    }
   },
   "source": [
    "## Listas\n",
    "\n",
    "- Uma  **lista** é semelhante a um n-uplo, mas é **modificável**, de forma a que os seus elementos possam ser alterados.\n",
    "- Uma lista é limitada por parênteses rectos."
   ]
  },
  {
   "cell_type": "code",
   "execution_count": 40,
   "metadata": {
    "nbpresent": {
     "id": "83360444-5fe6-42e2-9f35-cb8e7c416c99"
    },
    "slideshow": {
     "slide_type": "-"
    }
   },
   "outputs": [
    {
     "name": "stdout",
     "output_type": "stream",
     "text": [
      "[-5.0, 2.0, 3.0, 4.0]\n",
      "[0.0, -5.0, 2.0, 3.0, 4.0]\n",
      "5\n",
      "[0.0, -5.0, 1.0, 1.0, 4.0]\n",
      "[100.0, -5.0, 1.0, 1.0, 4.0]\n"
     ]
    }
   ],
   "source": [
    "a = [-5.0, 2.0, 3.0] # Cria  a lista\n",
    "a.append(4.0) # Anexa 4.0 a lista\n",
    "print(a)\n",
    "a.insert(0,0.0) # Insere 0.0 na posição 0\n",
    "print(a)\n",
    "print(len(a)) # Determina o comprimento da lista\n",
    "a[2:4] = [1.0, 1.0] # Modifica os elementos seleccionados\n",
    "print(a)\n",
    "a[0]=100.0\n",
    "print(a)"
   ]
  },
  {
   "cell_type": "markdown",
   "metadata": {
    "nbpresent": {
     "id": "00a86124-b012-4d76-94a8-646853011200"
    },
    "slideshow": {
     "slide_type": "subslide"
    }
   },
   "source": [
    "### Copy e deep-copy\n",
    "\n",
    "- Se **a** é um objecto mutável a expressão de atribuição **b=a** não resulta num novo objecto **b**,  apenas cria uma nova referência para **a**.<br><br>\n",
    "\n",
    "- Qualquer modificação em  **b** será reflectida em **a**.<br><br>\n",
    "\n",
    "- Para criar uma cópia independente de uma lista **a**, deve usar-se a instrução **c = a[:]**."
   ]
  },
  {
   "cell_type": "code",
   "execution_count": 42,
   "metadata": {
    "nbpresent": {
     "id": "cf7e186d-ae67-41fe-ab88-d238ae54b191"
    },
    "slideshow": {
     "slide_type": "subslide"
    }
   },
   "outputs": [
    {
     "name": "stdout",
     "output_type": "stream",
     "text": [
      "a= [5.0, 2.0, 3.0]\n",
      "a= [19.0, 2.0, 3.0]\n",
      "c= [5.0, 2.0, 3.0]\n"
     ]
    }
   ],
   "source": [
    "a = [1.0, 2.0, 3.0]\n",
    "b = a # ’b’ é uma referência para ’a’\n",
    "b[0] = 5.0 # Modifica  'b'\n",
    "print('a=', a) # A modificação é reflectida em ’a’\n",
    "c = a[:] # 'c' é uma cópia independente de 'a'\n",
    "a[0] = 19.0 # Modifica 'c'\n",
    "print('a=', a) # 'a' não é modificado\n",
    "print('c=', c) "
   ]
  },
  {
   "cell_type": "markdown",
   "metadata": {
    "nbpresent": {
     "id": "c64fc4de-4d08-4ffa-a750-457ebc1029d8"
    },
    "slideshow": {
     "slide_type": "subslide"
    }
   },
   "source": [
    "- As matrizes podem ser representadas como listas de listas.\n",
    "\n",
    "- Cada linha representa  um elemento da lista.\n",
    "\n",
    "- Veja-se uma matriz 3x3 **a** na forma de lista:"
   ]
  },
  {
   "cell_type": "code",
   "execution_count": 43,
   "metadata": {
    "nbpresent": {
     "id": "becfa5d0-8d0f-4d46-adee-98ebf47288ed"
    },
    "slideshow": {
     "slide_type": "-"
    }
   },
   "outputs": [
    {
     "name": "stdout",
     "output_type": "stream",
     "text": [
      "a= [[1, 2, 3], [4, 5, 6], [7, 8, 9]]\n",
      "2a-linha= [4, 5, 6]\n",
      "a[1][2]= 6 Em *algebra* corresponde a[2][3]\n"
     ]
    }
   ],
   "source": [
    "a = [[1, 2, 3],\\\n",
    "[4, 5, 6],\\\n",
    "[7, 8, 9]]\n",
    "print('a=',a)\n",
    "print('2a-linha=',a[1]) # 2a linha (1o elemento da lista)\n",
    "print('a[1][2]=', a[1][2], \\\n",
    "      'Em *algebra* corresponde a[2][3]') # 3o elemento da segunda linha"
   ]
  },
  {
   "cell_type": "markdown",
   "metadata": {
    "nbpresent": {
     "id": "7225c971-1bdc-48af-8b97-6671ae7ca623"
    },
    "slideshow": {
     "slide_type": "subslide"
    }
   },
   "source": [
    "- O símbolo ($\\backslash$) indica a  continuação do código noutra linha do texto.\n",
    "\n",
    "- Note-se que as sequências em Python têm o primeiro elemento indexado em $0$. \n",
    "\n",
    "- ** a[0]** representa a primeira linha; **a[1]** a segunda linha, etc.\n",
    "<br><br>\n",
    "#### **Atenção:** É recomendável a utilização do módulo **NumPy** para vectores, matrizes, i.e., para **Álgebra**,  **Cálculo Numérico**..."
   ]
  },
  {
   "cell_type": "markdown",
   "metadata": {
    "nbpresent": {
     "id": "45d62d47-6484-41a3-9b3a-7943cdc22503"
    },
    "slideshow": {
     "slide_type": "slide"
    }
   },
   "source": [
    "## Operadores aritméticos\n",
    "\n",
    "- Em **Python** são suportados os operadores:"
   ]
  },
  {
   "cell_type": "markdown",
   "metadata": {
    "nbpresent": {
     "id": "fc9d64f6-243e-4cb1-b594-5ddc02b8f6a5"
    },
    "slideshow": {
     "slide_type": "subslide"
    }
   },
   "source": [
    "|   Símbolo    |    Operação      |\n",
    "| :----------:   |:----------------:|\n",
    "|  $+$          | adição           | \n",
    "|  $-$          | subtração        |\n",
    "|  $*$          | multiplicação    |\n",
    "|  $/$          | divisão          |\n",
    "|  $**$          | exponenciação    |\n",
    "|  $\\%$          | divisão módulo   |"
   ]
  },
  {
   "cell_type": "markdown",
   "metadata": {
    "nbpresent": {
     "id": "f3a2913b-fb4d-4b46-b5b5-2bfa901bbb27"
    },
    "slideshow": {
     "slide_type": "-"
    }
   },
   "source": [
    "- Alguns destes operadores estão definidos também para strings e sequências:"
   ]
  },
  {
   "cell_type": "code",
   "execution_count": null,
   "metadata": {
    "nbpresent": {
     "id": "9223ed9f-eddb-4c03-9b50-c9b3c9a6e17a"
    },
    "slideshow": {
     "slide_type": "subslide"
    }
   },
   "outputs": [],
   "source": [
    "s = 'Hello '\n",
    "t = 'to you'\n",
    "a = [1, 2, 3]\n",
    "print(3*s)    # Repetição\n",
    "print(3*a)    # Repetição\n",
    "print(a + [4,5])  # Anexa elementos\n",
    "print(s + t)  # Concatenação\n",
    "print(3 + s) # Esta soma não faz sentido"
   ]
  },
  {
   "cell_type": "markdown",
   "metadata": {
    "nbpresent": {
     "id": "506dd513-2ef9-46cc-ad04-94f9af8fea84"
    },
    "slideshow": {
     "slide_type": "subslide"
    }
   },
   "source": [
    "As versões mais recentes da linguagem  **Python**  também têm operadores de atribuição estendidos, tais como\n",
    "**a+=b**."
   ]
  },
  {
   "cell_type": "markdown",
   "metadata": {
    "nbpresent": {
     "id": "ac169036-3905-4406-88da-2a61d34b91ee"
    },
    "slideshow": {
     "slide_type": "-"
    }
   },
   "source": [
    "| Op. Estendidos| Op. Simples     |   \n",
    "|:-------------:|:---------------:|\n",
    "|    $a\\, +\\!\\!= \\,b$   |   $a = a + b$   |  \n",
    "|    $a\\, -\\!\\!=\\, b$   |   $a = a - b$   |   \n",
    "|    $a\\, *\\!\\!=\\, b$   |   $a = a*b$     |   \n",
    "|    $a\\, /\\!\\!=\\, b$   |   $a = a/b$     |   \n",
    "|    $a\\, *\\!\\!*\\!\\!=\\, b$  |   $a = a**b$    |   \n",
    "|    $a\\, \\%\\!\\!=\\, b$  |   $a = a\\%b$    |   "
   ]
  },
  {
   "cell_type": "markdown",
   "metadata": {
    "slideshow": {
     "slide_type": "slide"
    }
   },
   "source": [
    "## Operadores relacionais \n",
    "\n",
    "- Os operadores **relacionais** ou de **comparação** devolvem os valores lógicos **True** (1) para verdadeiro e **False** (0) para falso."
   ]
  },
  {
   "cell_type": "markdown",
   "metadata": {
    "nbpresent": {
     "id": "90fc695c-db4e-49dc-98bf-917841f2a418"
    },
    "slideshow": {
     "slide_type": "subslide"
    }
   },
   "source": [
    "|Op. Relacionais| Significado|\n",
    "|:------------:|:---------------:|\n",
    "|$<$ | Menor do que |\n",
    "|$>$ | Maior  do que |\n",
    "|$< =$ | Menor ou igual a  |\n",
    "|$> =$ | Maior ou igual a |\n",
    "|$==$ | Igual|\n",
    "|$!=$ | Diferente|\n"
   ]
  },
  {
   "cell_type": "markdown",
   "metadata": {
    "nbpresent": {
     "id": "a8327cdd-e51a-47f8-b900-6c44cf5c1bb1"
    },
    "slideshow": {
     "slide_type": "subslide"
    }
   },
   "source": [
    "- Números de tipos diferentes são convertidos para um tipo comum antes da comparação.\n",
    "\n",
    "- **and** e **or** são operadores de disjunção e conjunção, respectivamente."
   ]
  },
  {
   "cell_type": "code",
   "execution_count": 44,
   "metadata": {
    "slideshow": {
     "slide_type": "-"
    }
   },
   "outputs": [
    {
     "name": "stdout",
     "output_type": "stream",
     "text": [
      "True\n",
      "False\n",
      "True\n",
      "1\n",
      "True\n",
      "2\n"
     ]
    }
   ],
   "source": [
    "a = 2 # Inteiro\n",
    "b = 1.99 # Float\n",
    "c = '2' # String\n",
    "print(a > b)\n",
    "print(a == c)\n",
    "print( (a > b) and (a != c) )\n",
    "print( (a > b) * (a != c) ) \n",
    "print( (a > b) or (a == b) )\n",
    "print( (a > b) + (a > b))"
   ]
  },
  {
   "cell_type": "markdown",
   "metadata": {
    "nbpresent": {
     "id": "fc5fd930-a480-49b7-8580-1464880a77c7"
    },
    "slideshow": {
     "slide_type": "slide"
    }
   },
   "source": [
    "## Condicionais\n",
    "\n",
    "- expressão **_if_**"
   ]
  },
  {
   "cell_type": "code",
   "execution_count": null,
   "metadata": {
    "slideshow": {
     "slide_type": "-"
    }
   },
   "outputs": [],
   "source": [
    "if condition:\n",
    "   block"
   ]
  },
  {
   "cell_type": "markdown",
   "metadata": {
    "slideshow": {
     "slide_type": "-"
    }
   },
   "source": [
    "- Executa um bloco de instruções se a condição for verdadeira.  Caso contrário, essas instruções não são consideradas."
   ]
  },
  {
   "cell_type": "markdown",
   "metadata": {
    "slideshow": {
     "slide_type": "subslide"
    }
   },
   "source": [
    "- A instrução condicional **if** pode ser seguida por um qualquer número de **elif** (“else if”):"
   ]
  },
  {
   "cell_type": "code",
   "execution_count": null,
   "metadata": {
    "slideshow": {
     "slide_type": "-"
    }
   },
   "outputs": [],
   "source": [
    "elif condition:\n",
    "   block\n"
   ]
  },
  {
   "cell_type": "markdown",
   "metadata": {
    "nbpresent": {
     "id": "b87ce8a7-7d9d-4758-9d68-8c98c2c4ada0"
    },
    "slideshow": {
     "slide_type": "-"
    }
   },
   "source": [
    "- A cláusula  **else** pode também ser considerada para o caso em que as condições associadas ao construtores **if** sejam todas falsas:"
   ]
  },
  {
   "cell_type": "code",
   "execution_count": null,
   "metadata": {
    "slideshow": {
     "slide_type": "-"
    }
   },
   "outputs": [],
   "source": [
    "else:\n",
    "   block"
   ]
  },
  {
   "cell_type": "markdown",
   "metadata": {
    "nbpresent": {
     "id": "302097d4-70c6-463f-bec2-a6d719254256"
    },
    "slideshow": {
     "slide_type": "subslide"
    }
   },
   "source": [
    "- Veja-se um exemplo de aplicação dos condicionais:"
   ]
  },
  {
   "cell_type": "code",
   "execution_count": 47,
   "metadata": {
    "slideshow": {
     "slide_type": "-"
    }
   },
   "outputs": [
    {
     "name": "stdout",
     "output_type": "stream",
     "text": [
      "positive\n"
     ]
    }
   ],
   "source": [
    "def sign_of_a(a):\n",
    "  if a < 0.0:\n",
    "    sign = 'negative'\n",
    "  elif a > 0.0:\n",
    "    sign = 'positive'\n",
    "  else:\n",
    "    sign = 'zero'\n",
    "  return sign \n",
    "\n",
    "a = 2\n",
    "\n",
    "signl=sign_of_a(a)\n",
    "print(signl)"
   ]
  },
  {
   "cell_type": "markdown",
   "metadata": {
    "nbpresent": {
     "id": "e12147ab-ab95-40cb-8e98-ef10c9ef8c6c"
    },
    "slideshow": {
     "slide_type": "slide"
    }
   },
   "source": [
    "## Ciclos (**_loops_**)\n",
    "\n",
    "- O construtor **while**"
   ]
  },
  {
   "cell_type": "code",
   "execution_count": null,
   "metadata": {
    "slideshow": {
     "slide_type": "-"
    }
   },
   "outputs": [],
   "source": [
    "while condition:\n",
    "   block"
   ]
  },
  {
   "cell_type": "markdown",
   "metadata": {
    "slideshow": {
     "slide_type": "-"
    }
   },
   "source": [
    "- Executa um bloco de instruções se a condição for verdadeira.\n",
    "\n",
    "- Após a execução do bloco a condição é avaliada e as instruções executadas novamente (se a condição for verdadeira).\n",
    "\n",
    "- Este ciclo só termina quando valor lógico da condição for falso."
   ]
  },
  {
   "cell_type": "markdown",
   "metadata": {
    "nbpresent": {
     "id": "c9bf6a09-30b9-42c5-8e13-4bc52d8ea998"
    },
    "slideshow": {
     "slide_type": "subslide"
    }
   },
   "source": [
    "- Veja-se um exemplo que cria uma lista $[1, 1/2, 1/3, \\dots]$:"
   ]
  },
  {
   "cell_type": "code",
   "execution_count": 48,
   "metadata": {
    "slideshow": {
     "slide_type": "-"
    }
   },
   "outputs": [
    {
     "name": "stdout",
     "output_type": "stream",
     "text": [
      "[1.0, 0.5, 0.3333333333333333, 0.25]\n"
     ]
    }
   ],
   "source": [
    "nMax = 5\n",
    "n = 1\n",
    "a = [] # Cria lista vazia\n",
    "while n < nMax:\n",
    "  a.append(1.0/n) # Anexa um elemento à lista\n",
    "  n = n + 1\n",
    "\n",
    "print(a)"
   ]
  },
  {
   "cell_type": "markdown",
   "metadata": {
    "nbpresent": {
     "id": "9d873a66-b730-4dcf-877f-42d2934fd907"
    },
    "slideshow": {
     "slide_type": "subslide"
    }
   },
   "source": [
    "- Também se pode construir um ciclo com a instrução **for**.\n",
    "\n",
    "- Esta instrução requer um índice e uma sequência sobre a qual o índice itera."
   ]
  },
  {
   "cell_type": "code",
   "execution_count": null,
   "metadata": {
    "slideshow": {
     "slide_type": "-"
    }
   },
   "outputs": [],
   "source": [
    "for index in sequence:\n",
    "    block"
   ]
  },
  {
   "cell_type": "markdown",
   "metadata": {
    "nbpresent": {
     "id": "7b2d7094-697a-4e07-9ca1-38c1c3df5c57"
    },
    "slideshow": {
     "slide_type": "subslide"
    }
   },
   "source": [
    "- O exemplo anterior com o ciclo **for** resulta em:"
   ]
  },
  {
   "cell_type": "code",
   "execution_count": null,
   "metadata": {
    "slideshow": {
     "slide_type": "-"
    }
   },
   "outputs": [],
   "source": [
    "nMax = 5\n",
    "a = []\n",
    "for n in range(1,nMax):\n",
    "  a.append(1.0/n)\n",
    "\n",
    "print(a)"
   ]
  },
  {
   "cell_type": "markdown",
   "metadata": {
    "slideshow": {
     "slide_type": "-"
    }
   },
   "source": [
    "- Aqui $n$ é o índice e a sequência $[1,2, ...,nMax-1]$ é criada pela função **range**.\n",
    "\n",
    "- Qualquer ciclo pode ser terminado pela instrução **break**.\n",
    "\n",
    "- TPC: instrução **continue**."
   ]
  },
  {
   "cell_type": "markdown",
   "metadata": {
    "nbpresent": {
     "id": "d7a7b733-b7fd-48bb-b193-24a52a0ab851"
    },
    "slideshow": {
     "slide_type": "subslide"
    }
   },
   "source": [
    "- Vejamos um exemplo onde a cláusula **else** é associada ao ciclo **for**."
   ]
  },
  {
   "cell_type": "code",
   "execution_count": 49,
   "metadata": {
    "slideshow": {
     "slide_type": "-"
    }
   },
   "outputs": [
    {
     "name": "stdout",
     "output_type": "stream",
     "text": [
      "Martins está na posição 2 da lista de nomes\n"
     ]
    }
   ],
   "source": [
    "lista_de_nomes = ['Silva', 'Martins', 'Antunes', 'Gomes']\n",
    "name = 'Martins' #não pertence à lista\n",
    "for i in range(len(lista_de_nomes)):\n",
    "  if lista_de_nomes[i] == name:\n",
    "    print(name,'está na posição',i + 1,'da lista de nomes')\n",
    "    break\n",
    "else:\n",
    "  print(name,'não está na lista')\n"
   ]
  },
  {
   "cell_type": "markdown",
   "metadata": {
    "slideshow": {
     "slide_type": "slide"
    }
   },
   "source": [
    "## Funções matemáticas\n",
    "\n",
    "- A linguagem **Python** tem definidas poucas funções matemáticas: "
   ]
  },
  {
   "cell_type": "markdown",
   "metadata": {
    "slideshow": {
     "slide_type": "-"
    }
   },
   "source": [
    "| Funções   | Definição |\n",
    "|:---------:|:---------:|\n",
    "|**abs(a)** | $\\, |\\, a\\, |\\,$     |\n",
    "|**max(sequence)** | O máximo de uma sequência |\n",
    "|**min(sequence)** | O mínimo valor de uma sequência |\n",
    "|**round(a,n)**    |  Arredondamento simétrico de **a**  com  **n** casas decimais|\n"
   ]
  },
  {
   "cell_type": "markdown",
   "metadata": {
    "nbpresent": {
     "id": "5219dde5-6d23-4e09-b37b-a7d9963c8ee7"
    },
    "slideshow": {
     "slide_type": "-"
    }
   },
   "source": [
    "- A maior parte das funções matemáticas encontra-se no módulo **math**."
   ]
  },
  {
   "cell_type": "markdown",
   "metadata": {
    "nbpresent": {
     "id": "569e3369-085f-4498-bad8-86cfcd8c8137"
    },
    "slideshow": {
     "slide_type": "slide"
    }
   },
   "source": [
    "## Funções\n",
    "A estrutura de uma função em Python é a seguinte:"
   ]
  },
  {
   "cell_type": "code",
   "execution_count": null,
   "metadata": {
    "slideshow": {
     "slide_type": "-"
    }
   },
   "outputs": [],
   "source": [
    "def funcname ( param1, param2, ...):\n",
    "  statements\n",
    "  return returnvalues"
   ]
  },
  {
   "cell_type": "markdown",
   "metadata": {},
   "source": [
    "- onde **param1**, **param2**, ...  são os parâmetros.\n",
    "\n",
    "- Os parâmetros podem ser de qualquer tipo, incluindo funções.\n",
    "\n",
    "- Podem ser passados valores por omissão/defeito, e neste caso, a função pode  ser chamada com ou sem parâmetros.\n"
   ]
  },
  {
   "cell_type": "markdown",
   "metadata": {
    "slideshow": {
     "slide_type": "subslide"
    }
   },
   "source": [
    "- Se a função não tiver uma expressão **return**, devolve o objecto nulo."
   ]
  },
  {
   "cell_type": "markdown",
   "metadata": {
    "nbpresent": {
     "id": "e1b41d71-d912-4f7e-832c-79c63c6b609a"
    },
    "slideshow": {
     "slide_type": "-"
    }
   },
   "source": [
    "- Exemplo: função que calcula uma aproximação às duas primeiras derivadas de $\\arctan(x)$:"
   ]
  },
  {
   "cell_type": "code",
   "execution_count": null,
   "metadata": {
    "slideshow": {
     "slide_type": "-"
    }
   },
   "outputs": [],
   "source": [
    "from math import atan # atan representa  arctan\n",
    "\n",
    "def finite_diff(f,x,h=0.0001): # h é o assumido por omissão\n",
    "  df =(f(x+h) - f(x-h))/(2.0*h)\n",
    "  ddf =(f(x+h) - 2.0*f(x) + f(x-h))/h**2\n",
    "  return df,ddf\n",
    "\n",
    "x = 0.5\n",
    "df,ddf = finite_diff(atan,x) #atan é passado como argumento\n",
    "print('First derivative =', df) # Usa o valor h por omissão\n",
    "print('Second derivative =',ddf)"
   ]
  },
  {
   "cell_type": "markdown",
   "metadata": {
    "slideshow": {
     "slide_type": "subslide"
    }
   },
   "source": [
    "- Se um objecto mutável for passado a uma função que o modifica, então essas modificações surgem também no programa que chama a função."
   ]
  },
  {
   "cell_type": "code",
   "execution_count": null,
   "metadata": {
    "slideshow": {
     "slide_type": "-"
    }
   },
   "outputs": [],
   "source": [
    "def squares(a):\n",
    "  for i in range(len(a)):\n",
    "    a[i] = a[i]**2 #modifica a; não tem return \n",
    "\n",
    "a=[1,2,3,4]\n",
    "squares(a)\n",
    "print(a)"
   ]
  },
  {
   "cell_type": "markdown",
   "metadata": {
    "slideshow": {
     "slide_type": "slide"
    }
   },
   "source": [
    "## Módulos\n",
    "\n",
    "- Um módulo é um ficheiro onde estão guardadas as definições de funções que podem ser utilizados em diversos projectos em **Python**.\n",
    "\n",
    "- O nome do módulo é o nome do ficheiro.\n",
    "\n",
    "- Um módulo e/ou as suas funções podem ser carregados de várias formas."
   ]
  },
  {
   "cell_type": "markdown",
   "metadata": {
    "nbpresent": {
     "id": "807837bf-6283-4cd3-bdf1-d51f8c378ed5"
    },
    "slideshow": {
     "slide_type": "subslide"
    }
   },
   "source": [
    "- Para ilustrar a utilização dos módulos, imagine-se o módulo **foomodule** que contém  as funções **foofunction1**  e ** foofunction2**. \n",
    "\n",
    "- Estas funções transformam variáveis do tipo float e devolvem valores do tipo float.\n",
    "\n",
    "- Por exemplo, se se pretender carregar todas funções do módulo **foomodule**:"
   ]
  },
  {
   "cell_type": "code",
   "execution_count": null,
   "metadata": {
    "slideshow": {
     "slide_type": "-"
    }
   },
   "outputs": [],
   "source": [
    "from foomodule import * #carrega todas as funções do módulo\n",
    "\n",
    "a = 1.0\n",
    "b= foofunction1(a)\n",
    "c= foofunction2(b)"
   ]
  },
  {
   "cell_type": "markdown",
   "metadata": {
    "nbpresent": {
     "id": "61e62c0f-f481-43bd-ad55-7d782cab69f0"
    },
    "slideshow": {
     "slide_type": "subslide"
    }
   },
   "source": [
    "-  Note-se que, para evitar gastar recursos computacionais é preferível carregar apenas as funções necessárias:"
   ]
  },
  {
   "cell_type": "code",
   "execution_count": null,
   "metadata": {
    "slideshow": {
     "slide_type": "-"
    }
   },
   "outputs": [],
   "source": [
    "from foomodule import foofunction1 #carrega apenas a função foofunction1\n",
    "a=1.0\n",
    "b= foofunction1(a)"
   ]
  },
  {
   "cell_type": "markdown",
   "metadata": {
    "nbpresent": {
     "id": "59862ae4-a235-4af9-8c73-1ca42c2050da"
    },
    "slideshow": {
     "slide_type": "-"
    }
   },
   "source": [
    "- Se se pretender carregar o módulo com  prefixo  para distinguir funções que podem ter o mesmo nome noutros módulos deve fazer-se:"
   ]
  },
  {
   "cell_type": "code",
   "execution_count": null,
   "metadata": {
    "slideshow": {
     "slide_type": "-"
    }
   },
   "outputs": [],
   "source": [
    "import foomodule  #carrega todas as funções do módulo com prefixo\n",
    "a=1.0\n",
    "b= foomodule.foofunction1(a)\n",
    "c= foomodule.foofunction2(b)"
   ]
  },
  {
   "cell_type": "markdown",
   "metadata": {
    "slideshow": {
     "slide_type": "subslide"
    }
   },
   "source": [
    "- ou alternativamente, para simplificar os prefixos:"
   ]
  },
  {
   "cell_type": "code",
   "execution_count": null,
   "metadata": {
    "slideshow": {
     "slide_type": "-"
    }
   },
   "outputs": [],
   "source": [
    "import foomodule as fm  #carrega todas as funções do módulo com prefixo\n",
    "a=1.0\n",
    "b= fm.foofunction1(a)\n",
    "c= fm.foofunction2(b)"
   ]
  },
  {
   "cell_type": "markdown",
   "metadata": {
    "nbpresent": {
     "id": "b47e32c9-0d27-47c1-9b64-55c20de20abd"
    },
    "slideshow": {
     "slide_type": "-"
    }
   },
   "source": [
    "- Existem numerosos módulos desenvolvidos para fins específicos: _(just google it)_ \n",
    "\n",
    "[python libraries and tools you cant live without](https://pythontips.com/2013/07/30/20-python-libraries-you-cant-live-without/)\n",
    "\n"
   ]
  },
  {
   "cell_type": "markdown",
   "metadata": {
    "nbpresent": {
     "id": "37ba35ae-e5a5-48d2-a14a-2067e886640d"
    },
    "slideshow": {
     "slide_type": "slide"
    }
   },
   "source": [
    "## Módulo **math**\n",
    "\n",
    "- A maior parte das funções matemáticas não se encontram na núcleo do **Python**, no entanto, encontram-se no módulo **math**.\n",
    "\n",
    "- Vejam-se alguns casos de utilização do módulo **math**.\n",
    "\n",
    "No primeiro exemplo, carregam-se apenas as funções $\\log(x)$ e $\\sin(x)$:"
   ]
  },
  {
   "cell_type": "code",
   "execution_count": null,
   "metadata": {
    "slideshow": {
     "slide_type": "-"
    }
   },
   "outputs": [],
   "source": [
    "from math import log,sin\n",
    "print(log(sin(0.5)))"
   ]
  },
  {
   "cell_type": "markdown",
   "metadata": {
    "nbpresent": {
     "id": "3a791f83-e1b4-4c73-b0d5-ed103548fdfa"
    },
    "slideshow": {
     "slide_type": "subslide"
    }
   },
   "source": [
    "- O módulo **math** é carregado utilizando o prefixo **math** para identificar as suas funções:"
   ]
  },
  {
   "cell_type": "code",
   "execution_count": null,
   "metadata": {
    "slideshow": {
     "slide_type": "-"
    }
   },
   "outputs": [],
   "source": [
    "import math\n",
    "print(math.log(math.sin(0.5)))"
   ]
  },
  {
   "cell_type": "markdown",
   "metadata": {
    "slideshow": {
     "slide_type": "-"
    }
   },
   "source": [
    "- O módulo também inclui as duas constantes: $\\pi$ e $e$."
   ]
  },
  {
   "cell_type": "code",
   "execution_count": null,
   "metadata": {},
   "outputs": [],
   "source": [
    "print(math.e)\n",
    "print(math.pi)"
   ]
  },
  {
   "cell_type": "markdown",
   "metadata": {
    "nbpresent": {
     "id": "9b0e9b10-9189-49b0-9be7-493de101476b"
    },
    "slideshow": {
     "slide_type": "subslide"
    }
   },
   "source": [
    "+ As funções de um módulo podem ser listadas com o comando **dir(module )**, e.g.:"
   ]
  },
  {
   "cell_type": "code",
   "execution_count": null,
   "metadata": {
    "slideshow": {
     "slide_type": "-"
    }
   },
   "outputs": [],
   "source": [
    "import math\n",
    "print(dir(math))"
   ]
  },
  {
   "cell_type": "markdown",
   "metadata": {
    "nbpresent": {
     "id": "14aefe2e-aba0-435c-95fb-8d524656ee97"
    },
    "slideshow": {
     "slide_type": "slide"
    }
   },
   "source": [
    "## Módulo **NumPy**\n",
    "\n",
    "- Este módulo fornece um grande conjunto de funções para operar sobre **arrays**. \n",
    " \n",
    "- É um módulo desenvolvido especificamente para o Cálculo Numérico.\n",
    "\n",
    "-  **arrays** são um conjunto ordenado de elementos, por exemplo, **_vectores_**, **_matrizes_**.\n",
    "\n",
    "- A lista completa das funções no módulo pode ser obtida através do código:"
   ]
  },
  {
   "cell_type": "code",
   "execution_count": null,
   "metadata": {
    "slideshow": {
     "slide_type": "subslide"
    }
   },
   "outputs": [],
   "source": [
    "import numpy\n",
    "dir(numpy)"
   ]
  },
  {
   "cell_type": "markdown",
   "metadata": {
    "nbpresent": {
     "id": "9c0d4a2d-eb33-4acc-8ceb-51dae8029d30"
    },
    "slideshow": {
     "slide_type": "slide"
    }
   },
   "source": [
    "## Criar um _array_\n",
    "\n",
    "- Um _array_ pode ser criado de várias formas, entre elas, transformando uma lista num **array**:"
   ]
  },
  {
   "cell_type": "code",
   "execution_count": null,
   "metadata": {
    "slideshow": {
     "slide_type": "-"
    }
   },
   "outputs": [],
   "source": [
    "array( list ,dtype = array type_specification)"
   ]
  },
  {
   "cell_type": "markdown",
   "metadata": {
    "nbpresent": {
     "id": "206e1b7a-c08c-4d23-afc3-159887e65553"
    },
    "slideshow": {
     "slide_type": "-"
    }
   },
   "source": [
    "+  Um **array**  $2\\times 2$  com elementos do tipo float:"
   ]
  },
  {
   "cell_type": "code",
   "execution_count": null,
   "metadata": {
    "slideshow": {
     "slide_type": "-"
    }
   },
   "outputs": [],
   "source": [
    "from numpy import array,float32\n",
    "a = array([[2, -1],[-1, 3]])\n",
    "print(a)\n",
    "b = array([[2, -1],[-1, 3]], dtype = float32)\n",
    "print(b) "
   ]
  },
  {
   "cell_type": "markdown",
   "metadata": {
    "nbpresent": {
     "id": "d91f2b6b-09e0-407e-a1d0-fe72682bcae9"
    },
    "slideshow": {
     "slide_type": "slide"
    }
   },
   "source": [
    "- Outras funções para criar **arrays** (no **NumPy**):"
   ]
  },
  {
   "cell_type": "code",
   "execution_count": null,
   "metadata": {
    "slideshow": {
     "slide_type": "-"
    }
   },
   "outputs": [],
   "source": [
    "zeros(( dim1 , dim2 ),dtype = type specification )\n",
    "ones(( dim1 , dim2 ),dtype = type specification )\n"
   ]
  },
  {
   "cell_type": "markdown",
   "metadata": {
    "nbpresent": {
     "id": "898b56ed-65df-4f15-bc3d-7cc989b53da4"
    },
    "slideshow": {
     "slide_type": "-"
    }
   },
   "source": [
    "- criam um **array** de dimensões\n",
    " **dim1**  $\\times$  **dim2** completos com os valores $0$ ou $1$,\n",
    "respectivamente.\n",
    "\n",
    "- A função:"
   ]
  },
  {
   "cell_type": "code",
   "execution_count": null,
   "metadata": {
    "slideshow": {
     "slide_type": "-"
    }
   },
   "outputs": [],
   "source": [
    "arange( from , to , increment )\n"
   ]
  },
  {
   "cell_type": "markdown",
   "metadata": {},
   "source": [
    "- Análoga à função **range**, mas que devolve um **array** em vez de uma lista."
   ]
  },
  {
   "cell_type": "markdown",
   "metadata": {
    "nbpresent": {
     "id": "40aa8a62-b7e1-468e-8b93-200fffb775f2"
    },
    "slideshow": {
     "slide_type": "subslide"
    }
   },
   "source": [
    "- Mais alguns exemplos:"
   ]
  },
  {
   "cell_type": "code",
   "execution_count": null,
   "metadata": {},
   "outputs": [],
   "source": [
    "from numpy import arange,zeros,ones\n",
    "a = arange(2,10,2)\n",
    "print(a)\n",
    "b = arange(2.0,10.0,2.0)\n",
    "print(b)\n",
    "z = zeros(4)\n",
    "print(z)\n",
    "y = ones((10,10))\n",
    "print(y)  "
   ]
  },
  {
   "cell_type": "markdown",
   "metadata": {
    "nbpresent": {
     "id": "3813df1f-6dde-402b-8f56-7d1370688cf5"
    },
    "slideshow": {
     "slide_type": "slide"
    }
   },
   "source": [
    "## Acesso e modificação de  elementos num array\n",
    "\n",
    "+ Se **a** é um array de ordem 2, então  **a[i,j]** acede ao elemento na linha $i$ and coluna $j$\n",
    "- **a[i]** refere-se à linha $i$.\n",
    "\n",
    "- Os elementos de um array podem ser modificados da forma seguinte:"
   ]
  },
  {
   "cell_type": "code",
   "execution_count": null,
   "metadata": {
    "slideshow": {
     "slide_type": "slide"
    }
   },
   "outputs": [],
   "source": [
    "import numpy as np\n",
    "a = np.zeros((3,3))\n",
    "a[0] = [2.0, 3.1, 1.8] # Modifica uma linha\n",
    "a[1,1] = 5.2 # Modifica um elemento\n",
    "a[2,0:2] = [8.0, -3.3] # Modifica parte de uma linha\n",
    "print(a)"
   ]
  },
  {
   "cell_type": "markdown",
   "metadata": {
    "nbpresent": {
     "id": "1dc97c6f-d836-4b75-8f89-5edae6f8b7a3"
    },
    "slideshow": {
     "slide_type": "slide"
    }
   },
   "source": [
    "## Operações com arrays\n",
    "- As operações aritméticas com **arrays** são distintas das operações com n-uplos e listas. \n",
    "\n",
    "- As operações aritméticas são aplicadas\n",
    "elemento a elemento. \n",
    "\n",
    "Vejam-se os exemplos:"
   ]
  },
  {
   "cell_type": "code",
   "execution_count": null,
   "metadata": {},
   "outputs": [],
   "source": [
    "from numpy import array\n",
    "\n",
    "a = array([0.0, 4.0, 9.0, 16.0])\n",
    "print(a/16.0)\n",
    "print(a - 4.0)"
   ]
  },
  {
   "cell_type": "markdown",
   "metadata": {
    "slideshow": {
     "slide_type": "subslide"
    }
   },
   "source": [
    "- O análogo acontece com as funções matemáticas:"
   ]
  },
  {
   "cell_type": "code",
   "execution_count": null,
   "metadata": {},
   "outputs": [],
   "source": [
    "from numpy import array,sqrt,sin\n",
    "a = array([1.0, 4.0, 9.0, 16.0])\n",
    "print(sqrt(a))\n",
    "print(sin(a))"
   ]
  },
  {
   "cell_type": "markdown",
   "metadata": {
    "slideshow": {
     "slide_type": "subslide"
    }
   },
   "source": [
    "- As funções importadas do módulo **math** **NÃO** funcionam em elementos individuais dos **arrays**, e.g.:"
   ]
  },
  {
   "cell_type": "code",
   "execution_count": null,
   "metadata": {
    "slideshow": {
     "slide_type": "-"
    }
   },
   "outputs": [],
   "source": [
    "from numpy import array\n",
    "from math import sqrt\n",
    "a = array([1.0, 4.0, 9.0, 16.0])\n",
    "print(sqrt(a[1]))\n",
    "print(sqrt(a))"
   ]
  },
  {
   "cell_type": "markdown",
   "metadata": {
    "nbpresent": {
     "id": "c9436e8b-73be-449f-a048-1a7f8ec78708"
    },
    "slideshow": {
     "slide_type": "slide"
    }
   },
   "source": [
    "## Funções de arrays\n",
    "\n",
    "+ Vejam-se alguns exemplos de funções sobre arrays   (vectores e matrizes):"
   ]
  },
  {
   "cell_type": "code",
   "execution_count": null,
   "metadata": {
    "slideshow": {
     "slide_type": "subslide"
    }
   },
   "outputs": [],
   "source": [
    "import numpy as np\n",
    "a = np.array([[ 4.0, -2.0, 1.0],\\\n",
    "              [-2.0,  4.0, -2.0],\\\n",
    "              [ 1.0, -2.0,  3.0]])\n",
    "print(a)\n",
    "b = np.array([1.0, 4.0, 2.0])\n",
    "print(b)\n",
    "print(np.dot(b,b)) #  Produto interno (ou _inner_ google it :-) \n",
    "print(np.dot(b,a))  # Multiplicação de matrizes\n",
    "print(np.diagonal(a)) # Diagonal principal\n",
    "print(np.diagonal(a,1)) # Primeira subdiagonal\n",
    "print(np.trace(a)) # Traço\n",
    "print(np.identity(3)) # Matriz identidade\n"
   ]
  },
  {
   "cell_type": "markdown",
   "metadata": {
    "nbpresent": {
     "id": "488e6fe7-5b0b-416b-bf87-e199de6f79a3"
    },
    "slideshow": {
     "slide_type": "slide"
    }
   },
   "source": [
    "## Cópia de  arrays\n",
    "+ Se **a** é um objecto mutável, assim como uma lista ou array, a expressão de **b = a** não resulta num novo objecto **b**, simplesmente cria uma referência para **a**, designada por **_deep copy_**.\n",
    "\n",
    "+ Para fazer uma cópia independente de um array deve usar-se o método **_copy_**:"
   ]
  },
  {
   "cell_type": "markdown",
   "metadata": {
    "slideshow": {
     "slide_type": "subslide"
    }
   },
   "source": [
    "+ Deep Copy (_**=**_) versus o método _**copy**_ "
   ]
  },
  {
   "cell_type": "code",
   "execution_count": null,
   "metadata": {
    "slideshow": {
     "slide_type": "fragment"
    }
   },
   "outputs": [],
   "source": [
    "a = np.array([1,2])\n",
    "b = a  \n",
    "c = np.copy(a)  \n",
    "a[0]=2\n",
    "print(a)\n",
    "print(b)\n",
    "print(c)\n"
   ]
  },
  {
   "cell_type": "markdown",
   "metadata": {
    "nbpresent": {
     "id": "ce114f6e-833c-42aa-910e-91406694b236"
    },
    "slideshow": {
     "slide_type": "slide"
    }
   },
   "source": [
    "## Matplotlib\n",
    "\n",
    "- O módulo Matplotlib  é utilizado para fazer representação gráfica de curvas."
   ]
  },
  {
   "cell_type": "code",
   "execution_count": 15,
   "metadata": {
    "nbpresent": {
     "id": "876866d4-181a-4b3f-b4db-692f9ed526ad"
    },
    "slideshow": {
     "slide_type": "slide"
    }
   },
   "outputs": [],
   "source": [
    "import numpy as np\n",
    "import matplotlib.pyplot as plt\n",
    "\n",
    "#Formatação das fontes\n",
    "font = {'family': 'serif',\n",
    "        'color':  'darkred',\n",
    "        'weight': 'normal',\n",
    "        'size': 16,\n",
    "        }\n",
    "x = np.linspace(0.0, 5.0, 10000)\n",
    "y = np.cos(2.0*np.pi*x) * np.exp(-x)\n",
    "plt.plot(x, y, 'k')\n",
    "plt.title('Amortecimento espacial', fontdict=font)\n",
    "plt.text(2, 0.65, r'$\\cos(2 \\pi t) \\exp(-t)$', fontdict=font)\n",
    "plt.xlabel('time (s)', fontdict=font)\n",
    "plt.ylabel('voltage (mV)', fontdict=font)\n",
    "# Alinhamento das espaços para evitar cortes de legendas\n",
    "# plt.subplots_adjust(left=0.15)\n",
    "# plt.show() # Abre uma janela com o gráfico\n",
    "plt.savefig('demo0.png') #Grava a imagem para um ficheiro"
   ]
  },
  {
   "cell_type": "code",
   "execution_count": 16,
   "metadata": {
    "slideshow": {
     "slide_type": "slide"
    }
   },
   "outputs": [
    {
     "data": {
      "image/png": "[encoded data removed]",
      "text/plain": [
       "<matplotlib.figure.Figure at 0x11226add8>"
      ]
     },
     "metadata": {},
     "output_type": "display_data"
    }
   ],
   "source": [
    "plt.show()\n",
    "plt.clf() # Apaga os objectos da memória"
   ]
  },
  {
   "cell_type": "markdown",
   "metadata": {
    "nbpresent": {
     "id": "4e768b83-7d1d-4a9a-8e38-f2ab068739a3"
    },
    "slideshow": {
     "slide_type": "slide"
    }
   },
   "source": [
    "[Mais exemplos](http://matplotlib.org/gallery.html)\n",
    "  "
   ]
  },
  {
   "cell_type": "markdown",
   "metadata": {},
   "source": [
    "# Alguns Alertas e exemplos extra !"
   ]
  },
  {
   "cell_type": "markdown",
   "metadata": {},
   "source": [
    "## Sistemas mal acondicionados..."
   ]
  },
  {
   "cell_type": "code",
   "execution_count": 50,
   "metadata": {
    "nbpresent": {
     "id": "189a7731-7df5-441a-8121-bc04f86dc8ad"
    },
    "slideshow": {
     "slide_type": "slide"
    }
   },
   "outputs": [
    {
     "name": "stdout",
     "output_type": "stream",
     "text": [
      "A= [[ 2.      1.    ]\n",
      " [ 2.      1.0001]]\n",
      "b= [ 3.  0.]\n",
      "X= [ 15001.5 -30000. ]\n"
     ]
    }
   ],
   "source": [
    "import numpy as np\n",
    "\n",
    "A=np.array([[2.0,1],[2,1.0001]])\n",
    "print('A=',A)\n",
    "b=np.array([3.0,0])\n",
    "print('b=',b)\n",
    "X=np.linalg.solve(A,b)\n",
    "print('X=',X)"
   ]
  },
  {
   "cell_type": "code",
   "execution_count": null,
   "metadata": {},
   "outputs": [
    {
     "name": "stdout",
     "output_type": "stream",
     "text": [
      "A= [[ 2.      1.    ]\n",
      " [ 2.      1.0002]]\n",
      "b= [ 3.  0.]\n",
      "X= [  7501.5 -15000. ]\n"
     ]
    }
   ],
   "source": [
    "A=np.array([[2.0,1],[2,1.0002]])\n",
    "print('A=',A)\n",
    "b=np.array([3.0,0])\n",
    "print('b=',b)\n",
    "X=np.linalg.solve(A,b)\n",
    "print('X=',X)\n",
    "\n",
    "%reset"
   ]
  },
  {
   "cell_type": "markdown",
   "metadata": {},
   "source": [
    "## Cálculo simbólico: derivadas, integrais..."
   ]
  },
  {
   "cell_type": "code",
   "execution_count": 5,
   "metadata": {},
   "outputs": [
    {
     "data": {
      "image/png": "[encoded data removed]",
      "text/latex": [
       "$$\\cos{\\left (x \\right )}$$"
      ],
      "text/plain": [
       "cos(x)"
      ]
     },
     "execution_count": 5,
     "metadata": {},
     "output_type": "execute_result"
    }
   ],
   "source": [
    "from sympy import *\n",
    "init_printing()\n",
    "\n",
    "x=Symbol('x')\n",
    "def f(x):\n",
    "    return sin(x)\n",
    "\n",
    "diff(f(x),x)"
   ]
  },
  {
   "cell_type": "code",
   "execution_count": 6,
   "metadata": {},
   "outputs": [
    {
     "data": {
      "image/png": "[encoded data removed]",
      "text/latex": [
       "$$\\cos{\\left (x \\right )}$$"
      ],
      "text/plain": [
       "cos(x)"
      ]
     },
     "execution_count": 6,
     "metadata": {},
     "output_type": "execute_result"
    }
   ],
   "source": [
    "g=sin(x)\n",
    "diff(g,x)"
   ]
  },
  {
   "cell_type": "code",
   "execution_count": 7,
   "metadata": {},
   "outputs": [
    {
     "data": {
      "image/png": "[encoded data removed]",
      "text/latex": [
       "$$1$$"
      ],
      "text/plain": [
       "1"
      ]
     },
     "execution_count": 7,
     "metadata": {},
     "output_type": "execute_result"
    }
   ],
   "source": [
    "f(pi/2)"
   ]
  },
  {
   "cell_type": "code",
   "execution_count": 11,
   "metadata": {},
   "outputs": [
    {
     "data": {
      "image/png": "[encoded data removed]",
      "text/latex": [
       "$$\\frac{x^{2}}{5 \\pi} \\sin{\\left (5 \\pi x \\right )} + \\frac{2 x}{25 \\pi^{2}} \\cos{\\left (5 \\pi x \\right )} - \\frac{2}{125 \\pi^{3}} \\sin{\\left (5 \\pi x \\right )}$$"
      ],
      "text/plain": [
       " 2                                           \n",
       "x ⋅sin(5⋅π⋅x)   2⋅x⋅cos(5⋅π⋅x)   2⋅sin(5⋅π⋅x)\n",
       "───────────── + ────────────── - ────────────\n",
       "     5⋅π                2                3   \n",
       "                    25⋅π            125⋅π    "
      ]
     },
     "execution_count": 11,
     "metadata": {},
     "output_type": "execute_result"
    }
   ],
   "source": [
    "expr=x**2*cos(5*pi*x)\n",
    "integrate(expr,x)"
   ]
  },
  {
   "cell_type": "code",
   "execution_count": 13,
   "metadata": {},
   "outputs": [
    {
     "data": {
      "image/png": "[encoded data removed]",
      "text/plain": [
       "<matplotlib.figure.Figure at 0x112247438>"
      ]
     },
     "metadata": {},
     "output_type": "display_data"
    },
    {
     "data": {
      "text/plain": [
       "<sympy.plotting.plot.Plot at 0x112202400>"
      ]
     },
     "execution_count": 13,
     "metadata": {},
     "output_type": "execute_result"
    }
   ],
   "source": [
    "plot(x*f(x)*cos(2*pi*x),(x,0,2))"
   ]
  },
  {
   "cell_type": "code",
   "execution_count": null,
   "metadata": {
    "collapsed": true
   },
   "outputs": [],
   "source": []
  }
 ],
 "metadata": {
  "anaconda-cloud": {},
  "celltoolbar": "Slideshow",
  "kernelspec": {
   "display_name": "Python 3",
   "language": "python",
   "name": "python3"
  },
  "language_info": {
   "codemirror_mode": {
    "name": "ipython",
    "version": 3
   },
   "file_extension": ".py",
   "mimetype": "text/x-python",
   "name": "python",
   "nbconvert_exporter": "python",
   "pygments_lexer": "ipython3",
   "version": "3.6.5"
  },
  "nbpresent": {
   "slides": {
    "1157465b-ebb8-4091-a88f-4aca4727c0ca": {
     "id": "1157465b-ebb8-4091-a88f-4aca4727c0ca",
     "prev": "f19f69f9-f369-48b8-b66a-7b50f93b1670",
     "regions": {
      "76a630c0-5266-41b2-9a79-b362e5160f8d": {
       "attrs": {
        "height": 0.8,
        "width": 0.8,
        "x": 0.1,
        "y": 0.1
       },
       "content": {
        "cell": "af26b879-40b7-43f4-b3a6-6ca2902fa474",
        "part": "whole"
       },
       "id": "76a630c0-5266-41b2-9a79-b362e5160f8d"
      }
     }
    },
    "3fe5dae0-e541-48c0-bb9c-112676b4ab0f": {
     "id": "3fe5dae0-e541-48c0-bb9c-112676b4ab0f",
     "prev": "c50ea7d2-624c-4783-940e-951dafe40ddc",
     "regions": {
      "67fe320e-797f-4ca8-aea4-f512a9892157": {
       "attrs": {
        "height": 0.4,
        "width": 0.8,
        "x": 0.1,
        "y": 0.5
       },
       "content": {
        "cell": "611bbab8-38e1-459e-8226-5462484e18ba",
        "part": "whole"
       },
       "id": "67fe320e-797f-4ca8-aea4-f512a9892157"
      },
      "ac0e770b-656f-4d79-8567-5943bfaf4e99": {
       "attrs": {
        "height": 0.4,
        "width": 0.8,
        "x": 0.1,
        "y": 0.5
       },
       "content": {
        "cell": "85492c28-339a-4c58-be54-dc90c4b8ae50",
        "part": "whole"
       },
       "id": "ac0e770b-656f-4d79-8567-5943bfaf4e99"
      },
      "dbf867bc-452c-4d4c-adbe-e06e9c60948c": {
       "attrs": {
        "height": 0.8,
        "width": 0.8,
        "x": 0.1,
        "y": 0.1
       },
       "content": {
        "cell": "0e612916-fb54-4dd0-a505-825d98de89ff",
        "part": "whole"
       },
       "id": "dbf867bc-452c-4d4c-adbe-e06e9c60948c"
      },
      "f1ffdc42-048b-47b1-99ba-8e281150719b": {
       "attrs": {
        "height": 0.4,
        "width": 0.8,
        "x": 0.1,
        "y": 0.5
       },
       "content": {
        "cell": "e51aecf4-79bc-44b5-8d14-a00262c7d0b8",
        "part": "whole"
       },
       "id": "f1ffdc42-048b-47b1-99ba-8e281150719b"
      }
     }
    },
    "5eaf2e75-b266-42ce-9006-73300e1a2617": {
     "id": "5eaf2e75-b266-42ce-9006-73300e1a2617",
     "prev": "80a7efb0-39e8-4a30-9a29-32d91234502b",
     "regions": {
      "1f6af452-eaa9-4a1a-9e72-552b6fd2c8c1": {
       "attrs": {
        "height": 0.8,
        "width": 0.8,
        "x": 0.1,
        "y": 0.1
       },
       "content": {
        "cell": "b3695bf1-f78b-460e-990b-2c6cdfc638af",
        "part": "whole"
       },
       "id": "1f6af452-eaa9-4a1a-9e72-552b6fd2c8c1"
      },
      "64c9e66e-fe13-49d4-b938-9b912e8a426f": {
       "attrs": {
        "height": 0.4,
        "width": 0.8,
        "x": 0.1,
        "y": 0.5
       },
       "content": {
        "cell": "b58f720b-8590-4553-b855-ff052a6cc156",
        "part": "whole"
       },
       "id": "64c9e66e-fe13-49d4-b938-9b912e8a426f"
      }
     }
    },
    "80a7efb0-39e8-4a30-9a29-32d91234502b": {
     "id": "80a7efb0-39e8-4a30-9a29-32d91234502b",
     "prev": "ef0f7e1c-f074-4719-bcf3-fa7d26f6cdea",
     "regions": {
      "feaa3934-c3b3-471b-bec3-521129267b00": {
       "attrs": {
        "height": 0.8,
        "width": 0.8,
        "x": 0.1,
        "y": 0.1
       },
       "content": {
        "cell": "6fd3fbfe-f86a-45b9-943c-1e4cc8f4461b",
        "part": "whole"
       },
       "id": "feaa3934-c3b3-471b-bec3-521129267b00"
      }
     }
    },
    "c016084d-4e83-48ef-8534-e201ba608d5b": {
     "id": "c016084d-4e83-48ef-8534-e201ba608d5b",
     "prev": "5eaf2e75-b266-42ce-9006-73300e1a2617",
     "regions": {
      "00840d6a-9693-4a50-a34d-b4a3cc1e041f": {
       "attrs": {
        "height": 0.4,
        "width": 0.8,
        "x": 0.1,
        "y": 0.5
       },
       "content": {
        "cell": "b7bb2aa4-64a3-44d5-bbf8-8a54720692e9",
        "part": "whole"
       },
       "id": "00840d6a-9693-4a50-a34d-b4a3cc1e041f"
      },
      "02f73dc1-e887-46d4-99f7-6dac6e29ea2d": {
       "attrs": {
        "height": 0.4,
        "width": 0.8,
        "x": 0.1,
        "y": 0.5
       },
       "content": {
        "cell": "be188521-0491-4820-87cb-bb7ce9e313e2",
        "part": "whole"
       },
       "id": "02f73dc1-e887-46d4-99f7-6dac6e29ea2d"
      },
      "039917bb-5af9-414d-9c1d-593b7dcd4627": {
       "attrs": {
        "height": 0.4,
        "width": 0.8,
        "x": 0.1,
        "y": 0.5
       },
       "content": {
        "cell": "9c0d4a2d-eb33-4acc-8ceb-51dae8029d30",
        "part": "whole"
       },
       "id": "039917bb-5af9-414d-9c1d-593b7dcd4627"
      },
      "0478be12-c1ad-4183-8bed-845d5f597be6": {
       "attrs": {
        "height": 0.4,
        "width": 0.8,
        "x": 0.1,
        "y": 0.5
       },
       "content": {
        "cell": "064d4076-3345-4fb2-89ce-80c7c7867169",
        "part": "whole"
       },
       "id": "0478be12-c1ad-4183-8bed-845d5f597be6"
      },
      "057ac336-d7c2-4c63-8b0a-5dfbfbe0789e": {
       "attrs": {
        "height": 0.4,
        "width": 0.8,
        "x": 0.1,
        "y": 0.5
       },
       "content": {
        "cell": "b47e32c9-0d27-47c1-9b64-55c20de20abd",
        "part": "whole"
       },
       "id": "057ac336-d7c2-4c63-8b0a-5dfbfbe0789e"
      },
      "0779f1f7-1f80-42fa-9c1b-dbfbc61caf14": {
       "attrs": {
        "height": 0.4,
        "width": 0.8,
        "x": 0.1,
        "y": 0.5
       },
       "content": {
        "cell": "9223ed9f-eddb-4c03-9b50-c9b3c9a6e17a",
        "part": "whole"
       },
       "id": "0779f1f7-1f80-42fa-9c1b-dbfbc61caf14"
      },
      "0f156c74-afcf-42b9-9a3f-bef9e261cd0d": {
       "attrs": {
        "height": 0.4,
        "width": 0.8,
        "x": 0.1,
        "y": 0.5
       },
       "content": {
        "cell": "898b56ed-65df-4f15-bc3d-7cc989b53da4",
        "part": "whole"
       },
       "id": "0f156c74-afcf-42b9-9a3f-bef9e261cd0d"
      },
      "1197fe02-189f-4ce7-ad72-ab341a9f6fc5": {
       "attrs": {
        "height": 0.4,
        "width": 0.8,
        "x": 0.1,
        "y": 0.5
       },
       "content": {
        "cell": "ce114f6e-833c-42aa-910e-91406694b236",
        "part": "whole"
       },
       "id": "1197fe02-189f-4ce7-ad72-ab341a9f6fc5"
      },
      "13345303-22d3-4931-8de8-ed3316513d41": {
       "attrs": {
        "height": 0.4,
        "width": 0.8,
        "x": 0.1,
        "y": 0.5
       },
       "content": {
        "cell": "4cf6f0b2-4312-42c9-97fb-1cdbdcd5649a",
        "part": "whole"
       },
       "id": "13345303-22d3-4931-8de8-ed3316513d41"
      },
      "18b107fc-0b13-45af-9eda-dde3a821bb9f": {
       "attrs": {
        "height": 0.4,
        "width": 0.8,
        "x": 0.1,
        "y": 0.5
       },
       "content": {
        "cell": "264435b8-b911-4508-8a62-419d3972bb02",
        "part": "whole"
       },
       "id": "18b107fc-0b13-45af-9eda-dde3a821bb9f"
      },
      "25007108-5adb-45a3-ac5e-754ddb2000b1": {
       "attrs": {
        "height": 0.4,
        "width": 0.8,
        "x": 0.1,
        "y": 0.5
       },
       "content": {
        "cell": "3cf7a656-d14b-4818-8685-bfa816d5d5ed",
        "part": "whole"
       },
       "id": "25007108-5adb-45a3-ac5e-754ddb2000b1"
      },
      "290b8fc2-e1a9-4b2c-9f08-9c54003e8345": {
       "attrs": {
        "height": 0.4,
        "width": 0.8,
        "x": 0.1,
        "y": 0.5
       },
       "content": {
        "cell": "59862ae4-a235-4af9-8c73-1ca42c2050da",
        "part": "whole"
       },
       "id": "290b8fc2-e1a9-4b2c-9f08-9c54003e8345"
      },
      "2ac00e10-8595-4121-a8bd-2f6a865d6c3a": {
       "attrs": {
        "height": 0.4,
        "width": 0.8,
        "x": 0.1,
        "y": 0.5
       },
       "content": {
        "cell": "4e768b83-7d1d-4a9a-8e38-f2ab068739a3",
        "part": "whole"
       },
       "id": "2ac00e10-8595-4121-a8bd-2f6a865d6c3a"
      },
      "2c03d6a4-7c7a-4fe3-8678-1b3776ab19ab": {
       "attrs": {
        "height": 0.4,
        "width": 0.8,
        "x": 0.1,
        "y": 0.5
       },
       "content": {
        "cell": "db8be624-65f1-4ea5-b17d-57cd3bef92c9",
        "part": "whole"
       },
       "id": "2c03d6a4-7c7a-4fe3-8678-1b3776ab19ab"
      },
      "2e92fb6b-099c-4b7d-987c-352486d82277": {
       "attrs": {
        "height": 0.4,
        "width": 0.8,
        "x": 0.1,
        "y": 0.5
       },
       "content": {
        "cell": "189ee0d9-4e74-4f30-84c1-96f26e3af3bc",
        "part": "whole"
       },
       "id": "2e92fb6b-099c-4b7d-987c-352486d82277"
      },
      "2ee4d7c7-d751-475a-a8e5-569bfeba5512": {
       "attrs": {
        "height": 0.4,
        "width": 0.8,
        "x": 0.1,
        "y": 0.5
       },
       "content": {
        "cell": "90fc695c-db4e-49dc-98bf-917841f2a418",
        "part": "whole"
       },
       "id": "2ee4d7c7-d751-475a-a8e5-569bfeba5512"
      },
      "2f319604-351a-46b4-a7a1-2a5b49174ecb": {
       "attrs": {
        "height": 0.4,
        "width": 0.8,
        "x": 0.1,
        "y": 0.5
       },
       "content": {
        "cell": "becfa5d0-8d0f-4d46-adee-98ebf47288ed",
        "part": "whole"
       },
       "id": "2f319604-351a-46b4-a7a1-2a5b49174ecb"
      },
      "312b5509-1b69-4b51-8801-cc8646da48ff": {
       "attrs": {
        "height": 0.4,
        "width": 0.8,
        "x": 0.1,
        "y": 0.5
       },
       "content": {
        "cell": "569e3369-085f-4498-bad8-86cfcd8c8137",
        "part": "whole"
       },
       "id": "312b5509-1b69-4b51-8801-cc8646da48ff"
      },
      "3370f6a2-342c-4eed-b4f7-9fd0616830a6": {
       "attrs": {
        "height": 0.4,
        "width": 0.8,
        "x": 0.1,
        "y": 0.5
       },
       "content": {
        "cell": "f3a2913b-fb4d-4b46-b5b5-2bfa901bbb27",
        "part": "whole"
       },
       "id": "3370f6a2-342c-4eed-b4f7-9fd0616830a6"
      },
      "3566ee31-dbfb-4c85-aed3-6c077b1f5d35": {
       "attrs": {
        "height": 0.4,
        "width": 0.8,
        "x": 0.1,
        "y": 0.5
       },
       "content": {
        "cell": "9ee86a24-8aa2-4288-858b-3489c2f3b956",
        "part": "whole"
       },
       "id": "3566ee31-dbfb-4c85-aed3-6c077b1f5d35"
      },
      "3739ccfb-dee9-499b-bedb-6b66132d66e8": {
       "attrs": {
        "height": 0.4,
        "width": 0.8,
        "x": 0.1,
        "y": 0.5
       },
       "content": {
        "cell": "189a7731-7df5-441a-8121-bc04f86dc8ad",
        "part": "whole"
       },
       "id": "3739ccfb-dee9-499b-bedb-6b66132d66e8"
      },
      "3898b79a-b84c-40f2-9259-f6d3c55b089e": {
       "attrs": {
        "height": 0.4,
        "width": 0.8,
        "x": 0.1,
        "y": 0.5
       },
       "content": {
        "cell": "9eaa5835-1fe3-4eca-a09c-5e9ff63a7db1",
        "part": "whole"
       },
       "id": "3898b79a-b84c-40f2-9259-f6d3c55b089e"
      },
      "3c1f696c-48fc-464a-ac72-4c3a5b771724": {
       "attrs": {
        "height": 0.4,
        "width": 0.8,
        "x": 0.1,
        "y": 0.5
       },
       "content": {
        "cell": "7b976d44-5d8b-4da0-8e33-6b4dccb224bb",
        "part": "whole"
       },
       "id": "3c1f696c-48fc-464a-ac72-4c3a5b771724"
      },
      "44dcd955-5f69-482b-ba8f-a6e553e96901": {
       "attrs": {
        "height": 0.4,
        "width": 0.8,
        "x": 0.1,
        "y": 0.5
       },
       "content": {
        "cell": "14aefe2e-aba0-435c-95fb-8d524656ee97",
        "part": "whole"
       },
       "id": "44dcd955-5f69-482b-ba8f-a6e553e96901"
      },
      "46e3c6fc-e2b1-4670-a6e5-41c6c63c8aa4": {
       "attrs": {
        "height": 0.4,
        "width": 0.8,
        "x": 0.1,
        "y": 0.5
       },
       "content": {
        "cell": "923f7ee2-a6a0-4dcc-9498-944a3362ff0e",
        "part": "whole"
       },
       "id": "46e3c6fc-e2b1-4670-a6e5-41c6c63c8aa4"
      },
      "477eedf1-9f1b-4b00-8886-7cc984e49639": {
       "attrs": {
        "height": 0.4,
        "width": 0.8,
        "x": 0.1,
        "y": 0.5
       },
       "content": {
        "cell": "00a86124-b012-4d76-94a8-646853011200",
        "part": "whole"
       },
       "id": "477eedf1-9f1b-4b00-8886-7cc984e49639"
      },
      "50128f11-00cc-4948-9ff9-9474ae3b0a2c": {
       "attrs": {
        "height": 0.4,
        "width": 0.8,
        "x": 0.1,
        "y": 0.5
       },
       "content": {
        "cell": "dc702da2-dceb-4f6b-9f1f-a704b0e1c3d4",
        "part": "whole"
       },
       "id": "50128f11-00cc-4948-9ff9-9474ae3b0a2c"
      },
      "507db972-90a8-421f-a557-a992a38bafac": {
       "attrs": {
        "height": 0.4,
        "width": 0.8,
        "x": 0.1,
        "y": 0.5
       },
       "content": {
        "cell": "9b0e9b10-9189-49b0-9be7-493de101476b",
        "part": "whole"
       },
       "id": "507db972-90a8-421f-a557-a992a38bafac"
      },
      "517e2a3d-0a04-4d30-aa1d-dbeea28c0178": {
       "attrs": {
        "height": 0.4,
        "width": 0.8,
        "x": 0.1,
        "y": 0.5
       },
       "content": {
        "cell": "058cf303-cd78-45dc-8943-f82a6dead5a5",
        "part": "whole"
       },
       "id": "517e2a3d-0a04-4d30-aa1d-dbeea28c0178"
      },
      "518a19bb-fbc5-43af-bde4-12d507b084a0": {
       "attrs": {
        "height": 0.4,
        "width": 0.8,
        "x": 0.1,
        "y": 0.5
       },
       "content": {
        "cell": "3813df1f-6dde-402b-8f56-7d1370688cf5",
        "part": "whole"
       },
       "id": "518a19bb-fbc5-43af-bde4-12d507b084a0"
      },
      "52498686-dddc-4c8d-9ba7-2a12325d4d4f": {
       "attrs": {
        "height": 0.4,
        "width": 0.8,
        "x": 0.1,
        "y": 0.5
       },
       "content": {
        "cell": "b8cfabea-70c5-44de-8d59-8262f9143400",
        "part": "whole"
       },
       "id": "52498686-dddc-4c8d-9ba7-2a12325d4d4f"
      },
      "5324b389-2f5e-48aa-8a2b-7f7cb6e089ac": {
       "attrs": {
        "height": 0.4,
        "width": 0.8,
        "x": 0.1,
        "y": 0.5
       },
       "content": {
        "cell": "7225c971-1bdc-48af-8b97-6671ae7ca623",
        "part": "whole"
       },
       "id": "5324b389-2f5e-48aa-8a2b-7f7cb6e089ac"
      },
      "576cba5d-4a6f-4e1a-a842-fdde18eeac79": {
       "attrs": {
        "height": 0.4,
        "width": 0.8,
        "x": 0.1,
        "y": 0.5
       },
       "content": {
        "cell": "d9d79a03-6604-443f-82bb-95516a682091",
        "part": "whole"
       },
       "id": "576cba5d-4a6f-4e1a-a842-fdde18eeac79"
      },
      "61158c47-4d34-4886-9640-863fbccb78bf": {
       "attrs": {
        "height": 0.4,
        "width": 0.8,
        "x": 0.1,
        "y": 0.5
       },
       "content": {
        "cell": "3184f6f0-869e-4686-a1ec-512ee92d86e7",
        "part": "whole"
       },
       "id": "61158c47-4d34-4886-9640-863fbccb78bf"
      },
      "62b0a094-9c6f-4daa-8833-b3109ac97c9f": {
       "attrs": {
        "height": 0.4,
        "width": 0.8,
        "x": 0.1,
        "y": 0.5
       },
       "content": {
        "cell": "ac169036-3905-4406-88da-2a61d34b91ee",
        "part": "whole"
       },
       "id": "62b0a094-9c6f-4daa-8833-b3109ac97c9f"
      },
      "6383bf91-32ba-496d-8a2f-19486ca56c40": {
       "attrs": {
        "height": 0.4,
        "width": 0.8,
        "x": 0.1,
        "y": 0.5
       },
       "content": {
        "cell": "1dc97c6f-d836-4b75-8f89-5edae6f8b7a3",
        "part": "whole"
       },
       "id": "6383bf91-32ba-496d-8a2f-19486ca56c40"
      },
      "63e98d57-0b50-42a3-b2f2-f959efb7d6db": {
       "attrs": {
        "height": 0.4,
        "width": 0.8,
        "x": 0.1,
        "y": 0.5
       },
       "content": {
        "cell": "728388d9-8d7d-4fa3-9667-e1dee5783562",
        "part": "whole"
       },
       "id": "63e98d57-0b50-42a3-b2f2-f959efb7d6db"
      },
      "6586d8e2-0b17-47dc-ad31-7d77d648b53a": {
       "attrs": {
        "height": 0.4,
        "width": 0.8,
        "x": 0.1,
        "y": 0.5
       },
       "content": {
        "cell": "c9bf6a09-30b9-42c5-8e13-4bc52d8ea998",
        "part": "whole"
       },
       "id": "6586d8e2-0b17-47dc-ad31-7d77d648b53a"
      },
      "68935efe-f0af-4a54-a6ad-7efb304f482a": {
       "attrs": {
        "height": 0.4,
        "width": 0.8,
        "x": 0.1,
        "y": 0.5
       },
       "content": {
        "cell": "ff5a7866-b948-4bb8-916a-1013e11cdfe5",
        "part": "whole"
       },
       "id": "68935efe-f0af-4a54-a6ad-7efb304f482a"
      },
      "6b057563-b942-47de-bbf5-5e2c2d6f4fe9": {
       "attrs": {
        "height": 0.4,
        "width": 0.8,
        "x": 0.1,
        "y": 0.5
       },
       "content": {
        "cell": "c64fc4de-4d08-4ffa-a750-457ebc1029d8",
        "part": "whole"
       },
       "id": "6b057563-b942-47de-bbf5-5e2c2d6f4fe9"
      },
      "6bbefb52-9008-4e32-93ec-3ace621a4f37": {
       "attrs": {
        "height": 0.4,
        "width": 0.8,
        "x": 0.1,
        "y": 0.5
       },
       "content": {
        "cell": "31f393fc-e4fa-4c3a-bc8b-6671af930ffb",
        "part": "whole"
       },
       "id": "6bbefb52-9008-4e32-93ec-3ace621a4f37"
      },
      "6c1f102d-0f76-44f2-95d8-a87a2051377b": {
       "attrs": {
        "height": 0.4,
        "width": 0.8,
        "x": 0.1,
        "y": 0.5
       },
       "content": {
        "cell": "fc9d64f6-243e-4cb1-b594-5ddc02b8f6a5",
        "part": "whole"
       },
       "id": "6c1f102d-0f76-44f2-95d8-a87a2051377b"
      },
      "6ccc3ebe-a278-42b7-9678-0a3376cde248": {
       "attrs": {
        "height": 0.4,
        "width": 0.8,
        "x": 0.1,
        "y": 0.5
       },
       "content": {
        "cell": "82ffd1e1-46a5-493d-b356-03f1b28a39d6",
        "part": "whole"
       },
       "id": "6ccc3ebe-a278-42b7-9678-0a3376cde248"
      },
      "6d39ddb7-8088-4329-987f-86e96f1202ac": {
       "attrs": {
        "height": 0.4,
        "width": 0.8,
        "x": 0.1,
        "y": 0.5
       },
       "content": {
        "cell": "3a249db2-1f5c-4ad1-80f6-99e58ca97975",
        "part": "whole"
       },
       "id": "6d39ddb7-8088-4329-987f-86e96f1202ac"
      },
      "6e23a362-d057-456c-a801-a8b150dcd2c2": {
       "attrs": {
        "height": 0.4,
        "width": 0.8,
        "x": 0.1,
        "y": 0.5
       },
       "content": {
        "cell": "401041fd-ca26-4692-ba25-4e2b76f39067",
        "part": "whole"
       },
       "id": "6e23a362-d057-456c-a801-a8b150dcd2c2"
      },
      "7393d874-edcd-4a00-a684-9fbf85b00fc1": {
       "attrs": {
        "height": 0.4,
        "width": 0.8,
        "x": 0.1,
        "y": 0.5
       },
       "content": {
        "cell": "9d873a66-b730-4dcf-877f-42d2934fd907",
        "part": "whole"
       },
       "id": "7393d874-edcd-4a00-a684-9fbf85b00fc1"
      },
      "73ab8d25-4e2c-48a9-8e7b-a385156cfcd9": {
       "attrs": {
        "height": 0.4,
        "width": 0.8,
        "x": 0.1,
        "y": 0.5
       },
       "content": {
        "cell": "4cdd6771-3a33-4733-bb4f-fa724074c6a6",
        "part": "whole"
       },
       "id": "73ab8d25-4e2c-48a9-8e7b-a385156cfcd9"
      },
      "74be7137-9a1e-41e5-9077-5ea5d6f2137c": {
       "attrs": {
        "height": 0.4,
        "width": 0.8,
        "x": 0.1,
        "y": 0.5
       },
       "content": {
        "cell": "725eb8ce-a0bf-4147-85d4-74e6c66ad894",
        "part": "whole"
       },
       "id": "74be7137-9a1e-41e5-9077-5ea5d6f2137c"
      },
      "75124320-e636-4eb4-9f56-8ee0ab147232": {
       "attrs": {
        "height": 0.4,
        "width": 0.8,
        "x": 0.1,
        "y": 0.5
       },
       "content": {
        "cell": "3a791f83-e1b4-4c73-b0d5-ed103548fdfa",
        "part": "whole"
       },
       "id": "75124320-e636-4eb4-9f56-8ee0ab147232"
      },
      "75520033-945d-45e8-a5ab-18cf4d290301": {
       "attrs": {
        "height": 0.4,
        "width": 0.8,
        "x": 0.1,
        "y": 0.5
       },
       "content": {
        "cell": "ec26f573-9286-4c69-9ba6-964aef35dd69",
        "part": "whole"
       },
       "id": "75520033-945d-45e8-a5ab-18cf4d290301"
      },
      "779aa606-17ec-41ba-b194-e1c5a521342d": {
       "attrs": {
        "height": 0.4,
        "width": 0.8,
        "x": 0.1,
        "y": 0.5
       },
       "content": {
        "cell": "6285e2c3-53c6-496e-8d8e-019b07216db0",
        "part": "whole"
       },
       "id": "779aa606-17ec-41ba-b194-e1c5a521342d"
      },
      "77dbca99-8c09-4651-bf2a-c048e4fd3c2b": {
       "attrs": {
        "height": 0.4,
        "width": 0.8,
        "x": 0.1,
        "y": 0.5
       },
       "content": {
        "cell": "9cc4a40c-0fa6-4a0b-9dbc-0adc680f8493",
        "part": "whole"
       },
       "id": "77dbca99-8c09-4651-bf2a-c048e4fd3c2b"
      },
      "78acca8f-16d9-4131-8efc-99005cd2a0df": {
       "attrs": {
        "height": 0.4,
        "width": 0.8,
        "x": 0.1,
        "y": 0.5
       },
       "content": {
        "cell": "e907d7fa-ef05-40f0-ae37-2cf23d67e208",
        "part": "whole"
       },
       "id": "78acca8f-16d9-4131-8efc-99005cd2a0df"
      },
      "7ac1deac-2a61-4c42-a511-029f1db71b95": {
       "attrs": {
        "height": 0.4,
        "width": 0.8,
        "x": 0.1,
        "y": 0.5
       },
       "content": {
        "cell": "edf6efdf-75fe-4462-a0c2-e7d1b4489bb1",
        "part": "whole"
       },
       "id": "7ac1deac-2a61-4c42-a511-029f1db71b95"
      },
      "7c643a26-a2b1-4c8a-b74a-ab50b846852c": {
       "attrs": {
        "height": 0.4,
        "width": 0.8,
        "x": 0.1,
        "y": 0.5
       },
       "content": {
        "cell": "0974946b-8ce8-4c87-9542-8d30cbfd9ea5",
        "part": "whole"
       },
       "id": "7c643a26-a2b1-4c8a-b74a-ab50b846852c"
      },
      "7fced3ac-386e-4536-8230-feb3711d614b": {
       "attrs": {
        "height": 0.4,
        "width": 0.8,
        "x": 0.1,
        "y": 0.5
       },
       "content": {
        "cell": "cf7e186d-ae67-41fe-ab88-d238ae54b191",
        "part": "whole"
       },
       "id": "7fced3ac-386e-4536-8230-feb3711d614b"
      },
      "8147cd1b-6114-42d2-899a-47784c730261": {
       "attrs": {
        "height": 0.4,
        "width": 0.8,
        "x": 0.1,
        "y": 0.5
       },
       "content": {
        "cell": "488e6fe7-5b0b-416b-bf87-e199de6f79a3",
        "part": "whole"
       },
       "id": "8147cd1b-6114-42d2-899a-47784c730261"
      },
      "84cdac67-3a08-4062-835b-579452b75661": {
       "attrs": {
        "height": 0.4,
        "width": 0.8,
        "x": 0.1,
        "y": 0.5
       },
       "content": {
        "cell": "2ac46531-5e3e-42a5-a389-50a20a3662fd",
        "part": "whole"
       },
       "id": "84cdac67-3a08-4062-835b-579452b75661"
      },
      "8abb96d6-6a1c-46bd-99ce-32ce28d6141d": {
       "attrs": {
        "height": 0.4,
        "width": 0.8,
        "x": 0.1,
        "y": 0.5
       },
       "content": {
        "cell": "78811115-0a22-4b38-baa1-608320126bc9",
        "part": "whole"
       },
       "id": "8abb96d6-6a1c-46bd-99ce-32ce28d6141d"
      },
      "8c160b0c-bae3-4c9b-8a31-49a85ae23a99": {
       "attrs": {
        "height": 0.4,
        "width": 0.8,
        "x": 0.1,
        "y": 0.5
       },
       "content": {
        "cell": "bbf0c58a-00d4-4710-b79d-1cc50744e43a",
        "part": "whole"
       },
       "id": "8c160b0c-bae3-4c9b-8a31-49a85ae23a99"
      },
      "8d70eb76-c011-492f-842f-f2cb966527c7": {
       "attrs": {
        "height": 0.4,
        "width": 0.8,
        "x": 0.1,
        "y": 0.5
       },
       "content": {
        "cell": "c9436e8b-73be-449f-a048-1a7f8ec78708",
        "part": "whole"
       },
       "id": "8d70eb76-c011-492f-842f-f2cb966527c7"
      },
      "8ec5ddd2-59d9-4f12-ac13-06ca721362c6": {
       "attrs": {
        "height": 0.4,
        "width": 0.8,
        "x": 0.1,
        "y": 0.5
       },
       "content": {
        "cell": "d372788e-972d-4887-8f7f-41b525079e7a",
        "part": "whole"
       },
       "id": "8ec5ddd2-59d9-4f12-ac13-06ca721362c6"
      },
      "8faa4eeb-59dd-4232-ab64-d05055b0c438": {
       "attrs": {
        "height": 0.4,
        "width": 0.8,
        "x": 0.1,
        "y": 0.5
       },
       "content": {
        "cell": "f228beff-db55-46cd-bec9-8795ece69fbd",
        "part": "whole"
       },
       "id": "8faa4eeb-59dd-4232-ab64-d05055b0c438"
      },
      "936ee838-df3b-4b26-8a4d-841db597db24": {
       "attrs": {
        "height": 0.4,
        "width": 0.8,
        "x": 0.1,
        "y": 0.5
       },
       "content": {
        "cell": "302097d4-70c6-463f-bec2-a6d719254256",
        "part": "whole"
       },
       "id": "936ee838-df3b-4b26-8a4d-841db597db24"
      },
      "96029528-0c54-43ce-b12e-05a7258c1052": {
       "attrs": {
        "height": 0.4,
        "width": 0.8,
        "x": 0.1,
        "y": 0.5
       },
       "content": {
        "cell": "206e1b7a-c08c-4d23-afc3-159887e65553",
        "part": "whole"
       },
       "id": "96029528-0c54-43ce-b12e-05a7258c1052"
      },
      "9651fde4-af69-4be3-80e0-84e145d71864": {
       "attrs": {
        "height": 0.4,
        "width": 0.8,
        "x": 0.1,
        "y": 0.5
       },
       "content": {
        "cell": "db19fcba-50c8-4409-8871-37afc6ce2634",
        "part": "whole"
       },
       "id": "9651fde4-af69-4be3-80e0-84e145d71864"
      },
      "98356b4b-4f5b-4a00-9907-62edfe448ffc": {
       "attrs": {
        "height": 0.4,
        "width": 0.8,
        "x": 0.1,
        "y": 0.5
       },
       "content": {
        "cell": "ea1b7751-bf33-4922-9232-4910656bcdb8",
        "part": "whole"
       },
       "id": "98356b4b-4f5b-4a00-9907-62edfe448ffc"
      },
      "9883d88b-cf9a-49cb-a7d3-e5c09262a0e2": {
       "attrs": {
        "height": 0.4,
        "width": 0.8,
        "x": 0.1,
        "y": 0.5
       },
       "content": {
        "cell": "ec9eb3fa-add9-4b86-b5c1-84720a4d7ec5",
        "part": "whole"
       },
       "id": "9883d88b-cf9a-49cb-a7d3-e5c09262a0e2"
      },
      "98e381b9-5ecf-4fe1-8607-b276a5be0b2d": {
       "attrs": {
        "height": 0.4,
        "width": 0.8,
        "x": 0.1,
        "y": 0.5
       },
       "content": {
        "cell": "876866d4-181a-4b3f-b4db-692f9ed526ad",
        "part": "whole"
       },
       "id": "98e381b9-5ecf-4fe1-8607-b276a5be0b2d"
      },
      "9ab1aadc-7390-4dcd-8d86-d3a4e652576c": {
       "attrs": {
        "height": 0.4,
        "width": 0.8,
        "x": 0.1,
        "y": 0.5
       },
       "content": {
        "cell": "2accc7a4-331c-44a7-b87d-bb4da1b4c01f",
        "part": "whole"
       },
       "id": "9ab1aadc-7390-4dcd-8d86-d3a4e652576c"
      },
      "a240d39e-d23c-4cab-bb66-6093e296d2b0": {
       "attrs": {
        "height": 0.4,
        "width": 0.8,
        "x": 0.1,
        "y": 0.5
       },
       "content": {
        "cell": "7b2d7094-697a-4e07-9ca1-38c1c3df5c57",
        "part": "whole"
       },
       "id": "a240d39e-d23c-4cab-bb66-6093e296d2b0"
      },
      "a2c4e66c-bb77-4186-b5f6-e96379a5b216": {
       "attrs": {
        "height": 0.4,
        "width": 0.8,
        "x": 0.1,
        "y": 0.5
       },
       "content": {
        "cell": "83f45f69-cae8-41b2-830a-7b0f083d9c75",
        "part": "whole"
       },
       "id": "a2c4e66c-bb77-4186-b5f6-e96379a5b216"
      },
      "a42cf997-aac6-4723-bcc1-51004e80e723": {
       "attrs": {
        "height": 0.4,
        "width": 0.8,
        "x": 0.1,
        "y": 0.5
       },
       "content": {
        "cell": "7d320626-701e-43ca-867e-fa6f03104d0a",
        "part": "whole"
       },
       "id": "a42cf997-aac6-4723-bcc1-51004e80e723"
      },
      "a8451008-411c-41fe-afbf-bf35a108d7fd": {
       "attrs": {
        "height": 0.4,
        "width": 0.8,
        "x": 0.1,
        "y": 0.5
       },
       "content": {
        "cell": "6337d4ef-dab0-4ae5-9964-48919ecf17ea",
        "part": "whole"
       },
       "id": "a8451008-411c-41fe-afbf-bf35a108d7fd"
      },
      "acee18b7-2d8f-4e43-aa7b-c1329d78ce2e": {
       "attrs": {
        "height": 0.4,
        "width": 0.8,
        "x": 0.1,
        "y": 0.5
       },
       "content": {
        "cell": "83360444-5fe6-42e2-9f35-cb8e7c416c99",
        "part": "whole"
       },
       "id": "acee18b7-2d8f-4e43-aa7b-c1329d78ce2e"
      },
      "b0a857e7-2bfc-4abf-8fb9-9c5cb004b7d5": {
       "attrs": {
        "height": 0.4,
        "width": 0.8,
        "x": 0.1,
        "y": 0.5
       },
       "content": {
        "cell": "47511c0c-a37c-42c5-a819-0560ed4c36e2",
        "part": "whole"
       },
       "id": "b0a857e7-2bfc-4abf-8fb9-9c5cb004b7d5"
      },
      "b0ca69d0-fb7c-43d6-b1f8-4f9ad58c9569": {
       "attrs": {
        "height": 0.4,
        "width": 0.8,
        "x": 0.1,
        "y": 0.5
       },
       "content": {
        "cell": "13873b86-a131-4baf-8060-204fbb093758",
        "part": "whole"
       },
       "id": "b0ca69d0-fb7c-43d6-b1f8-4f9ad58c9569"
      },
      "b15f51bc-0560-4ee4-9118-5c950ac6fe5d": {
       "attrs": {
        "height": 0.4,
        "width": 0.8,
        "x": 0.1,
        "y": 0.5
       },
       "content": {
        "cell": "4788c0d1-8d63-4603-9761-a48901abe962",
        "part": "whole"
       },
       "id": "b15f51bc-0560-4ee4-9118-5c950ac6fe5d"
      },
      "b3728e05-b5e0-4433-a180-579cd18afc6d": {
       "attrs": {
        "height": 0.4,
        "width": 0.8,
        "x": 0.1,
        "y": 0.5
       },
       "content": {
        "cell": "fc5fd930-a480-49b7-8580-1464880a77c7",
        "part": "whole"
       },
       "id": "b3728e05-b5e0-4433-a180-579cd18afc6d"
      },
      "b59a08b9-565d-479c-87ea-aab244ef6fb3": {
       "attrs": {
        "height": 0.4,
        "width": 0.8,
        "x": 0.1,
        "y": 0.5
       },
       "content": {
        "cell": "16daba85-b5f7-49c0-b093-1b246ad480a0",
        "part": "whole"
       },
       "id": "b59a08b9-565d-479c-87ea-aab244ef6fb3"
      },
      "b7f02d5a-cc0a-48a9-aa87-66a0bec741a3": {
       "attrs": {
        "height": 0.4,
        "width": 0.8,
        "x": 0.1,
        "y": 0.5
       },
       "content": {
        "cell": "37ba35ae-e5a5-48d2-a14a-2067e886640d",
        "part": "whole"
       },
       "id": "b7f02d5a-cc0a-48a9-aa87-66a0bec741a3"
      },
      "b82cf04d-b324-44c8-9871-ffb3b8fb5ae7": {
       "attrs": {
        "height": 0.4,
        "width": 0.8,
        "x": 0.1,
        "y": 0.5
       },
       "content": {
        "cell": "d7a7b733-b7fd-48bb-b193-24a52a0ab851",
        "part": "whole"
       },
       "id": "b82cf04d-b324-44c8-9871-ffb3b8fb5ae7"
      },
      "b88cd96b-14b5-479e-9667-81be51538c07": {
       "attrs": {
        "height": 0.4,
        "width": 0.8,
        "x": 0.1,
        "y": 0.5
       },
       "content": {
        "cell": "e1b41d71-d912-4f7e-832c-79c63c6b609a",
        "part": "whole"
       },
       "id": "b88cd96b-14b5-479e-9667-81be51538c07"
      },
      "bbe5f415-3fba-4d6c-a1ba-72b096caebb8": {
       "attrs": {
        "height": 0.4,
        "width": 0.8,
        "x": 0.1,
        "y": 0.5
       },
       "content": {
        "cell": "9c2406fc-f68e-4f26-92b8-d99fe4f3db19",
        "part": "whole"
       },
       "id": "bbe5f415-3fba-4d6c-a1ba-72b096caebb8"
      },
      "bccdb3eb-33d1-4a40-b021-636ab6c3ca33": {
       "attrs": {
        "height": 0.4,
        "width": 0.8,
        "x": 0.1,
        "y": 0.5
       },
       "content": {
        "cell": "8b647ebe-c48c-4fea-9e48-5a9388bd3eed",
        "part": "whole"
       },
       "id": "bccdb3eb-33d1-4a40-b021-636ab6c3ca33"
      },
      "bd3c9c37-733e-4921-8bcb-2c0c9e7bbf2d": {
       "attrs": {
        "height": 0.4,
        "width": 0.8,
        "x": 0.1,
        "y": 0.5
       },
       "content": {
        "cell": "45d62d47-6484-41a3-9b3a-7943cdc22503",
        "part": "whole"
       },
       "id": "bd3c9c37-733e-4921-8bcb-2c0c9e7bbf2d"
      },
      "c1028615-2922-4a87-8e5a-fb04a2c1d6af": {
       "attrs": {
        "height": 0.4,
        "width": 0.8,
        "x": 0.1,
        "y": 0.5
       },
       "content": {
        "cell": "47bdb9a0-dadc-419d-a658-f5f280ffb210",
        "part": "whole"
       },
       "id": "c1028615-2922-4a87-8e5a-fb04a2c1d6af"
      },
      "c15d6c34-953a-46e7-a0e6-75986ec64833": {
       "attrs": {
        "height": 0.4,
        "width": 0.8,
        "x": 0.1,
        "y": 0.5
       },
       "content": {
        "cell": "a8327cdd-e51a-47f8-b900-6c44cf5c1bb1",
        "part": "whole"
       },
       "id": "c15d6c34-953a-46e7-a0e6-75986ec64833"
      },
      "c3b7cdcf-dd5e-4e3b-b306-308d3667f245": {
       "attrs": {
        "height": 0.4,
        "width": 0.8,
        "x": 0.1,
        "y": 0.5
       },
       "content": {
        "cell": "ecc163d9-bef3-46bd-b787-018ebdb53da3",
        "part": "whole"
       },
       "id": "c3b7cdcf-dd5e-4e3b-b306-308d3667f245"
      },
      "c6c2ba76-0393-41f0-ae6b-a7bc593e1640": {
       "attrs": {
        "height": 0.4,
        "width": 0.8,
        "x": 0.1,
        "y": 0.5
       },
       "content": {
        "cell": "506dd513-2ef9-46cc-ad04-94f9af8fea84",
        "part": "whole"
       },
       "id": "c6c2ba76-0393-41f0-ae6b-a7bc593e1640"
      },
      "cc83fec1-c1ed-41b6-9e26-162c617c2778": {
       "attrs": {
        "height": 0.4,
        "width": 0.8,
        "x": 0.1,
        "y": 0.5
       },
       "content": {
        "cell": "f942c05b-475c-4a87-a296-856f31603f79",
        "part": "whole"
       },
       "id": "cc83fec1-c1ed-41b6-9e26-162c617c2778"
      },
      "cfa967d1-653f-4b2d-9ebc-a73bae42c1ac": {
       "attrs": {
        "height": 0.4,
        "width": 0.8,
        "x": 0.1,
        "y": 0.5
       },
       "content": {
        "cell": "707446f1-89ff-42a7-b5f6-1f84777e601a",
        "part": "whole"
       },
       "id": "cfa967d1-653f-4b2d-9ebc-a73bae42c1ac"
      },
      "d6f9ea69-3d5f-4980-8cb5-7acdc170439d": {
       "attrs": {
        "height": 0.4,
        "width": 0.8,
        "x": 0.1,
        "y": 0.5
       },
       "content": {
        "cell": "3c02204d-dc6e-4f0a-afd8-15372d856545",
        "part": "whole"
       },
       "id": "d6f9ea69-3d5f-4980-8cb5-7acdc170439d"
      },
      "da9fea3a-69e1-4e8e-add3-790563035bd7": {
       "attrs": {
        "height": 0.4,
        "width": 0.8,
        "x": 0.1,
        "y": 0.5
       },
       "content": {
        "cell": "854f9dc4-33a3-4ecb-abf8-e0ed14dce88a",
        "part": "whole"
       },
       "id": "da9fea3a-69e1-4e8e-add3-790563035bd7"
      },
      "dc74f2e1-33b7-471a-8742-7fb9cef1c551": {
       "attrs": {
        "height": 0.4,
        "width": 0.8,
        "x": 0.1,
        "y": 0.5
       },
       "content": {
        "cell": "0678ff6f-864e-466a-81e5-10dcad04242e",
        "part": "whole"
       },
       "id": "dc74f2e1-33b7-471a-8742-7fb9cef1c551"
      },
      "dc8c360d-de0b-4ab3-b014-ce787f2c9d2f": {
       "attrs": {
        "height": 0.4,
        "width": 0.8,
        "x": 0.1,
        "y": 0.5
       },
       "content": {
        "cell": "02289e92-4391-4488-ba8a-528973910d6d",
        "part": "whole"
       },
       "id": "dc8c360d-de0b-4ab3-b014-ce787f2c9d2f"
      },
      "dd5d9949-5f86-447e-a098-be1da6b868fc": {
       "attrs": {
        "height": 0.4,
        "width": 0.8,
        "x": 0.1,
        "y": 0.5
       },
       "content": {
        "cell": "b7288abf-2b23-44ea-aece-f67775dc4520",
        "part": "whole"
       },
       "id": "dd5d9949-5f86-447e-a098-be1da6b868fc"
      },
      "de12a546-1564-4fad-9a32-bdf79c8162dd": {
       "attrs": {
        "height": 0.4,
        "width": 0.8,
        "x": 0.1,
        "y": 0.5
       },
       "content": {
        "cell": "807837bf-6283-4cd3-bdf1-d51f8c378ed5",
        "part": "whole"
       },
       "id": "de12a546-1564-4fad-9a32-bdf79c8162dd"
      },
      "e10b8eb8-7198-48ab-b446-237c97adeddf": {
       "attrs": {
        "height": 0.8,
        "width": 0.8,
        "x": 0.1,
        "y": 0.1
       },
       "content": {
        "cell": "ecfc749a-f9d0-4c56-b301-4e9c56229cc1",
        "part": "whole"
       },
       "id": "e10b8eb8-7198-48ab-b446-237c97adeddf"
      },
      "e2d45fd3-d12b-4396-a2bc-e9af491721e1": {
       "attrs": {
        "height": 0.4,
        "width": 0.8,
        "x": 0.1,
        "y": 0.5
       },
       "content": {
        "cell": "5219dde5-6d23-4e09-b37b-a7d9963c8ee7",
        "part": "whole"
       },
       "id": "e2d45fd3-d12b-4396-a2bc-e9af491721e1"
      },
      "ea701533-d353-4623-8308-458cae12e67f": {
       "attrs": {
        "height": 0.4,
        "width": 0.8,
        "x": 0.1,
        "y": 0.5
       },
       "content": {
        "cell": "b87ce8a7-7d9d-4758-9d68-8c98c2c4ada0",
        "part": "whole"
       },
       "id": "ea701533-d353-4623-8308-458cae12e67f"
      },
      "ecc54ab6-048e-473e-b5d5-b15a08740cd2": {
       "attrs": {
        "height": 0.4,
        "width": 0.8,
        "x": 0.1,
        "y": 0.5
       },
       "content": {
        "cell": "86358868-3a6c-45ab-b2ca-16ae3f50a0a6",
        "part": "whole"
       },
       "id": "ecc54ab6-048e-473e-b5d5-b15a08740cd2"
      },
      "ee70a450-d6de-4625-a5e3-301031243359": {
       "attrs": {
        "height": 0.4,
        "width": 0.8,
        "x": 0.1,
        "y": 0.5
       },
       "content": {
        "cell": "d91f2b6b-09e0-407e-a1d0-fe72682bcae9",
        "part": "whole"
       },
       "id": "ee70a450-d6de-4625-a5e3-301031243359"
      },
      "f100ab64-dcb4-497d-b3b5-4ddd3371a5a4": {
       "attrs": {
        "height": 0.4,
        "width": 0.8,
        "x": 0.1,
        "y": 0.5
       },
       "content": {
        "cell": "92ec8370-c584-4868-8f66-b0c000ed1f9b",
        "part": "whole"
       },
       "id": "f100ab64-dcb4-497d-b3b5-4ddd3371a5a4"
      },
      "f1023989-a396-4741-b88e-c3ca5c9651c5": {
       "attrs": {
        "height": 0.4,
        "width": 0.8,
        "x": 0.1,
        "y": 0.5
       },
       "content": {
        "cell": "61e62c0f-f481-43bd-ad55-7d782cab69f0",
        "part": "whole"
       },
       "id": "f1023989-a396-4741-b88e-c3ca5c9651c5"
      },
      "f53d7c7d-401b-4a00-ac1a-2e61474e1266": {
       "attrs": {
        "height": 0.4,
        "width": 0.8,
        "x": 0.1,
        "y": 0.5
       },
       "content": {
        "cell": "10537ccd-1aee-4b87-a189-fb9c6e3a7b33",
        "part": "whole"
       },
       "id": "f53d7c7d-401b-4a00-ac1a-2e61474e1266"
      },
      "f80816fa-ffa8-4200-ae38-563ecc95862a": {
       "attrs": {
        "height": 0.4,
        "width": 0.8,
        "x": 0.1,
        "y": 0.5
       },
       "content": {
        "cell": "40aa8a62-b7e1-468e-8b93-200fffb775f2",
        "part": "whole"
       },
       "id": "f80816fa-ffa8-4200-ae38-563ecc95862a"
      },
      "fb96b6c5-233b-4636-b438-dd015c0f4466": {
       "attrs": {
        "height": 0.4,
        "width": 0.8,
        "x": 0.1,
        "y": 0.5
       },
       "content": {
        "cell": "e12147ab-ab95-40cb-8e98-ef10c9ef8c6c",
        "part": "whole"
       },
       "id": "fb96b6c5-233b-4636-b438-dd015c0f4466"
      },
      "fe2835d1-d492-46b2-a659-585462bfc79b": {
       "attrs": {
        "height": 0.4,
        "width": 0.8,
        "x": 0.1,
        "y": 0.5
       },
       "content": {
        "cell": "bb485e35-23aa-4716-bdcf-5d678b26e7e1",
        "part": "whole"
       },
       "id": "fe2835d1-d492-46b2-a659-585462bfc79b"
      }
     }
    },
    "c50ea7d2-624c-4783-940e-951dafe40ddc": {
     "id": "c50ea7d2-624c-4783-940e-951dafe40ddc",
     "prev": null,
     "regions": {
      "625d6461-ef4c-451a-9c6d-467f250fbf24": {
       "attrs": {
        "height": 0.8,
        "width": 0.8,
        "x": 0.1,
        "y": 0.1
       },
       "content": {
        "cell": "c9eab85c-3643-4406-9192-bf535296d168",
        "part": "whole"
       },
       "id": "625d6461-ef4c-451a-9c6d-467f250fbf24"
      }
     }
    },
    "ef0f7e1c-f074-4719-bcf3-fa7d26f6cdea": {
     "id": "ef0f7e1c-f074-4719-bcf3-fa7d26f6cdea",
     "prev": "1157465b-ebb8-4091-a88f-4aca4727c0ca",
     "regions": {
      "03227a41-946b-43f2-a510-faae53e05681": {
       "attrs": {
        "height": 0.8,
        "width": 0.8,
        "x": 0.1,
        "y": 0.1
       },
       "content": {
        "cell": "40175e5c-3f89-4383-b035-df12fd8ae065",
        "part": "whole"
       },
       "id": "03227a41-946b-43f2-a510-faae53e05681"
      }
     }
    },
    "f19f69f9-f369-48b8-b66a-7b50f93b1670": {
     "id": "f19f69f9-f369-48b8-b66a-7b50f93b1670",
     "prev": "3fe5dae0-e541-48c0-bb9c-112676b4ab0f",
     "regions": {
      "1af7518f-6c3b-420a-8200-67e246108292": {
       "attrs": {
        "height": 0.8,
        "width": 0.8,
        "x": 0.1,
        "y": 0.1
       },
       "content": {
        "cell": "a9a99b8d-c9a5-45ac-9df7-9912c95848a3",
        "part": "whole"
       },
       "id": "1af7518f-6c3b-420a-8200-67e246108292"
      },
      "fcef9298-5aef-4d3a-b925-cc932792ec5a": {
       "attrs": {
        "height": 0.4,
        "width": 0.8,
        "x": 0.1,
        "y": 0.5
       },
       "content": {
        "cell": "7cbd602f-9a8f-45d2-b5bb-feafad2c111a",
        "part": "whole"
       },
       "id": "fcef9298-5aef-4d3a-b925-cc932792ec5a"
      }
     }
    }
   },
   "themes": {
    "default": "c6762469-2e3e-4e72-bde8-404af8c01ea9",
    "theme": {
     "c6762469-2e3e-4e72-bde8-404af8c01ea9": {
      "backgrounds": {
       "backgroundColor": {
        "background-color": "backgroundColor",
        "id": "backgroundColor"
       }
      },
      "id": "c6762469-2e3e-4e72-bde8-404af8c01ea9",
      "palette": {
       "backgroundColor": {
        "id": "backgroundColor",
        "rgb": [
         256,
         256,
         256
        ]
       },
       "headingColor": {
        "id": "headingColor",
        "rgb": [
         0,
         0,
         0
        ]
       },
       "linkColor": {
        "id": "linkColor",
        "rgb": [
         0,
         0,
         139
        ]
       },
       "mainColor": {
        "id": "mainColor",
        "rgb": [
         0,
         0,
         0
        ]
       }
      },
      "rules": {
       "a": {
        "color": "linkColor"
       },
       "h1": {
        "color": "headingColor",
        "font-family": "News Cycle",
        "font-size": 7
       },
       "h2": {
        "color": "headingColor",
        "font-family": "News Cycle",
        "font-size": 5
       },
       "h3": {
        "color": "headingColor",
        "font-family": "News Cycle",
        "font-size": 3.75
       },
       "h4": {
        "color": "headingColor",
        "font-family": "News Cycle",
        "font-size": 3
       },
       "h5": {
        "color": "headingColor",
        "font-family": "News Cycle"
       },
       "h6": {
        "color": "headingColor",
        "font-family": "News Cycle"
       },
       "h7": {
        "color": "headingColor",
        "font-family": "News Cycle"
       },
       "li": {
        "color": "mainColor",
        "font-family": "Lato",
        "font-size": 5
       },
       "p": {
        "color": "mainColor",
        "font-family": "Lato",
        "font-size": 5
       }
      },
      "text-base": {
       "color": "mainColor",
       "font-family": "Lato",
       "font-size": 5
      }
     },
     "d2a0f75d-7879-43af-966c-d86e96d5ae62": {
      "backgrounds": {
       "backgroundColor": {
        "background-color": "backgroundColor",
        "id": "backgroundColor"
       }
      },
      "id": "d2a0f75d-7879-43af-966c-d86e96d5ae62",
      "palette": {
       "backgroundColor": {
        "id": "backgroundColor",
        "rgb": [
         34,
         34,
         34
        ]
       },
       "headingColor": {
        "id": "headingColor",
        "rgb": [
         256,
         256,
         256
        ]
       },
       "linkColor": {
        "id": "linkColor",
        "rgb": [
         66,
         175,
         250
        ]
       },
       "mainColor": {
        "id": "mainColor",
        "rgb": [
         256,
         256,
         256
        ]
       }
      },
      "rules": {
       "a": {
        "color": "linkColor"
       },
       "h1": {
        "color": "headingColor",
        "font-family": "Source Sans Pro",
        "font-size": 5.25
       },
       "h2": {
        "color": "headingColor",
        "font-family": "Source Sans Pro",
        "font-size": 4
       },
       "h3": {
        "color": "headingColor",
        "font-family": "Source Sans Pro",
        "font-size": 3.5
       },
       "h4": {
        "color": "headingColor",
        "font-family": "Source Sans Pro",
        "font-size": 3
       },
       "h5": {
        "color": "headingColor",
        "font-family": "Source Sans Pro"
       },
       "h6": {
        "color": "headingColor",
        "font-family": "Source Sans Pro"
       },
       "h7": {
        "color": "headingColor",
        "font-family": "Source Sans Pro"
       },
       "li": {
        "color": "mainColor",
        "font-family": "Source Sans Pro",
        "font-size": 6
       },
       "p": {
        "color": "mainColor",
        "font-family": "Source Sans Pro",
        "font-size": 6
       }
      },
      "text-base": {
       "color": "mainColor",
       "font-family": "Source Sans Pro",
       "font-size": 6
      }
     },
     "d4850a10-3145-40ad-b3f5-d12fd95a7671": {
      "backgrounds": {
       "dc7afa04-bf90-40b1-82a5-726e3cff5267": {
        "background-color": "31af15d2-7e15-44c5-ab5e-e04b16a89eff",
        "id": "dc7afa04-bf90-40b1-82a5-726e3cff5267"
       }
      },
      "id": "d4850a10-3145-40ad-b3f5-d12fd95a7671",
      "palette": {
       "19cc588f-0593-49c9-9f4b-e4d7cc113b1c": {
        "id": "19cc588f-0593-49c9-9f4b-e4d7cc113b1c",
        "rgb": [
         252,
         252,
         252
        ]
       },
       "31af15d2-7e15-44c5-ab5e-e04b16a89eff": {
        "id": "31af15d2-7e15-44c5-ab5e-e04b16a89eff",
        "rgb": [
         68,
         68,
         68
        ]
       },
       "50f92c45-a630-455b-aec3-788680ec7410": {
        "id": "50f92c45-a630-455b-aec3-788680ec7410",
        "rgb": [
         197,
         226,
         245
        ]
       },
       "c5cc3653-2ee1-402a-aba2-7caae1da4f6c": {
        "id": "c5cc3653-2ee1-402a-aba2-7caae1da4f6c",
        "rgb": [
         43,
         126,
         184
        ]
       },
       "efa7f048-9acb-414c-8b04-a26811511a21": {
        "id": "efa7f048-9acb-414c-8b04-a26811511a21",
        "rgb": [
         25.118061674008803,
         73.60176211453744,
         107.4819383259912
        ]
       }
      },
      "rules": {
       "a": {
        "color": "19cc588f-0593-49c9-9f4b-e4d7cc113b1c"
       },
       "blockquote": {
        "color": "50f92c45-a630-455b-aec3-788680ec7410",
        "font-size": 3
       },
       "code": {
        "font-family": "Anonymous Pro"
       },
       "h1": {
        "color": "19cc588f-0593-49c9-9f4b-e4d7cc113b1c",
        "font-family": "Merriweather",
        "font-size": 8
       },
       "h2": {
        "color": "19cc588f-0593-49c9-9f4b-e4d7cc113b1c",
        "font-family": "Merriweather",
        "font-size": 6
       },
       "h3": {
        "color": "50f92c45-a630-455b-aec3-788680ec7410",
        "font-family": "Lato",
        "font-size": 5.5
       },
       "h4": {
        "color": "c5cc3653-2ee1-402a-aba2-7caae1da4f6c",
        "font-family": "Lato",
        "font-size": 5
       },
       "h5": {
        "font-family": "Lato"
       },
       "h6": {
        "font-family": "Lato"
       },
       "h7": {
        "font-family": "Lato"
       },
       "li": {
        "color": "50f92c45-a630-455b-aec3-788680ec7410",
        "font-size": 3.25
       },
       "pre": {
        "font-family": "Anonymous Pro",
        "font-size": 4
       }
      },
      "text-base": {
       "color": "19cc588f-0593-49c9-9f4b-e4d7cc113b1c",
       "font-family": "Lato",
       "font-size": 4
      }
     },
     "fb169f62-1f7a-46d7-8f2e-6e2b8830cc89": {
      "id": "fb169f62-1f7a-46d7-8f2e-6e2b8830cc89",
      "palette": {
       "19cc588f-0593-49c9-9f4b-e4d7cc113b1c": {
        "id": "19cc588f-0593-49c9-9f4b-e4d7cc113b1c",
        "rgb": [
         252,
         252,
         252
        ]
       },
       "31af15d2-7e15-44c5-ab5e-e04b16a89eff": {
        "id": "31af15d2-7e15-44c5-ab5e-e04b16a89eff",
        "rgb": [
         68,
         68,
         68
        ]
       },
       "50f92c45-a630-455b-aec3-788680ec7410": {
        "id": "50f92c45-a630-455b-aec3-788680ec7410",
        "rgb": [
         155,
         177,
         192
        ]
       },
       "c5cc3653-2ee1-402a-aba2-7caae1da4f6c": {
        "id": "c5cc3653-2ee1-402a-aba2-7caae1da4f6c",
        "rgb": [
         43,
         126,
         184
        ]
       },
       "efa7f048-9acb-414c-8b04-a26811511a21": {
        "id": "efa7f048-9acb-414c-8b04-a26811511a21",
        "rgb": [
         25.118061674008803,
         73.60176211453744,
         107.4819383259912
        ]
       }
      },
      "rules": {
       "blockquote": {
        "color": "50f92c45-a630-455b-aec3-788680ec7410"
       },
       "code": {
        "font-family": "Anonymous Pro"
       },
       "h1": {
        "color": "c5cc3653-2ee1-402a-aba2-7caae1da4f6c",
        "font-family": "Lato",
        "font-size": 8
       },
       "h2": {
        "color": "c5cc3653-2ee1-402a-aba2-7caae1da4f6c",
        "font-family": "Lato",
        "font-size": 6
       },
       "h3": {
        "color": "50f92c45-a630-455b-aec3-788680ec7410",
        "font-family": "Lato",
        "font-size": 5.5
       },
       "h4": {
        "color": "c5cc3653-2ee1-402a-aba2-7caae1da4f6c",
        "font-family": "Lato",
        "font-size": 5
       },
       "h5": {
        "font-family": "Lato"
       },
       "h6": {
        "font-family": "Lato"
       },
       "h7": {
        "font-family": "Lato"
       },
       "pre": {
        "font-family": "Anonymous Pro",
        "font-size": 4
       }
      },
      "text-base": {
       "font-family": "Merriweather",
       "font-size": 4
      }
     }
    }
   }
  }
 },
 "nbformat": 4,
 "nbformat_minor": 1
}
