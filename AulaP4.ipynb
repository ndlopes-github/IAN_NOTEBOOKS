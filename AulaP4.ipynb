{
 "cells": [
  {
   "cell_type": "markdown",
   "metadata": {
    "collapsed": true,
    "slideshow": {
     "slide_type": "slide"
    }
   },
   "source": [
    "## Aula 4\n",
    "\n",
    "- Método de Newton\n",
    "- Método da Secante"
   ]
  },
  {
   "cell_type": "markdown",
   "metadata": {
    "slideshow": {
     "slide_type": "slide"
    }
   },
   "source": [
    "### Método de Newton (Dedução Geométrica)"
   ]
  },
  {
   "cell_type": "markdown",
   "metadata": {},
   "source": [
    "Dada a equação $f(x)=0$ que tem uma única raiz real $r$ no intervalo\n",
    "$[a,b]$ e para uma função $f(x)$ contínua e diferenciável, o  algoritmo\n",
    "de Newton-Raphson  para aproximar o valor de $r$\n",
    "pode ser deduzido geometricamente de acordo com o exemplo ilustrado na Figura seguinte."
   ]
  },
  {
   "cell_type": "markdown",
   "metadata": {
    "slideshow": {
     "slide_type": "slide"
    }
   },
   "source": [
    "![NewtonRaphson.png](NewtonRaphson.png)\n",
    "\n",
    "- Esquema da dedução geométrica do método de Newton-Raphson para aproximar a solução negativa de \n",
    "$$3(x-(\\pi-3))^4=0.1$$"
   ]
  },
  {
   "cell_type": "markdown",
   "metadata": {
    "slideshow": {
     "slide_type": "slide"
    }
   },
   "source": [
    "As aproximações $x_{n+1}$ são obtidas  considerando a intersecção da rectas tangente ao gráfico de\n",
    "$f(x)$ no ponto $(x_n,f(x_n))$ com o eixo dos $x's$ .\n",
    "Deste modo, dada uma aproximação inicial $x_0$, o algoritmo consiste em iterar a expressão seguinte:\n",
    "$$x_{n+1}=x_n-\\frac{f(x_n)}{f'(x_n)} \\quad (n\\in\\mathbb{N}).$$"
   ]
  },
  {
   "cell_type": "markdown",
   "metadata": {
    "slideshow": {
     "slide_type": "slide"
    }
   },
   "source": [
    "### Teorema:\n",
    "\n",
    "Seja $f\\in C^2([a,b])$. Se $r\\in[a,b]$ é tal que $f(r)=0$ e $f'(r)\\neq\n",
    "0$ então existe um $\\delta>0$ tal que para uma aproximação inicial\n",
    "$x_0\\in[r-\\delta,r+\\delta]$ o método de Newton-Raphson converge, i.e., a\n",
    "sucessão $\\{x_n\\}_{n=1}^\\infty$ gerada pela fórmula iteradora do método\n",
    "converge para $r$."
   ]
  },
  {
   "cell_type": "markdown",
   "metadata": {
    "slideshow": {
     "slide_type": "slide"
    }
   },
   "source": [
    "## Condições suficientes de convergência\n",
    "\n",
    "Seja $f \\in C^2([a,b])$. Se\n",
    "- $f(a)f(b)<0$,\n",
    "- $f'(x)\\neq 0,\\ \\forall x\\in[a,b],$\n",
    "- $f''(x)\\neq 0,$  $\\forall x\\in[a,b],$\n",
    "- $x_0$ é escolhido de forma a que $f(x_0)f''(x)>0, \\ \\forall x\\in]a,b[$\n",
    "\n",
    "\n",
    "então o método é convergente, i.e., a sucessão $\\{x_n\\}_{n=1}^\\infty$ converge para $r$."
   ]
  },
  {
   "cell_type": "markdown",
   "metadata": {
    "slideshow": {
     "slide_type": "slide"
    }
   },
   "source": [
    "## Erro à posteriori do Método de Newton-Raphson\n",
    "\n",
    " Em cada iteração $i+1$ o erro do método de Newton-Raphson\n",
    "satisfaz a desigualdade seguintes:\n",
    "$$|x_{i+1}-r|\\leq\\frac{1}{2}\\frac{\\displaystyle\\max_{x\\in[a,b]}|f''(x)|}{\\displaystyle\\min_{x\\in[a,b]}|f'(x)|}|x_{i+1}-x_i|^2.$$"
   ]
  },
  {
   "cell_type": "markdown",
   "metadata": {
    "collapsed": true,
    "slideshow": {
     "slide_type": "slide"
    }
   },
   "source": [
    "### Exercício\n",
    "\n",
    "A equação $x^3-x^2-17x+25=0$ tem uma raiz separada em $[2.5,4]$.\n",
    "\n",
    "- Determine um intervalo com a amplitude máxima de $0.1$ que\n",
    "  contenha essa raiz.\n",
    "- Mostre que no intervalo obtido na alínea anterior são verificadas\n",
    "  as condições suficientes de convergência do método de Newton-Raphson.\n",
    "- Aproxime o valor dessa raiz utilizando o método de Newton-Raphson\n",
    "  com $10$ iterações.\n",
    "- Determine um majorante para um erro da aproximação obtida na\n",
    "  alínea anterior."
   ]
  },
  {
   "cell_type": "code",
   "execution_count": 9,
   "metadata": {
    "slideshow": {
     "slide_type": "slide"
    }
   },
   "outputs": [
    {
     "name": "stdout",
     "output_type": "stream",
     "text": [
      "i=1 x=3.755555555555555535818257339997\n",
      "majerro=0.001232346123367909470139314188\n",
      "0.0012323461233679095\n",
      "i=2 x=3.754406470385165395242665908881\n",
      "majerro=0.000000823762806216532141300466\n",
      "8.237628062165321e-07\n",
      "i=3 x=3.754405707946250725370873624342\n",
      "majerro=0.000000000000362666840160222292\n",
      "3.626668401602223e-13\n",
      "i=4 x=3.754405707945915438017436827067\n",
      "majerro=0.000000000000000000000000070135\n",
      "7.013456133751518e-26\n",
      "i=5 x=3.754405707945914993928226977005\n",
      "majerro=0.000000000000000000000000000000\n",
      "1.230376936757426e-31\n",
      "i=6 x=3.754405707945915438017436827067\n",
      "majerro=0.000000000000000000000000000000\n",
      "1.230376936757426e-31\n",
      "i=7 x=3.754405707945914993928226977005\n",
      "majerro=0.000000000000000000000000000000\n",
      "1.230376936757426e-31\n",
      "i=8 x=3.754405707945915438017436827067\n",
      "majerro=0.000000000000000000000000000000\n",
      "1.230376936757426e-31\n",
      "i=9 x=3.754405707945914993928226977005\n",
      "majerro=0.000000000000000000000000000000\n",
      "1.230376936757426e-31\n",
      "i=10 x=3.754405707945915438017436827067\n",
      "majerro=0.000000000000000000000000000000\n",
      "1.230376936757426e-31\n",
      "7.105427357601002e-15\n"
     ]
    }
   ],
   "source": [
    "#Definição da função\n",
    "def f(x):\n",
    "    return x**3-x**2-17*x+25\n",
    "\n",
    "#Definição da derivada da função\n",
    "def df(x):\n",
    "    return 3*x**2-2*x-17\n",
    "\n",
    "def ddf(x):\n",
    "    return 6*x-2\n",
    "\n",
    "\n",
    "#Aproximação inicial\n",
    "x=3.8\n",
    "NMAX=10\n",
    "K=0.5*ddf(3.8)/df(3.7)\n",
    "\n",
    "# 10 iterações para aproximar a solução\n",
    "for i in range(1,NMAX+1):\n",
    "    x_old=x\n",
    "    x=x-f(x)/df(x)\n",
    "    majerro=K*(x_old-x)**2\n",
    "    print('i={i:d}'.format(i=i), 'x={x:.30f}'.format(x=x))\n",
    "    print('majerro={majerro:.30f}'.format(majerro=majerro))\n",
    "    print(majerro)\n",
    "    \n",
    "print(f(x))\n"
   ]
  },
  {
   "cell_type": "markdown",
   "metadata": {
    "slideshow": {
     "slide_type": "slide"
    }
   },
   "source": [
    "### Exercício\n",
    "\n",
    "Considere a função $f(x)=\\log(x)+\\tan(x)$.\n",
    "\n",
    "- Mostre que a equação $f(x)=0$ tem exactamente uma raiz no intervalo $]\\frac{\\pi}{2},\\frac{3\\pi}{2}[$.\n",
    "\n",
    "- Utilize o método da bissecção para determinar um intervalo com $0.1$ de amplitude que contenha essa raiz.\n",
    "  \n",
    "- Mostre que o método de Newton-Raphson converge para a raiz da equação $f(x)=0$ no intervalo determinado na alínea anterior.\n",
    "\n",
    "- Considerando uma aproximação inicial adequada, efectue 5 iterações do método de Newton-Raphson e determine um majorante do erro da aproximação obtida."
   ]
  },
  {
   "cell_type": "markdown",
   "metadata": {
    "collapsed": true,
    "slideshow": {
     "slide_type": "slide"
    }
   },
   "source": [
    "### Método da Secante\n",
    "\n",
    "- O método consiste na substituição de  $f'(x_n)$ por uma aproximação\n",
    "    $$f'(x_n)\\approx \\frac{f(x_{n})-f(x_{n-1})}{x_n-x_{n-1}}$$\n",
    "\n",
    "- Necessitamos de duas aproximações iniciais, $x_0$ e $x_1$.\n",
    "\n",
    "- A fórmula iteradora é:\n",
    "$$x_{n+1}=x_n-f(x_n)\\frac{x_n-x_{n-1}}{f(x_{n})-f(x_{n-1})}$$\n",
    "\n",
    "    "
   ]
  },
  {
   "cell_type": "markdown",
   "metadata": {
    "slideshow": {
     "slide_type": "slide"
    }
   },
   "source": [
    "### Exercício\n",
    "\n",
    " Utilize o método da secante com critério de paragem $|x_{n+1}-x_n|<10^{-16}$ para aproximar as soluções de: \n",
    " \n",
    " - $e^x+2^{-x} +2 \\cos(x)-6=0$ com $x\\in[1,2]$\n",
    " - $\\sin(x)-e^{-x}=0$ com $x\\in[0,1]$"
   ]
  },
  {
   "cell_type": "code",
   "execution_count": 12,
   "metadata": {
    "slideshow": {
     "slide_type": "slide"
    }
   },
   "outputs": [
    {
     "name": "stdout",
     "output_type": "stream",
     "text": [
      "x=1.678308484767380593   ERR=0.321691515232619407\n",
      "x=1.808102877020448362   ERR=0.129794392253067770\n",
      "x=1.832298463518954756   ERR=0.024195586498506394\n",
      "x=1.829331172931533578   ERR=0.002967290587421179\n",
      "x=1.829383473984212527   ERR=0.000052301052678949\n",
      "x=1.829383601939472692   ERR=0.000000127955260165\n",
      "x=1.829383601933848746   ERR=0.000000000005623946\n",
      "x=1.829383601933848746   ERR=0.000000000000000000\n",
      "f(x1)=0.0000000000000000000000000000000000000000\n"
     ]
    }
   ],
   "source": [
    "from math import exp, cos, sin \n",
    "\n",
    "# Aprox. iniciais\n",
    "x0=1.0\n",
    "x1=2.0\n",
    "\n",
    "#TOL para paragem\n",
    "TOL=1.e-16\n",
    "ERR= 1.0\n",
    "NMAX= 100\n",
    "\n",
    "#Func. f (outra forma de definir)\n",
    "f= lambda x: exp(x) + 2.0**(-x)+2*cos(x)-6.0\n",
    "#f= lambda x: sin(x)-exp(-x)\n",
    "\n",
    "for i in range(1,NMAX+1):\n",
    "    x2=x1-f(x1)*(x1-x0)/(f(x1)-f(x0))\n",
    "    ERR=abs(x2-x1)\n",
    "    print('x={x2:20.18f}'.format(x2=x2), ' ', 'ERR={ERR:20.18f}'.format(ERR=ERR))\n",
    "    if ERR < TOL:\n",
    "        break\n",
    "    # Updated dos valores de x\n",
    "    x0=x1\n",
    "    x1=x2\n",
    "    \n",
    "print('f(x1)={fx1:.40f}'.format(fx1=f(x1)))\n"
   ]
  },
  {
   "cell_type": "markdown",
   "metadata": {
    "slideshow": {
     "slide_type": "slide"
    }
   },
   "source": [
    "### Método da Falsa Posição  TPC\n",
    " \n",
    " - Variação do método da secante com imposição de sinal na escolha de $x_n$ de forma a que $$f(x_n)(x_{n-1})<0.$$  "
   ]
  },
  {
   "cell_type": "code",
   "execution_count": 13,
   "metadata": {},
   "outputs": [
    {
     "name": "stdout",
     "output_type": "stream",
     "text": [
      "x=00000000001.418677143771820415   ERR=0.581322856228179585\n",
      "x=00000000001.695909853996252936   ERR=0.277232710224432521\n",
      "x=00000000001.734712127834993511   ERR=0.038802273838740575\n",
      "x=00000000001.739828851936004117   ERR=0.005116724101010606\n",
      "x=00000000001.740497991214135176   ERR=0.000669139278131059\n",
      "x=00000000001.740585402012413851   ERR=0.000087410798278675\n",
      "x=00000000001.740596818996810624   ERR=0.000011416984396773\n",
      "x=00000000001.740598310175188734   ERR=0.000001491178378110\n",
      "x=00000000001.740598504938310143   ERR=0.000000194763121408\n",
      "x=00000000001.740598530376354258   ERR=0.000000025438044116\n",
      "x=00000000001.740598533698821448   ERR=0.000000003322467190\n",
      "x=00000000001.740598534132769437   ERR=0.000000000433947989\n",
      "x=00000000001.740598534189447211   ERR=0.000000000056677774\n",
      "x=00000000001.740598534196849956   ERR=0.000000000007402745\n",
      "x=00000000001.740598534197816960   ERR=0.000000000000967004\n",
      "x=00000000001.740598534197943081   ERR=0.000000000000126121\n",
      "x=00000000001.740598534197959735   ERR=0.000000000000016653\n",
      "x=00000000001.740598534197961733   ERR=0.000000000000001998\n",
      "x=00000000001.740598534197962177   ERR=0.000000000000000444\n",
      "x=00000000001.740598534197962177   ERR=0.000000000000000000\n"
     ]
    }
   ],
   "source": [
    "from math import exp, cos, sin \n",
    "\n",
    "# Aprox. iniciais\n",
    "x0=0.0\n",
    "x1=2.0\n",
    "\n",
    "\n",
    "#TOL para paragem\n",
    "TOL=1.e-16\n",
    "ERR= 1.0\n",
    "NMAX= 100\n",
    "\n",
    "#Func. f (outra forma de definir)\n",
    "f= lambda x: exp(x) + 2.0**(-x)-6.0\n",
    "#f= lambda x: sin(x)-exp(-x)\n",
    "\n",
    "if f(x0)*f(x1)<0:\n",
    "    for i in range(1,NMAX+1):\n",
    "        x2=x1-f(x1)*(x1-x0)/(f(x1)-f(x0))\n",
    "        ERR=abs(x2-x1)\n",
    "        print('x={x2:030.18f}'.format(x2=x2), ' ', 'ERR={ERR:20.18f}'.format(ERR=ERR))\n",
    "        if ERR < TOL:\n",
    "            break\n",
    "        # Updated dos valores de x\n",
    "        f1=f(x1)\n",
    "        f2=f(x2)\n",
    "        if f1*f2 <0:\n",
    "            x0=x1\n",
    "        x1=x2\n",
    "else:\n",
    "    print('ESCOLHA ERRADA PARA COND. INICIAIS')\n",
    "            \n",
    "    "
   ]
  },
  {
   "cell_type": "code",
   "execution_count": null,
   "metadata": {
    "collapsed": true
   },
   "outputs": [],
   "source": []
  }
 ],
 "metadata": {
  "celltoolbar": "Slideshow",
  "kernelspec": {
   "display_name": "Python 3",
   "language": "python",
   "name": "python3"
  },
  "language_info": {
   "codemirror_mode": {
    "name": "ipython",
    "version": 3
   },
   "file_extension": ".py",
   "mimetype": "text/x-python",
   "name": "python",
   "nbconvert_exporter": "python",
   "pygments_lexer": "ipython3",
   "version": "3.6.2"
  }
 },
 "nbformat": 4,
 "nbformat_minor": 2
}
