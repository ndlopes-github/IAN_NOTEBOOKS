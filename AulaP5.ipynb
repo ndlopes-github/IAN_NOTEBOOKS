{
 "cells": [
  {
   "cell_type": "markdown",
   "metadata": {
    "collapsed": true,
    "slideshow": {
     "slide_type": "slide"
    }
   },
   "source": [
    "## Aula 5\n",
    "\n",
    "- Exercício $f(x)=0$\n",
    "- Introdução à interpolação polinomial"
   ]
  },
  {
   "cell_type": "markdown",
   "metadata": {
    "slideshow": {
     "slide_type": "slide"
    }
   },
   "source": [
    "### Exercício\n",
    "\n",
    "Considere a função $f(x)=\\log(x)+\\tan(x)$.\n",
    "\n",
    "- a) Mostre que a equação $f(x)=0$ tem exactamente uma raiz no intervalo $]\\frac{\\pi}{2},\\frac{3\\pi}{2}[$.\n",
    "\n",
    "- b) Utilize o método da bissecção para determinar um intervalo com $0.1$ de amplitude que contenha essa raiz.\n",
    "  \n",
    "- c) Mostre que o método de Newton-Raphson converge para a raiz da equação $f(x)=0$ no intervalo determinado na alínea anterior.\n",
    "\n",
    "- d) Considerando uma aproximação inicial adequada, efectue 5 iterações do método de Newton-Raphson e determine um majorante do erro da aproximação obtida.\n",
    "\n",
    "- e) Efectue agora 10 iterações do método da falsa posição e do método da secante para aproximar a solução de $f(x)=0$.\n",
    "\n",
    "- f) Compare e comente os resultados obtidos."
   ]
  },
  {
   "cell_type": "markdown",
   "metadata": {
    "slideshow": {
     "slide_type": "slide"
    }
   },
   "source": [
    "Resolução a):\n",
    " \n",
    " - $f \\in C^2(]\\frac{\\pi}{2},\\frac{3\\pi}{2}[)$\n",
    " - $\\lim_{x\\rightarrow\\frac{\\pi}{2}}f(x)=-\\infty$ e $\\lim_{x\\rightarrow\\frac{3\\pi}{2}}f(x)=+\\infty$\n",
    " - $f'(x)=\\frac{1}{x}+\\sec^2(x) > 0$   para   todos os $x\\in ]\\frac{\\pi}{2},\\frac{3\\pi}{2}[$ \n",
    " - Como consequência (Bolzano e corolários) $f$ tem um zero único no intervalo dado.\n",
    " \n"
   ]
  },
  {
   "cell_type": "markdown",
   "metadata": {
    "slideshow": {
     "slide_type": "slide"
    }
   },
   "source": [
    "Resolução b):\n",
    "- O intervalo inicial para o método da bissecção tem de ser adaptado (os extremos não pertencem ao domínio de $f(x)$)."
   ]
  },
  {
   "cell_type": "code",
   "execution_count": 10,
   "metadata": {},
   "outputs": [
    {
     "name": "stdout",
     "output_type": "stream",
     "text": [
      "A= 1.6707963267948966 B= 4.61238898038469\n",
      "2.9415926535897934\n",
      "A= 1.6707963267948966 B= 3.141592653589793\n",
      "1.4707963267948965\n",
      "A= 2.4061944901923447 B= 3.141592653589793\n",
      "0.7353981633974485\n",
      "A= 2.4061944901923447 B= 2.773893571891069\n",
      "0.36769908169872423\n",
      "A= 2.4061944901923447 B= 2.5900440310417068\n",
      "0.18384954084936211\n",
      "A= 2.4 B= 2.5\n"
     ]
    }
   ],
   "source": [
    "from math import pi, tan, cos, log, sin\n",
    "\n",
    "A=pi/2.+0.1\n",
    "B=3*pi/2.-0.1\n",
    "\n",
    "f= lambda x: log(x)+tan(x)\n",
    "\n",
    "DMAX=0.1\n",
    "DIAM = B-A\n",
    "\n",
    "while DIAM > DMAX:\n",
    "    print('A=', A, 'B=', B)\n",
    "    print(DIAM)\n",
    "    p=(A+B)/2.0\n",
    "    if(f(A)*f(p)>0):\n",
    "        A=p\n",
    "    else:\n",
    "        B=p\n",
    "    DIAM=B-A\n",
    "   \n",
    "A=round(A-0.05,1)\n",
    "B=round(B+0.05,1)\n",
    "\n",
    "print('A=', A, 'B=', B)\n"
   ]
  },
  {
   "cell_type": "markdown",
   "metadata": {
    "slideshow": {
     "slide_type": "slide"
    }
   },
   "source": [
    "Resolução c)\n",
    " Estudemos a segunda derivada de $f(x)$\n",
    "\n",
    "- $f''(x)=-\\frac{1}{x^2}+2\\sec^2(x)\\tan(x)$\n",
    "- $f'''(x)=\\frac{2}{x^3}+2\\sec^4(x)+4\\sec^2(x)\\tan^2(x)>0$ para todo o $x\\in[2.4,2.5]$\n",
    "- $f''(x)$ é estritamente crescentes"
   ]
  },
  {
   "cell_type": "code",
   "execution_count": 11,
   "metadata": {
    "slideshow": {
     "slide_type": "slide"
    }
   },
   "outputs": [
    {
     "name": "stdout",
     "output_type": "stream",
     "text": [
      "df(2.4)= 2.25574884555255\n",
      "df(2.5)= 1.9580423125717252\n",
      "\n",
      "\n",
      "ddf(2.4)= -3.542862222597472\n",
      "ddf(2.5)= -2.48778469506473\n"
     ]
    }
   ],
   "source": [
    "# C. Auxiliares\n",
    "df =  lambda x : 1.0/x+cos(x)**(-2) \n",
    "print('df(2.4)=', df(2.4))\n",
    "print('df(2.5)=',df(2.5))\n",
    "print('\\n')\n",
    "ddf = lambda x : -x**(-2)+2.*cos(x)**(-3)*sin(x)\n",
    "print('ddf(2.4)=', ddf(2.4))\n",
    "print('ddf(2.5)=',ddf(2.5))"
   ]
  },
  {
   "cell_type": "markdown",
   "metadata": {
    "slideshow": {
     "slide_type": "slide"
    }
   },
   "source": [
    "- $f''(x)<0$ para todo o $x\\in[2.4,2.5]$\n",
    "\n",
    "- O Método de Newton Converge para a aproximação inicial $x_0=2.4$."
   ]
  },
  {
   "cell_type": "markdown",
   "metadata": {},
   "source": [
    "Observações extra:\n",
    "\n",
    "- $f'(x)$ é estritamente decrescente"
   ]
  },
  {
   "cell_type": "markdown",
   "metadata": {
    "slideshow": {
     "slide_type": "slide"
    }
   },
   "source": [
    "Resolução d) \n",
    "\n",
    "- $x_0=2.4$\n",
    "-  $$K=\\frac{1}{2}\\frac{\\max_{x\\in[2.4,2.5]}|f''(x)|}{\\min_{x\\in[2.4,2.5]}|f'(x)|}$$"
   ]
  },
  {
   "cell_type": "code",
   "execution_count": 12,
   "metadata": {
    "slideshow": {
     "slide_type": "slide"
    }
   },
   "outputs": [
    {
     "name": "stdout",
     "output_type": "stream",
     "text": [
      "K= 0.9046950108918275 \n",
      "\n",
      "X_Newt= [2.4          2.4179743203 2.4182295047 2.4182295539 2.4182295539] \n",
      "\n",
      "DX_Newt= [1.7974320324e-02 2.5518432694e-04 4.9229758492e-08 1.7763568394e-15] \n",
      "\n",
      "Maj_Erro= [2.9228541822e-04 5.8912871248e-08 2.1925908925e-15 2.8547141010e-30] \n",
      "\n"
     ]
    }
   ],
   "source": [
    "#Newton-Raphson\n",
    "import numpy as np\n",
    "Niter=5\n",
    "\n",
    "K=0.5*abs(ddf(2.4))/abs(df(2.5))\n",
    "\n",
    "print('K=',K, '\\n')\n",
    "\n",
    "X_Newt=np.zeros(Niter)\n",
    "X_Newt[0]=2.4\n",
    "\n",
    "DX_Newt=np.zeros(Niter-1)\n",
    "\n",
    "for i in range(1,Niter):\n",
    "    X_Newt[i]=X_Newt[i-1]-f(X_Newt[i-1])/df(X_Newt[i-1])\n",
    "    \n",
    "\n",
    "# Vectorização (é possível evitar alguns loops)\n",
    "# Cálculo dos majorantes dos erros\n",
    "DX_Newt[0:Niter-1]=np.fabs(X_Newt[1:Niter]-X_Newt[0:Niter-1])\n",
    "\n",
    "np.set_printoptions(precision=10)\n",
    "\n",
    "print('X_Newt=', X_Newt, '\\n')\n",
    "print('DX_Newt=', DX_Newt,'\\n')\n",
    "print('Maj_Erro=', K*DX_Newt**2,'\\n')"
   ]
  },
  {
   "cell_type": "markdown",
   "metadata": {
    "slideshow": {
     "slide_type": "slide"
    }
   },
   "source": [
    "Resolução e) **PERIGO! o que se passa aqui?**"
   ]
  },
  {
   "cell_type": "code",
   "execution_count": 13,
   "metadata": {
    "slideshow": {
     "slide_type": "slide"
    }
   },
   "outputs": [
    {
     "name": "stdout",
     "output_type": "stream",
     "text": [
      "X_Fp= [2.4          2.5          2.4193245231 2.4182447529 2.418229765 ] \n",
      "\n",
      "DX_Fp= [1.0000000000e-01 8.0675476927e-02 1.0797701794e-03 1.4987937651e-05] \n",
      "\n"
     ]
    }
   ],
   "source": [
    "# Falsa Posição\n",
    "X_Fp=np.zeros(Niter)\n",
    "X_Fp[0]=2.4\n",
    "X_Fp[1]=2.5\n",
    "\n",
    "\n",
    "x0=X_Fp[0]\n",
    "x1=X_Fp[1]\n",
    "\n",
    "\n",
    "DX_Fp=np.zeros(Niter-1)\n",
    "\n",
    "for i in range(2,Niter):\n",
    "    x2=x1-f(x1)*(x1-x0)/(f(x1)-f(x0))\n",
    "    f1=f(x1)\n",
    "    f2=f(x2)\n",
    "    if f1*f2 <0:\n",
    "        x0=x1\n",
    "    x1=x2\n",
    "    X_Fp[i]=x2\n",
    "\n",
    "# Vectorização (é possível evitar alguns loops)\n",
    "# Cálculo dos majorantes dos erros\n",
    "DX_Fp[0:Niter-1]=np.fabs(X_Fp[1:Niter]-X_Fp[0:Niter-1])\n",
    "\n",
    "print('X_Fp=', X_Fp, '\\n')\n",
    "print('DX_Fp=', DX_Fp,'\\n')"
   ]
  },
  {
   "cell_type": "code",
   "execution_count": 14,
   "metadata": {
    "slideshow": {
     "slide_type": "slide"
    }
   },
   "outputs": [
    {
     "name": "stdout",
     "output_type": "stream",
     "text": [
      "X_Sec= [2.4          2.5          2.4193245231 2.4181644033 2.4182296078] \n",
      "\n",
      "DX_Sec= [1.0000000000e-01 8.0675476927e-02 1.1601198024e-03 6.5204482346e-05] \n",
      "\n"
     ]
    }
   ],
   "source": [
    "# Secante\n",
    "X_Sec=np.zeros(Niter)\n",
    "X_Sec[0]=2.4\n",
    "X_Sec[1]=2.5\n",
    "\n",
    "\n",
    "DX_Sec=np.zeros(Niter-1)\n",
    "\n",
    "for i in range(2,Niter):\n",
    "    X_Sec[i]=X_Sec[i-1]-f(X_Sec[i-1])*(X_Sec[i-1]-X_Sec[i-2])/(f(X_Sec[i-1])-f(X_Sec[i-2]))\n",
    "    \n",
    "\n",
    "# Vectorização (é possível evitar alguns loops)\n",
    "# Cálculo dos majorantes dos erros\n",
    "DX_Sec[0:Niter-1]=np.fabs(X_Sec[1:Niter]-X_Sec[0:Niter-1])\n",
    "\n",
    "print('X_Sec=', X_Sec, '\\n')\n",
    "print('DX_Sec=', DX_Sec,'\\n')"
   ]
  },
  {
   "cell_type": "markdown",
   "metadata": {
    "slideshow": {
     "slide_type": "slide"
    }
   },
   "source": [
    "## Interpolação Polinomial"
   ]
  },
  {
   "cell_type": "markdown",
   "metadata": {},
   "source": [
    "Suponha-se  que $f$ é uma função incógnita que se conhece apenas em $x_0,\\cdots,x_n$.\n",
    "\n",
    "Pretende-se encontrar a expressão de uma função polinomial $g$ de forma que\n",
    "$g(x_i)=f(x_i),\\ i=0,\\cdots, n.$\n",
    "\n",
    "- Veja-se o exemplo seguinte:"
   ]
  },
  {
   "cell_type": "code",
   "execution_count": 17,
   "metadata": {
    "slideshow": {
     "slide_type": "slide"
    }
   },
   "outputs": [
    {
     "name": "stdout",
     "output_type": "stream",
     "text": [
      "[[0.           1.           2.           3.          ]\n",
      " [0.           0.8414709848 0.9092974268 0.1411200081]]\n"
     ]
    }
   ],
   "source": [
    "from scipy import interpolate\n",
    "\n",
    "x = np.array([0.0,1.0,2.0,3.0])\n",
    "y = np.sin(x)\n",
    "\n",
    "data=np.array([x,y])\n",
    "print(data)\n"
   ]
  },
  {
   "cell_type": "markdown",
   "metadata": {},
   "source": [
    "- Qual o polinómio de (menor grau possível) que se coloca sobre os pontos da tabela?"
   ]
  },
  {
   "cell_type": "code",
   "execution_count": 23,
   "metadata": {},
   "outputs": [
    {
     "data": {
      "image/png": "[encoded data removed]",
      "text/plain": [
       "<Figure size 432x288 with 1 Axes>"
      ]
     },
     "metadata": {},
     "output_type": "display_data"
    }
   ],
   "source": [
    "import matplotlib.pyplot as plt\n",
    "f = interpolate.lagrange(x, y)\n",
    "\n",
    "xnew = np.linspace(0,3.1, 500)\n",
    "ynew = f(xnew)   # interpolacao de lagrange no modulo `interpolate.lagrange`\n",
    "\n",
    "plt.plot(x, y, 'o',color='b')\n",
    "plt.plot(xnew, ynew, '-',color='g', label='$p_3(x)$')\n",
    "plt.xlim(-0.1,3.1)\n",
    "plt.ylim(-0.1,1.1)\n",
    "plt.xlabel('$x_i$')\n",
    "plt.ylabel('$y_i$')\n",
    "plt.legend(loc='best')\n",
    "plt.show()"
   ]
  },
  {
   "cell_type": "markdown",
   "metadata": {
    "slideshow": {
     "slide_type": "slide"
    }
   },
   "source": [
    "### Teorema \n",
    "\n",
    "- Existe  um e um só polinómio de grau $\\leq n$,  $g(x)=a_0+a_1x+\\cdots +a_n x_n^n$, tal que $g(x_k)=f(x_k),\\ k=0,\\cdots, n$ com $x_j\\neq x_k,\\,\\forall j\\neq k.$\n",
    "\n",
    "### Questão :\n",
    "\n",
    "- Como construir esse polinómio para uma dada tabela de valores $[x,y]$?"
   ]
  },
  {
   "cell_type": "markdown",
   "metadata": {
    "slideshow": {
     "slide_type": "slide"
    }
   },
   "source": [
    "### Resposta:\n",
    "\n",
    "- Método dos Coeficientes indeterminados\n",
    "- Polínomios interpoladores de Lagrange, Diferenças Divididas de Newton...\n",
    "\n",
    "**Exercício**: Usando o MCI, determine o polinómio interpolador de menor grau que se\n",
    "coloca sobre os pontos da tabela $x=[0,2,4]$, $y=f(x)=[0,3,-1]$  e determine uma aproximação de $f(3.2)$\n",
    "e de $f(4.7)$.\n",
    "\n",
    "Resolução pelo Método dos Coeficientes indeterminados:\n",
    " \n",
    " - Resolução do sistema seguinte: "
   ]
  },
  {
   "cell_type": "markdown",
   "metadata": {},
   "source": [
    " \\begin{equation}\\label{eq:MCI}\n",
    "    \\left[\n",
    "      \\begin{array}{cccc}\n",
    "        1&x_0&\\cdots&x_0^n\\\\\n",
    "        1&x_1&\\cdots&x_1^n\\\\\n",
    "        \\vdots&\\vdots&\\vdots&\\vdots\\\\\n",
    "        1&x_n&\\cdots&x_n^n\\\\\n",
    "      \\end{array}\n",
    "    \\right]\n",
    "    \\left[\n",
    "      \\begin{array}{c}\n",
    "        a_0\\\\\n",
    "        a_1\\\\\n",
    "        \\vdots\\\\\n",
    "        a_n\n",
    "      \\end{array}\n",
    "    \\right]=\n",
    "    \\left[\n",
    "      \\begin{array}{c}\n",
    "        f(x_0)\\\\\n",
    "        f(x_1)\\\\\n",
    "        \\vdots\\\\\n",
    "        f(x_n)\n",
    "      \\end{array}\n",
    "    \\right]\n",
    "  \\end{equation}"
   ]
  },
  {
   "cell_type": "code",
   "execution_count": 24,
   "metadata": {
    "slideshow": {
     "slide_type": "slide"
    }
   },
   "outputs": [
    {
     "name": "stdout",
     "output_type": "stream",
     "text": [
      "[[ 1  0  0]\n",
      " [ 1  2  4]\n",
      " [ 1  4 16]]\n",
      "[ 0  3 -1]\n",
      "Os coefs. a0, a1 e a2 sao 0.000 , 3.250 e -0.875\n",
      "f(3.2)=1.440\n",
      "f(4.7)=-4.054\n"
     ]
    },
    {
     "data": {
      "image/png": "[encoded data removed]",
      "text/plain": [
       "<Figure size 432x288 with 1 Axes>"
      ]
     },
     "metadata": {},
     "output_type": "display_data"
    }
   ],
   "source": [
    "# Valores tabelados\n",
    "x = np.array([0,2,4])\n",
    "y = np.array([0,3,-1])\n",
    "\n",
    "#Construção do sistema normal\n",
    "#Matriz A (Por Linhas)\n",
    "L1=[1,x[0],x[0]**2]\n",
    "L2=[1,x[1],x[1]**2]\n",
    "L3=[1,x[2],x[2]**2]\n",
    "\n",
    "A=np.array([L1,L2,L3])\n",
    "print(A)\n",
    "\n",
    "b=y\n",
    "print(b)\n",
    "X_a=np.linalg.solve(A,b)\n",
    "print(r\"Os coefs. a0, a1 e a2 sao %.3f , %.3f e %.3f\"\\\n",
    "  % (X_a[0],X_a[1],X_a[2]))\n",
    "\n",
    "def f(xis):\n",
    " return X_a[0]+X_a[1]*xis+X_a[2]*np.square(xis)\n",
    "\n",
    "print(r\"f(3.2)=%.3f\" % (f(3.2)))\n",
    "\n",
    "print(r\"f(4.7)=%.3f\" % (f(4.7)))\n",
    "\n",
    "# Apresentação dos gráficos\n",
    "plt.rc('axes', labelsize=24)\n",
    "plt.plot(x, y, 'o', color='b')\n",
    "\n",
    "xx=np.linspace(-1,5,100)\n",
    "\n",
    "\n",
    "plt.plot(xx, f(xx) ,'-',color='g', lw=2,label='$p_2(x)$')\n",
    "plt.xlabel(r'$x_i$')\n",
    "plt.ylabel(r'$y_i$')\n",
    "plt.legend(loc='best')\n",
    "plt.show()"
   ]
  },
  {
   "cell_type": "markdown",
   "metadata": {
    "slideshow": {
     "slide_type": "slide"
    }
   },
   "source": [
    "### Questão: Porque não utilizar este método?\n",
    "\n",
    "- Polinómios de Lagrange\n"
   ]
  },
  {
   "cell_type": "markdown",
   "metadata": {
    "slideshow": {
     "slide_type": "slide"
    }
   },
   "source": [
    "\n",
    "- 2 pontos de interpolação $(a,f(a)),\\ (b,f(b))$: polinómio de grau 1.\n",
    "$$P(x)=f(a)\\frac{x-b}{a-b} +f(b)\\frac{x-a}{b-a}$$\n",
    "\n",
    "\n",
    "\n",
    "\n",
    "- 3 pontos de interpolação $(a,f(a)),\\ (b,f(b)),\\ (c,f(c))$: polinómio de grau 2.\n",
    "$$P(x)=f(a)\\frac{(x-b)(x-c)}{(a-b)(a-c)} +f(b)\\frac{(x-a)(x-c)}{(b-a)(b-c)}+f(c)\\frac{(x-a)(x-b)}{(c-a)(c-b)}$$\n",
    "\n",
    "\n",
    "\n",
    "- $n+1$ pontos de interpolação $(x_i,f(x_i))\\, (i=0,\\dots, n)$\n",
    "$$\\displaystyle P_n(x)=\\sum_{i=0}^{n}f(x_i)L_i(x)=\\sum_{i=0}^{n}f(x_i)\\prod_{\\stackrel{j=0}{\n",
    "    j\\neq i}}^n\\frac{(x-x_j)}{(x_i-x_j)}$$\n",
    "onde $$L_i(x)=\\prod_{\\stackrel{j=0}{\n",
    "    j\\neq i}}^n\\frac{(x-x_j)}{(x_i-x_j)}$$ são designados por  polinómios de Lagrange\n"
   ]
  },
  {
   "cell_type": "code",
   "execution_count": 9,
   "metadata": {
    "slideshow": {
     "slide_type": "slide"
    }
   },
   "outputs": [
    {
     "data": {
      "image/png": "[encoded data removed]",
      "text/plain": [
       "<matplotlib.figure.Figure at 0x1812d71e80>"
      ]
     },
     "metadata": {},
     "output_type": "display_data"
    }
   ],
   "source": [
    "x = np.array([0.0,1.0])\n",
    "y = np.array([0.0,1,0])\n",
    "y2 = np.array([1.0,0,0])\n",
    "L1 = interpolate.lagrange(x, y)\n",
    "L2 = interpolate.lagrange(x, y2)\n",
    "\n",
    "xnew = np.arange(0.0,1.1, 0.1)\n",
    "ynew = L1(xnew)\n",
    "ynew2 = L2(xnew)\n",
    "\n",
    "\n",
    "plt.rc('axes', labelsize=24)\n",
    "plt.text(0.4,0.1,'$x_0=0,\\, x_1=1$', fontsize=14)\n",
    "plt.plot(xnew, ynew,  '-', lw=1.5, label='$L_1$')\n",
    "plt.plot(xnew, ynew2,'-', lw=1.5, label='$L_0$')\n",
    "plt.xlim(0.0,1.0)\n",
    "plt.ylim(0.0,1.0)\n",
    "plt.xlabel(r'$x_i$')\n",
    "plt.ylabel(r'$y_i$')\n",
    "plt.legend(loc='best')\n",
    "plt.show()\n"
   ]
  },
  {
   "cell_type": "code",
   "execution_count": 10,
   "metadata": {
    "slideshow": {
     "slide_type": "slide"
    }
   },
   "outputs": [
    {
     "data": {
      "image/png": "[encoded data removed]",
      "text/plain": [
       "<matplotlib.figure.Figure at 0x1812d10780>"
      ]
     },
     "metadata": {},
     "output_type": "display_data"
    }
   ],
   "source": [
    "x = np.array([0.0,0.5,1.0])\n",
    "y = np.array([0.0,0.0,1.0])\n",
    "y2 = np.array([0.0,1.0,0.0])\n",
    "y3 = np.array([1.0,0.0,0.0])\n",
    "L1 = interpolate.lagrange(x, y)\n",
    "L2 = interpolate.lagrange(x, y2)\n",
    "L3 = interpolate.lagrange(x, y3)\n",
    "\n",
    "xnew = np.arange(0.0,1.01, 0.01)\n",
    "ynew = L1(xnew)\n",
    "ynew2 = L2(xnew)\n",
    "ynew3 = L3(xnew)\n",
    "\n",
    "plt.rc('axes', labelsize=24)\n",
    "plt.text(0.35,0.3,'$x_0=0,\\, x_1=0.5,\\, x_2=1$', fontsize=14)\n",
    "plt.plot(xnew, ynew, '-', lw=1.5, label='$L_2$')\n",
    "plt.plot(xnew, ynew2,'-', lw=1.5, label='$L_1$')\n",
    "plt.plot(xnew, ynew3,'-', lw=1.5, label='$L_0$')\n",
    "plt.xlim(0.0,1.0)\n",
    "plt.ylim(-0.2,1.0)\n",
    "plt.xlabel('$x_i$')\n",
    "plt.ylabel('$y_i$')\n",
    "plt.legend(loc='best')\n",
    "plt.show()"
   ]
  },
  {
   "cell_type": "code",
   "execution_count": 11,
   "metadata": {
    "slideshow": {
     "slide_type": "slide"
    }
   },
   "outputs": [
    {
     "data": {
      "image/png": "[encoded data removed]",
      "text/plain": [
       "<matplotlib.figure.Figure at 0x1812f3fcc0>"
      ]
     },
     "metadata": {},
     "output_type": "display_data"
    }
   ],
   "source": [
    "x = np.array([0.0,1.0/3.0,2.0/3.0,1.0])\n",
    "y = np.array([0.0,0.0,0.0,1.0])\n",
    "y2 = np.array([0.0,0.0,1.0,0.0])\n",
    "y3 = np.array([0.0,1.0,0.0,0.0])\n",
    "y4 = np.array([1.0,0.0,0.0,0.0])\n",
    "L1 = interpolate.lagrange(x, y)\n",
    "L2 = interpolate.lagrange(x, y2)\n",
    "L3 = interpolate.lagrange(x, y3)\n",
    "L4 = interpolate.lagrange(x, y4)\n",
    "\n",
    "xnew = np.arange(0.0,1.001, 0.001)\n",
    "ynew = L1(xnew)\n",
    "ynew2 = L2(xnew)\n",
    "ynew3 = L3(xnew)\n",
    "ynew4 = L4(xnew)\n",
    "\n",
    "plt.rc('axes', labelsize=24)\n",
    "plt.text(0.4,-0.2,'$x_0=0,\\, x_1=\\\\frac{1}{3}$', fontsize=14)\n",
    "plt.text(0.4,-0.3,'$x_2=\\\\frac{2}{3},\\, x_3=1$', fontsize=14)\n",
    "plt.plot(xnew, ynew, '-', lw=1.5, label='$L_3$')\n",
    "plt.plot(xnew, ynew2,'-', lw=1.5, label='$L_1$')\n",
    "plt.plot(xnew, ynew3,'-', lw=1.5, label='$L_2$')\n",
    "plt.plot(xnew, ynew4,'-', lw=1.5, label='$L_0$')\n",
    "plt.axvline(x=1.0/3.0, ymin=-0.4, ymax=1.0, linestyle='--', linewidth=1,\n",
    "color='k')\n",
    "plt.axvline(x=2.0/3.0, ymin=-0.4, ymax=1.0, linestyle='--', linewidth=1,\n",
    "color='k')\n",
    "\n",
    "plt.xlim(0.0,1.0)\n",
    "plt.ylim(-0.4,1.1)\n",
    "plt.xlabel('$x_i$')\n",
    "plt.ylabel('$y_i$')\n",
    "plt.legend(loc='best')\n",
    "plt.show()"
   ]
  },
  {
   "cell_type": "markdown",
   "metadata": {},
   "source": [
    "## Uma possível  implementação (sem classes/objectos...) dos polinómios de Lagrange:"
   ]
  },
  {
   "cell_type": "code",
   "execution_count": 28,
   "metadata": {},
   "outputs": [],
   "source": [
    "def PLagrange(data_x,data_y):\n",
    "    if (len(data_x)==len(data_y)): # testa a dimensão dos dados\n",
    "        print('data=\\n',np.array([data_x,data_y]))\n",
    "        M=len(data_x) #  M-1 = grau do polinómio interpolador\n",
    "        \n",
    "        # Uma função pode devolver outra função!\n",
    "        def LagrangeFunction(x):\n",
    "            PolLagrange=0.0\n",
    "            for i in range(0,M):\n",
    "                Li=1.0\n",
    "                for j in range(0,M):\n",
    "                    if j==i:\n",
    "                        continue\n",
    "                    Li*=(x-data_x[j])/(data_x[i]-data_x[j]) #Funçoes Base\n",
    "                PolLagrange+=Li*data_y[i] # Polinómio de Lagrange \n",
    "        \n",
    "            return PolLagrange\n",
    "        \n",
    "        return LagrangeFunction\n",
    "\n",
    "\n",
    "\n"
   ]
  },
  {
   "cell_type": "markdown",
   "metadata": {},
   "source": [
    "### Exercício:\n",
    "\n",
    "- Considere a tabela de pontos \n",
    " $$\n",
    " \\begin{array}{|c|c|c|c|c|}\n",
    " \\hline\n",
    "x & 0& 2 & 4 &5\\\\\n",
    "\\hline\n",
    "y & 0 & 3 & -1 &3\\\\\n",
    "\\hline\n",
    "\\end{array}\n",
    "$$\n",
    "\n",
    "- Apresente graficamente o polinómio interpolador de grau $\\leq 3$ que se coloca sobre os pontos da tabela."
   ]
  },
  {
   "cell_type": "code",
   "execution_count": 29,
   "metadata": {},
   "outputs": [
    {
     "name": "stdout",
     "output_type": "stream",
     "text": [
      "data=\n",
      " [[ 0  2  4  5]\n",
      " [ 0  3 -1  3]]\n",
      "[-0.3264    1.053975]\n"
     ]
    }
   ],
   "source": [
    "x = np.array([0,2,4,5])\n",
    "y = np.array([0,3,-1,3])\n",
    "\n",
    "#PLagrange é uma função\n",
    "Lagrange=PLagrange(x,y)\n",
    "points=np.array([3.2,4.7])\n",
    "print(Lagrange(points))\n",
    "\n"
   ]
  },
  {
   "cell_type": "code",
   "execution_count": 30,
   "metadata": {},
   "outputs": [
    {
     "data": {
      "image/png": "[encoded data removed]",
      "text/plain": [
       "<Figure size 432x288 with 1 Axes>"
      ]
     },
     "metadata": {},
     "output_type": "display_data"
    }
   ],
   "source": [
    "xx=np.linspace(-1,6,100)\n",
    "yy=Lagrange(xx)\n",
    "plt.plot(xx,yy,'-')\n",
    "plt.plot(x,y,'o')\n",
    "plt.show()"
   ]
  },
  {
   "cell_type": "code",
   "execution_count": null,
   "metadata": {
    "collapsed": true
   },
   "outputs": [],
   "source": []
  }
 ],
 "metadata": {
  "kernelspec": {
   "display_name": "Python 3",
   "language": "python",
   "name": "python3"
  },
  "language_info": {
   "codemirror_mode": {
    "name": "ipython",
    "version": 3
   },
   "file_extension": ".py",
   "mimetype": "text/x-python",
   "name": "python",
   "nbconvert_exporter": "python",
   "pygments_lexer": "ipython3",
   "version": "3.6.5"
  }
 },
 "nbformat": 4,
 "nbformat_minor": 2
}
