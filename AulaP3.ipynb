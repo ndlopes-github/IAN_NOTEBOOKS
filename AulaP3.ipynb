{
 "cells": [
  {
   "cell_type": "code",
   "execution_count": 1,
   "metadata": {
    "slideshow": {
     "slide_type": "skip"
    }
   },
   "outputs": [
    {
     "data": {
      "text/plain": [
       "{'h#eight': 768,\n",
       " 'height': 768,\n",
       " 'scroll': True,\n",
       " 'start_slideshow_at': 'selected',\n",
       " 'theme': 'serif',\n",
       " 'transition': 'linear',\n",
       " 'width': 1024}"
      ]
     },
     "execution_count": 1,
     "metadata": {},
     "output_type": "execute_result"
    }
   ],
   "source": [
    "from notebook.services.config import ConfigManager\n",
    "cm = ConfigManager()\n",
    "cm.update('livereveal', {\n",
    "              'width': 1024,\n",
    "              'h#eight': 768,\n",
    "              'theme' : 'serif',\n",
    "              'transition': 'linear', #convex',\n",
    "              'scroll': True,\n",
    "              'start_slideshow_at': 'selected',       \n",
    "})"
   ]
  },
  {
   "cell_type": "markdown",
   "metadata": {
    "slideshow": {
     "slide_type": "slide"
    }
   },
   "source": [
    "# Aula 3:\n",
    " \n",
    "- Método da Bissecção (continuação)\n",
    "- Método do Ponto Fixo"
   ]
  },
  {
   "cell_type": "markdown",
   "metadata": {
    "slideshow": {
     "slide_type": "slide"
    }
   },
   "source": [
    "#### Exercício sobre o método da Bissecção:\n",
    "\n",
    "- Prove que $\\cos(x)=x$ tem uma única solução em $\\mathbb{R}$ e, por aplicação do método da bissecção, apresente uma aproximação dessa solução com um erro inferior a $10^{-7}$"
   ]
  },
  {
   "cell_type": "code",
   "execution_count": 1,
   "metadata": {
    "slideshow": {
     "slide_type": "slide"
    }
   },
   "outputs": [
    {
     "name": "stdout",
     "output_type": "stream",
     "text": [
      "23.25349666421154\n",
      "N= 24\n"
     ]
    }
   ],
   "source": [
    "#Provou-se que a única solução está em [0,1]\n",
    "#Quantas iterações são necessárias para atingir o erro\n",
    "\n",
    "from math import  cos, log\n",
    "#Extremos iniciais do intervalo\n",
    "A=0.0\n",
    "B=1.0\n",
    "TOLERRO=1.e-7\n",
    "\n",
    "N=log(TOLERRO/(B-A))/log(1./2.)\n",
    "print(N)\n",
    "N=int(round(N+0.5,0))\n",
    "print('N=',N) \n",
    "\n"
   ]
  },
  {
   "cell_type": "code",
   "execution_count": 2,
   "metadata": {
    "slideshow": {
     "slide_type": "slide"
    }
   },
   "outputs": [
    {
     "name": "stdout",
     "output_type": "stream",
     "text": [
      "i=24, p=0.7390851\n"
     ]
    }
   ],
   "source": [
    "# Definição da função f(x)\n",
    "def f(x):\n",
    " return cos(x)-x\n",
    "\n",
    "#Ciclo para calcular as aproximações\n",
    "for i in range(1,N+1):\n",
    " p=(A+B)/2.0\n",
    " if (f(p)==0) : # era sorte a mais, Não serve de grande coisa !\n",
    "  break        # Se não tivessemos o número de iterações  a  \n",
    " else:         #paragem seria com o  erro (discutir Pseudo-Código)\n",
    "  if (f(A)*f(p)>0):\n",
    "   A=p\n",
    "  else:\n",
    "   B=p\n",
    "\n",
    "print('i=%d, p=%.7f' %(i, p))\n",
    "\n",
    "quit()"
   ]
  },
  {
   "cell_type": "markdown",
   "metadata": {
    "slideshow": {
     "slide_type": "slide"
    }
   },
   "source": [
    "### Como reaproveitar o código para outros casos?"
   ]
  },
  {
   "cell_type": "markdown",
   "metadata": {},
   "source": [
    "- O método depende de:\n",
    " - função $f(x)$\n",
    " - Intervalo Inicial [A,B]\n",
    " - Condição de Paragem: erro e/ou número de iterações\n",
    " \n",
    " Vejamos um exemplo: criar um *módulo* : !Sair mode slideshow!"
   ]
  },
  {
   "cell_type": "code",
   "execution_count": 3,
   "metadata": {
    "slideshow": {
     "slide_type": "slide"
    }
   },
   "outputs": [
    {
     "name": "stdout",
     "output_type": "stream",
     "text": [
      "2.375\n",
      "iter= 1 Aprox= 1.5\n",
      "Erro= 1.0\n",
      "-1.796875\n",
      "iter= 2 Aprox= 1.25\n",
      "Erro= 0.25\n",
      "0.162109375\n",
      "iter= 3 Aprox= 1.375\n",
      "Erro= 0.125\n",
      "-0.848388671875\n",
      "iter= 4 Aprox= 1.3125\n",
      "Erro= 0.0625\n",
      "-0.350982666016\n",
      "iter= 5 Aprox= 1.34375\n",
      "Erro= 0.03125\n",
      "-0.0964088439941\n",
      "iter= 6 Aprox= 1.359375\n",
      "Erro= 0.015625\n",
      "0.0323557853699\n",
      "iter= 7 Aprox= 1.3671875\n",
      "Erro= 0.0078125\n",
      "-0.0321499705315\n",
      "iter= 8 Aprox= 1.36328125\n",
      "Erro= 0.00390625\n",
      "7.20247626305e-05\n",
      "iter= 9 Aprox= 1.365234375\n",
      "Erro= 0.001953125\n",
      "-0.0160466907546\n",
      "iter= 10 Aprox= 1.3642578125\n",
      "Erro= 0.0009765625\n",
      "-0.00798926281277\n",
      "iter= 11 Aprox= 1.36474609375\n",
      "Erro= 0.00048828125\n",
      "-0.00395910152292\n",
      "iter= 12 Aprox= 1.36499023438\n",
      "Erro= 0.000244140625\n",
      "-0.00194365901007\n",
      "iter= 13 Aprox= 1.36511230469\n",
      "Erro= 0.0001220703125\n",
      "[ 1.5         1.25        1.375       1.3125      1.34375     1.359375\n",
      "  1.3671875   1.36328125  1.36523438  1.36425781  1.36474609  1.36499023\n",
      "  1.3651123 ]\n"
     ]
    }
   ],
   "source": [
    "## Modulo bissect\n",
    "## Condicao de paragem com erro=TOL ou Numero Maximo de iter. \n",
    "## Guardar sols num vector\n",
    "import numpy as np\n",
    "\n",
    "def bissect(f,A,B,TOL,NMAX):\n",
    "    P=np.zeros((NMAX))\n",
    "    ERRO= B-A\n",
    "    i=0\n",
    "    while  i < NMAX :\n",
    "        P[i]=(A+B)/2.0\n",
    "        print(f(P[i]))\n",
    "        if f(P[i])==0 or ERRO<TOL: #Problemas com == 0 (discutir)\n",
    "            print('iter=',i+1,'Aprox=',P[i])\n",
    "            print('Erro=',ERRO)\n",
    "            break\n",
    "        else:\n",
    "            if (f(A)*f(P[i])>0):\n",
    "                A=P[i]\n",
    "            else:\n",
    "                B=P[i]\n",
    "        print('iter=',i+1,'Aprox=',P[i])\n",
    "        print('Erro=',ERRO)\n",
    "        ERRO=(B-A)/2.0 #=(B-P[i])/2\n",
    "        i+=1\n",
    "    return P    \n",
    "\n",
    "### noutro ficheiro\n",
    "## import bissect\n",
    "from math import cos\n",
    "\n",
    "def f(x):\n",
    "    return x**3+4*x**2-10\n",
    "\n",
    "PSols=bissect(f,1.0,2.0,1e-17,13) #O \";\" não mostra o output do iPython da função\n",
    "print(PSols)\n",
    "\n",
    "    \n"
   ]
  },
  {
   "cell_type": "markdown",
   "metadata": {
    "slideshow": {
     "slide_type": "slide"
    }
   },
   "source": [
    "### Exercício:\n",
    "\n",
    "- A equação $f(x)= x^3+4x^2-10=0$ tem uma e uma só raiz  em $[1,2]$. Sabe-se que a solução exacta é dada por $p=1.365230013...$ (9 decimais exactos).\n",
    "- Utilize 13 iterações do método da bissecção para aproximar o valor de $p$. Guarde o valor das aproximações em $p[i]$. \n",
    "- Calcule os majorantes dos erros em todas as iterações calculadas.\n",
    "- Calcule os erros exactos em todas as iterações.\n",
    "- Calcule $f(p[i]), (i=1\\dots 13)$. Atente nos resultados obtidos e comente. \n"
   ]
  },
  {
   "cell_type": "markdown",
   "metadata": {
    "collapsed": true,
    "slideshow": {
     "slide_type": "slide"
    }
   },
   "source": [
    "## Método do ponto fixo. \n",
    "\n",
    "Consideremos $f$ contínua em $[a,b]$ tal que $f (a)f (b) < 0$, \n",
    "então a equação\n",
    "$f (x)=0\\Leftrightarrow$ $$\\Leftrightarrow \\underbrace{f(x)+x}_{g(x)}=x\\Leftrightarrow$$ $$\\Leftrightarrow g(x)=x$$\n",
    "tem pelo menos uma solução em $[a,b]$."
   ]
  },
  {
   "cell_type": "markdown",
   "metadata": {
    "slideshow": {
     "slide_type": "slide"
    }
   },
   "source": [
    "\n",
    "- Encontrar um zero de $f(x)$ é equivalente a encontrar um ponto fixo de $g(x)$ ($g$ diz-se função iteradora) .\n",
    "\n",
    "- Pode haver outras formas de transformar $f(x)=0$ em $g(x)=x$...\n",
    "\n",
    "- Em que condições se consegue aproximar o ponto fixo de $g$ usando iterações da forma $x_{n+1} = g(x_n ), n = 0, 1, 2, . . .$ ?\n"
   ]
  },
  {
   "cell_type": "markdown",
   "metadata": {
    "slideshow": {
     "slide_type": "slide"
    }
   },
   "source": [
    "### Algoritmo $x_{n+1}=g(x_n)$ "
   ]
  },
  {
   "cell_type": "markdown",
   "metadata": {},
   "source": [
    "#### Convergência Monótona, Alternada, Divergência"
   ]
  },
  {
   "cell_type": "markdown",
   "metadata": {},
   "source": [
    "##### Convergência Monótona\n",
    "\n",
    "- Exemplo: Determine uma aproximação de $x\\in [0,2]$ tal que $f(x)=0$ com $f(x)=-e^{-x}-x+1.5.$\n",
    "\n",
    " - Função iteradora $g(x)=f(x)+x=-e^{-x}+1.5.$\n",
    " \n",
    " - Estude graficamente $g'(x)$..."
   ]
  },
  {
   "cell_type": "code",
   "execution_count": 4,
   "metadata": {
    "slideshow": {
     "slide_type": "slide"
    }
   },
   "outputs": [
    {
     "name": "stdout",
     "output_type": "stream",
     "text": [
      "[ 0.          0.5         0.89346934  1.09076648  1.16404111  1.1877781\n",
      "  1.19510203  1.19732693  1.1979996   1.19820268]\n"
     ]
    }
   ],
   "source": [
    "import numpy as np\n",
    "import matplotlib.pyplot as plt\n",
    "from math import exp\n",
    "\n",
    "def g(x):\n",
    "    return -exp(-x)+1.5\n",
    "\n",
    "N=10 # Numero de iterações\n",
    "\n",
    "X=np.zeros(N)\n",
    "\n",
    "#X[0]=0 aproximação inicial dada\n",
    "\n",
    "for i in range(1,N):\n",
    "    X[i]=g(X[i-1])\n",
    "\n",
    "\n",
    "print(X)\n"
   ]
  },
  {
   "cell_type": "code",
   "execution_count": 5,
   "metadata": {
    "slideshow": {
     "slide_type": "slide"
    }
   },
   "outputs": [
    {
     "data": {
      "image/png": "[encoded data removed]",
      "text/plain": [
       "<matplotlib.figure.Figure at 0x10df5f4e0>"
      ]
     },
     "metadata": {},
     "output_type": "display_data"
    }
   ],
   "source": [
    "x=np.linspace(-0.5,2.1,40)\n",
    "plt.plot(x,x,'-',color='k')\n",
    "\n",
    "for i in range(0,N-1): \n",
    "    A=np.array([X[i],X[i]])\n",
    "    B=np.array([X[i],g(X[i])])            \n",
    "    plt.plot(A,B,'-',color='k',lw=1)\n",
    "    B=np.array([X[i],g(X[i])])\n",
    "    A=np.array([X[i+1],X[i+1]])\n",
    "    plt.plot(B,A,'-',color='k',lw=1)\n",
    "    \n",
    "plt.title(\"Ponto Fixo Atrativo\")     \n",
    "plt.plot(x,-np.exp(-x)+1.5,'-',color='r')\n",
    "plt.plot(X,X,'o')\n",
    "plt.xlim(-0.1,1.3)\n",
    "plt.ylim(-0.1,1.3)\n",
    "plt.show()\n",
    "quit()"
   ]
  },
  {
   "cell_type": "markdown",
   "metadata": {
    "slideshow": {
     "slide_type": "slide"
    }
   },
   "source": [
    "##### Convergência Alternada\n",
    "\n",
    "- Exemplo: Determine uma aproximação de $x\\in [-1,1]$ tal que $f(x)=0$ com $f(x)=e^{-x}-x$\n",
    "\n",
    " - Função iteradora $g(x)=f(x)+x=e^{-x}$\n",
    " \n",
    " - Estude graficamente $g'(x)$..."
   ]
  },
  {
   "cell_type": "code",
   "execution_count": 1,
   "metadata": {
    "slideshow": {
     "slide_type": "slide"
    }
   },
   "outputs": [
    {
     "name": "stdout",
     "output_type": "stream",
     "text": [
      "Sol X= [ 0.          1.          0.36787944  0.69220063  0.5004735   0.60624354\n",
      "  0.54539579  0.57961234  0.56011546  0.57114312] \n",
      "\n",
      "|X[i]-X[i-1]|= [ 1.          0.63212056  0.32432119  0.19172713  0.10577003  0.06084775\n",
      "  0.03421655  0.01949687  0.01102765]\n"
     ]
    }
   ],
   "source": [
    "import numpy as np\n",
    "import matplotlib.pyplot as plt\n",
    "from math import exp\n",
    "\n",
    "def g(x):\n",
    "    return exp(-x)\n",
    "\n",
    "N=10 # Numero de iterações\n",
    "\n",
    "X=np.zeros(N)\n",
    "\n",
    "#X[0]=0 aproximação inicial dada\n",
    "\n",
    "for i in range(1,N):\n",
    "    X[i]=g(X[i-1])\n",
    "\n",
    "\n",
    "print('Sol X=',X,'\\n')\n",
    "print('|X[i]-X[i-1]|=',abs(X[1:N]-X[0:N-1]))"
   ]
  },
  {
   "cell_type": "code",
   "execution_count": 2,
   "metadata": {
    "slideshow": {
     "slide_type": "slide"
    }
   },
   "outputs": [
    {
     "data": {
      "image/png": "[encoded data removed]",
      "text/plain": [
       "<matplotlib.figure.Figure at 0x1094fef98>"
      ]
     },
     "metadata": {},
     "output_type": "display_data"
    }
   ],
   "source": [
    "x=np.linspace(-1.1,1.1,30)\n",
    "plt.plot(x,x,'-',color='k')\n",
    "\n",
    "for i in range(0,N-1): \n",
    "    A=np.array([X[i],X[i]])\n",
    "    B=np.array([X[i],g(X[i])])            \n",
    "    plt.plot(A,B,'-',color='k',lw=1)\n",
    "    B=np.array([X[i],g(X[i])])\n",
    "    A=np.array([X[i+1],X[i+1]])\n",
    "    plt.plot(B,A,'-',color='k',lw=1)\n",
    "    \n",
    "plt.title(\"Ponto Fixo Atrativo\")     \n",
    "plt.plot(x,np.exp(-x),'-',color='r')\n",
    "plt.plot(X,X,'o')\n",
    "plt.xlim(-0.2,1.1)\n",
    "plt.ylim(-0.2,1.1)\n",
    "plt.show()\n",
    "quit()"
   ]
  },
  {
   "cell_type": "markdown",
   "metadata": {
    "slideshow": {
     "slide_type": "slide"
    }
   },
   "source": [
    "##### Divergência\n",
    "\n",
    "- Exemplo: Verifique que $3.7(1-x)x-x=0$ tem uma solução em $[0.5,1]$. \n",
    " \n",
    " - Considere a função iteradora $g(x)=3.7(1-x)x$ e a aproximação inicial $x_0=0.8$.\n",
    " \n",
    " - Estude graficamente $g'(x)$...\n"
   ]
  },
  {
   "cell_type": "code",
   "execution_count": 1,
   "metadata": {
    "slideshow": {
     "slide_type": "slide"
    }
   },
   "outputs": [
    {
     "name": "stdout",
     "output_type": "stream",
     "text": [
      "Sol X= [ 0.8         0.592       0.8936832   0.35155009  0.84346171  0.488526\n",
      "  0.92451288  0.2582186   0.70870449  0.76383701  0.66744311  0.82126237\n",
      "  0.54312481  0.91811893  0.27815328] \n",
      "\n",
      "|X[i]-X[i-1]|= [ 0.208       0.3016832   0.54213311  0.49191162  0.35493571  0.43598689\n",
      "  0.66629429  0.45048589  0.05513252  0.0963939   0.15381926  0.27813757\n",
      "  0.37499412  0.63996565]\n"
     ]
    }
   ],
   "source": [
    "import numpy as np\n",
    "import matplotlib.pyplot as plt\n",
    "from math import exp\n",
    "\n",
    "def g(x):\n",
    "    return 3.7*(1-x)*x\n",
    "\n",
    "N=15 # Numero de iterações\n",
    "\n",
    "X=np.zeros(N)\n",
    "\n",
    "X[0]=0.8 #aproximação inicial dada\n",
    "\n",
    "for i in range(1,N):\n",
    "    X[i]=g(X[i-1])\n",
    "\n",
    "\n",
    "print('Sol X=',X,'\\n')\n",
    "print('|X[i]-X[i-1]|=',abs(X[1:N]-X[0:N-1]))"
   ]
  },
  {
   "cell_type": "code",
   "execution_count": 2,
   "metadata": {
    "slideshow": {
     "slide_type": "slide"
    }
   },
   "outputs": [
    {
     "data": {
      "image/png": "[encoded data removed]",
      "text/plain": [
       "<matplotlib.figure.Figure at 0x10eddef98>"
      ]
     },
     "metadata": {},
     "output_type": "display_data"
    }
   ],
   "source": [
    "x=np.linspace(0.0,1.1,30)\n",
    "plt.plot(x,x,'-',color='k')\n",
    "\n",
    "for i in range(0,N-1): \n",
    "    A=np.array([X[i],X[i]])\n",
    "    B=np.array([X[i],g(X[i])])            \n",
    "    plt.plot(A,B,'-',color='k',lw=1)\n",
    "    B=np.array([X[i],g(X[i])])\n",
    "    A=np.array([X[i+1],X[i+1]])\n",
    "    plt.plot(B,A,'-',color='k',lw=1)\n",
    "    \n",
    "plt.title(\"Ponto Fixo Repulsivo\")     \n",
    "plt.plot(x,g(x),'-',color='r')\n",
    "plt.plot(X,X,'o')\n",
    "plt.xlim(0.0,1.1)\n",
    "plt.ylim(0.0,1.1)\n",
    "plt.show()\n",
    "quit()"
   ]
  },
  {
   "cell_type": "markdown",
   "metadata": {
    "slideshow": {
     "slide_type": "slide"
    }
   },
   "source": [
    "##### Divergência/Convergência \"ou nem por isso\"\n",
    "\n",
    "- Exemplo: Ponto Fixo Neutro \n",
    " \n",
    " - Considere a função iteradora $g(x)=x-x^2$ com ponto fixo em $0$ e as aproximações iniciais $x_0=\\pm 0.1$.\n",
    "\n"
   ]
  },
  {
   "cell_type": "code",
   "execution_count": 1,
   "metadata": {
    "slideshow": {
     "slide_type": "slide"
    }
   },
   "outputs": [
    {
     "name": "stdout",
     "output_type": "stream",
     "text": [
      "Sol X= [ 0.1         0.09        0.0819      0.07519239  0.06953849  0.06470289\n",
      "  0.06051643  0.05685419  0.05362179  0.05074649  0.04817129  0.04585081\n",
      "  0.04374852  0.04183458  0.04008445  0.03847769  0.03699716  0.03562837\n",
      "  0.03435899  0.03317845  0.03207764  0.03104866  0.03008464  0.02917956\n",
      "  0.02832811  0.02752563  0.02676797  0.02605144  0.02537277  0.02472899\n",
      "  0.02411747  0.02353581  0.02298188  0.02245371  0.02194954  0.02146776\n",
      "  0.0210069   0.02056561  0.02014266  0.01973694] \n",
      "\n",
      "|X[i]-X[i-1]|= [ 0.01        0.0081      0.00670761  0.0056539   0.0048356   0.00418646\n",
      "  0.00366224  0.0032324   0.0028753   0.00257521  0.00232047  0.0021023\n",
      "  0.00191393  0.00175013  0.00160676  0.00148053  0.00136879  0.00126938\n",
      "  0.00118054  0.00110081  0.00102897  0.00096402  0.00090509  0.00085145\n",
      "  0.00080248  0.00075766  0.00071652  0.00067868  0.00064378  0.00061152\n",
      "  0.00058165  0.00055393  0.00052817  0.00050417  0.00048178  0.00046086\n",
      "  0.00044129  0.00042294  0.00040573]\n"
     ]
    }
   ],
   "source": [
    "import numpy as np\n",
    "import matplotlib.pyplot as plt\n",
    "from math import exp\n",
    "\n",
    "def g(x):\n",
    "    return x-x**2\n",
    "\n",
    "N=40 # Numero de iterações\n",
    "\n",
    "X=np.zeros(N)\n",
    "\n",
    "X[0]=0.1 #aproximação inicial dada\n",
    "\n",
    "for i in range(1,N):\n",
    "    X[i]=g(X[i-1])\n",
    "\n",
    "\n",
    "print('Sol X=',X,'\\n')\n",
    "print('|X[i]-X[i-1]|=',abs(X[1:N]-X[0:N-1]))"
   ]
  },
  {
   "cell_type": "code",
   "execution_count": 2,
   "metadata": {
    "slideshow": {
     "slide_type": "slide"
    }
   },
   "outputs": [
    {
     "data": {
      "image/png": "[encoded data removed]",
      "text/plain": [
       "<matplotlib.figure.Figure at 0x105f9be80>"
      ]
     },
     "metadata": {},
     "output_type": "display_data"
    }
   ],
   "source": [
    "x=np.linspace(-1.0,1.0,30)\n",
    "plt.plot(x,x,'-',color='k')\n",
    "\n",
    "for i in range(0,N-1): \n",
    "    A=np.array([X[i],X[i]])\n",
    "    B=np.array([X[i],g(X[i])])            \n",
    "    plt.plot(A,B,'-',color='k',lw=1)\n",
    "    B=np.array([X[i],g(X[i])])\n",
    "    A=np.array([X[i+1],X[i+1]])\n",
    "    plt.plot(B,A,'-',color='k',lw=1)\n",
    "    \n",
    "plt.title(\"Ponto Fixo Neutro (Atractivo à direita)\")     \n",
    "plt.plot(x,g(x),'-',color='r')\n",
    "plt.plot(X,X,'o')\n",
    "plt.xlim(0.0,0.1)\n",
    "plt.ylim(0.0,0.1)\n",
    "plt.show()\n",
    "quit()"
   ]
  },
  {
   "cell_type": "code",
   "execution_count": 1,
   "metadata": {
    "slideshow": {
     "slide_type": "slide"
    }
   },
   "outputs": [
    {
     "name": "stdout",
     "output_type": "stream",
     "text": [
      "Sol X= [ -1.00000000e-01  -1.10000000e-01  -1.22100000e-01  -1.37008410e-01\n",
      "  -1.55779714e-01  -1.80047034e-01  -2.12463968e-01  -2.57604906e-01\n",
      "  -3.23965194e-01  -4.28918640e-01  -6.12889840e-01  -9.88523797e-01\n",
      "  -1.96570309e+00  -5.82969174e+00  -3.98149976e+01  -1.62504903e+03\n",
      "  -2.64240940e+06  -6.98233006e+12  -4.87529330e+25  -2.37684848e+51] \n",
      "\n",
      "|X[i]-X[i-1]|= [  1.00000000e-02   1.21000000e-02   1.49084100e-02   1.87713044e-02\n",
      "   2.42673194e-02   3.24169344e-02   4.51409378e-02   6.63602876e-02\n",
      "   1.04953447e-01   1.83971200e-01   3.75633956e-01   9.77179297e-01\n",
      "   3.86398865e+00   3.39853058e+01   1.58523403e+03   2.64078435e+06\n",
      "   6.98232742e+12   4.87529330e+25   2.37684848e+51]\n"
     ]
    }
   ],
   "source": [
    "import numpy as np\n",
    "import matplotlib.pyplot as plt\n",
    "from math import exp\n",
    "\n",
    "def g(x):\n",
    "    return x-x**2\n",
    "\n",
    "N=20 # Numero de iterações\n",
    "\n",
    "X=np.zeros(N)\n",
    "\n",
    "X[0]=-0.1 #aproximação inicial dada\n",
    "\n",
    "for i in range(1,N):\n",
    "    X[i]=g(X[i-1])\n",
    "\n",
    "\n",
    "print('Sol X=',X,'\\n')\n",
    "print('|X[i]-X[i-1]|=',abs(X[1:N]-X[0:N-1]))"
   ]
  },
  {
   "cell_type": "code",
   "execution_count": 2,
   "metadata": {
    "slideshow": {
     "slide_type": "slide"
    }
   },
   "outputs": [
    {
     "data": {
      "image/png": "[encoded data removed]",
      "text/plain": [
       "<matplotlib.figure.Figure at 0x113afbfd0>"
      ]
     },
     "metadata": {},
     "output_type": "display_data"
    }
   ],
   "source": [
    "x=np.linspace(-1.0,1.0,30)\n",
    "plt.plot(x,x,'-',color='k')\n",
    "\n",
    "for i in range(0,N-1): \n",
    "    A=np.array([X[i],X[i]])\n",
    "    B=np.array([X[i],g(X[i])])            \n",
    "    plt.plot(A,B,'-',color='k',lw=1)\n",
    "    B=np.array([X[i],g(X[i])])\n",
    "    A=np.array([X[i+1],X[i+1]])\n",
    "    plt.plot(B,A,'-',color='k',lw=1)\n",
    "    \n",
    "plt.title(\"Ponto Fixo Neutro (Repulsivo à esquerda)\")     \n",
    "plt.plot(x,g(x),'-',color='r')\n",
    "plt.plot(X,X,'o')\n",
    "plt.xlim(-0.5,0.1)\n",
    "plt.ylim(-0.5,0.1)\n",
    "plt.show()\n",
    "quit()"
   ]
  },
  {
   "cell_type": "markdown",
   "metadata": {
    "collapsed": true,
    "slideshow": {
     "slide_type": "slide"
    }
   },
   "source": [
    "#### Exercício:  Funções iteradoras diferentes $\\rightarrow$ velocidades de convergência diferentes."
   ]
  },
  {
   "cell_type": "markdown",
   "metadata": {},
   "source": [
    "Sabe-se que a equação $x^3+4x^2-10=0$ tem uma e uma só solução em $[1,2]$.\n",
    "Verifique que as funções iteradoras $g_i, i=1\\dots 5$ tem como ponto fixo  a solução da equação anterior.\n",
    "\n",
    "- $x=g_1(x)=x-x^3-4x^2+10$\n",
    "- $x=g_2(x)=(\\frac{10}{x}-4x)^{1/2}$\n",
    "- $x=g_3(x)=0.5(10-x^3)^{1/2}$\n",
    "- $x=g_4(x)=(\\frac{10}{4+x})^{1/2}$\n",
    "- $x=g_5(x)=x-\\frac{x^3+4x^2-10}{3x^2+8x}$"
   ]
  },
  {
   "cell_type": "markdown",
   "metadata": {
    "slideshow": {
     "slide_type": "slide"
    }
   },
   "source": [
    "- Use o método do ponto fixo com $p_0=1.5$ para tentar aproximar a solução do problema inicial usando cada um dos problemas do ponto fixo anteriores.\n",
    "\n",
    "- Para os métodos (sempre que possível) quando $|x_{i+1}-x_i|<10^{-7}.$"
   ]
  },
  {
   "cell_type": "code",
   "execution_count": 6,
   "metadata": {},
   "outputs": [
    {
     "name": "stdout",
     "output_type": "stream",
     "text": [
      "x=1.373333333, iter=1\n",
      "x=1.365262015, iter=2\n",
      "x=1.365230014, iter=3\n",
      "x=1.365230013, iter=4\n",
      "Erro 0.0000000005 < TOL \n"
     ]
    }
   ],
   "source": [
    "import numpy as np\n",
    "import matplotlib.pyplot as plt\n",
    "from math import sqrt\n",
    "\n",
    "def g_1(x):\n",
    "    return x-x**3-4*x**2+10\n",
    "\n",
    "def g_2(x):\n",
    "    return sqrt(10/x-4*x)\n",
    "\n",
    "def g_3(x):\n",
    "    return 0.5*sqrt(10-x**3)\n",
    "\n",
    "def g_4(x):\n",
    "    return sqrt(10.0/(4+x))\n",
    "    \n",
    "def g_5(x):\n",
    "    return x-(x**3+4*x**2-10)/(3*x**2+8*x)\n",
    "\n",
    "g=g_5\n",
    "\n",
    "\n",
    "N=50 # Numero máximo de iterações\n",
    "\n",
    "\n",
    "x=1.5 #aproximação inicial dada\n",
    "\n",
    "TOL=1.e-9\n",
    "DIVERGTOL= 1.e7 \n",
    "\n",
    "erro = 1 # Erro inicial\n",
    "\n",
    "\n",
    "for i in range(1,N):\n",
    "    y=g(x)\n",
    "    erro = abs(x-y)\n",
    "    x=y\n",
    "    print('x={x:.9f}, iter={i}'.format(x=x,i=i))\n",
    "    if erro < TOL :\n",
    "        print('Erro {erro:.10f} < TOL '.format(erro=erro))\n",
    "        break\n",
    "    elif erro >DIVERGTOL : \n",
    "        print('Erro {erro:.2f} > DIVERGTOL '.format(erro=erro))\n",
    "        print('DIVERGE')\n",
    "        break\n"
   ]
  },
  {
   "cell_type": "code",
   "execution_count": null,
   "metadata": {
    "collapsed": true
   },
   "outputs": [],
   "source": []
  }
 ],
 "metadata": {
  "anaconda-cloud": {},
  "celltoolbar": "Slideshow",
  "kernelspec": {
   "display_name": "Python 3",
   "language": "python",
   "name": "python3"
  },
  "language_info": {
   "codemirror_mode": {
    "name": "ipython",
    "version": 3
   },
   "file_extension": ".py",
   "mimetype": "text/x-python",
   "name": "python",
   "nbconvert_exporter": "python",
   "pygments_lexer": "ipython3",
   "version": "3.6.5"
  }
 },
 "nbformat": 4,
 "nbformat_minor": 1
}
