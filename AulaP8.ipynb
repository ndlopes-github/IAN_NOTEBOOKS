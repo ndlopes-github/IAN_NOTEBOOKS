{
 "cells": [
  {
   "cell_type": "markdown",
   "metadata": {},
   "source": [
    "# AulaP8\n",
    "\n",
    "- Finalizar implementação dos Splines Cúbicos\n",
    "- Fórmulas de Quadratura Fechadas (Newton-Cotes)"
   ]
  },
  {
   "cell_type": "markdown",
   "metadata": {},
   "source": [
    "***"
   ]
  },
  {
   "cell_type": "markdown",
   "metadata": {
    "heading_collapsed": true
   },
   "source": [
    "## Splines Cúbicos"
   ]
  },
  {
   "cell_type": "markdown",
   "metadata": {
    "hidden": true
   },
   "source": [
    "### Definição:\n",
    "\n",
    "- Dada uma função $f$ definida em $[a,b]$ e um conjunto de nós $a=x_0<\\dots<x_b=b$, diz-se um spline cúbico $S(x)$ interpolador de $f(x)$  a uma função que satisfaz:\n",
    "\n",
    "     $S(x)$ é um polínomio cúbico, denotado por $S_j(x)$, em cada troço $[x_i,x_{i+1}],\\quad$ $\\forall i=0,1,\\dots,n-1$.\n",
    "    \n",
    "    $S_i(x_i)=f(x_i)\\quad$ e $\\quad S_i(x_{i+1})=f(x_{i+1}),\\quad$ $\\forall i=0,1,\\dots,n-1$.\n",
    "    \n",
    "    $S_{i+1}(x_{i+1})=f(x_{i+1}),\\quad$ $\\forall i=0,1,\\dots,n-2$.\n",
    "    \n",
    "    $S'_{i+1}(x_{i+1})=S'_{i}(x_{i+1})\\quad$ $\\forall i=0,1,\\dots,n-2$.\n",
    "    \n",
    "    $S''_{i+1}(x_{i+1})=S''_{i}(x_{i+1})\\quad$ $\\forall i=0,1,\\dots,n-2$.\n",
    "    \n",
    "juntamente com umas das seguintes condições de fronteira:\n",
    "    \n",
    "   $S''(x_0)=S''(x_{n})=0\\quad$ (fronteira **natural** ou livre)\n",
    "   \n",
    "   $S'(x_0)=f'(x_{0})\\quad$ e  $\\quad S'(x_n)=f'(x_{n})\\quad$  (**condições na derivada**, fronteira **encastrada** *clamped*)"
   ]
  },
  {
   "cell_type": "markdown",
   "metadata": {
    "hidden": true
   },
   "source": [
    "### Existência e unicidade\n",
    "\n",
    "- Nas condições anteriores é garantida a existência de um spline cúbico **natural**.\n",
    "\n",
    "- Em cada troço $[x_i,x_{i+1}]$ tem-se \n",
    "\n",
    "$$S_i(x)=a_i+b_i(x-x_i)+c_i(x-x_i)^2+d_i(x-x_i)^3\\quad\\forall i=0,1,\\dots,n-1.$$ \n",
    "\n",
    "\n"
   ]
  },
  {
   "cell_type": "markdown",
   "metadata": {
    "hidden": true
   },
   "source": [
    "***\n",
    "### Problema: \n",
    "\n",
    "- Como calcular os coeficientes $a_i, b_i, c_i, d_i$?."
   ]
  },
  {
   "cell_type": "markdown",
   "metadata": {
    "hidden": true
   },
   "source": [
    " $$h_i=x_{i+1}-x_i\\quad i=0,\\dots, n-1$$\n",
    "\n",
    " $$a_i=f(x_i),\\quad i=0,\\dots, n$$\n",
    "\n",
    " $$b_i=\\frac{a_{i+1}-a_i}{h_i}-\\frac{h_i}{3}(2 c_i+c_{i+1}),\\quad i=0,\\dots, n-1$$\n",
    " \n",
    " $$d_i=\\frac{c_{i+1}-c_{i}}{3h_i}, \\quad i=0,\\dots, n-1$$\n",
    " "
   ]
  },
  {
   "cell_type": "markdown",
   "metadata": {
    "hidden": true
   },
   "source": [
    "- **$c_i,\\quad  (i=0,\\dots, n)$** resulta da resolução de um sistema tridiagonal de $(n+1)\\times(n+1):$"
   ]
  },
  {
   "cell_type": "markdown",
   "metadata": {
    "hidden": true
   },
   "source": [
    " - **Condições naturais:**\n",
    " \n",
    " $$c_0=0,\\quad c_n=0,$$\n",
    " \n",
    " $$h_{i-1}c_{i-1}+2(h_{i-1}+h_i)c_i+h_ic_{i+1}=\\frac{3}{h_i}(a_{i+1}-a_i)-\\frac{3}{h_{i-1}}(a_{i}-a_{i-1}),\\quad i=1,\\dots, n-1 $$"
   ]
  },
  {
   "cell_type": "markdown",
   "metadata": {
    "hidden": true
   },
   "source": [
    " - **Condições na derivada** \n",
    " \n",
    " $$2h_0c_0+h_0c_1=\\frac{3}{h_0}(a_{1}-a_0)- 3f'(x_0)$$\n",
    " \n",
    " $$h_{n-1}c_{n-1}+2h_{n-1}c_n=3f'(x_n) -\\frac{3}{h_{n-1}}(a_{n}-a_{n-1}) $$\n",
    " \n",
    " $$h_{i-1}c_{i-1}+2(h_{i-1}+h_i)c_i+h_ic_{i+1}=\\frac{3}{h_i}(a_{i+1}-a_i)-\\frac{3}{h_{i-1}}(a_{i}-a_{i-1}),\\quad i=1,\\dots, n-1 $$"
   ]
  },
  {
   "cell_type": "markdown",
   "metadata": {
    "hidden": true
   },
   "source": [
    "***\n",
    "### Uma implementação possível: (Splines com condições Naturais)\n",
    " - A resolução do sistema em $c_i$ é feita recorrendo a *linalg.solve(A,b)*  "
   ]
  },
  {
   "cell_type": "code",
   "execution_count": 82,
   "metadata": {
    "collapsed": true,
    "hidden": true
   },
   "outputs": [],
   "source": [
    "import numpy as np\n",
    "\n",
    "class NaturalSpline:\n",
    "    def __init__(self,data_x,data_y):\n",
    "        self.x=data_x\n",
    "        self.y=data_y\n",
    "        self.N=len(data_x)-1\n",
    "        assert len(self.x) != 0 and (len(self.x) == len(self.y)),\\\n",
    "        'x and y cannot be empty and must have the same length'\n",
    "        self.h=self.x[1:self.N+1]-self.x[0:self.N]\n",
    "        self.a=self.y\n",
    "        self.b=np.zeros(self.N)\n",
    "        self.c=np.zeros(self.N+1)\n",
    "        self.d=np.zeros(self.N)\n",
    "        self.Amat=np.zeros((self.N+1,self.N+1))\n",
    "        self.SetAMatValues()\n",
    "        self.Bvec=np.zeros(self.N+1)\n",
    "        self.SetBvecValues()\n",
    "        self.SolveSystem()\n",
    "        self.Setbdvalues()\n",
    "        \n",
    "        \n",
    "    def SetAMatValues(self):\n",
    "        self.Amat[0][0]=1.0\n",
    "        self.Amat[self.N][self.N]=1.0\n",
    "        for i in range(1,self.N):\n",
    "            self.Amat[i][i-1]=self.h[i-1]\n",
    "            self.Amat[i][i]=2.0*(self.h[i-1]+self.h[i])\n",
    "            self.Amat[i][i+1]=self.h[i]\n",
    "        \n",
    "        print('Triadiagonal Matrix done')\n",
    "        return 'Triadiagonal Matrix done'\n",
    "    \n",
    "    \n",
    "    def SetBvecValues(self):\n",
    "        for i in range(1,self.N):\n",
    "                self.Bvec[i]=3.0*(self.a[i+1]-self.a[i])/self.h[i]\\\n",
    "                -3.*(self.a[i]-self.a[i-1])/self.h[i-1] \n",
    "         \n",
    "        print('Independent vector done')\n",
    "        return 'Independent vector done'\n",
    "\n",
    "    \n",
    "    def SolveSystem(self): # Cenas dos próximos capítulos \n",
    "        self.c=np.linalg.solve(self.Amat,self.Bvec)\n",
    "        \n",
    "        print('System solved c values  done')\n",
    "        return 'System solved c values  done'\n",
    "\n",
    "        \n",
    "    \n",
    "    def Setbdvalues(self):\n",
    "        self.b[0:self.N]=(self.a[1:self.N+1]-self.a[0:self.N])/self.h[0:self.N]\\\n",
    "                         -self.h[0:self.N]/3.0*(2*self.c[0:self.N]+self.c[1:self.N+1])\n",
    "            \n",
    "        self.d[0:self.N]=(self.c[1:self.N+1]-self.c[0:self.N])/(3.0*self.h[0:self.N])\n",
    "        \n",
    "        print('b and d values done')\n",
    "        return 'b and d values done'\n",
    "    \n",
    "    \n",
    "    def Si(self,i,varx):\n",
    "        return self.a[i]+self.b[i]*(varx-self.x[i])+self.c[i]*(varx-self.x[i])**2+self.d[i]*(varx-self.x[i])**3\n",
    "    \n",
    "    \n",
    "    def SplineFunction(self,varx):\n",
    "        M=len(varx)\n",
    "        assert self.x[0] == varx[0] and varx[M-1] == self.x[self.N], 'varx must be inside [x_0,x_n]'\n",
    "        aux=np.zeros(M)\n",
    "        for j in range(0,M-1): #Warning the Last point should be evaluated with the last xi\n",
    "            for i in range(0,self.N):\n",
    "                if self.x[i]<= varx[j] < self.x[i+1]:\n",
    "                    aux[j]=self.Si(i,varx[j])\n",
    "                    break\n",
    "                    \n",
    "        aux[M-1]=self.Si(self.N-1,varx[M-1])\n",
    "        \n",
    "        return aux\n",
    "    "
   ]
  },
  {
   "cell_type": "markdown",
   "metadata": {
    "hidden": true
   },
   "source": [
    "***\n",
    "\n",
    "\n",
    "\n",
    "### Exercício de teste: Exemplo 1 (Burden, Faires, secção 3.14)\n",
    "\n",
    "Considere $x_i=(0,1,2,3),$ $f(x)=e^x$.\n",
    "\n",
    "- Apresente os valores $a_i$, $b_i$, $c_i$, $d_i$ bem como o sistema associado ao problema.\n",
    "- Apresente o gráfico das funções $f(x)$, do Spline cúbico bem como dos nós de interpolação.\n"
   ]
  },
  {
   "cell_type": "code",
   "execution_count": 83,
   "metadata": {
    "hidden": true
   },
   "outputs": [
    {
     "name": "stdout",
     "output_type": "stream",
     "text": [
      "Triadiagonal Matrix done\n",
      "Independent vector done\n",
      "System solved c values  done\n",
      "b and d values done\n"
     ]
    }
   ],
   "source": [
    "import matplotlib.pyplot as plt\n",
    "x=np.array([0,1,2,3])\n",
    "y=np.exp(x)\n",
    "\n",
    "S=NaturalSpline(x,y)"
   ]
  },
  {
   "cell_type": "code",
   "execution_count": 84,
   "metadata": {
    "hidden": true
   },
   "outputs": [
    {
     "name": "stdout",
     "output_type": "stream",
     "text": [
      "x= [0 1 2 3]\n",
      "ai= [  1.           2.71828183   7.3890561   20.08553692]\n",
      "bi= [ 1.46599761  2.22285026  8.80976965]\n",
      "ci= [-0.          0.75685264  5.83006675  0.        ]\n",
      "di= [ 0.25228421  1.69107137 -1.94335558]\n",
      "Amat= [[ 1.  0.  0.  0.]\n",
      " [ 1.  4.  1.  0.]\n",
      " [ 0.  1.  4.  1.]\n",
      " [ 0.  0.  0.  1.]]\n",
      "Vecb= [  0.           8.85747733  24.07711966   0.        ]\n"
     ]
    },
    {
     "data": {
      "image/png": "[encoded data removed]",
      "text/plain": [
       "<matplotlib.figure.Figure at 0x181af09940>"
      ]
     },
     "metadata": {},
     "output_type": "display_data"
    }
   ],
   "source": [
    "print('x=',S.x)\n",
    "print('ai=',S.a)\n",
    "print('bi=',S.b)\n",
    "print('ci=',S.c)\n",
    "print('di=',S.d)\n",
    "print('Amat=',S.Amat)\n",
    "print('Vecb=',S.Bvec)\n",
    "\n",
    "xx=np.linspace(0,3,200)\n",
    "yy=S.SplineFunction(xx)\n",
    "\n",
    "plt.plot(x,y,'o',color='r',label='nós')\n",
    "plt.plot(xx,yy,'-',color='k',label='spline')\n",
    "plt.plot(xx,np.exp(xx),'-',color='blue',label='exp(x)')\n",
    "plt.legend(loc='best')\n",
    "plt.show()\n",
    "plt.clf()"
   ]
  },
  {
   "cell_type": "markdown",
   "metadata": {
    "hidden": true
   },
   "source": [
    "### Novamente a função de Runge, agora com splines cúbicos."
   ]
  },
  {
   "cell_type": "code",
   "execution_count": 85,
   "metadata": {
    "hidden": true
   },
   "outputs": [
    {
     "name": "stdout",
     "output_type": "stream",
     "text": [
      "Triadiagonal Matrix done\n",
      "Independent vector done\n",
      "System solved c values  done\n",
      "b and d values done\n"
     ]
    },
    {
     "data": {
      "text/plain": [
       "<matplotlib.figure.Figure at 0x11845d668>"
      ]
     },
     "metadata": {},
     "output_type": "display_data"
    },
    {
     "data": {
      "image/png": "[encoded data removed]",
      "text/plain": [
       "<matplotlib.figure.Figure at 0x181ae32898>"
      ]
     },
     "metadata": {},
     "output_type": "display_data"
    }
   ],
   "source": [
    "x=np.linspace(-1,1,11)\n",
    "y=1./(1+25*x**2)\n",
    "\n",
    "xx=np.linspace(-1.,1,100)\n",
    "yy=1./(1+25*xx**2)\n",
    "\n",
    "yl=NaturalSpline(x,y).SplineFunction(xx)\n",
    "plt.figure(figsize=(8,6))\n",
    "plt.plot(x,y,'-',label='spline linear')\n",
    "plt.plot(x,y,'o',label='nós')\n",
    "plt.plot(xx,yl,'-',label='Spline Cúbico')\n",
    "plt.plot(xx,yy,'-',label='Runge')\n",
    "plt.legend()\n",
    "plt.show()\n",
    "plt.clf()"
   ]
  },
  {
   "cell_type": "markdown",
   "metadata": {
    "hidden": true
   },
   "source": [
    "***"
   ]
  },
  {
   "cell_type": "markdown",
   "metadata": {
    "hidden": true
   },
   "source": [
    "***"
   ]
  },
  {
   "cell_type": "markdown",
   "metadata": {},
   "source": [
    "## Integração Numérica\n",
    "\n",
    "### Algumas Fórmulas de Newton-Cotes Simples com Erro \n",
    " \n",
    "**Notações**: Pontos igualmente espaçados $h=x_{i+1}-x_i$ e $(f_i=f(x_i))$, $(i=,1\\dots, n)$:\n",
    "\n",
    "1. Regra dos Trapézios (2 Pontos:  $x_0$, $x_1$) \n",
    "$$\\int_{x_0}^{x_1} f(x)\\, {\\rm d}x = \\frac{h}{2}(f_0+f_1)-\\frac{h^3}{12}f''(\\xi),\\quad \\xi\\in[x_0,x_1]$$\n",
    "\n",
    "- Regra de **Simpson** (3 Pontos:  $x_0$, $x_1$, $x_2$):   \n",
    "$$\\int_{x_0}^{x_2}f(x)\\, {\\rm d}x=\\frac{h}{3}\\left(f_0+4f_1+f_2\\right)-\\frac{h^5}{90}f^{(IV)}(\\xi),\\quad \\xi\\in[x_0,x_{2}]$$\n",
    "\n",
    "- 3/8 (4 Pontos: $x_0$, $\\dots$, $x_3$):\n",
    "$$\\int_{x_0}^{x_3}f(x)\\, {\\rm d}x=\\frac{3h}{8}\\left(f_0+3f_1+3f_2+f_3\\right)-\\frac{3h^5}{80}f^{(IV)}(\\xi),\\quad \\xi\\in[x_0,x_3]$$\n",
    "\n",
    "- Regra de Boole (5 pontos, $x_0$, $\\dots$, $x_4$ )\n",
    "$$\\int_{x_0}^{x_4}f(x)\\, {\\rm d}x=\\frac{2h}{45}\\left(7f_0+32f_1+12f_2+32f_3+7f_4\\right)-\\frac{8h^7}{945}f^{(VI)}(\\xi),\n",
    "\\quad \\xi\\in[x_0,x_4]$$\n",
    "\n",
    "- Regra dos 6 pontos ($x_0$, $\\dots$, $x_5$)\n",
    "$$\\int_{x_0}^{x_5}f(x)\\, {\\rm d}x=\\frac{5h}{288}\\left(19f_0+75f_1+50f_2+50f_3+75f_4+19f_5\\right)-\\frac{275h^7}{12096}f^{(VI)}(\\xi),\\quad  \\xi\\in[x_0,x_5]$$\n",
    "\n",
    "- Regra de Weddel (7 pontos, $x_0$, $\\dots$, $x_6$)  \n",
    "$$\\int_{x_0}^{x_6}f(x)\\, {\\rm d}x=\\frac{h}{140}\\left(41f_0+216f_1+27f_2+272f_3+27f_4+216f_5+41f_6\\right)-\\frac{9h^9}{1400}f^{(VIII)}(\\xi),\\quad \\xi\\in[x_0,x_6]$$"
   ]
  },
  {
   "cell_type": "markdown",
   "metadata": {},
   "source": [
    "### Exercício\n",
    "\n",
    "- Seja $\\displaystyle I=\\int_{1.0}^{1.2}\\frac{\\sin(x)}{x}\\, {\\rm d}x$.\n",
    "\n",
    " 1. Utilize a regra dos trapézios simples para aproximar o valor de $I$ e\n",
    "apresente um majorante do erro de truncatura.\n",
    " -  Utilize a regra de Simpson simples para aproximar o valor de $I$ e\n",
    "apresente um majorante do erro de truncatura.\n",
    "\n",
    "**Sugestão**: Recorra ao gráfico das derivadas envolvidas nas expressões para o erro. "
   ]
  },
  {
   "cell_type": "code",
   "execution_count": 2,
   "metadata": {
    "ExecuteTime": {
     "end_time": "2020-12-07T14:36:22.553027Z",
     "start_time": "2020-12-07T14:36:22.547911Z"
    }
   },
   "outputs": [
    {
     "name": "stdout",
     "output_type": "stream",
     "text": [
      "[0.84147098 0.77669924]\n",
      "Trap=0.16182\n"
     ]
    }
   ],
   "source": [
    "#1. Regra dos Trapézios simples\n",
    "import numpy as np\n",
    "h=0.2\n",
    "x=np.array([1.0,1.2])\n",
    "f=np.sin(x)/x\n",
    "print(f)\n",
    "Trap=(h/2.0)*(f[0]+f[1])\n",
    "print(\"Trap=%.5f\" % Trap)"
   ]
  },
  {
   "cell_type": "code",
   "execution_count": 3,
   "metadata": {
    "ExecuteTime": {
     "end_time": "2020-12-07T14:37:58.196014Z",
     "start_time": "2020-12-07T14:37:57.695507Z"
    }
   },
   "outputs": [
    {
     "name": "stdout",
     "output_type": "stream",
     "text": [
      "(-sin(x) - 2*cos(x)/x + 2*sin(x)/x**2)/x\n",
      "(-cos(x) + 3*sin(x)/x + 6*cos(x)/x**2 - 6*sin(x)/x**3)/x\n",
      "(sin(x) + 4*cos(x)/x - 12*sin(x)/x**2 - 24*cos(x)/x**3 + 24*sin(x)/x**4)/x\n"
     ]
    }
   ],
   "source": [
    "# Cálculo da derivada recorrendo ao cálculo simbólico\n",
    "# Majorante do erro\n",
    "from math import sin, cos\n",
    "from sympy import *\n",
    "x=Symbol('x')\n",
    "#Segunda derivada da função integranda\n",
    "dfxx=diff(sin(x)/x,x,2)\n",
    "print(dfxx)\n",
    "dfx3=diff(sin(x)/x,x,3)\n",
    "print(dfx3)\n",
    "dfx4=diff(sin(x)/x,x,4)\n",
    "print(dfx4)"
   ]
  },
  {
   "cell_type": "code",
   "execution_count": 8,
   "metadata": {
    "ExecuteTime": {
     "end_time": "2020-12-07T14:42:11.712568Z",
     "start_time": "2020-12-07T14:42:11.429708Z"
    }
   },
   "outputs": [
    {
     "data": {
      "image/png": "[encoded data removed]",
      "text/plain": [
       "<Figure size 432x288 with 1 Axes>"
      ]
     },
     "metadata": {
      "needs_background": "light"
     },
     "output_type": "display_data"
    }
   ],
   "source": [
    "import matplotlib.pyplot as plt\n",
    "\n",
    "def dfx2(x):\n",
    "    return (-np.sin(x) - 2*np.cos(x)/x + 2*np.sin(x)/x**2)/x\n",
    "\n",
    "xx=np.linspace(1,1.2,200)\n",
    "yy=dfx2(xx)\n",
    "plt.plot(xx,yy,'-')"
   ]
  },
  {
   "cell_type": "code",
   "execution_count": 12,
   "metadata": {
    "ExecuteTime": {
     "end_time": "2020-12-07T14:44:03.993280Z",
     "start_time": "2020-12-07T14:44:03.989199Z"
    }
   },
   "outputs": [
    {
     "name": "stdout",
     "output_type": "stream",
     "text": [
      "0.24\n"
     ]
    }
   ],
   "source": [
    "max_dfxx=np.abs(dfx2(1.0))\n",
    "print(round(max_dfxx+0.005,2))"
   ]
  },
  {
   "cell_type": "code",
   "execution_count": 13,
   "metadata": {
    "ExecuteTime": {
     "end_time": "2020-12-07T14:44:34.130338Z",
     "start_time": "2020-12-07T14:44:34.125808Z"
    }
   },
   "outputs": [
    {
     "name": "stdout",
     "output_type": "stream",
     "text": [
      "0.0001594224179522554\n"
     ]
    }
   ],
   "source": [
    "MajErro=max_dfxx*h**3/12.0\n",
    "print(MajErro)"
   ]
  },
  {
   "cell_type": "markdown",
   "metadata": {},
   "source": [
    "### Resolução utilizando Simpson"
   ]
  },
  {
   "cell_type": "code",
   "execution_count": 14,
   "metadata": {
    "ExecuteTime": {
     "end_time": "2020-12-07T15:01:16.038924Z",
     "start_time": "2020-12-07T15:01:16.029776Z"
    }
   },
   "outputs": [
    {
     "name": "stdout",
     "output_type": "stream",
     "text": [
      "[0.84147098 0.81018851 0.77669924]\n",
      "Simpson=0.16196\n"
     ]
    }
   ],
   "source": [
    "B=1.2\n",
    "A=1.0\n",
    "h=(B-A)/2.0\n",
    "x=np.array([A,A+h,B])\n",
    "f=np.sin(x)/x\n",
    "print(f)\n",
    "Simpson=(h/3.0)*(f[0]+4*f[1]+f[2])\n",
    "print(\"Simpson=%.5f\" % Simpson)"
   ]
  },
  {
   "cell_type": "code",
   "execution_count": 19,
   "metadata": {
    "ExecuteTime": {
     "end_time": "2020-12-07T15:10:04.667112Z",
     "start_time": "2020-12-07T15:10:04.417212Z"
    }
   },
   "outputs": [
    {
     "data": {
      "image/png": "[encoded data removed]",
      "text/plain": [
       "<Figure size 432x288 with 1 Axes>"
      ]
     },
     "metadata": {
      "needs_background": "light"
     },
     "output_type": "display_data"
    },
    {
     "name": "stdout",
     "output_type": "stream",
     "text": [
      "0.14\n",
      "Majorante do Erro para Simpson Simples= 1.478629834887316e-08\n"
     ]
    }
   ],
   "source": [
    "#2. TRABALHO NA AULA\n",
    "def dfx4(x): \n",
    "    return ((np.sin(x)+4*np.cos(x)/x-12*np.sin(x)/x**2-24.0*np.cos(x)/x**3+24*np.sin(x)/x**4)/x)\n",
    "\n",
    "xx=np.linspace(1,1.2,100)\n",
    "yy=dfx4(xx)\n",
    "plt.plot(xx,yy,'-')\n",
    "plt.show()\n",
    "\n",
    "max_dfx4=np.abs(dfx4(1.0))\n",
    "print(round(max_dfx4+0.005,2))\n",
    "MajErro=max_dfx4*h**5/90.0\n",
    "print(\"Majorante do Erro para Simpson Simples=\", MajErro)"
   ]
  },
  {
   "cell_type": "markdown",
   "metadata": {},
   "source": [
    "### Algumas Fórmulas de Newton-Cotes Compostas com Erro\n",
    "\n",
    "**Notações**: Pontos igualmente espaçados $$h=x_{i+1}-x_i=\\frac{x_n-x_0}{n}\\quad\\quad \\text{e}\\quad\\quad f_i=f(x_i),\\quad (i=,1\\dots, n):$$\n",
    "\n",
    "1. Regra dos Trapézios: \n",
    "$$\\int_{x_0}^{x_n} f(x)\\, {\\rm d}x = \\frac{h}{2}(f_0+2\\sum_{i=1}^{n-1}f_i+f_n)-\\frac{h^2(x_n-x_0)}{12}f''(\\xi),\\quad \\xi\\in[x_0,x_n]$$\n",
    "\n",
    "- Regra de **Simpson** (n par):   \n",
    "$$\\int_{x_0}^{x_n}f(x)\\, {\\rm d}x=\\frac{h}{3}\\left(f_0+2\\sum_{i=1}^{(n/2)-1}f_{2i}+4\\sum_{i=1}^{(n/2)}f_{2i-1} + f_n\\right)-\\frac{h^4(x_n-x_0)}{180}f^{(IV)}(\\xi),\\quad \\xi\\in[x_0,x_{n}]$$\n"
   ]
  },
  {
   "cell_type": "markdown",
   "metadata": {},
   "source": [
    "### Exercício\n",
    "- Seja $$I=\\int_0^{2}\\sqrt{x}\\, {\\rm d}x=\\frac{2}{3}x^{3/2}{\\Big\\vert}_{x=0}^{x=2}=\\frac{2}{3}2^{3/2}=1.8856180831641267.$$\n",
    "\n",
    " 1. Calcule uma aproximação do valor\n",
    "de $I$ pela  regra dos trapézios simples assim como pela regra de\n",
    "Simpson simples.\n",
    " - Calcule os erros exactos  cometidos nas aproximações anteriores.\n",
    " - Calcule uma aproximação do valor de $I$ recorrendo à regra de\n",
    "  Simpson composta com $200$ subintervalos.\n",
    " - Calcule os erros exactos  cometidos nas aproximação anterior.\n"
   ]
  },
  {
   "cell_type": "markdown",
   "metadata": {
    "ExecuteTime": {
     "end_time": "2020-12-07T15:24:53.997780Z",
     "start_time": "2020-12-07T15:24:53.988991Z"
    }
   },
   "source": [
    "#### Trap"
   ]
  },
  {
   "cell_type": "code",
   "execution_count": 31,
   "metadata": {
    "ExecuteTime": {
     "end_time": "2020-12-07T15:50:08.961579Z",
     "start_time": "2020-12-07T15:50:08.949925Z"
    }
   },
   "outputs": [
    {
     "name": "stdout",
     "output_type": "stream",
     "text": [
      "Trap= 1.4142135623730951\n",
      "Erro= 0.47140452079103157\n"
     ]
    }
   ],
   "source": [
    "A=0\n",
    "B=2\n",
    "x=np.array([A,B])\n",
    "h=B-A\n",
    "f=np.sqrt(x)\n",
    "Trap=h/2*(f[0]+f[1])\n",
    "print('Trap=',Trap)\n",
    "print('Erro=',abs(Trap-1.8856180831641267))"
   ]
  },
  {
   "cell_type": "code",
   "execution_count": 32,
   "metadata": {
    "ExecuteTime": {
     "end_time": "2020-12-07T15:50:12.041394Z",
     "start_time": "2020-12-07T15:50:12.027208Z"
    }
   },
   "outputs": [
    {
     "name": "stdout",
     "output_type": "stream",
     "text": [
      "Simpson= 1.8047378541243648\n",
      "Erro= 0.08088022903976189\n"
     ]
    }
   ],
   "source": [
    "A=0\n",
    "B=2\n",
    "h=(B-A)/2.0\n",
    "x=np.array([A,A+h,B])\n",
    "f=np.sqrt(x)\n",
    "Simpson=h/3.*(f[0]+4*f[1]+f[2])\n",
    "print('Simpson=',Simpson)\n",
    "print('Erro=',abs(Simpson-1.8856180831641267))"
   ]
  },
  {
   "cell_type": "code",
   "execution_count": 37,
   "metadata": {
    "ExecuteTime": {
     "end_time": "2020-12-07T15:54:37.233521Z",
     "start_time": "2020-12-07T15:54:37.211044Z"
    }
   },
   "outputs": [
    {
     "name": "stdout",
     "output_type": "stream",
     "text": [
      "Simpson Composto=1.88562\n",
      "I=1.88562\n",
      "Erro exacto = 0.000002567283126\n"
     ]
    }
   ],
   "source": [
    "# 3. e 4.\n",
    "#Regra de Simpson Composta\n",
    "import numpy as np\n",
    "A=0.0\n",
    "B=2.0\n",
    "N=2000 # n. subintervalos (número par)\n",
    "h=(B-A)/N\n",
    "x=np.linspace(0.0,2.0,N+1)\n",
    "f=np.sqrt(x)\n",
    "\n",
    "#Soma Simpson simples de dois em dois subintervalos\n",
    "def SumSimpson(N):\n",
    " assert (N%2==0), 'N must be a even number'\n",
    " SSimpson=0.0\n",
    " for i in range(0,N//2):\n",
    "   SSimpson += h/3.0*(f[2*i]+4.0*f[2*i+1]+f[2*i+2])\n",
    " return SSimpson\n",
    "\n",
    "SimpsonComposto=SumSimpson(N)\n",
    "print(\"Simpson Composto=%.5f\" % SimpsonComposto )\n",
    "\n",
    "#Cálculo do Erro exacto\n",
    "from math import sqrt\n",
    "from sympy import *\n",
    "X=Symbol('X')\n",
    "I=integrate(sqrt(X),[X,0,2])\n",
    "print(\"I=%.5f\" % I)\n",
    "Erro=abs(I-SimpsonComposto)\n",
    "print(\"Erro exacto = %.15f\" % Erro)"
   ]
  },
  {
   "cell_type": "code",
   "execution_count": 43,
   "metadata": {
    "ExecuteTime": {
     "end_time": "2020-12-07T16:09:49.223166Z",
     "start_time": "2020-12-07T16:09:49.191384Z"
    }
   },
   "outputs": [
    {
     "name": "stdout",
     "output_type": "stream",
     "text": [
      "Trap Composto=1.88505\n",
      "I=1.88562\n",
      "Erro exacto = 0.000567727262846\n"
     ]
    }
   ],
   "source": [
    "# 3. e 4.\n",
    "#Regra de Trap Composta\n",
    "import numpy as np\n",
    "A=0.0\n",
    "B=2.0\n",
    "N=101 # n. subintervalos\n",
    "h=(B-A)/N\n",
    "x=np.linspace(0.0,2.0,N+1)\n",
    "f=np.sqrt(x)\n",
    "\n",
    "#Soma Simpson simples de dois em dois subintervalos\n",
    "def SumTrap(N):\n",
    "    STrap=0.0\n",
    "    for i in range(0,N):\n",
    "        STrap += h/2.0*(f[i]+f[i+1])\n",
    "    return STrap\n",
    "\n",
    "TrapComposto=SumTrap(N)\n",
    "print(\"Trap Composto=%.5f\" % TrapComposto )\n",
    "\n",
    "#Cálculo do Erro exacto\n",
    "from math import sqrt\n",
    "from sympy import *\n",
    "X=Symbol('X')\n",
    "I=integrate(sqrt(X),[X,0,2])\n",
    "print(\"I=%.5f\" % I)\n",
    "Erro=abs(I-TrapComposto)\n",
    "print(\"Erro exacto = %.15f\" % Erro)"
   ]
  },
  {
   "cell_type": "markdown",
   "metadata": {},
   "source": [
    "### Exercício:\n",
    "- Considere $\\displaystyle I=\\int_{0}^{6}\\frac{1}{1+x^2}\\, {\\rm d}x$.\n",
    "\n",
    " 1. Calcule o valor exacto de $I$.\n",
    " - Utilize uma  regra de Newton-Cotes simples para aproximar o valor\n",
    "  de $I$ dividindo o intervalo $[0,6]$ em $6$ sub-intervalos com a mesma\n",
    "  amplitude.\n",
    " - Considere a partição do intervalo de integração $[a,b]$ da alínea\n",
    "  anterior e  utilize a regra dos trapézios composta  para aproximar o valor de $I$.\n",
    " - Calcule os erros (exactos) obtidos nas alíneas b) e c) e\n",
    "  comente. "
   ]
  },
  {
   "cell_type": "code",
   "execution_count": 79,
   "metadata": {},
   "outputs": [
    {
     "data": {
      "image/png": "[encoded data removed]",
      "text/plain": [
       "<matplotlib.figure.Figure at 0x181ae03c50>"
      ]
     },
     "metadata": {},
     "output_type": "display_data"
    }
   ],
   "source": [
    "# 4.\n",
    "from scipy import interpolate\n",
    "import matplotlib.pyplot as plt\n",
    "\n",
    "f= lambda x: (1/(1+x**2))\n",
    "\n",
    "x = np.linspace(0, 6,1000)\n",
    "plt.figure(figsize=(10, 8))\n",
    "plt.plot(x,f(x),lw=2.0,label='$f(x)$')\n",
    "\n",
    "xs=[0,1,2,3,4,5,6]\n",
    "ys=[f(0),f(1),f(2),f(3),f(4),f(5),f(6)]\n",
    "\n",
    "# Polinómio interpolador de grau 6 (6 sub-intervalos; 7 pontos)\n",
    "p6f = interpolate.lagrange(xs, ys)\n",
    "xp6 = np.arange(0,6, 0.01)\n",
    "yp6 = p6f(xp6)\n",
    "\n",
    "plt.plot(xs,ys, color='k', label='Trap.')\n",
    "plt.plot(xp6,yp6, color='brown', label='Weddel')\n",
    "\n",
    "#fill_between(xs,ys,0,color='grey')\n",
    "#text(1.2,1.0,'$t_0$', fontsize=14)\n",
    "\n",
    "plt.xlabel(r'$\\mathrm{eixo-} x_i\\, x_0=0,\\dots,x_6=6,\\,h=1$')\n",
    "plt.ylabel(r'$\\mathrm{eixo-} y=f(x)$')\n",
    "plt.ylim(0.0,1.1)\n",
    "#plt.ylim(0.0,0.07)\n",
    "#plt.xlim(4.0,6.0)\n",
    "plt.legend(loc='best')\n",
    "plt.show()\n",
    "plt.clf()"
   ]
  },
  {
   "cell_type": "markdown",
   "metadata": {},
   "source": [
    "### Exercício\n",
    " \n",
    " -Pretende-se calcular $\\displaystyle \\ln 2=\\int_1^2\\frac{1}{x}\\, {\\rm d}x$.\n",
    " \n",
    "Qual o número de sub-intervalos a considerar de  forma a que a regra de\n",
    "Simpson composta conduza a valor aproximado de $\\ln 2$ com erro de\n",
    "truncatura inferior ou igual a $0.5\\times 10^{-3}$.\n"
   ]
  },
  {
   "cell_type": "code",
   "execution_count": null,
   "metadata": {
    "collapsed": true
   },
   "outputs": [],
   "source": []
  }
 ],
 "metadata": {
  "hide_input": false,
  "kernelspec": {
   "display_name": "Python 3",
   "language": "python",
   "name": "python3"
  },
  "language_info": {
   "codemirror_mode": {
    "name": "ipython",
    "version": 3
   },
   "file_extension": ".py",
   "mimetype": "text/x-python",
   "name": "python",
   "nbconvert_exporter": "python",
   "pygments_lexer": "ipython3",
   "version": "3.7.4"
  },
  "latex_envs": {
   "LaTeX_envs_menu_present": true,
   "autoclose": false,
   "autocomplete": true,
   "bibliofile": "biblio.bib",
   "cite_by": "apalike",
   "current_citInitial": 1,
   "eqLabelWithNumbers": true,
   "eqNumInitial": 1,
   "hotkeys": {
    "equation": "Ctrl-E",
    "itemize": "Ctrl-I"
   },
   "labels_anchors": false,
   "latex_user_defs": false,
   "report_style_numbering": false,
   "user_envs_cfg": false
  },
  "varInspector": {
   "cols": {
    "lenName": 16,
    "lenType": 16,
    "lenVar": 40
   },
   "kernels_config": {
    "python": {
     "delete_cmd_postfix": "",
     "delete_cmd_prefix": "del ",
     "library": "var_list.py",
     "varRefreshCmd": "print(var_dic_list())"
    },
    "r": {
     "delete_cmd_postfix": ") ",
     "delete_cmd_prefix": "rm(",
     "library": "var_list.r",
     "varRefreshCmd": "cat(var_dic_list()) "
    }
   },
   "types_to_exclude": [
    "module",
    "function",
    "builtin_function_or_method",
    "instance",
    "_Feature"
   ],
   "window_display": false
  }
 },
 "nbformat": 4,
 "nbformat_minor": 2
}
