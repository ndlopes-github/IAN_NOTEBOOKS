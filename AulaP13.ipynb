{
 "cells": [
  {
   "cell_type": "markdown",
   "metadata": {
    "nbpresent": {
     "id": "685e96ea-2d37-4a8e-b5c6-9046db8e1c85"
    }
   },
   "source": [
    "# AulaP13\n",
    "\n",
    " -  Método de Householder para construção de Matriz simétrica tridiagonal semelhante.\n",
    " -  Factorização QR para aproximação dos Valores Próprios.\n"
   ]
  },
  {
   "cell_type": "markdown",
   "metadata": {
    "collapsed": true,
    "nbpresent": {
     "id": "bc56dd09-7ec2-46b2-966a-bc489ff66f88"
    }
   },
   "source": [
    "***\n",
    "### Definição:\n",
    "Duas matrizes $A$ e $B$ são semalhantes se existir uma matriz invertível $P$ tal que: \n",
    "$$ B=P^{-1} A P$$\n",
    "\n",
    "### Proposição:\n",
    "Se duas matrizes $A$ e $B$ são semelhantes então têm os mesmos valores próprios.\n"
   ]
  },
  {
   "cell_type": "markdown",
   "metadata": {
    "nbpresent": {
     "id": "ed66b180-03fb-4ab4-b9d0-5cd17ac9e214"
    }
   },
   "source": [
    "### Definição (Matriz de Householder):\n",
    "\n",
    "Dado $\\mathbf{v}\\in\\mathbb{R}$ com $||\\mathbf{v}||=1$ uma matriz de Householder é da forma:\n",
    "\n",
    "$$P=I-2\\mathbf{v}\\mathbf{v}^T.$$\n",
    "\n",
    "**Obs.:** As matrizes de Householder são simétricas e ortogonais \n",
    "$$P^{-1}=P^T=P$$"
   ]
  },
  {
   "cell_type": "markdown",
   "metadata": {
    "nbpresent": {
     "id": "fc4d1995-d085-43bf-a927-dfce49f6845a"
    }
   },
   "source": [
    "***\n",
    "## Método de Householder\n",
    "\n",
    "Dada uma matriz $A\\in\\mathcal{M}_{n\\times n}$ simétrica, o método de Householder permite construir uma matriz $B$ simétrica e tridiagonal, a qual é semelhante à matriz $A$.\n",
    "\n",
    "A matriz $B$ é construida recorrendo a $n-2$ matrizes de Householder.\n",
    "\n",
    "\n",
    "\n"
   ]
  },
  {
   "cell_type": "markdown",
   "metadata": {
    "nbpresent": {
     "id": "a70f3812-895f-4ad3-9e09-80eb44c7f525"
    }
   },
   "source": [
    "***\n",
    "\n",
    "#### Algoritmo \n",
    "\n",
    "Seja $A=[a^0_{i\\,j}]=A_0 \\in \\mathcal{M}_{n\\times n}.$"
   ]
  },
  {
   "cell_type": "markdown",
   "metadata": {
    "nbpresent": {
     "id": "01e9d9cc-ed09-4a4b-85c1-2d1935b9e072"
    }
   },
   "source": [
    "** Parte 1:** Determinação das matrizes de Householder $P_k$\n",
    "\n",
    "1. Considerar os vectores $$\\mathbf{v}^k=(0,\\dots,0,v^k_{k+1},\\dots,v^k_{n})$$\n",
    "onde \n",
    "\n",
    " -  a)\n",
    "$$v^k_{k+1}=\\left(\\frac{1}{2}+\\frac{|a^{k-1}_{k+1\\, k}|}{2 S_k}\\right)^{1/2}$$\n",
    "\n",
    " -  b)\n",
    "$$ v^k_{j}=\\frac{a^{k-1}_{j\\, k} sgn(a^{k-1}_{k+1\\, k})}{2v^k_{k+1}S_k},\\quad j=k+2,\\dots,n $$\n",
    "\n",
    " -  c) \n",
    "\n",
    "$$ S_k=\\sqrt{(a^{k-1}_{k+1\\, k})^2+\\dots+ (a^{k-1}_{n\\, k})^2}=\\sum_{i=k+1}^n (a^{k-1}_{i,k})^2$$\n",
    "\n",
    "   -  d) \n",
    "$$P_k=I-2\\mathbf{v}^k{\\mathbf{v}^k}^T$$"
   ]
  },
  {
   "cell_type": "markdown",
   "metadata": {
    "nbpresent": {
     "id": "d03e8f26-a413-492a-bc3f-0b9119c1ae09"
    }
   },
   "source": [
    "**Parte 2:** Determinação da matriz $B$.\n",
    "\n",
    "\n",
    "1. para $k$ entre $1$ e $n-2$\n",
    "\n",
    "    $$A_k=P_k A_{k-1} P_k$$\n",
    "    \n",
    "2.   $B=P_{n-2}A_{n-3}P_{n-2}=A_{n-2}$"
   ]
  },
  {
   "cell_type": "markdown",
   "metadata": {
    "nbpresent": {
     "id": "340d2c63-da6d-4d13-b744-b5c8e15faebc"
    }
   },
   "source": [
    "***\n",
    "### Uma implementação do  Algoritmo do método de Householder"
   ]
  },
  {
   "cell_type": "code",
   "execution_count": 2,
   "metadata": {
    "collapsed": true,
    "nbpresent": {
     "id": "8be5cda7-0a7c-4b01-93cd-a321b5d354e6"
    }
   },
   "outputs": [],
   "source": [
    "import numpy as np\n",
    "\n",
    "class Householder:\n",
    "    def __init__(self, A):\n",
    "        self.A = A\n",
    "        self.dim=len(A)\n",
    "        \n",
    "                \n",
    "    def Tridiag(self):\n",
    "        n=self.dim\n",
    "        B=np.array(self.A) \n",
    "        \n",
    "        Id=np.identity(n)\n",
    "        for k in range(0,n-2):\n",
    "            P=np.zeros((n,n))\n",
    "            v=np.zeros(n)\n",
    "            \n",
    "            S=np.sum(B[k+1:,k]**2)**0.5\n",
    "            \n",
    "            v[k+1]=(0.5+np.abs(B[k+1,k])/(2*S))**0.5\n",
    "            v[k+2:]=B[k+2:,k]*np.sign(B[k+1,k]) /(2*S*v[k+1])\n",
    "            \n",
    "            P=Id-2.0*np.outer(v,v.transpose()) # vector Nx1 por vector 1xN (produto externo)\n",
    "            \n",
    "            B=P.dot(B).dot(P) # PxBxP\n",
    "            \n",
    "            \n",
    "        return B  "
   ]
  },
  {
   "cell_type": "markdown",
   "metadata": {
    "nbpresent": {
     "id": "071d79d8-deac-4bd2-9f40-2016cbb9bc4d"
    }
   },
   "source": [
    "### Exercícios:\n",
    "\n",
    "Utilize a classe implementada para diagonalizar as matrizes seguintes:\n",
    "\n",
    "$A_1=\\left[\\begin{array}{*{4}c}\n",
    "4.0 & 1.0 & -2.0 & 2.0 \\\\\n",
    "1.0 & 2.0 & 0.0 & 1.0 \\\\\n",
    "-2.0 & 0.0 & 3.0 & -2.0 \\\\\n",
    "2.0 & 1.0 & -2.0 & -1.0 \\\\\n",
    "\\end{array}\\right]$\n",
    "\n",
    "$A_2=\\left[\\begin{array}{*{5}c}\n",
    "8.0 & 0.25 & 0.5 & 2.0 & -1.0 \\\\\n",
    "0.25 & -4.0 & 0.0 & 1.0 & 2.0 \\\\\n",
    "0.5 & 0.0 & 5.0 & 0.75 & -1.0 \\\\\n",
    "2.0 & 1.0 & 0.75 & 5.0 & -0.5 \\\\\n",
    "-1.0 & 2.0 & -1.0 & -0.5 & 6.0 \\\\\n",
    "\\end{array}\\right]$\n"
   ]
  },
  {
   "cell_type": "code",
   "execution_count": 5,
   "metadata": {
    "nbpresent": {
     "id": "54c0ef01-fcc1-412a-9e8b-576c16d643c5"
    }
   },
   "outputs": [
    {
     "name": "stdout",
     "output_type": "stream",
     "text": [
      "[[ 8.      -2.30489 -0.      -0.       0.     ]\n",
      " [-2.30489  5.92941  1.50226  0.      -0.     ]\n",
      " [-0.       1.50226  1.7715  -4.89015  0.     ]\n",
      " [-0.       0.      -4.89015 -0.43612 -1.08989]\n",
      " [ 0.       0.      -0.      -1.08989  4.73521]]\n"
     ]
    }
   ],
   "source": [
    "# Sandbox\n",
    "A2=np.array([[8.0 , 0.25 , 0.5 , 2.0 , -1.0], \n",
    "            [0.25 , -4.0 , 0.0 , 1.0 , 2.0],\n",
    "            [0.5 , 0.0 , 5.0 , 0.75 , -1.0], \n",
    "            [2.0 , 1.0 , 0.75 , 5.0 , -0.5], \n",
    "            [-1.0 , 2.0 , -1.0 ,-0.5 , 6.0]])\n",
    "np.set_printoptions(5,suppress=True)\n",
    "B=Householder(A2).Tridiag()\n",
    "print(B)\n",
    "#print(np.linalg.eig(A2)[0]-np.linalg.eig(B)[0])"
   ]
  },
  {
   "cell_type": "markdown",
   "metadata": {
    "nbpresent": {
     "id": "37b5128a-0933-4caa-b05e-9b69ce9df673"
    }
   },
   "source": [
    "***\n",
    "## O algoritmo $QR$ para calcular os valores próprios de uma matrizes simétricas e tridiagonais\n"
   ]
  },
  {
   "cell_type": "markdown",
   "metadata": {
    "nbpresent": {
     "id": "94dcb570-92ff-4ca2-8ed8-61249a9a4cc1"
    }
   },
   "source": [
    "**Objectivo:** Aproximar os valores próprios de uma matriz tridiagonal simétrica $B_0$.  \n",
    "\n",
    "**Ideia:** Construir uma sucessão de Matrizes $B_n=Q^{(n)}R^{(n)}\\, (n>0)$ que tende para uma matriz diagonal e tais que são semelhantes à matriz simétrica tridiagonal $B_0$.\n",
    "\n",
    "**Observação:** Se $B_0$ resultar do método de Householder, então é semelhante à matriz $A$ e portanto a  matriz \"aproximadamente\" diagonal resultante do processo de factorização QR é também semelhante à matriz $A$.\n",
    " \n",
    "\n",
    "\n"
   ]
  },
  {
   "cell_type": "markdown",
   "metadata": {
    "nbpresent": {
     "id": "c32d72b0-ce1b-4428-8108-07c59acb3d15"
    }
   },
   "source": [
    "### Factorização $Q R$ de matrizes simétricas tridiagonais por meio das matrizes de rotação.\n",
    "\n",
    "- $Q$ matriz ortogonal.\n",
    "- $R$ matriz triangular superior."
   ]
  },
  {
   "cell_type": "markdown",
   "metadata": {
    "nbpresent": {
     "id": "dc5937a3-6051-4745-9e79-e10be1a1a773"
    }
   },
   "source": [
    "Dada $B_j$ matriz tridiagonal simétrica podemos factorizar na forma pretendida da forma seguinte:\n",
    "\n",
    "$$B_j=\\underbrace{(C_2^T\\cdots C_n^T)}_{Q_j}\\, \\underbrace{(C_n\\cdots C_2  B_j)}_{R_j}$$\n",
    "\n",
    "Onde $C_k$ é uma matriz (ortogonal) de rotação.:\n",
    "\n",
    "$$\n",
    "C_k=C_k(\\theta)=\\begin{bmatrix}\n",
    "1& 0&  \\cdots &\\cdots&\\cdots&0\\\\\n",
    "0& \\ddots& 0& \\cdots &\\cdots&\\vdots\\\\\n",
    "\\vdots&0&\\cos(\\theta) &\\sin(\\theta)&0& \\vdots \\\\\n",
    "\\vdots&0&-\\sin(\\theta) &\\cos(\\theta)& 0&\\vdots \\\\\n",
    "\\vdots&\\cdots&\\cdots &\\cdots&1 &\\vdots \\\\\n",
    "0&\\cdots& \\cdots&\\cdots &\\cdots& \\ddots\\\\\n",
    "\\end{bmatrix}\n",
    "$$"
   ]
  },
  {
   "cell_type": "markdown",
   "metadata": {
    "nbpresent": {
     "id": "db19d0cd-a968-4eda-bd69-77c5ddc4e31b"
    }
   },
   "source": [
    "Os ângulos $\\theta$ são calculados de forma a anular (progressivamente) os termos da diagonal inferior da matriz $B_j$.\n",
    "\n",
    "A matriz semelhante $B_{j+1}$ será então calculada fazendo $$B_{j+1}=R_j Q_j\\quad (= Q^{-1}_j B_j Q_j) $$"
   ]
  },
  {
   "cell_type": "markdown",
   "metadata": {
    "nbpresent": {
     "id": "6a87844b-9b97-495b-924c-2956c1be0cd3"
    }
   },
   "source": [
    "### Uma implementação do método QR "
   ]
  },
  {
   "cell_type": "code",
   "execution_count": 6,
   "metadata": {
    "collapsed": true,
    "nbpresent": {
     "id": "777e997a-40a3-4ec3-8fd6-bb4c9ad2af57"
    }
   },
   "outputs": [],
   "source": [
    "import numpy as np\n",
    "\n",
    "class QR:\n",
    "    def __init__(self,B0,MaxIter):\n",
    "        self.B0=B0\n",
    "        self.dim=len(B0)\n",
    "        self.MaxIter=MaxIter\n",
    "        \n",
    "    def Diagonalize(self):\n",
    "        n=self.dim\n",
    "        B=np.array(self.B0)\n",
    "        \n",
    "        for i in range(0,self.MaxIter):\n",
    "            R=np.array(B)\n",
    "            Q=np.identity(n)\n",
    "            \n",
    "            for k in range(0,n-1):\n",
    "                C=np.identity(n)\n",
    "                theta=np.arctan(R[k+1,k]/R[k,k])\n",
    "                \n",
    "                C[k,k]=np.cos(theta)\n",
    "                C[k,k+1]=np.sin(theta)\n",
    "                C[k+1,k]=-C[k,k+1]\n",
    "                C[k+1,k+1]=C[k,k]\n",
    "               \n",
    "                R=C.dot(R)\n",
    "                Q=Q.dot(C.transpose())\n",
    "                \n",
    "            B=R.dot(Q)\n",
    "        \n",
    "        return B         "
   ]
  },
  {
   "cell_type": "markdown",
   "metadata": {
    "nbpresent": {
     "id": "0a9102aa-fc05-42c4-9b13-6c6cbff7d299"
    }
   },
   "source": [
    "***"
   ]
  },
  {
   "cell_type": "code",
   "execution_count": 14,
   "metadata": {
    "collapsed": true,
    "nbpresent": {
     "id": "62986c14-e98a-416c-bb5e-b8da2bdc4744"
    }
   },
   "outputs": [],
   "source": [
    "#Sandbox (ver aula Teórica)\n",
    "A=np.array([[4.,-5.0**0.5,0],\n",
    "            [-5.0**0.5,11./5.,-8./5.],\n",
    "            [0,-8./5.,24./5.]])"
   ]
  },
  {
   "cell_type": "code",
   "execution_count": 23,
   "metadata": {
    "collapsed": true,
    "nbpresent": {
     "id": "8d776fd3-2c59-4954-97dc-821d4e34ef10"
    }
   },
   "outputs": [],
   "source": [
    "B=QR(A,50).Diagonalize()"
   ]
  },
  {
   "cell_type": "code",
   "execution_count": 24,
   "metadata": {
    "nbpresent": {
     "id": "58d9f471-060e-4642-a500-353c5c535dca"
    }
   },
   "outputs": [
    {
     "name": "stdout",
     "output_type": "stream",
     "text": [
      "[[ 6.23073 -0.      -0.     ]\n",
      " [-0.       4.48286 -0.     ]\n",
      " [ 0.       0.       0.28642]]\n"
     ]
    }
   ],
   "source": [
    "print(B)"
   ]
  },
  {
   "cell_type": "markdown",
   "metadata": {
    "nbpresent": {
     "id": "2db10387-a86c-4c48-9e18-5527bb943127"
    }
   },
   "source": [
    "***"
   ]
  },
  {
   "cell_type": "markdown",
   "metadata": {
    "nbpresent": {
     "id": "cf34e558-e1cb-4074-b646-c6648e391d71"
    }
   },
   "source": [
    "### Exercício:\n",
    "Aplique os algoritmos implementados para aproximar os valores próprios da matriz:\n",
    "\n",
    "\n",
    "$$A_3=\\begin{bmatrix}\n",
    "2 & -1 & -1 & 0 &0\\\\\n",
    "-1 & 3 & 0 & -2 &0\\\\\n",
    "-1 & 0 & 4 & 2 &1\\\\\n",
    "0 & -2 & 2 & 8 &3\\\\\n",
    "0 & 0 & 1 & 3 &9\n",
    "\\end{bmatrix}\n",
    "$$"
   ]
  },
  {
   "cell_type": "code",
   "execution_count": 88,
   "metadata": {
    "nbpresent": {
     "id": "d80d33b6-d6ed-45ce-a7e4-3c35d1260c8e"
    }
   },
   "outputs": [
    {
     "name": "stdout",
     "output_type": "stream",
     "text": [
      "[[ 12.26321   0.        0.        0.       -0.     ]\n",
      " [  0.        6.26491   0.        0.        0.     ]\n",
      " [ -0.        0.        4.36338  -0.        0.     ]\n",
      " [ -0.       -0.        0.        2.05127   0.     ]\n",
      " [ -0.       -0.       -0.        0.        1.05723]]\n"
     ]
    }
   ],
   "source": [
    "A=np.array([[2, -1, -1 , 0 ,0],\n",
    "            [-1 , 3 , 0 , -2 ,0],\n",
    "            [-1 , 0 , 4 , 2 ,1],\n",
    "            [0 , -2 , 2 , 8 ,3],\n",
    "            [0, 0 , 1 , 3 ,9]])\n",
    "\n",
    "Atr=Householder(A).Tridiag()\n",
    "B=QR(Atr,50).Diagonalize()\n",
    "print(B)"
   ]
  },
  {
   "cell_type": "code",
   "execution_count": null,
   "metadata": {
    "collapsed": true,
    "nbpresent": {
     "id": "65739e58-a32d-4139-ba20-6d84c0fb2bea"
    }
   },
   "outputs": [],
   "source": [
    "# verificação\n",
    "print(np.linalg.eig(A)[0])"
   ]
  },
  {
   "cell_type": "markdown",
   "metadata": {
    "nbpresent": {
     "id": "715ae9c5-f315-4518-9cbf-f692aea74ef7"
    }
   },
   "source": [
    "### Exercício:\n",
    "\n",
    "Implemente uma condição de paragem no método de factorização $QR$ que dependa de uma tolerância para o erro  entre duas iterações consecutivas.   "
   ]
  }
 ],
 "metadata": {
  "kernelspec": {
   "display_name": "Python 3",
   "language": "python",
   "name": "python3"
  },
  "language_info": {
   "codemirror_mode": {
    "name": "ipython",
    "version": 3
   },
   "file_extension": ".py",
   "mimetype": "text/x-python",
   "name": "python",
   "nbconvert_exporter": "python",
   "pygments_lexer": "ipython3",
   "version": "3.6.5"
  }
 },
 "nbformat": 4,
 "nbformat_minor": 2
}
