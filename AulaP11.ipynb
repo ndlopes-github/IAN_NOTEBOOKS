{
 "cells": [
  {
   "cell_type": "markdown",
   "metadata": {},
   "source": [
    "# AulaP11\n",
    "\n",
    "- Exercício: Métodos Iterativos para resolução $Ax=b$\n",
    "\n",
    "- Método dos Mínimos Quadrados\n"
   ]
  },
  {
   "cell_type": "markdown",
   "metadata": {},
   "source": [
    "***\n",
    "## Método de Jacobi\n",
    "\n",
    "A decomposição da matriz $A$ é feita da forma seguinte:\n",
    "$$A=L+D+U=[L\\backslash D\\backslash U]\\quad (M=D,\\, N=L+U)$$ e as iterações são:\n",
    "$$DX^{k+1}=b-(L+U)X^k \\Longleftrightarrow X^{k+1}=D^{-1}b-D^{-1}(L+U)X^k$$\n",
    "\n"
   ]
  },
  {
   "cell_type": "markdown",
   "metadata": {},
   "source": [
    "  As duas proposições seguintes aplicam-se aos métodos iterativos a estudar.\n",
    "  \n",
    "#### Proposição:\n",
    "Se $A$ tem diagonal estritamente dominante, por linhas ou por colunas, então o\n",
    "método converge.\n"
   ]
  },
  {
   "cell_type": "markdown",
   "metadata": {},
   "source": [
    "***\n",
    "### Uma implementação possível "
   ]
  },
  {
   "cell_type": "code",
   "execution_count": 9,
   "metadata": {
    "collapsed": true
   },
   "outputs": [],
   "source": [
    "import numpy as np\n",
    "\n",
    "class Jacobi:\n",
    "    def __init__(self,A,b,x0):\n",
    "        self.dim=len(b)\n",
    "        self.A=A\n",
    "        self.D=np.diag(A)\n",
    "        self.b=b\n",
    "        self.x0=x0\n",
    "        self.x=np.zeros(self.dim)\n",
    "\n",
    "    def IterativeSolver(self, MaxIter=100, Eps=1.e-10,  Error=1.0): \n",
    "        #assert self.isConvergent() == True, 'Not Diagonal Dominant'\n",
    "        x0=self.x0 \n",
    "        x=np.zeros(self.dim)\n",
    "        D=self.D \n",
    "        # np.diag() extrai diagonal ou constroi matriz diagonal # \n",
    "        Dinv=1./D\n",
    "        #LpU=self.A-np.diag(D)\n",
    "        \n",
    "        for i in range(0, MaxIter):\n",
    "            for m in range(0,self.dim):\n",
    "                vm=0.0\n",
    "                for j in range(0,self.dim):\n",
    "                    if m != j:\n",
    "                        vm+=self.A[m,j]*x0[j]\n",
    "                \n",
    "                x[m]=Dinv[m]*(self.b[m]-vm)\n",
    "            \n",
    "            #x=Dinv*(self.b - np.dot((self.A-np.diag(D)),x0))\n",
    "            Error=np.sqrt(np.sum((x-x0)**2))\n",
    "            if Error< Eps:\n",
    "                break\n",
    "            \n",
    "            x0[:]=x[:]\n",
    "            \n",
    "        return x, Error, i\n",
    "            \n",
    "    def isDiagRowDominant(self):\n",
    "        bool_val=False\n",
    "        Aux=self.A-np.diag(self.D)\n",
    "        for k in range(0,self.dim):\n",
    "            if (np.fabs(self.D[k]) > np.sum(np.fabs(Aux[k,:]))) :\n",
    "                bool_val=True\n",
    "            else: \n",
    "                bool_val=False\n",
    "                break\n",
    "        \n",
    "        return bool_val\n",
    "    \n",
    "    def isDiagColumnDominant(self):\n",
    "        bool_val=False\n",
    "        Aux=self.A-np.diag(self.D)\n",
    "        for k in range(0,self.dim):\n",
    "            if (np.fabs(self.D[k]) > np.sum(np.fabs(Aux[:,k])) ):\n",
    "                bool_val=True\n",
    "            else: \n",
    "                bool_val=False\n",
    "                break\n",
    "        \n",
    "        return bool_val\n",
    "    \n",
    "    def isConvergent(self):\n",
    "        return  self.isDiagRowDominant() or self.isDiagColumnDominant() \n",
    "\n",
    "        \n",
    "        "
   ]
  },
  {
   "cell_type": "markdown",
   "metadata": {},
   "source": [
    "*** \n",
    "### Exercício:\n",
    "\n",
    "Verifique se o método de Jacobi é convergente para a resolução do sistema:\n",
    "\n",
    "$$\n",
    " \\begin{bmatrix}\n",
    "4&1&2&1/2\\\\\n",
    "1&3&0&-1\\\\\n",
    "1/2 & 1/2&3&1\\\\\n",
    "1&-1&1& 4\n",
    "\\end{bmatrix}\n",
    "\\begin{bmatrix}\n",
    "x_1\\\\\n",
    "x_2\\\\\n",
    "x_3\\\\\n",
    "x_4\n",
    "\\end{bmatrix}=\n",
    "\\begin{bmatrix}\n",
    "3\\\\\n",
    "2\\\\\n",
    "1\\\\\n",
    "3\n",
    "\\end{bmatrix}\n",
    "$$"
   ]
  },
  {
   "cell_type": "code",
   "execution_count": 10,
   "metadata": {},
   "outputs": [
    {
     "name": "stdout",
     "output_type": "stream",
     "text": [
      "is Convergent? True\n",
      "Solution= [ 0.53465347  0.77227723 -0.16831683  0.85148515]\n",
      "Error= 9.05839725503e-11\n",
      "Converges in 39 Iterations\n",
      "Solution= [ 0.53465347  0.77227723 -0.16831683  0.85148515]\n"
     ]
    }
   ],
   "source": [
    "A=np.array([[4.0,1.0,2.0,0.5],[1.0,3.0,0.0,-1.0],[0.5,0.5,3.0,1.0],[1.0,-1.0,1.0,4.0]])\n",
    "\n",
    "b=np.array([3.,2.,1.,3.])\n",
    "\n",
    "\n",
    "J=Jacobi(A,b,np.ones(len(b))) # Testar diferentes X0\n",
    "\n",
    "print('is Convergent?', J.isConvergent())\n",
    "\n",
    "J.x, Error, Iterations = J.IterativeSolver( )\n",
    "\n",
    "print('Solution=',J.x)\n",
    "print('Error=',Error)\n",
    "\n",
    "print('Converges in', Iterations, 'Iterations')\n",
    "\n",
    "#Test with numpy linalg functions\n",
    "print('Solution=',np.linalg.solve(A,b))"
   ]
  },
  {
   "cell_type": "markdown",
   "metadata": {
    "collapsed": true
   },
   "source": [
    "***\n",
    "***\n",
    "\n",
    "# Métodos dos Mínimos Quadrados"
   ]
  },
  {
   "cell_type": "markdown",
   "metadata": {},
   "source": [
    "### Problema (Caso Discreto) :\n",
    "Dados $n$ pares ordenados $(x_i,y_i),\\, (i=1,\\dots,n,\\, n\\geq2)$ e com\n",
    "pelo menos duas abcissas $x_i$ distintas, pretende-se construir uma\n",
    "função de ajustamento $g(x)$ que aproxime os valores tabelados: (ver exemplo numérico).\n"
   ]
  },
  {
   "cell_type": "code",
   "execution_count": 11,
   "metadata": {},
   "outputs": [
    {
     "data": {
      "image/png": "[encoded data removed]",
      "text/plain": [
       "<matplotlib.figure.Figure at 0x10e9464e0>"
      ]
     },
     "metadata": {},
     "output_type": "display_data"
    }
   ],
   "source": [
    "import numpy as np\n",
    "\n",
    "# Valores tabelados\n",
    "x = np.array([0.1,0.25,0.3,0.4,0.5,0.6,0.72,0.82,0.97])\n",
    "y = np.array([0.3, 1.5, 0.5, 2.3, 2.0, 1.8,2.1,1.5,2.3])\n",
    "# Ajustamento por polinómio de grau 3\n",
    "z = np.polyfit(x, y, 3) #https://docs.scipy.org/doc/numpy-1.13.0/reference/generated/numpy.polyfit.html\n",
    "p = np.poly1d(z)\n",
    "\n",
    "# Apresentação dos gráficos\n",
    "import matplotlib.pyplot as plt\n",
    "plt.rc('axes', labelsize=24)\n",
    "xp = np.linspace(0.05, 1, 100)\n",
    "plt.plot(x, y, 'o')\n",
    "plt.plot(xp, p(xp),'-', lw=2,label='$g(x)$')\n",
    "plt.xlabel(r'$x_i$')\n",
    "plt.ylabel(r'$y_i$')\n",
    "plt.legend(loc='best')\n",
    "plt.show()\n",
    "plt.clf()"
   ]
  },
  {
   "cell_type": "markdown",
   "metadata": {},
   "source": [
    "#### Desvios:\n",
    "- Para uma função de ajustamento $g(x)$ aos pontos tabelados $(x_i,y_i)$, define-se o desvio $d_i=y_i-g(x_i)$ $(i=1,\\dots,n)$.\n",
    "\n",
    "\n",
    "#### Método dos Mínimos Quadrados (MMQ): \n",
    "- Consiste no processo que permite determinar o minimizante da quantidade seguinte: $$R=\\sum_{i=1}^n d_i^2= \\sum_{i=1}^n (y_i-g(x_i))^2.$$ Esta quantidade $R$ designa-se por **Erro Total** do ajustamento pelo MMQ.\n",
    "\n",
    "\n",
    "\n",
    "#### Comparação de funções de ajustamento:\n",
    "- Dadas duas funções $f$ e $g$ de ajustamento aos valores tabelados $(x_i,y_i)$, diz-se que $f$ é melhor do que $g$, segundo o critério dos mínimos quadrados, se $$\\sum_{i=1}^n (y_i-f(x_i))^2<\\sum_{i=1}^n (y_i-g(x_i))^2.$$\n"
   ]
  },
  {
   "cell_type": "markdown",
   "metadata": {},
   "source": [
    "***\n",
    "\n",
    "### Regressão Linear por função de ajustamento genérica\n",
    "\n",
    "Considere-se $(x_i,y_i)$ $(i=1,\\dots,n)$   e $f(x_i)=y_i$ a função\n",
    "tabelada, a qual se pretende ajustar\n",
    "por meio de uma função da forma\n",
    "<br>\n",
    "\n",
    "$$g(x)=a_0g_0(x)+a_1g_1(x)+\\dots+a_mg_m(x)$$\n",
    "<br>\n",
    "com $m<n\\in\\mathbb{N}$\n",
    "e onde $g_k$, $k=0,\\dots,m$ são funções elementares  dadas."
   ]
  },
  {
   "cell_type": "markdown",
   "metadata": {},
   "source": [
    "Para além disso, assuma-se que as funções $g_k$ são linearmente\n",
    "independentes (LI), i.e., \n",
    "\n",
    "<br>\n",
    "$$a_0 g_0(x_i)+\\dots+a_m g_m(x_i)=0\\quad \\forall x_i\\,\n",
    " \\Leftrightarrow a_0=\\dots=a_m=0.$$\n",
    "<br>\n",
    "\n",
    "O MMQ consiste no processo de cálculo do ponto $(a_0,\\dots,a_m)$ onde\n",
    "é atingido o mínimo de\n",
    "$$R=\\sum_{i=1}^n\\left(a_0g_0(x_i)+a_1g_1(x_i)+\\cdots+a_mg_m(x_i)-y_i\\right)^2$$\n",
    "\n",
    "\n",
    "Resolvendo o sistema anterior encontram-se os coeficientes\n",
    "$(a_0,\\dots,a_m)$ da função de ajustamento  $g(x)$.\n",
    "\n"
   ]
  },
  {
   "cell_type": "markdown",
   "metadata": {},
   "source": [
    "#### Proposição:\n",
    "- $R=R(a_0,\\cdots,a_m)$ assume um mínimo no ponto em que as $(m+1)$ derivadas parciais (em relação a $a_k$) são simultaneamente nulas.\n",
    "\n",
    "Tem-se para $k=0,\\cdots,m$:\n",
    "\\begin{eqnarray}\n",
    "\\frac{\\partial R}{\\partial a_k}=2\\sum_{i=1}^n\\left(\\left(g(x_i)-y_i\\right)\\frac{\\partial g(x_i)}{\\partial a_k}\\right)=0\\Leftrightarrow\\\\\n",
    "2\\sum_{i=1}^n\\left(\\left(a_0g_0(x_i)+\\cdots+ a_mg_m(x_i)-y_i\\right)\\frac{\\partial g(x_i)}{\\partial a_k}\\right)=0\\Leftrightarrow\\\\\n",
    "\\sum_{i=1}^n\\left(\\left(a_0g_0(x_i)+\\cdots +a_mg_m(x_i)-y_i\\right)g_k(x_i)\\right)=0\\Leftrightarrow\\\\\n",
    "\\sum_{i=1}^n\\left(\\left(a_0g_0(x_i)+\\cdots +a_mg_m(x_i)\\right)g_k(x_i)\\right)=\\sum_{i=0}^ny_ig_k(x_i)\n",
    "\\Leftrightarrow\\\\\n",
    "a_0\\sum_{i=1}^ng_0(x_i)g_k(x_i)+\\cdots +a_m\\sum_{i=1}^ng_m(x_i)g_k(x_i)=\\sum_{i=1}^ny_ig_k(x_i).\n",
    "\\end{eqnarray}\n",
    "Donde resulta o sistema de $m+1$ equações e $m+1$ incógnitas, ($a_0,\\cdots,a_m)$ seguinte:"
   ]
  },
  {
   "cell_type": "markdown",
   "metadata": {},
   "source": [
    "\\begin{multline}\n",
    "\\left[\n",
    "\\begin{array}{llll}\n",
    "\\displaystyle\\sum_{i=1}^ng_0^2(x_i)&\\displaystyle\\sum_{i=1}^ng_0(x_i)g_1(x_i)&\\cdots&\\displaystyle\\sum_{i=1}^ng_0(x_i)g_m(x_i)\\\\\n",
    "\\displaystyle\\sum_{i=1}^ng_1(x_i)g_0(x_i)&\\displaystyle\\sum_{i=1}^ng_1^2(x_i)&\\cdots&\\displaystyle\\sum_{i=1}^ng_1(x_i)g_m(x_i)\\\\\n",
    "\\vdots&\\vdots&\\ddots&\\vdots\\\\\n",
    "\\displaystyle\\sum_{i=1}^ng_m(x_i)g_0(x_i)&\\displaystyle\\sum_{i=1}^ng_m(x_i)g_1(x_i)&\\cdots&\\displaystyle\\sum_{i=1}^ng^2_m(x_i)\n",
    "\\end{array}\n",
    "\\right]\n",
    "\\left[\n",
    "\\begin{array}{c}\n",
    "\\vphantom{\\sum_{i=1}^ng_0(x_i)}a_0\\\\\n",
    "\\vphantom{\\sum_{i=1}^ng_0(x_i)}a_1\\\\\n",
    "\\vdots\\\\\n",
    "\\vdots\\\\\n",
    "\\vdots\\\\\n",
    "\\vphantom{\\sum_{i=1}^ng_0(x_i)}a_{m-1}\\\\\n",
    "\\vphantom{\\sum_{i=1}^ng_0(x_i)}a_m\n",
    "\\end{array}\n",
    "\\right]\n",
    "=\\left[\n",
    "\\begin{array}{c}\n",
    "\\displaystyle\\sum_{i=1}^ng_0(x_i)y_i\\\\\n",
    "\\displaystyle\\sum_{i=1}^ng_1(x_i)y_i\\\\\n",
    "\\vdots\\\\\n",
    "\\displaystyle\\sum_{i=1}^ng_m(x_i)y_i\n",
    "\\end{array}\n",
    "\\right]\n",
    "\\end{multline}"
   ]
  },
  {
   "cell_type": "markdown",
   "metadata": {},
   "source": [
    "***\n",
    "### Exemplo: Regressão Linear por uma Recta"
   ]
  },
  {
   "cell_type": "markdown",
   "metadata": {},
   "source": [
    "Das equações anteriores resulta o sistema normal do MMQ, o qual  tem\n",
    "duas equações e duas  incógnitas $(a_0,a_1)$,  é\n",
    "possível e determinado e  que se pode escrever da forma seguinte:\n",
    "<br>\n",
    "\n",
    "\\begin{equation*}\n",
    "\\left[\n",
    "\\begin{array}{cc}\n",
    "\\sum_{i=1}^n1&\\displaystyle\\sum_{i=1}^nx_i\\\\\n",
    "\\sum_{i=1}^nx_i&\\sum_{i=1}^nx_i^2\n",
    "\\end{array}\n",
    "\\right]\n",
    "\\left[\n",
    "\\begin{array}{c}\n",
    "\\vphantom{\\sum_{i=1}^n1} a_0\\\\\n",
    "\\vphantom{\\sum_{i=1}^n1} a_1\n",
    "\\end{array}\n",
    "\\right]\n",
    "=\\left[\n",
    "\\begin{array}{c}\n",
    "\\sum_{i=1}^ny_i\\\\\n",
    "\\displaystyle\\sum_{i=1}^ny_ix_i\\\\\n",
    "\\end{array}\n",
    "\\right]\n",
    "\\end{equation*}\n",
    "<br>\n",
    "\n",
    "Resolvendo o sistema anterior encontra-se a função de ajustamento linear\n",
    "$g$. De facto, a  solução única deste sistema é  dada por:\n",
    "\n",
    "<br>\n",
    "\\begin{equation*}\n",
    "a_0=\\frac{\\displaystyle \\sum_{i=1}^nx_i^2\\sum_{i=1}^ny_i-\n",
    "  \\sum_{i=1}^ny_ix_i\\sum_{i=1}^nx_i }{\\displaystyle n\\sum_{i=1}^nx_i^2-\\left(\\sum_{i=1}^nx_i\\right)^2},\n",
    "\\end{equation*}\n",
    "<br>\n",
    "\n",
    "\\begin{equation*}\n",
    "a_1=\\frac{\\displaystyle\n",
    "  n\\sum_{i=1}^ny_ix_i-\\sum_{i=1}^nx_i\\sum_{i=1}^ny_i}{\\displaystyle n\\sum_{i=1}^nx_i^2-\\left(\\sum_{i=1}^nx_i\\right)^2}.\n",
    "\\end{equation*}"
   ]
  },
  {
   "cell_type": "markdown",
   "metadata": {},
   "source": [
    "### Exercício:\n",
    "\n",
    "Calcule as rectas de ajustamento (por meio do MMQ) aos valores apresentados nas tabelas seguintes: \n",
    "\n",
    "1.\n",
    "\n",
    "$x$ | 1 | 2 | 3 | 4 | 5 | 6 | 7 | 8 | 9 | 10|\n",
    "--- |---|---|---|---|---|---|---|---|---|---|\n",
    "$y$ |1.3 | 3.5 | 4.2 | 5.0 | 7.0 | 8.8 | 10.1 | 12.5 | 13.0 | 15.6 |\n",
    "\n",
    "2.\n",
    "\n",
    "$x$ | 0.013 | 0.024 | 0.038 | 0.048 | 0.67 | \n",
    "--- |------|------|------|---|---|---|---|\n",
    "$y$ |0.11 | 0.23 | 0.33 | 0.45 | 0.58 |"
   ]
  },
  {
   "cell_type": "code",
   "execution_count": 39,
   "metadata": {},
   "outputs": [
    {
     "name": "stdout",
     "output_type": "stream",
     "text": [
      "a0= -0.36\n",
      "a1= 1.53818181818\n"
     ]
    },
    {
     "data": {
      "image/png": "[encoded data removed]",
      "text/plain": [
       "<matplotlib.figure.Figure at 0x11c1dafd0>"
      ]
     },
     "metadata": {},
     "output_type": "display_data"
    }
   ],
   "source": [
    "import numpy as np\n",
    "\n",
    "# Table Values\n",
    "x = np.array([1,2,3,4,5,6,7,8,9,10])\n",
    "y = np.array([1.3, 3.5, 4.2, 5.0, 7.0, 8.8,10.1,12.5,13.0,15.6])\n",
    "\n",
    "#  Coefficients\n",
    "d=len(x)*np.sum(x**2)-(np.sum(x))**2\n",
    "a0=(np.sum(x**2)*np.sum(y)-np.sum(x*y)*np.sum(x))/d\n",
    "a1=(len(x)*np.sum(x*y)-np.sum(x)*np.sum(y))/d\n",
    "print('a0=',a0)\n",
    "print('a1=',a1)\n",
    "\n",
    "# graph\n",
    "import matplotlib.pyplot as plt\n",
    "plt.rc('axes', labelsize=24)\n",
    "xp = np.linspace(0, 10, 100) # 2 pontos são suficientes: Recta\n",
    "plt.plot(x, y, 'o')\n",
    "plt.plot(xp, a0+a1*xp,'-', lw=2,label='p1(x)')\n",
    "plt.xlabel(r'$x_i$')\n",
    "plt.ylabel(r'$y_i$')\n",
    "plt.legend(loc='best')\n",
    "plt.show()"
   ]
  },
  {
   "cell_type": "markdown",
   "metadata": {},
   "source": [
    "***\n",
    "### Exemplo: ajustamento linear por meio de uma parábola\n",
    "\n",
    "Um ajustamento por meio de uma parábola $g(x)=a_0+a_1x+a_2x^2$ a um\n",
    "conjunto de dados tabelados $(x_i,y_i)\\, (i=1,\\dots,n)$, resulta no\n",
    "sistema que apresentamos simbolicamente de seguida:\n",
    "\\begin{equation*}\n",
    "\\left[\n",
    "\\begin{array}{lll}\n",
    "\\sum 1&\\sum x&\\sum x^2\\\\\n",
    "\\sum x&\\sum x^2&\\sum x^3\\\\\n",
    "\\sum x^2&\\sum x^3&\\sum x^4\n",
    "\\end{array}\n",
    "\\right]\n",
    "\\left[\n",
    "\\begin{array}{c}\n",
    "\\vphantom{\\sum 1}a_0\\\\\n",
    "\\vphantom{\\sum 1}a_1\\\\\n",
    "\\vphantom{\\sum 1}a_2\n",
    "\\end{array}\n",
    "\\right]\n",
    "=\n",
    "\\left[\n",
    "\\begin{array}{l}\n",
    "\\sum y\\\\\n",
    "\\sum xy\\\\\n",
    "\\sum x^2y\n",
    "\\end{array}\n",
    "\\right]\n",
    "\\end{equation*}"
   ]
  },
  {
   "cell_type": "markdown",
   "metadata": {},
   "source": [
    "### Exercício (caso genérico):\n",
    "\n",
    "- Considere a tabela seguinte:\n",
    "\n",
    "|$x$|$0$|$2$|$4$|$6$|$8$|\n",
    "|---|---|---|---|---|---|\n",
    "|$y$|$0$|$50$|$-20$|$80$|$700$|\n",
    "\n",
    "Determine um ajustamento por uma função do tipo $g(x)=a_0e^x+a_1x+a_2\\sin(x)$.\n",
    "-  Substitua na implementação seguinte, a função **linalg.solve** por uma implementação do método de Crout.\n",
    "\n"
   ]
  },
  {
   "cell_type": "code",
   "execution_count": 12,
   "metadata": {},
   "outputs": [
    {
     "name": "stdout",
     "output_type": "stream",
     "text": [
      "[[  9.05190187e+06   2.65014074e+04   2.80190994e+03]\n",
      " [  2.65014074e+04   1.20000000e+02   5.02975786e+00]\n",
      " [  2.80190994e+03   5.02975786e+00   2.45647459e+00]]\n",
      "[  2.11822238e+06   6.10000000e+03   7.30798454e+02]\n",
      "Os coeficientes a0, a1 e a2 sao 0.215 , 1.344 e 49.957\n"
     ]
    },
    {
     "data": {
      "image/png": "[encoded data removed]",
      "text/plain": [
       "<matplotlib.figure.Figure at 0x10f521ba8>"
      ]
     },
     "metadata": {},
     "output_type": "display_data"
    }
   ],
   "source": [
    "import numpy as np\n",
    "\n",
    "# Valores tabelados\n",
    "x = np.array([0,2,4,6,8])\n",
    "y = np.array([0, 50, -20,80,700])\n",
    "\n",
    "# Cálculos auxiliares (avaliação das funções base)\n",
    "g=[np.exp(x), x, np.sin(x)] \n",
    "dim=len(g)\n",
    "\n",
    "#Construção do sistema normal\n",
    "#Matriz A\n",
    "A=np.zeros((dim,dim))\n",
    "for i in range(0,dim):\n",
    "    for j in range(i,dim):\n",
    "        A[i,j]=np.inner(g[i],g[j]) #A00=np.inner(g[0],g[0]) #A12=np.inner(g0,g1) \n",
    "        if j>i:\n",
    "            A[j,i]=A[i,j]\n",
    "\n",
    "# Vector independente\n",
    "b=np.zeros(dim)\n",
    "for i in range(0,dim):\n",
    "    b[i]=np.inner(g[i],y)\n",
    "\n",
    "#A=np.array([[A00,A01,A03],[A10,A11,A12],[A20,A21,A22]])\n",
    "print(A)\n",
    "print(b)\n",
    "\n",
    "### TRABALHO: SUBSTITUIR np.linalg.solve por um método estudado\n",
    "X_a=np.linalg.solve(A,b)\n",
    "\n",
    "\n",
    "print(r\"Os coeficientes a0, a1 e a2 sao \\\n",
    "%.3f , %.3f e %.3f\"  % (X_a[0],X_a[1],X_a[2]))\n",
    "\n",
    "\n",
    "# Apresentação dos gráficos\n",
    "import matplotlib.pyplot as plt\n",
    "\n",
    "plt.rc('axes', labelsize=24)\n",
    "plt.plot(x, y, 'o',color='b')\n",
    "\n",
    "xis=np.linspace(0,9,100)\n",
    "\n",
    "def g(xis):\n",
    " aux=X_a[0]*np.exp(xis)+X_a[1]*xis+X_a[2]*np.sin(xis)\n",
    " return aux\n",
    "\n",
    "plt.plot(xis,g(xis),'-',color='g',lw=2,label='$g(x)$')\n",
    "plt.xlabel('$x_i$')\n",
    "plt.ylabel('$y_i$')\n",
    "plt.legend(loc='best')\n",
    "plt.show()"
   ]
  },
  {
   "cell_type": "markdown",
   "metadata": {},
   "source": [
    "### Exercício\n",
    "\n",
    "- Considere a tabela de valores seguinte:\n",
    " \n",
    "| x|  $0$|$1$|$2$|$3$ |$5$|\n",
    "|-----|---|---|---|----|---|---|\n",
    "| f(x)|$0$|$1$|$-1$|$2$|$3$|\n",
    "\n",
    "Utilize o método dos mínimos quadrados para escrever o sistema\n",
    "normal que permite determinar uma função de ajustamento da forma\n",
    "  $g(x)=a_0+a_1x+a_2x^2.$\n"
   ]
  },
  {
   "cell_type": "markdown",
   "metadata": {},
   "source": [
    "### Exercício"
   ]
  },
  {
   "cell_type": "markdown",
   "metadata": {},
   "source": [
    "- Considere a tabela de valores seguinte:\n",
    "\n",
    "|x|1.2|3.5|4.1|6.2|7.6|\n",
    "|---|---|---|---|---|---|\n",
    "|y|10|220|-150|80|1200|\n",
    "\n",
    "Utilize o método dos mínimos quadrados para calcular um ajustamentos da forma:\n",
    "\n",
    "$$g(x)=a_0g_0(x)+a_1g_1(x)+a_2g_2(x) $$\n",
    "\n",
    "para os seguintes conjuntos de funções $G=\\{g_0,g_1,g_2\\}$:\n",
    " 1. $\\{x,\\cos x,\\sin x\\}$\n",
    " 2. $\\{x^2,\\cos x,\\sin x\\}$\n",
    " 3. $\\{x^5,\\cos x,\\sin x\\}$\n",
    "\n",
    "- Compare os erros para cada ajustamento e indique o melhor. "
   ]
  },
  {
   "cell_type": "markdown",
   "metadata": {},
   "source": [
    "***\n",
    "***\n",
    "### Problema (Caso Contínuo):\n",
    "\n",
    "Considerem-se $y=f(x)$ $(x\\in[a,b])$ a função que se pretende ajustar.\n",
    "Pretende-se aproximar $f(x)$ construindo uma função\n",
    "\n",
    "$$g(x)=a_0g_0(x)+a_1g_1(x)+\\dots+a_mg_m(x)$$\n",
    "<br>\n",
    "com $m<n\\in\\mathbb{N}$\n",
    "e onde $g_k$, $k=0,\\dots,m$ são funções elementares linearmente independentes dadas.\n",
    "\n",
    "O MMQ consiste no método para determinar $a_i$ de forma a minimizar\n",
    "quantidade $$R=\\int_a^b(f(x)-g(x))^2\\, {\\rm d}x.$$\n"
   ]
  },
  {
   "cell_type": "markdown",
   "metadata": {},
   "source": [
    "Analogamente ao caso discreto o processo de minimização consiste em resolver o sistema:\n",
    "\\begin{multline}\n",
    "\\left[\n",
    "\\begin{array}{llll}\n",
    "\\displaystyle\\int_{a}^b g_0^2(x) \\, {\\rm d}x&\\displaystyle\\int_{a}^b g_0(x)g_1(x) \\, {\\rm d}x&\\cdots&\\displaystyle\\int_{a}^b g_0(x)g_m(x)\\, {\\rm d}x\\\\\n",
    "\\displaystyle\\int_{a}^b g_1(x)g_0(x) \\, {\\rm d}x&\\displaystyle\\int_{a}^b g_1^2(x) \\, {\\rm d}x&\\cdots&\\displaystyle\\int_{a}^b g_1(x)g_m(x) dx\\\\\n",
    "\\vdots&\\vdots&\\ddots&\\vdots\\\\\n",
    "\\displaystyle\\int_{a}^b g_m(x)g_0(x) \\, {\\rm d}x&\\displaystyle\\int_{a}^b g_m(x)g_1(x)\\, {\\rm d}x&\\cdots&\\displaystyle\\int_{a}^b g^2_m(x) \\, {\\rm d}x\n",
    "\\end{array}\n",
    "\\right]\n",
    "\\left[\n",
    "\\begin{array}{c}\n",
    "\\vphantom{\\sum_{i=1}^ng_0(x_i)}a_0\\\\\n",
    "\\vphantom{\\sum_{i=1}^ng_0(x_i)}a_1\\\\\n",
    "\\vdots\\\\\n",
    "\\vdots\\\\\n",
    "\\vdots\\\\\n",
    "\\vphantom{\\sum_{i=1}^ng_0(x_i)}a_{m-1}\\\\\n",
    "\\vphantom{\\sum_{i=1}^ng_0(x_i)}a_m\n",
    "\\end{array}\n",
    "\\right]\n",
    "=\\left[\n",
    "\\begin{array}{c}\n",
    "\\displaystyle\\int_{a}^b g_0(x)f(x)\\, {\\rm d}x\\\\\n",
    "\\displaystyle\\int_{a}^b g_1(x)f(x) \\, {\\rm d}x\\\\\n",
    "\\vdots\\\\\n",
    "\\displaystyle\\int_{a}^b g_m(x)f(x) \\, {\\rm d}x\n",
    "\\end{array}\n",
    "\\right]\n",
    "\\end{multline}"
   ]
  },
  {
   "cell_type": "markdown",
   "metadata": {},
   "source": [
    "***\n",
    "### Exemplo: Regressão Linear por uma Recta $(g(x)=a_0+a_1 x )$"
   ]
  },
  {
   "cell_type": "markdown",
   "metadata": {},
   "source": [
    "\n",
    "Das equações anteriores resulta o sistema normal do MMQ, o qual  tem\n",
    "duas equações e duas  incógnitas $(a_0,a_1)$,  é\n",
    "possível e determinado e  que se pode escrever da forma seguinte:\n",
    "\n",
    "\\begin{equation*}\n",
    "\\left[\n",
    "\\begin{array}{cc}\n",
    "\\int_{a}^b1\\, {\\rm d}x&\\displaystyle\\int_{a}^bx\\, {\\rm d}x\\\\\n",
    "\\int_{a}^bx\\, {\\rm d}x&\\int_{a}^bx^2\\, {\\rm d}x\n",
    "\\end{array}\n",
    "\\right]\n",
    "\\left[\n",
    "\\begin{array}{c}\n",
    "\\vphantom{\\sum_{a}^b1} a_0\\\\\n",
    "\\vphantom{\\int_{a}^b1} a_1\n",
    "\\end{array}\n",
    "\\right]\n",
    "=\\left[\n",
    "\\begin{array}{c}\n",
    "\\int_{a}^bf(x)\\, {\\rm d}x\\\\\n",
    "\\displaystyle\\int_{b}^bf(x)x\\, {\\rm d}x\\\\\n",
    "\\end{array}\n",
    "\\right]\n",
    "\\end{equation*}\n",
    "\n",
    "\n",
    "Resolvendo o sistema anterior ficam determinados os coeficientes $a_0$ e\n",
    "$a_1$ que, neste caso, definem a recta de ajustamento $g(x)$."
   ]
  },
  {
   "cell_type": "markdown",
   "metadata": {},
   "source": [
    "### Exercício:\n",
    "\n",
    "Sendo $f(x)=\\sin(x)$, pretende-se aproximar esta função no intervalo\n",
    "$[0,1]$, por uma recta $g(x)=a_0+a_1x$. \n",
    "\n",
    "1. Calcule o erro total associado.\n",
    "2. Modifique o código seguinte de forma a que as funções de cálculo simbólico do módulo **sympy** sejam substituidas  por um esquema de quadratura estudado:"
   ]
  },
  {
   "cell_type": "code",
   "execution_count": 50,
   "metadata": {},
   "outputs": [
    {
     "name": "stdout",
     "output_type": "stream",
     "text": [
      "[[ 1.          0.5       ]\n",
      " [ 0.5         0.33333333]]\n",
      "[ 0.45969769  0.30116868]\n",
      "Os coeficientes: a0=0.032  e  a1=0.856 \n",
      "O Erro Total é R= 0.00031545\n"
     ]
    },
    {
     "data": {
      "image/png": "[encoded data removed]",
      "text/plain": [
       "<matplotlib.figure.Figure at 0x11d2656a0>"
      ]
     },
     "metadata": {},
     "output_type": "display_data"
    }
   ],
   "source": [
    "import numpy as np\n",
    "from math import  sin\n",
    "from sympy import * ## Remover este módulo\n",
    "\n",
    "\n",
    "x=Symbol('x')\n",
    "\n",
    "#Construção do sistema normal\n",
    "#Matriz A\n",
    "A11=integrate(1,[x,0,1]) # implementar um esquema de quadratura para substituir a função integrate\n",
    "A12=integrate(x,[x,0,1])\n",
    "\n",
    "A21=A12\n",
    "A22=integrate(x**2,[x,0,1])\n",
    "\n",
    "\n",
    "b11=integrate(sin(x),[x,0,1])\n",
    "b21=integrate(sin(x)*x,[x,0,1])\n",
    "\n",
    "A=np.array([[A11,A12],[A21,A22]])\n",
    "\n",
    "# Como foi usado cálculo simbólico é necessário\n",
    "# avaliar A como um matriz de floats (vírgula flutuante)\n",
    "\n",
    "A=A.astype(float) \n",
    "print(A)\n",
    "\n",
    "b=np.array([b11,b21])\n",
    "b=b.astype(float)\n",
    "print(b)\n",
    "\n",
    "X_a=np.linalg.solve(A,b)\n",
    "\n",
    "print(r\"Os coeficientes: a0=%.3f  e  a1=%.3f \"\\\n",
    "  % (X_a[0],X_a[1]))\n",
    "\n",
    "R=integrate((sin(x)-X_a[0]-X_a[1]*x)**2,[x,0,1])\n",
    "print(r'O Erro Total é R=', round(float(R),8))\n",
    "\n",
    "# Apresentação dos gráficos\n",
    "import matplotlib.pyplot as plt\n",
    "\n",
    "plt.rc('axes', labelsize=24)\n",
    "\n",
    "x=np.linspace(0,1,100)\n",
    "y=np.sin(x)\n",
    "xis=np.linspace(0,1,100)\n",
    "def g(xis):\n",
    " return X_a[0]+X_a[1]*xis\n",
    "\n",
    "plt.plot(x, y, '-',color='k',label='$f(x)=\\sin(x)$')\n",
    "plt.plot(xis,g(xis),'-',color='b',lw=2,label='$g(x)$')\n",
    "plt.xlabel(r'$x$')\n",
    "plt.ylabel(r'$y$')\n",
    "plt.legend(loc='best')\n",
    "plt.show()\n"
   ]
  },
  {
   "cell_type": "code",
   "execution_count": null,
   "metadata": {
    "collapsed": true
   },
   "outputs": [],
   "source": []
  }
 ],
 "metadata": {
  "kernelspec": {
   "display_name": "Python 3",
   "language": "python",
   "name": "python3"
  },
  "language_info": {
   "codemirror_mode": {
    "name": "ipython",
    "version": 3
   },
   "file_extension": ".py",
   "mimetype": "text/x-python",
   "name": "python",
   "nbconvert_exporter": "python",
   "pygments_lexer": "ipython3",
   "version": "3.6.2"
  }
 },
 "nbformat": 4,
 "nbformat_minor": 2
}
