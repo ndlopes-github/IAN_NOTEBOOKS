{
 "cells": [
  {
   "cell_type": "markdown",
   "metadata": {},
   "source": [
    "# AulaP10\n",
    "\n",
    "- Métodos Directos para resolução $Ax=b$\n",
    "- Métodos Iterativos para resolução $Ax=b$"
   ]
  },
  {
   "cell_type": "markdown",
   "metadata": {
    "collapsed": true
   },
   "source": [
    "## Método de Cholesky"
   ]
  },
  {
   "cell_type": "markdown",
   "metadata": {},
   "source": [
    " Se $A$ é uma matriz simétrica definida positiva, então $A$ admite uma\n",
    " factorização do tipo: \n",
    " \n",
    " $$A=LL^T$$ onde $L$ é uma matriz triangular inferior.\n",
    "  \n",
    " Relembrem-se as seguintes definições.\n",
    "    \n",
    "  - $A$ é simétrica se $A=A^T$.\n",
    "  \n",
    "  \n",
    "  - $A$ é definida positiva se $X^T A X>0,\\ \\forall X\\in \\mathbb{R}^n, X\\neq 0$.  \n",
    "  \n",
    "**Proposição** $A$ é definida positiva se os \n",
    "determinantes dos menores principais de $A$ forem todos positivos.\n",
    " \n",
    " $$\n",
    " |a_{11}|>0,\\quad \n",
    "\\left| \\begin{matrix} a_{11} & a_{12}\\\\\n",
    " a_{21} & a_{22}\n",
    " \\end{matrix}\\right|>0, \\quad \\cdots |A|>0.\n",
    " $$"
   ]
  },
  {
   "cell_type": "markdown",
   "metadata": {},
   "source": [
    "***\n",
    "  A resolução do sistema $Ax=b$ resulta da mesma forma que o método de Crout:\n",
    "  $$AX=b\\Leftrightarrow LY=b \\wedge L^TX=Y.$$ \n",
    "  \n",
    "  \n",
    "  O cálculo de $L$ é feito tendo em\n",
    "  conta as seguintes fórmulas: $k=0,\\dots,n$\n",
    "  \n",
    "  \n",
    " \\begin{align*}\\displaystyle l_{kk}&=\\sqrt{a_{kk}-\\sum_{r=1}^{k-1} l^2_{kr}}\n",
    " \\\\\n",
    " \\\\\n",
    "  l_{ik}&=\\frac{a_{ik}-\\sum_{r=1}^{k-1}l_{ir}l_{kr}}{l_{kk}} \\quad i=k+1,\\dots,n\n",
    "  \\end{align*}\n",
    "  e fazendo o cálculo por colunas. (Da primeira para a última.)\n",
    "\n",
    "\n",
    "\n",
    "Este método apresenta uma melhoria no número de operações necessárias, quando\n",
    "comparado com o método de Crout-- $O(n^3/6)$.\n",
    "\n",
    "Neste caso nunca há o risco de acontecer que algum dos elementos da diagonal de\n",
    "$L$ seja nulo. \n",
    "\n",
    "Se assim fosse viria $|A|=|L|^2=0$, tendo em conta que\n",
    "$|L|=|L^T|$ que se pode calcular considerando a multiplicação dos elementos da\n",
    " diagonal de $L$.\n",
    "\n"
   ]
  },
  {
   "cell_type": "markdown",
   "metadata": {
    "collapsed": true
   },
   "source": [
    "***\n",
    "\n",
    "## Uma implementação do método de Cholesky"
   ]
  },
  {
   "cell_type": "code",
   "execution_count": null,
   "metadata": {
    "collapsed": true
   },
   "outputs": [],
   "source": [
    "import numpy as np\n",
    "\n",
    "class Cholesky:\n",
    "    def __init__(self,A,b):\n",
    "        self.dim=len(b)\n",
    "        self.A=A\n",
    "        self.b=b\n",
    "        self.L=np.zeros((self.dim,self.dim))\n",
    "        self.L=self.FactLLt()\n",
    "        self.y=np.zeros(self.dim)\n",
    "        self.y=self.SolveDownLyb()\n",
    "        self.x=np.zeros(self.dim)\n",
    "        self.x=self.SolveUpLtxy()\n",
    "        \n",
    "    def FactLLt(self):\n",
    "        A=self.A\n",
    "        L=np.zeros((self.dim,self.dim))\n",
    "            \n",
    "        for k in range(0,self.dim):\n",
    "            L[k,k]=(A[k,k]-np.inner(L[k,0:k],L[k,0:k]))**(0.5)\n",
    "            for i in range(k,self.dim):\n",
    "                L[i,k]=(A[i,k]-np.inner(L[i,0:k],L[k,0:k]))/L[k,k]\n",
    "        \n",
    "        return L #return the matrix M\n",
    "        \n",
    "    \n",
    "    def SolveDownLyb(self): \n",
    "        y=np.zeros(self.dim)\n",
    "        for i in range(0,self.dim):\n",
    "            y[i]=(self.b[i]-np.sum(self.L[i,0:i]*y[0:i]))/self.L[i,i]\n",
    "        \n",
    "        return y #return the array y\n",
    "    \n",
    "    def SolveUpLtxy(self):\n",
    "        x=np.zeros(self.dim)\n",
    "        for i in range(self.dim-1,-1,-1):\n",
    "            x[i]=(self.y[i]-np.sum(self.L[i+1:self.dim,i]*x[i+1:self.dim]))/self.L[i,i]\n",
    "        \n",
    "        return x #return the solution array x"
   ]
  },
  {
   "cell_type": "markdown",
   "metadata": {},
   "source": [
    "### Exercícios:"
   ]
  },
  {
   "cell_type": "markdown",
   "metadata": {},
   "source": [
    " - Utilizando uma factorização da Forma $LL^t$, resolva o sistema linear seguinte:\n",
    " $$\n",
    " \\begin{bmatrix}\n",
    "4&1&1&1\\\\\n",
    "1&3&0&-1\\\\\n",
    "1 & 0&2&1\\\\\n",
    "1&-1&1& 4\n",
    "\\end{bmatrix}\n",
    "\\begin{bmatrix}\n",
    "x_1\\\\\n",
    "x_2\\\\\n",
    "x_3\\\\\n",
    "x_4\n",
    "\\end{bmatrix}=\n",
    "\\begin{bmatrix}\n",
    "3\\\\\n",
    "2\\\\\n",
    "1\\\\\n",
    "1\n",
    "\\end{bmatrix}\n",
    "$$"
   ]
  },
  {
   "cell_type": "code",
   "execution_count": null,
   "metadata": {
    "collapsed": true
   },
   "outputs": [],
   "source": [
    "A=np.array([[4.0,1.0,1.0,1.0],[1.0,3.0,0.0,-1.0],[1.0,0.0,2.0,1.0],[1.0,-1.0,1.0,4.0]])"
   ]
  },
  {
   "cell_type": "code",
   "execution_count": null,
   "metadata": {
    "collapsed": true
   },
   "outputs": [],
   "source": [
    "b=np.array([3,2,1,1])"
   ]
  },
  {
   "cell_type": "code",
   "execution_count": null,
   "metadata": {
    "collapsed": true
   },
   "outputs": [],
   "source": [
    "C=Cholesky(A,b)"
   ]
  },
  {
   "cell_type": "code",
   "execution_count": null,
   "metadata": {},
   "outputs": [],
   "source": [
    "print(C.L)"
   ]
  },
  {
   "cell_type": "code",
   "execution_count": null,
   "metadata": {},
   "outputs": [],
   "source": [
    "print(C.x)"
   ]
  },
  {
   "cell_type": "markdown",
   "metadata": {},
   "source": [
    "***"
   ]
  },
  {
   "cell_type": "markdown",
   "metadata": {},
   "source": [
    "## Métodos iterativos"
   ]
  },
  {
   "cell_type": "markdown",
   "metadata": {},
   "source": [
    "Em geral quando se estão a tratar sistemas lineares com um número muito elevado\n",
    "de incógnitas os métodos directos não são numericamente eficientes.  \n",
    "\n",
    "Os métodos iterativos apresentam as seguintes vantagens sobre os métodos directos:\n",
    "\n",
    "- Precisão, não são acumulados tantos erros de arredondamento.\n",
    "\n",
    "- São muito mais rápidos em sistemas muito grandes.\n",
    "   "
   ]
  },
  {
   "cell_type": "markdown",
   "metadata": {},
   "source": [
    "Vamos estudar métodos assentes na seguinte ideia:\n",
    "$$AX=b\\Leftrightarrow (M+N)X=b\\Leftrightarrow MX=b-NX,$$ o que induz o seguinte processo\n",
    "$$MX^{k+1}=b-NX^k.$$ com $M$ escolhida de forma a ser invertível e triangular ou diagonal. \n",
    "A escolha das matrizes $M$ e $N$ é que dita o método.\n",
    "\n",
    "***\n",
    "### Método de Jacobi\n",
    "\n",
    "A decomposição da matriz $A$ é feita da forma seguinte:\n",
    "$$A=L+D+U=[L\\backslash D\\backslash U]\\quad (M=D,\\, N=L+U)$$ e as iterações são:\n",
    "$$DX^{k+1}=b-(L+U)X^k \\Longleftrightarrow X^{k+1}=D^{-1}b-D^{-1}(L+U)X^k$$\n",
    "\n"
   ]
  },
  {
   "cell_type": "markdown",
   "metadata": {},
   "source": [
    "  As duas proposições seguintes aplicam-se aos métodos iterativos a estudar.\n",
    "  \n",
    "#### Proposição:\n",
    "O método converge para quaquer escolha de aproximação inicial $X^0$ se e só se o\n",
    "maior dos valores próprios de $-M^{-1}N$ for menor que 1.\n",
    "  \n",
    "#### Proposição:\n",
    "Se $A$ tem diagonal estritamente dominante, por linhas ou por colunas, então o\n",
    "método converge.\n",
    "\n",
    "##### Definição: **diagonal estritamente dominante**:\n",
    "- $A$ é de diagonal estritamente dominante por linhas se:\n",
    "$$\\displaystyle \\sum_{j=1,i\\neq j}^n |a_{ij}|<|a_{ii}|,\\,i=1..n$$\n",
    "- $A$ é de diagonal estritamente dominante por colunas se:\n",
    "$$\\displaystyle \\sum_{i=1,i\\neq j}^n |a_{ij}|<|a_{jj}|,\\,j=1..n$$"
   ]
  },
  {
   "cell_type": "markdown",
   "metadata": {},
   "source": [
    "***\n",
    "### Uma implementação possível "
   ]
  },
  {
   "cell_type": "code",
   "execution_count": 1,
   "metadata": {},
   "outputs": [],
   "source": [
    "import numpy as np\n",
    "\n",
    "class Jacobi:\n",
    "    def __init__(self,A,b,x0):\n",
    "        self.dim=len(b)\n",
    "        self.A=A\n",
    "        self.D=np.diag(A)\n",
    "        self.b=b\n",
    "        self.x0=x0\n",
    "        self.x=np.zeros(self.dim)\n",
    "\n",
    "    def IterativeSolver(self, MaxIter=100, Eps=1.e-10,  Error=1.0): \n",
    "        #assert self.isConvergent() == True, 'Not Diagonal Dominant'\n",
    "        x0=self.x0 \n",
    "        x=np.zeros(self.dim)\n",
    "        D=self.D \n",
    "        # np.diag() extrai diagonal ou constroi matriz diagonal # \n",
    "        Dinv=1./D\n",
    "        \n",
    "        for i in range(0, MaxIter):\n",
    "            x=Dinv*(self.b - np.dot((self.A-np.diag(D)),x0))\n",
    "            Error=np.sqrt(np.sum((x-x0)**2))\n",
    "            if Error< Eps:\n",
    "                break\n",
    "            \n",
    "            x0[:]=x[:]\n",
    "            \n",
    "        return x, Error, i\n",
    "            \n",
    "    def isDiagRowDominant(self):\n",
    "        bool_val=False\n",
    "        Aux=self.A-np.diag(self.D)\n",
    "        for k in range(0,self.dim):\n",
    "            if (np.fabs(self.D[k]) > np.sum(np.fabs(Aux[k,:]))) :\n",
    "                bool_val=True\n",
    "            else: \n",
    "                bool_val=False\n",
    "                break\n",
    "        \n",
    "        return bool_val\n",
    "    \n",
    "    def isDiagColumnDominant(self):\n",
    "        bool_val=False\n",
    "        Aux=self.A-np.diag(self.D)\n",
    "        for k in range(0,self.dim):\n",
    "            if (np.fabs(self.D[k]) > np.sum(np.fabs(Aux[:,k])) ):\n",
    "                bool_val=True\n",
    "            else: \n",
    "                bool_val=False\n",
    "                break\n",
    "        \n",
    "        return bool_val\n",
    "    \n",
    "    def isConvergent(self):\n",
    "        return  self.isDiagRowDominant() or self.isDiagColumnDominant() \n",
    "\n",
    "        \n",
    "        "
   ]
  },
  {
   "cell_type": "markdown",
   "metadata": {},
   "source": [
    "*** \n",
    "### Exercício:\n",
    "\n",
    "Verifique se o método de Jacobi é convergente para a resolução do sistema:\n",
    "\n",
    "$$\n",
    " \\begin{bmatrix}\n",
    "4&1&2&1/2\\\\\n",
    "1&3&0&-1\\\\\n",
    "1/2 & 1/2&3&1\\\\\n",
    "1&-1&1& 4\n",
    "\\end{bmatrix}\n",
    "\\begin{bmatrix}\n",
    "x_1\\\\\n",
    "x_2\\\\\n",
    "x_3\\\\\n",
    "x_4\n",
    "\\end{bmatrix}=\n",
    "\\begin{bmatrix}\n",
    "3\\\\\n",
    "2\\\\\n",
    "1\\\\\n",
    "3\n",
    "\\end{bmatrix}\n",
    "$$"
   ]
  },
  {
   "cell_type": "code",
   "execution_count": 2,
   "metadata": {},
   "outputs": [
    {
     "name": "stdout",
     "output_type": "stream",
     "text": [
      "[ 0.53465347  0.77227723 -0.16831683  0.85148515]\n",
      "9.05839725503e-11\n",
      "39\n",
      "[ 0.53465347  0.77227723 -0.16831683  0.85148515]\n"
     ]
    }
   ],
   "source": [
    "A=np.array([[4.0,1.0,2.0,0.5],[1.0,3.0,0.0,-1.0],[0.5,0.5,3.0,1.0],[1.0,-1.0,1.0,4.0]])\n",
    "\n",
    "b=np.array([3.,2.,1.,3.])\n",
    "\n",
    "\n",
    "J=Jacobi(A,b,np.ones(len(b))) # Testar diferentes X0\n",
    "\n",
    "J.isConvergent()\n",
    "\n",
    "J.x, Error, Iterations = J.IterativeSolver( )\n",
    "\n",
    "print(J.x)\n",
    "print(Error)\n",
    "print(Iterations)\n",
    "\n",
    "print(np.linalg.solve(A,b))"
   ]
  },
  {
   "cell_type": "markdown",
   "metadata": {},
   "source": [
    "### Método de Gauss-Seidel \n",
    "  \n",
    "Este método é análogo ao método de Jacobi.\n",
    "A escolha das matrizes de decomposição é feita da forma seguinte:\n",
    "\n",
    "$$M=D+L,\\, N=U.$$ Consequentemente tem-se o método dado por:\n",
    "\n",
    "$$(D+L)X^{k+1}=b-UX^k\\Leftrightarrow DX^{k+1}=b-LX^{k+1}-UX^k$$\n",
    "\n",
    "- O método contínua a ser ``explícito''. Este método converge mais rapidamente que o método de Jacobi.\n",
    "- O método requer apenas um método de descida $D+L$ é triangular inferior."
   ]
  },
  {
   "cell_type": "markdown",
   "metadata": {
    "collapsed": true
   },
   "source": [
    "### Exercício:\n",
    "\n",
    "1. Implemente o Método de Gauss-Seidel para resolver o exercício anterior.\n",
    "2. Utilize um método iterativo para aproximar a solução do sistema $Ax=b$ em que \n",
    "$$ A=\n",
    "\\begin{bmatrix}\n",
    " 4 & -1& 0 & 0 & 0 &0\\\\\n",
    " -1 & 4 &-1 & 0 & 0 &0\\\\\n",
    "    0& -1& 4 & -1 & 0& 0 \\\\\n",
    "   0&  0& -1 & 4 &-1& 0 \\\\\n",
    "   0&  0& 0 & -1& 4& -1 \\\\\n",
    "   0&  0& 0 & 0 & -1& 4\n",
    "\\end{bmatrix},\n",
    "\\quad\n",
    "b=\\begin{bmatrix}\n",
    "0\\\\\n",
    "5\\\\\n",
    "0\\\\\n",
    "6\\\\\n",
    "-2\\\\\n",
    "6\n",
    "\\end{bmatrix}\n",
    "$$\n"
   ]
  },
  {
   "cell_type": "code",
   "execution_count": null,
   "metadata": {
    "collapsed": true
   },
   "outputs": [],
   "source": []
  }
 ],
 "metadata": {
  "kernelspec": {
   "display_name": "Python 3",
   "language": "python",
   "name": "python3"
  },
  "language_info": {
   "codemirror_mode": {
    "name": "ipython",
    "version": 3
   },
   "file_extension": ".py",
   "mimetype": "text/x-python",
   "name": "python",
   "nbconvert_exporter": "python",
   "pygments_lexer": "ipython3",
   "version": "3.6.2"
  }
 },
 "nbformat": 4,
 "nbformat_minor": 2
}
